{
  "cells": [
    {
      "cell_type": "markdown",
      "metadata": {
        "id": "PsQZ1MMYKwtu"
      },
      "source": [
        "### Import necessary libraries"
      ]
    },
    {
      "cell_type": "code",
      "execution_count": null,
      "metadata": {
        "id": "Bd4C4Hr9R2oS"
      },
      "outputs": [],
      "source": [
        "import pandas as pd"
      ]
    },
    {
      "cell_type": "markdown",
      "metadata": {
        "id": "IyPXnRKqGoP7"
      },
      "source": [
        "# 1. Data Collection and Manipulation"
      ]
    },
    {
      "cell_type": "markdown",
      "metadata": {
        "id": "l1NfPCM9KKKH"
      },
      "source": [
        "## 1.1 Automatic Download of Dataset"
      ]
    },
    {
      "cell_type": "code",
      "execution_count": null,
      "metadata": {
        "id": "mWQ9ZI7pHxKa"
      },
      "outputs": [],
      "source": [
        "!wget -q http://files.grouplens.org/datasets/movielens/ml-1m.zip"
      ]
    },
    {
      "cell_type": "code",
      "execution_count": null,
      "metadata": {
        "id": "KSTL1mNdShGu"
      },
      "outputs": [],
      "source": [
        "!unzip -q ml-1m.zip"
      ]
    },
    {
      "cell_type": "markdown",
      "metadata": {
        "id": "VxLtuQgLKQ0C"
      },
      "source": [
        "## 1.2 Save to csv files"
      ]
    },
    {
      "cell_type": "code",
      "execution_count": null,
      "metadata": {
        "id": "vT5CarbPHz0R"
      },
      "outputs": [],
      "source": [
        "# Load the users file and save to CSV\n",
        "users = pd.read_csv('ml-1m/users.dat', sep='::', engine='python', header=None, names=['UserID', 'Gender', 'Age', 'Occupation', 'Zip-code'], encoding='ISO-8859-1')\n",
        "users.to_csv('users.csv', index=False)\n",
        "\n",
        "# Load the movies file and save to CSV\n",
        "movies = pd.read_csv('ml-1m/movies.dat', sep='::', engine='python', header=None, names=['MovieID', 'Title', 'Genres'], encoding='ISO-8859-1')\n",
        "movies.to_csv('movies.csv', index=False)\n",
        "\n",
        "# Load the ratings file and save to CSV\n",
        "ratings = pd.read_csv( 'ml-1m/ratings.dat', sep='::', engine='python', header=None, names=['UserID', 'MovieID', 'Rating', 'Timestamp'], encoding='ISO-8859-1')\n",
        "ratings.to_csv('ratings.csv', index=False)"
      ]
    },
    {
      "cell_type": "markdown",
      "metadata": {
        "id": "3c_3JIsK4BMB"
      },
      "source": [
        "## 1.3 Print the first few rows of the each dataframe"
      ]
    },
    {
      "cell_type": "code",
      "execution_count": null,
      "metadata": {
        "colab": {
          "base_uri": "https://localhost:8080/"
        },
        "id": "LbtGRJIrH5lT",
        "outputId": "1680f03c-9d00-4a77-eb9b-1c7e195d7e9e"
      },
      "outputs": [
        {
          "name": "stdout",
          "output_type": "stream",
          "text": [
            "First few rows of the users dataframe:\n",
            "   UserID Gender  Age  Occupation Zip-code\n",
            "0       1      F    1          10    48067\n",
            "1       2      M   56          16    70072\n",
            "2       3      M   25          15    55117\n",
            "3       4      M   45           7    02460\n",
            "4       5      M   25          20    55455\n",
            "\n",
            "\n",
            "First few rows of the movies dataframe:\n",
            "   MovieID                               Title                        Genres\n",
            "0        1                    Toy Story (1995)   Animation|Children's|Comedy\n",
            "1        2                      Jumanji (1995)  Adventure|Children's|Fantasy\n",
            "2        3             Grumpier Old Men (1995)                Comedy|Romance\n",
            "3        4            Waiting to Exhale (1995)                  Comedy|Drama\n",
            "4        5  Father of the Bride Part II (1995)                        Comedy\n",
            "\n",
            "\n",
            "First few rows of the ratings dataframe:\n",
            "   UserID  MovieID  Rating  Timestamp\n",
            "0       1     1193       5  978300760\n",
            "1       1      661       3  978302109\n",
            "2       1      914       3  978301968\n",
            "3       1     3408       4  978300275\n",
            "4       1     2355       5  978824291\n"
          ]
        }
      ],
      "source": [
        "# Print the first few rows of the users dataframe to check user details like user ID and demographics\n",
        "print(\"First few rows of the users dataframe:\")\n",
        "print(users.head())\n",
        "print(\"\\n\")  # Adds a newline for better separation of the output\n",
        "\n",
        "# Print the first few rows of the movies dataframe to view movie information such as movie ID and title\n",
        "print(\"First few rows of the movies dataframe:\")\n",
        "print(movies.head())\n",
        "print(\"\\n\")  # Adds a newline for better separation of the output\n",
        "\n",
        "# Print the first few rows of the ratings dataframe to inspect entries of user ratings for movies\n",
        "print(\"First few rows of the ratings dataframe:\")\n",
        "print(ratings.head())"
      ]
    },
    {
      "cell_type": "markdown",
      "metadata": {
        "id": "ABBtdPTA3xRH"
      },
      "source": [
        "## 1.4 Print the column names of the each dataframe"
      ]
    },
    {
      "cell_type": "code",
      "execution_count": null,
      "metadata": {
        "colab": {
          "base_uri": "https://localhost:8080/"
        },
        "id": "xB5XMpZYS_rr",
        "outputId": "eca6e5f3-ac50-4514-8834-7c6220ed7f49"
      },
      "outputs": [
        {
          "name": "stdout",
          "output_type": "stream",
          "text": [
            "Column names in the users dataframe:\n",
            "Index(['UserID', 'Gender', 'Age', 'Occupation', 'Zip-code'], dtype='object')\n",
            "\n",
            "\n",
            "Column names in the movies dataframe:\n",
            "Index(['MovieID', 'Title', 'Genres'], dtype='object')\n",
            "\n",
            "\n",
            "Column names in the ratings dataframe:\n",
            "Index(['UserID', 'MovieID', 'Rating', 'Timestamp'], dtype='object')\n"
          ]
        }
      ],
      "source": [
        "# Print the column names of the users dataframe to understand the fields related to user information\n",
        "print(\"Column names in the users dataframe:\")\n",
        "print(users.columns)\n",
        "print(\"\\n\")  # Adds a newline for better separation of the output\n",
        "\n",
        "# Print the column names of the movies dataframe to see the attributes associated with movies, such as titles and genres\n",
        "print(\"Column names in the movies dataframe:\")\n",
        "print(movies.columns)\n",
        "print(\"\\n\")  # Adds a newline for better separation of the output\n",
        "\n",
        "# Print the column names of the ratings dataframe to review the fields that link users and movies through ratings\n",
        "print(\"Column names in the ratings dataframe:\")\n",
        "print(ratings.columns)"
      ]
    },
    {
      "cell_type": "markdown",
      "metadata": {
        "id": "EezQaqu4KAN5"
      },
      "source": [
        "## 1.5 Checking for missing values in each dataframe"
      ]
    },
    {
      "cell_type": "code",
      "execution_count": null,
      "metadata": {
        "colab": {
          "base_uri": "https://localhost:8080/"
        },
        "id": "SdsH2Cj6THRL",
        "outputId": "0a7eb127-0efe-4c07-eb51-cf37f65f56a8"
      },
      "outputs": [
        {
          "name": "stdout",
          "output_type": "stream",
          "text": [
            "Missing values in the users dataframe:\n",
            "UserID        0\n",
            "Gender        0\n",
            "Age           0\n",
            "Occupation    0\n",
            "Zip-code      0\n",
            "dtype: int64\n",
            "\n",
            "\n",
            "Missing values in the movies dataframe:\n",
            "MovieID    0\n",
            "Title      0\n",
            "Genres     0\n",
            "dtype: int64\n",
            "\n",
            "\n",
            "Missing values in the ratings dataframe:\n",
            "UserID       0\n",
            "MovieID      0\n",
            "Rating       0\n",
            "Timestamp    0\n",
            "dtype: int64\n"
          ]
        }
      ],
      "source": [
        "# Display the number of missing values in each column of the users dataframe\n",
        "print(\"Missing values in the users dataframe:\")\n",
        "print(users.isnull().sum())\n",
        "print(\"\\n\")  # Adds a newline for better separation of output\n",
        "\n",
        "# Display the number of missing values in each column of the movies dataframe\n",
        "print(\"Missing values in the movies dataframe:\")\n",
        "print(movies.isnull().sum())\n",
        "print(\"\\n\")  # Adds a newline for better separation of output\n",
        "\n",
        "# Display the number of missing values in each column of the ratings dataframe\n",
        "print(\"Missing values in the ratings dataframe:\")\n",
        "print(ratings.isnull().sum())"
      ]
    },
    {
      "cell_type": "markdown",
      "metadata": {
        "id": "Dlmy_ye4LkJ7"
      },
      "source": [
        "## 1.6 Convert the 'Timestamp' column in the ratings dataframe from Unix time to datetime format."
      ]
    },
    {
      "cell_type": "code",
      "execution_count": null,
      "metadata": {
        "colab": {
          "base_uri": "https://localhost:8080/"
        },
        "id": "-2MNqv7YUUyk",
        "outputId": "5be9b481-70dc-4337-8c7a-05dc15cbabe1"
      },
      "outputs": [
        {
          "name": "stdout",
          "output_type": "stream",
          "text": [
            "First few rows of the ratings dataframe after converting 'Timestamp':\n",
            "   UserID  MovieID  Rating           Timestamp\n",
            "0       1     1193       5 2000-12-31 22:12:40\n",
            "1       1      661       3 2000-12-31 22:35:09\n",
            "2       1      914       3 2000-12-31 22:32:48\n",
            "3       1     3408       4 2000-12-31 22:04:35\n",
            "4       1     2355       5 2001-01-06 23:38:11\n"
          ]
        }
      ],
      "source": [
        "# This enhances readability and usability of the timestamp data for further analysis.\n",
        "ratings['Timestamp'] = pd.to_datetime(ratings['Timestamp'], unit='s')\n",
        "\n",
        "# Display the first few rows of the ratings dataframe to confirm the successful conversion of the 'Timestamp' column.\n",
        "print(\"First few rows of the ratings dataframe after converting 'Timestamp':\")\n",
        "print(ratings.head())"
      ]
    },
    {
      "cell_type": "markdown",
      "metadata": {
        "id": "t11PkNEtUjiu"
      },
      "source": [
        "## 1.7  Merge the ratings dataframe with the movies dataframe on the MovieID column.\n"
      ]
    },
    {
      "cell_type": "code",
      "execution_count": null,
      "metadata": {
        "colab": {
          "base_uri": "https://localhost:8080/"
        },
        "id": "MlXzr9LhUeFc",
        "outputId": "c2c08ef4-1e13-4445-8bb6-4165ffad37b1"
      },
      "outputs": [
        {
          "name": "stdout",
          "output_type": "stream",
          "text": [
            "Columns in the merged dataframe:\n",
            "Index(['UserID', 'MovieID', 'Rating', 'Timestamp', 'Title', 'Genres', 'Gender',\n",
            "       'Age', 'Occupation', 'Zip-code'],\n",
            "      dtype='object')\n"
          ]
        }
      ],
      "source": [
        "# This step combines movie rating data with corresponding movie details.\n",
        "merged_data = pd.merge(ratings, movies, on='MovieID')\n",
        "\n",
        "# Further merge the resulting dataframe with the users dataframe on the UserID column.\n",
        "# This addition includes user demographic details into the merged dataset.\n",
        "merged_data = pd.merge(merged_data, users, on='UserID')\n",
        "\n",
        "# Display the column names of the merged dataframe to verify successful merges and to understand the available data fields.\n",
        "print(\"Columns in the merged dataframe:\")\n",
        "print(merged_data.columns)"
      ]
    },
    {
      "cell_type": "markdown",
      "metadata": {
        "id": "ef26XiwNML-R"
      },
      "source": [
        "## 1.6 Removing Duplicates"
      ]
    },
    {
      "cell_type": "code",
      "execution_count": null,
      "metadata": {
        "colab": {
          "base_uri": "https://localhost:8080/"
        },
        "id": "_6foT6I2MS1H",
        "outputId": "7d30c815-5c75-49eb-e6e3-e93bd02be459"
      },
      "outputs": [
        {
          "name": "stdout",
          "output_type": "stream",
          "text": [
            "There are 0 duplicate rating entries in the data..\n"
          ]
        }
      ],
      "source": [
        "dup_bool = merged_data.duplicated(['UserID','MovieID','Rating','Timestamp'])\n",
        "dups = sum(dup_bool) # by considering all columns..( including timestamp)\n",
        "print(\"There are {} duplicate rating entries in the data..\".format(dups))"
      ]
    },
    {
      "cell_type": "markdown",
      "metadata": {
        "id": "oOWHtVwhMEiL"
      },
      "source": [
        "# 2. Exploratory Data Analysis"
      ]
    },
    {
      "cell_type": "markdown",
      "metadata": {
        "id": "LW3B4dEFNvSQ"
      },
      "source": [
        "## 2.1 Basic Statistics"
      ]
    },
    {
      "cell_type": "code",
      "execution_count": null,
      "metadata": {
        "colab": {
          "base_uri": "https://localhost:8080/"
        },
        "id": "ixdPX3VFUlv5",
        "outputId": "aa8be77a-1e5e-4b95-b0db-96b52a748632"
      },
      "outputs": [
        {
          "name": "stdout",
          "output_type": "stream",
          "text": [
            "             UserID       MovieID        Rating  \\\n",
            "count  1.000209e+06  1.000209e+06  1.000209e+06   \n",
            "mean   3.024512e+03  1.865540e+03  3.581564e+00   \n",
            "min    1.000000e+00  1.000000e+00  1.000000e+00   \n",
            "25%    1.506000e+03  1.030000e+03  3.000000e+00   \n",
            "50%    3.070000e+03  1.835000e+03  4.000000e+00   \n",
            "75%    4.476000e+03  2.770000e+03  4.000000e+00   \n",
            "max    6.040000e+03  3.952000e+03  5.000000e+00   \n",
            "std    1.728413e+03  1.096041e+03  1.117102e+00   \n",
            "\n",
            "                           Timestamp           Age    Occupation  \n",
            "count                        1000209  1.000209e+06  1.000209e+06  \n",
            "mean   2000-10-22 19:41:35.404665856  2.973831e+01  8.036138e+00  \n",
            "min              2000-04-25 23:05:32  1.000000e+00  0.000000e+00  \n",
            "25%              2000-08-03 11:37:17  2.500000e+01  2.000000e+00  \n",
            "50%              2000-10-31 18:46:46  2.500000e+01  7.000000e+00  \n",
            "75%              2000-11-26 06:42:19  3.500000e+01  1.400000e+01  \n",
            "max              2003-02-28 17:49:50  5.600000e+01  2.000000e+01  \n",
            "std                              NaN  1.175198e+01  6.531336e+00  \n",
            "Gender\n",
            "M    753769\n",
            "F    246440\n",
            "Name: count, dtype: int64\n",
            "Genres\n",
            "Comedy                       116883\n",
            "Drama                        111423\n",
            "Comedy|Romance                42712\n",
            "Comedy|Drama                  42245\n",
            "Drama|Romance                 29170\n",
            "                              ...  \n",
            "Drama|Romance|Western            29\n",
            "Children's|Fantasy               27\n",
            "Comedy|Film-Noir|Thriller         5\n",
            "Film-Noir|Horror                  2\n",
            "Fantasy                           1\n",
            "Name: count, Length: 301, dtype: int64\n"
          ]
        }
      ],
      "source": [
        "# Summary statistics for numerical columns\n",
        "print(merged_data.describe())\n",
        "\n",
        "# Value counts for categorical data\n",
        "print(merged_data['Gender'].value_counts())  # Gender distribution\n",
        "print(merged_data['Genres'].value_counts())  # Genres distribution\n"
      ]
    },
    {
      "cell_type": "markdown",
      "metadata": {
        "id": "qWDrOfcnOIWz"
      },
      "source": [
        "## 2.2 Rating Distribution Visualization"
      ]
    },
    {
      "cell_type": "code",
      "execution_count": null,
      "metadata": {
        "colab": {
          "base_uri": "https://localhost:8080/",
          "height": 564
        },
        "id": "K7RNnfqBUr_l",
        "outputId": "c019259c-8fd0-4ae5-d5b6-29a5217245f6"
      },
      "outputs": [
        {
          "data": {
            "image/png": "[encoded data removed]",
            "text/plain": [
              "<Figure size 800x600 with 1 Axes>"
            ]
          },
          "metadata": {},
          "output_type": "display_data"
        }
      ],
      "source": [
        "import matplotlib.pyplot as plt\n",
        "import seaborn as sns\n",
        "\n",
        "# Plot distribution of ratings\n",
        "plt.figure(figsize=(8, 6))\n",
        "sns.countplot(x='Rating', data=ratings)\n",
        "plt.title('Distribution of Movie Ratings')\n",
        "plt.show()\n"
      ]
    },
    {
      "cell_type": "markdown",
      "metadata": {
        "id": "OIFlUVQHOOgU"
      },
      "source": [
        "## 2.3 Calculate average rating per movie"
      ]
    },
    {
      "cell_type": "code",
      "execution_count": null,
      "metadata": {
        "colab": {
          "base_uri": "https://localhost:8080/"
        },
        "id": "ctkiOjv0UwPC",
        "outputId": "2e911271-6e77-491e-9855-1ba7918e46c4"
      },
      "outputs": [
        {
          "name": "stdout",
          "output_type": "stream",
          "text": [
            "Top 10 highest average rated movies:\n",
            "                                       Title  Rating\n",
            "0  Schlafes Bruder (Brother of Sleep) (1995)     5.0\n",
            "1                   Bittersweet Motel (2000)     5.0\n",
            "2                    Follow the Bitch (1998)     5.0\n",
            "3                     Song of Freedom (1936)     5.0\n",
            "4         Gate of Heavenly Peace, The (1995)     5.0\n",
            "5                           Baby, The (1973)     5.0\n",
            "6                   One Little Indian (1973)     5.0\n",
            "7                       Smashing Time (1967)     5.0\n",
            "8                    Ulysses (Ulisse) (1954)     5.0\n",
            "9                               Lured (1947)     5.0\n"
          ]
        }
      ],
      "source": [
        "# Calculate average rating per movie\n",
        "movie_avg_rating = ratings.groupby('MovieID')['Rating'].mean().sort_values(ascending=False).head(10)\n",
        "\n",
        "# Merge with movie titles\n",
        "top_avg_rated_movies = pd.merge(movie_avg_rating, movies, on='MovieID')\n",
        "\n",
        "print(\"Top 10 highest average rated movies:\")\n",
        "print(top_avg_rated_movies[['Title', 'Rating']])\n"
      ]
    },
    {
      "cell_type": "markdown",
      "metadata": {
        "id": "kqfpLVmTOWUW"
      },
      "source": [
        "## 2.4 Visualize Rating Distribution by Gender"
      ]
    },
    {
      "cell_type": "code",
      "execution_count": null,
      "metadata": {
        "colab": {
          "base_uri": "https://localhost:8080/",
          "height": 651
        },
        "id": "0Wqbb4-PU4O8",
        "outputId": "05504e60-8f1b-47ec-e5d8-0e3607787717"
      },
      "outputs": [
        {
          "name": "stdout",
          "output_type": "stream",
          "text": [
            "Average rating by gender:\n",
            "Gender\n",
            "F    3.620366\n",
            "M    3.568879\n",
            "Name: Rating, dtype: float64\n"
          ]
        },
        {
          "data": {
            "image/png": "[encoded data removed]",
            "text/plain": [
              "<Figure size 800x600 with 1 Axes>"
            ]
          },
          "metadata": {},
          "output_type": "display_data"
        }
      ],
      "source": [
        "# Average rating by gender\n",
        "gender_avg_rating = merged_data.groupby('Gender')['Rating'].mean()\n",
        "\n",
        "print(\"Average rating by gender:\")\n",
        "print(gender_avg_rating)\n",
        "\n",
        "# Visualize the gender distribution in ratings\n",
        "plt.figure(figsize=(8, 6))\n",
        "sns.boxplot(x='Gender', y='Rating', data=merged_data)\n",
        "plt.title('Rating Distribution by Gender')\n",
        "plt.show()\n"
      ]
    },
    {
      "cell_type": "markdown",
      "metadata": {
        "id": "nrpnwyD_Ok4X"
      },
      "source": [
        "## 2.5 Calculate Number of Ratings per User"
      ]
    },
    {
      "cell_type": "code",
      "execution_count": null,
      "metadata": {
        "colab": {
          "base_uri": "https://localhost:8080/",
          "height": 564
        },
        "id": "6hbOPyFsVOdd",
        "outputId": "ee711076-31cf-42d1-e3bc-c9d574274f1e"
      },
      "outputs": [
        {
          "data": {
            "image/png": "[encoded data removed]",
            "text/plain": [
              "<Figure size 800x600 with 1 Axes>"
            ]
          },
          "metadata": {},
          "output_type": "display_data"
        }
      ],
      "source": [
        "# Number of ratings per user\n",
        "user_rating_count = ratings.groupby('UserID').size().sort_values(ascending=False)\n",
        "\n",
        "plt.figure(figsize=(8, 6))\n",
        "sns.histplot(user_rating_count, bins=50, kde=False)\n",
        "plt.title('Number of Ratings per User')\n",
        "plt.xlabel('Number of Ratings')\n",
        "plt.ylabel('Number of Users')\n",
        "plt.show()\n"
      ]
    },
    {
      "cell_type": "markdown",
      "metadata": {
        "id": "umkg5q43GbER"
      },
      "source": [
        "# 3. Implementation of Recommendations Methods"
      ]
    },
    {
      "cell_type": "markdown",
      "metadata": {
        "id": "YZQJ9vMFPf91"
      },
      "source": [
        "## 3.1 User-based Collaborative Filtering"
      ]
    },
    {
      "cell_type": "markdown",
      "metadata": {
        "id": "aRR6xPoH5Ihm"
      },
      "source": [
        "### 3.1.1 Install and use the surprise library"
      ]
    },
    {
      "cell_type": "code",
      "execution_count": null,
      "metadata": {
        "colab": {
          "base_uri": "https://localhost:8080/"
        },
        "id": "uFgdQIpE1GHi",
        "outputId": "cd470ee6-4699-434b-8ee9-cc130946352a"
      },
      "outputs": [
        {
          "name": "stdout",
          "output_type": "stream",
          "text": [
            "Collecting scikit-surprise\n",
            "  Downloading scikit_surprise-1.1.4.tar.gz (154 kB)\n",
            "\u001b[?25l     \u001b[90m━━━━━━━━━━━━━━━━━━━━━━━━━━━━━━━━━━━━━━━━\u001b[0m \u001b[32m0.0/154.4 kB\u001b[0m \u001b[31m?\u001b[0m eta \u001b[36m-:--:--\u001b[0m\r\u001b[2K     \u001b[91m━━━━━━━━━━━━━━━━━━━━━━━━━━━━━━━━━━━━━━━\u001b[0m\u001b[91m╸\u001b[0m \u001b[32m153.6/154.4 kB\u001b[0m \u001b[31m5.4 MB/s\u001b[0m eta \u001b[36m0:00:01\u001b[0m\r\u001b[2K     \u001b[90m━━━━━━━━━━━━━━━━━━━━━━━━━━━━━━━━━━━━━━━━\u001b[0m \u001b[32m154.4/154.4 kB\u001b[0m \u001b[31m3.8 MB/s\u001b[0m eta \u001b[36m0:00:00\u001b[0m\n",
            "\u001b[?25h  Installing build dependencies ... \u001b[?25l\u001b[?25hdone\n",
            "  Getting requirements to build wheel ... \u001b[?25l\u001b[?25hdone\n",
            "  Preparing metadata (pyproject.toml) ... \u001b[?25l\u001b[?25hdone\n",
            "Requirement already satisfied: joblib>=1.2.0 in /usr/local/lib/python3.10/dist-packages (from scikit-surprise) (1.4.2)\n",
            "Requirement already satisfied: numpy>=1.19.5 in /usr/local/lib/python3.10/dist-packages (from scikit-surprise) (1.26.4)\n",
            "Requirement already satisfied: scipy>=1.6.0 in /usr/local/lib/python3.10/dist-packages (from scikit-surprise) (1.13.1)\n",
            "Building wheels for collected packages: scikit-surprise\n",
            "  Building wheel for scikit-surprise (pyproject.toml) ... \u001b[?25l\u001b[?25hdone\n",
            "  Created wheel for scikit-surprise: filename=scikit_surprise-1.1.4-cp310-cp310-linux_x86_64.whl size=2357278 sha256=94712faec155c3c38c3a4171a3ebe29878af586151539e39b7798d3765d06463\n",
            "  Stored in directory: /root/.cache/pip/wheels/4b/3f/df/6acbf0a40397d9bf3ff97f582cc22fb9ce66adde75bc71fd54\n",
            "Successfully built scikit-surprise\n",
            "Installing collected packages: scikit-surprise\n",
            "Successfully installed scikit-surprise-1.1.4\n"
          ]
        }
      ],
      "source": [
        "#!pip install scikit-surprise\n",
        "from surprise import Dataset, Reader, KNNWithMeans, accuracy\n",
        "from surprise.model_selection import train_test_split"
      ]
    },
    {
      "cell_type": "markdown",
      "metadata": {
        "id": "-X-v4JBC1FwE"
      },
      "source": [
        "### 3.1.2 Split into training and test sets"
      ]
    },
    {
      "cell_type": "code",
      "execution_count": null,
      "metadata": {
        "id": "qjGcQkk85W8Q"
      },
      "outputs": [],
      "source": [
        "reader = Reader(rating_scale=(1,5))\n",
        "data = Dataset.load_from_df(merged_data[['UserID','MovieID','Rating']], reader)\n",
        "\n",
        "# Split into train and test sets\n",
        "trainset, testset = train_test_split(data, test_size=0.25)"
      ]
    },
    {
      "cell_type": "markdown",
      "metadata": {
        "id": "tCDGpO9T5bcS"
      },
      "source": [
        "### 3.1.3 Implement user-based collaborative filtering"
      ]
    },
    {
      "cell_type": "markdown",
      "source": [
        "Here we utilize KNNWithMeans algorithm from the surprise library. It is a collaborative filtering algorithm that enhances the classic K-Nearest Neighbors (KNN) algorithm. In KNN-based algorithms, recommendations are generated by looking at the similarity between users or items, but KNNWithMeans adds a mean-centering step to account for user or item biases. Instead of directly using the raw ratings, it subtracts the mean rating of a user or an item from individual ratings to adjust for biases."
      ],
      "metadata": {
        "id": "06iwtjIgBaT4"
      }
    },
    {
      "cell_type": "code",
      "execution_count": null,
      "metadata": {
        "colab": {
          "base_uri": "https://localhost:8080/"
        },
        "id": "17QwJ5eMP2VX",
        "outputId": "27fc2247-3780-4dc3-8f54-5522aa41ce63"
      },
      "outputs": [
        {
          "name": "stdout",
          "output_type": "stream",
          "text": [
            "Computing the cosine similarity matrix...\n",
            "Done computing similarity matrix.\n",
            "RMSE: 0.9417\n"
          ]
        },
        {
          "data": {
            "text/plain": [
              "0.9417291730276547"
            ]
          },
          "execution_count": 18,
          "metadata": {},
          "output_type": "execute_result"
        }
      ],
      "source": [
        "sim_options_user_based = {\n",
        "    \"name\": \"cosine\",\n",
        "    \"user_based\": True,  # Compute similarities between users\n",
        "}\n",
        "\n",
        "# Initialize the KNNWithMeans algorithm with the similarity options\n",
        "algo_user_based = KNNWithMeans(sim_options=sim_options_user_based)\n",
        "\n",
        "# Train the algorithm on the trainset\n",
        "algo_user_based.fit(trainset)\n",
        "\n",
        "# Test the algorithm on the test set\n",
        "predictions_user_based = algo_user_based.test(testset)\n",
        "\n",
        "# Calculate accuracy (e.g., RMSE)\n",
        "accuracy.rmse(predictions_user_based)\n"
      ]
    },
    {
      "cell_type": "markdown",
      "metadata": {
        "id": "WJJy9wzQ5npl"
      },
      "source": [
        "### 3.1.4 Predict rating for a specific user and movie\n",
        "TODO: find a better way to visualize the predictions for several users and movies, also compare with the actual ratings"
      ]
    },
    {
      "cell_type": "code",
      "execution_count": null,
      "metadata": {
        "colab": {
          "base_uri": "https://localhost:8080/",
          "height": 310
        },
        "id": "hHf5e1oU5rsd",
        "outputId": "ac87f10c-baba-4cf5-b709-7aa63b0bab78"
      },
      "outputs": [
        {
          "data": {
            "application/vnd.google.colaboratory.intrinsic+json": {
              "type": "dataframe",
              "variable_name": "merged_data"
            },
            "text/html": [
              "\n",
              "  <div id=\"df-3d1a9bac-579d-4a79-b2e5-6a972cd6e4f9\" class=\"colab-df-container\">\n",
              "    <div>\n",
              "<style scoped>\n",
              "    .dataframe tbody tr th:only-of-type {\n",
              "        vertical-align: middle;\n",
              "    }\n",
              "\n",
              "    .dataframe tbody tr th {\n",
              "        vertical-align: top;\n",
              "    }\n",
              "\n",
              "    .dataframe thead th {\n",
              "        text-align: right;\n",
              "    }\n",
              "</style>\n",
              "<table border=\"1\" class=\"dataframe\">\n",
              "  <thead>\n",
              "    <tr style=\"text-align: right;\">\n",
              "      <th></th>\n",
              "      <th>UserID</th>\n",
              "      <th>MovieID</th>\n",
              "      <th>Rating</th>\n",
              "      <th>Timestamp</th>\n",
              "      <th>Title</th>\n",
              "      <th>Genres</th>\n",
              "      <th>Gender</th>\n",
              "      <th>Age</th>\n",
              "      <th>Occupation</th>\n",
              "      <th>Zip-code</th>\n",
              "    </tr>\n",
              "  </thead>\n",
              "  <tbody>\n",
              "    <tr>\n",
              "      <th>0</th>\n",
              "      <td>1</td>\n",
              "      <td>1193</td>\n",
              "      <td>5</td>\n",
              "      <td>2000-12-31 22:12:40</td>\n",
              "      <td>One Flew Over the Cuckoo's Nest (1975)</td>\n",
              "      <td>Drama</td>\n",
              "      <td>F</td>\n",
              "      <td>1</td>\n",
              "      <td>10</td>\n",
              "      <td>48067</td>\n",
              "    </tr>\n",
              "    <tr>\n",
              "      <th>1</th>\n",
              "      <td>1</td>\n",
              "      <td>661</td>\n",
              "      <td>3</td>\n",
              "      <td>2000-12-31 22:35:09</td>\n",
              "      <td>James and the Giant Peach (1996)</td>\n",
              "      <td>Animation|Children's|Musical</td>\n",
              "      <td>F</td>\n",
              "      <td>1</td>\n",
              "      <td>10</td>\n",
              "      <td>48067</td>\n",
              "    </tr>\n",
              "    <tr>\n",
              "      <th>2</th>\n",
              "      <td>1</td>\n",
              "      <td>914</td>\n",
              "      <td>3</td>\n",
              "      <td>2000-12-31 22:32:48</td>\n",
              "      <td>My Fair Lady (1964)</td>\n",
              "      <td>Musical|Romance</td>\n",
              "      <td>F</td>\n",
              "      <td>1</td>\n",
              "      <td>10</td>\n",
              "      <td>48067</td>\n",
              "    </tr>\n",
              "    <tr>\n",
              "      <th>3</th>\n",
              "      <td>1</td>\n",
              "      <td>3408</td>\n",
              "      <td>4</td>\n",
              "      <td>2000-12-31 22:04:35</td>\n",
              "      <td>Erin Brockovich (2000)</td>\n",
              "      <td>Drama</td>\n",
              "      <td>F</td>\n",
              "      <td>1</td>\n",
              "      <td>10</td>\n",
              "      <td>48067</td>\n",
              "    </tr>\n",
              "    <tr>\n",
              "      <th>4</th>\n",
              "      <td>1</td>\n",
              "      <td>2355</td>\n",
              "      <td>5</td>\n",
              "      <td>2001-01-06 23:38:11</td>\n",
              "      <td>Bug's Life, A (1998)</td>\n",
              "      <td>Animation|Children's|Comedy</td>\n",
              "      <td>F</td>\n",
              "      <td>1</td>\n",
              "      <td>10</td>\n",
              "      <td>48067</td>\n",
              "    </tr>\n",
              "  </tbody>\n",
              "</table>\n",
              "</div>\n",
              "    <div class=\"colab-df-buttons\">\n",
              "\n",
              "  <div class=\"colab-df-container\">\n",
              "    <button class=\"colab-df-convert\" onclick=\"convertToInteractive('df-3d1a9bac-579d-4a79-b2e5-6a972cd6e4f9')\"\n",
              "            title=\"Convert this dataframe to an interactive table.\"\n",
              "            style=\"display:none;\">\n",
              "\n",
              "  <svg xmlns=\"http://www.w3.org/2000/svg\" height=\"24px\" viewBox=\"0 -960 960 960\">\n",
              "    <path d=\"M120-120v-720h720v720H120Zm60-500h600v-160H180v160Zm220 220h160v-160H400v160Zm0 220h160v-160H400v160ZM180-400h160v-160H180v160Zm440 0h160v-160H620v160ZM180-180h160v-160H180v160Zm440 0h160v-160H620v160Z\"/>\n",
              "  </svg>\n",
              "    </button>\n",
              "\n",
              "  <style>\n",
              "    .colab-df-container {\n",
              "      display:flex;\n",
              "      gap: 12px;\n",
              "    }\n",
              "\n",
              "    .colab-df-convert {\n",
              "      background-color: #E8F0FE;\n",
              "      border: none;\n",
              "      border-radius: 50%;\n",
              "      cursor: pointer;\n",
              "      display: none;\n",
              "      fill: #1967D2;\n",
              "      height: 32px;\n",
              "      padding: 0 0 0 0;\n",
              "      width: 32px;\n",
              "    }\n",
              "\n",
              "    .colab-df-convert:hover {\n",
              "      background-color: #E2EBFA;\n",
              "      box-shadow: 0px 1px 2px rgba(60, 64, 67, 0.3), 0px 1px 3px 1px rgba(60, 64, 67, 0.15);\n",
              "      fill: #174EA6;\n",
              "    }\n",
              "\n",
              "    .colab-df-buttons div {\n",
              "      margin-bottom: 4px;\n",
              "    }\n",
              "\n",
              "    [theme=dark] .colab-df-convert {\n",
              "      background-color: #3B4455;\n",
              "      fill: #D2E3FC;\n",
              "    }\n",
              "\n",
              "    [theme=dark] .colab-df-convert:hover {\n",
              "      background-color: #434B5C;\n",
              "      box-shadow: 0px 1px 3px 1px rgba(0, 0, 0, 0.15);\n",
              "      filter: drop-shadow(0px 1px 2px rgba(0, 0, 0, 0.3));\n",
              "      fill: #FFFFFF;\n",
              "    }\n",
              "  </style>\n",
              "\n",
              "    <script>\n",
              "      const buttonEl =\n",
              "        document.querySelector('#df-3d1a9bac-579d-4a79-b2e5-6a972cd6e4f9 button.colab-df-convert');\n",
              "      buttonEl.style.display =\n",
              "        google.colab.kernel.accessAllowed ? 'block' : 'none';\n",
              "\n",
              "      async function convertToInteractive(key) {\n",
              "        const element = document.querySelector('#df-3d1a9bac-579d-4a79-b2e5-6a972cd6e4f9');\n",
              "        const dataTable =\n",
              "          await google.colab.kernel.invokeFunction('convertToInteractive',\n",
              "                                                    [key], {});\n",
              "        if (!dataTable) return;\n",
              "\n",
              "        const docLinkHtml = 'Like what you see? Visit the ' +\n",
              "          '<a target=\"_blank\" href=https://colab.research.google.com/notebooks/data_table.ipynb>data table notebook</a>'\n",
              "          + ' to learn more about interactive tables.';\n",
              "        element.innerHTML = '';\n",
              "        dataTable['output_type'] = 'display_data';\n",
              "        await google.colab.output.renderOutput(dataTable, element);\n",
              "        const docLink = document.createElement('div');\n",
              "        docLink.innerHTML = docLinkHtml;\n",
              "        element.appendChild(docLink);\n",
              "      }\n",
              "    </script>\n",
              "  </div>\n",
              "\n",
              "\n",
              "<div id=\"df-253afc39-e710-4746-9dfc-067cbd04fdb5\">\n",
              "  <button class=\"colab-df-quickchart\" onclick=\"quickchart('df-253afc39-e710-4746-9dfc-067cbd04fdb5')\"\n",
              "            title=\"Suggest charts\"\n",
              "            style=\"display:none;\">\n",
              "\n",
              "<svg xmlns=\"http://www.w3.org/2000/svg\" height=\"24px\"viewBox=\"0 0 24 24\"\n",
              "     width=\"24px\">\n",
              "    <g>\n",
              "        <path d=\"M19 3H5c-1.1 0-2 .9-2 2v14c0 1.1.9 2 2 2h14c1.1 0 2-.9 2-2V5c0-1.1-.9-2-2-2zM9 17H7v-7h2v7zm4 0h-2V7h2v10zm4 0h-2v-4h2v4z\"/>\n",
              "    </g>\n",
              "</svg>\n",
              "  </button>\n",
              "\n",
              "<style>\n",
              "  .colab-df-quickchart {\n",
              "      --bg-color: #E8F0FE;\n",
              "      --fill-color: #1967D2;\n",
              "      --hover-bg-color: #E2EBFA;\n",
              "      --hover-fill-color: #174EA6;\n",
              "      --disabled-fill-color: #AAA;\n",
              "      --disabled-bg-color: #DDD;\n",
              "  }\n",
              "\n",
              "  [theme=dark] .colab-df-quickchart {\n",
              "      --bg-color: #3B4455;\n",
              "      --fill-color: #D2E3FC;\n",
              "      --hover-bg-color: #434B5C;\n",
              "      --hover-fill-color: #FFFFFF;\n",
              "      --disabled-bg-color: #3B4455;\n",
              "      --disabled-fill-color: #666;\n",
              "  }\n",
              "\n",
              "  .colab-df-quickchart {\n",
              "    background-color: var(--bg-color);\n",
              "    border: none;\n",
              "    border-radius: 50%;\n",
              "    cursor: pointer;\n",
              "    display: none;\n",
              "    fill: var(--fill-color);\n",
              "    height: 32px;\n",
              "    padding: 0;\n",
              "    width: 32px;\n",
              "  }\n",
              "\n",
              "  .colab-df-quickchart:hover {\n",
              "    background-color: var(--hover-bg-color);\n",
              "    box-shadow: 0 1px 2px rgba(60, 64, 67, 0.3), 0 1px 3px 1px rgba(60, 64, 67, 0.15);\n",
              "    fill: var(--button-hover-fill-color);\n",
              "  }\n",
              "\n",
              "  .colab-df-quickchart-complete:disabled,\n",
              "  .colab-df-quickchart-complete:disabled:hover {\n",
              "    background-color: var(--disabled-bg-color);\n",
              "    fill: var(--disabled-fill-color);\n",
              "    box-shadow: none;\n",
              "  }\n",
              "\n",
              "  .colab-df-spinner {\n",
              "    border: 2px solid var(--fill-color);\n",
              "    border-color: transparent;\n",
              "    border-bottom-color: var(--fill-color);\n",
              "    animation:\n",
              "      spin 1s steps(1) infinite;\n",
              "  }\n",
              "\n",
              "  @keyframes spin {\n",
              "    0% {\n",
              "      border-color: transparent;\n",
              "      border-bottom-color: var(--fill-color);\n",
              "      border-left-color: var(--fill-color);\n",
              "    }\n",
              "    20% {\n",
              "      border-color: transparent;\n",
              "      border-left-color: var(--fill-color);\n",
              "      border-top-color: var(--fill-color);\n",
              "    }\n",
              "    30% {\n",
              "      border-color: transparent;\n",
              "      border-left-color: var(--fill-color);\n",
              "      border-top-color: var(--fill-color);\n",
              "      border-right-color: var(--fill-color);\n",
              "    }\n",
              "    40% {\n",
              "      border-color: transparent;\n",
              "      border-right-color: var(--fill-color);\n",
              "      border-top-color: var(--fill-color);\n",
              "    }\n",
              "    60% {\n",
              "      border-color: transparent;\n",
              "      border-right-color: var(--fill-color);\n",
              "    }\n",
              "    80% {\n",
              "      border-color: transparent;\n",
              "      border-right-color: var(--fill-color);\n",
              "      border-bottom-color: var(--fill-color);\n",
              "    }\n",
              "    90% {\n",
              "      border-color: transparent;\n",
              "      border-bottom-color: var(--fill-color);\n",
              "    }\n",
              "  }\n",
              "</style>\n",
              "\n",
              "  <script>\n",
              "    async function quickchart(key) {\n",
              "      const quickchartButtonEl =\n",
              "        document.querySelector('#' + key + ' button');\n",
              "      quickchartButtonEl.disabled = true;  // To prevent multiple clicks.\n",
              "      quickchartButtonEl.classList.add('colab-df-spinner');\n",
              "      try {\n",
              "        const charts = await google.colab.kernel.invokeFunction(\n",
              "            'suggestCharts', [key], {});\n",
              "      } catch (error) {\n",
              "        console.error('Error during call to suggestCharts:', error);\n",
              "      }\n",
              "      quickchartButtonEl.classList.remove('colab-df-spinner');\n",
              "      quickchartButtonEl.classList.add('colab-df-quickchart-complete');\n",
              "    }\n",
              "    (() => {\n",
              "      let quickchartButtonEl =\n",
              "        document.querySelector('#df-253afc39-e710-4746-9dfc-067cbd04fdb5 button');\n",
              "      quickchartButtonEl.style.display =\n",
              "        google.colab.kernel.accessAllowed ? 'block' : 'none';\n",
              "    })();\n",
              "  </script>\n",
              "</div>\n",
              "\n",
              "    </div>\n",
              "  </div>\n"
            ],
            "text/plain": [
              "   UserID  MovieID  Rating           Timestamp  \\\n",
              "0       1     1193       5 2000-12-31 22:12:40   \n",
              "1       1      661       3 2000-12-31 22:35:09   \n",
              "2       1      914       3 2000-12-31 22:32:48   \n",
              "3       1     3408       4 2000-12-31 22:04:35   \n",
              "4       1     2355       5 2001-01-06 23:38:11   \n",
              "\n",
              "                                    Title                        Genres  \\\n",
              "0  One Flew Over the Cuckoo's Nest (1975)                         Drama   \n",
              "1        James and the Giant Peach (1996)  Animation|Children's|Musical   \n",
              "2                     My Fair Lady (1964)               Musical|Romance   \n",
              "3                  Erin Brockovich (2000)                         Drama   \n",
              "4                    Bug's Life, A (1998)   Animation|Children's|Comedy   \n",
              "\n",
              "  Gender  Age  Occupation Zip-code  \n",
              "0      F    1          10    48067  \n",
              "1      F    1          10    48067  \n",
              "2      F    1          10    48067  \n",
              "3      F    1          10    48067  \n",
              "4      F    1          10    48067  "
            ]
          },
          "execution_count": 19,
          "metadata": {},
          "output_type": "execute_result"
        }
      ],
      "source": [
        "merged_data.head()"
      ]
    },
    {
      "cell_type": "code",
      "execution_count": null,
      "metadata": {
        "colab": {
          "base_uri": "https://localhost:8080/"
        },
        "id": "BQmSIT0L5-Ho",
        "outputId": "fdebe8f6-7beb-4295-a34c-fa60c3f3fa81"
      },
      "outputs": [
        {
          "name": "stdout",
          "output_type": "stream",
          "text": [
            "user: 1          item: 1193       r_ui = None   est = 4.81   {'actual_k': 40, 'was_impossible': False}\n"
          ]
        }
      ],
      "source": [
        "user_id = 1\n",
        "movie_id = 1193\n",
        "prediction = algo_user_based.predict(user_id, movie_id)\n",
        "print(prediction)\n"
      ]
    },
    {
      "cell_type": "markdown",
      "metadata": {
        "id": "LR6woP1ePlm3"
      },
      "source": [
        "## 3.3 Item-based Collaborative Filtering"
      ]
    },
    {
      "cell_type": "code",
      "execution_count": null,
      "metadata": {
        "colab": {
          "background_save": true,
          "base_uri": "https://localhost:8080/"
        },
        "id": "cxEgd-GQPkkC",
        "outputId": "a8979beb-88a9-4072-cbe6-a6723e78f20b"
      },
      "outputs": [
        {
          "name": "stdout",
          "output_type": "stream",
          "text": [
            "Computing the cosine similarity matrix...\n",
            "Done computing similarity matrix.\n",
            "RMSE: 0.8963\n"
          ]
        },
        {
          "data": {
            "text/plain": [
              "0.8962819578861574"
            ]
          },
          "execution_count": 21,
          "metadata": {},
          "output_type": "execute_result"
        }
      ],
      "source": [
        "# Item-based filtering: we determine the similarities based on the movies\n",
        "# instead of looking at ratings from similar users\n",
        "# we look at ratings from similar movies\n",
        "sim_options_movie_based = {\n",
        "    \"name\": \"cosine\",\n",
        "    \"user_based\": False,  # Compute similarities between movies\n",
        "}\n",
        "\n",
        "# Initialize the KNNWithMeans algorithm with the similarity options\n",
        "algo_movie_based = KNNWithMeans(sim_options=sim_options_movie_based)\n",
        "\n",
        "# Train the algorithm on the trainset\n",
        "algo_movie_based.fit(trainset)\n",
        "\n",
        "# Test the algorithm on the test set\n",
        "predictions_movie_based = algo_movie_based.test(testset)\n",
        "\n",
        "# Calculate accuracy (e.g., RMSE)\n",
        "accuracy.rmse(predictions_movie_based)"
      ]
    },
    {
      "cell_type": "markdown",
      "metadata": {
        "id": "o7DrCY9jPvLJ"
      },
      "source": [
        "## 3.4 Matrix Factorization"
      ]
    },
    {
      "cell_type": "markdown",
      "metadata": {
        "id": "BLRl8UVZMbYL"
      },
      "source": [
        "###3.4.1 Matrix factorization using SVD\n",
        "\n",
        "\n"
      ]
    },
    {
      "cell_type": "code",
      "execution_count": null,
      "metadata": {
        "colab": {
          "background_save": true
        },
        "id": "MWFsUmeVPx0L",
        "outputId": "3dfdd8c2-9479-40d7-9dba-2a6f278833fa"
      },
      "outputs": [
        {
          "name": "stdout",
          "output_type": "stream",
          "text": [
            "Requirement already satisfied: scikit-surprise in /usr/local/lib/python3.10/dist-packages (1.1.4)\n",
            "Requirement already satisfied: joblib>=1.2.0 in /usr/local/lib/python3.10/dist-packages (from scikit-surprise) (1.4.2)\n",
            "Requirement already satisfied: numpy>=1.19.5 in /usr/local/lib/python3.10/dist-packages (from scikit-surprise) (1.26.4)\n",
            "Requirement already satisfied: scipy>=1.6.0 in /usr/local/lib/python3.10/dist-packages (from scikit-surprise) (1.13.1)\n"
          ]
        }
      ],
      "source": [
        "from surprise import Dataset, Reader, KNNWithMeans, SVD, accuracy\n",
        "from surprise.model_selection import train_test_split"
      ]
    },
    {
      "cell_type": "code",
      "execution_count": null,
      "metadata": {
        "colab": {
          "background_save": true
        },
        "id": "k75chxphog98"
      },
      "outputs": [],
      "source": [
        "reader = Reader(rating_scale=(1,5))\n",
        "data = Dataset.load_from_df(merged_data[['UserID','MovieID','Rating']], reader)\n",
        "\n",
        "# Split into train and test sets\n",
        "trainset, testset = train_test_split(data, test_size=0.25)"
      ]
    },
    {
      "cell_type": "code",
      "execution_count": null,
      "metadata": {
        "id": "j0GRSmKUuZV2"
      },
      "outputs": [],
      "source": [
        "algo_svd = SVD()\n",
        "algo_svd.fit(trainset)\n",
        "predictions_svd = algo_svd.test(testset)"
      ]
    },
    {
      "cell_type": "code",
      "execution_count": null,
      "metadata": {
        "colab": {
          "background_save": true
        },
        "id": "e0RkstEoNTln",
        "outputId": "70858c9e-0f9d-42bf-dec8-569e2d2d3e94"
      },
      "outputs": [
        {
          "data": {
            "text/plain": [
              "[Prediction(uid=4104, iid=3702, r_ui=3.0, est=3.063573624849159, details={'was_impossible': False}),\n",
              " Prediction(uid=5539, iid=1211, r_ui=4.0, est=3.992980384590431, details={'was_impossible': False}),\n",
              " Prediction(uid=2142, iid=454, r_ui=4.0, est=3.4552129784966406, details={'was_impossible': False}),\n",
              " Prediction(uid=3871, iid=2174, r_ui=3.0, est=3.440207281588182, details={'was_impossible': False}),\n",
              " Prediction(uid=4277, iid=3271, r_ui=4.0, est=4.620037975983849, details={'was_impossible': False}),\n",
              " Prediction(uid=4471, iid=1060, r_ui=4.0, est=3.8594822650286496, details={'was_impossible': False}),\n",
              " Prediction(uid=3033, iid=595, r_ui=5.0, est=3.5265182203861345, details={'was_impossible': False}),\n",
              " Prediction(uid=5100, iid=3397, r_ui=4.0, est=4.357103373356144, details={'was_impossible': False}),\n",
              " Prediction(uid=5262, iid=2628, r_ui=3.0, est=2.8401877684797787, details={'was_impossible': False}),\n",
              " Prediction(uid=5557, iid=1573, r_ui=1.0, est=3.179006074257469, details={'was_impossible': False}),\n",
              " Prediction(uid=3556, iid=908, r_ui=4.0, est=4.47111047377245, details={'was_impossible': False}),\n",
              " Prediction(uid=2323, iid=3786, r_ui=4.0, est=3.136969447477904, details={'was_impossible': False}),\n",
              " Prediction(uid=624, iid=595, r_ui=4.0, est=3.959863295713378, details={'was_impossible': False}),\n",
              " Prediction(uid=3182, iid=1196, r_ui=5.0, est=4.034606466308067, details={'was_impossible': False}),\n",
              " Prediction(uid=5831, iid=10, r_ui=4.0, est=3.69546364611908, details={'was_impossible': False}),\n",
              " Prediction(uid=5996, iid=1013, r_ui=4.0, est=3.877588012541122, details={'was_impossible': False}),\n",
              " Prediction(uid=3970, iid=2700, r_ui=5.0, est=4.225178161342482, details={'was_impossible': False}),\n",
              " Prediction(uid=2689, iid=2396, r_ui=5.0, est=4.830067340202599, details={'was_impossible': False}),\n",
              " Prediction(uid=2804, iid=434, r_ui=4.0, est=3.9762539894636655, details={'was_impossible': False}),\n",
              " Prediction(uid=4375, iid=587, r_ui=5.0, est=4.374452274903282, details={'was_impossible': False}),\n",
              " Prediction(uid=1274, iid=3900, r_ui=5.0, est=3.0040326699083906, details={'was_impossible': False}),\n",
              " Prediction(uid=1062, iid=3052, r_ui=4.0, est=4.221765357709883, details={'was_impossible': False}),\n",
              " Prediction(uid=4566, iid=1179, r_ui=5.0, est=3.9238139623657333, details={'was_impossible': False}),\n",
              " Prediction(uid=2465, iid=1676, r_ui=4.0, est=2.9782304313538326, details={'was_impossible': False}),\n",
              " Prediction(uid=1377, iid=204, r_ui=3.0, est=2.5605563803533804, details={'was_impossible': False}),\n",
              " Prediction(uid=3610, iid=2567, r_ui=4.0, est=2.4855829973469157, details={'was_impossible': False}),\n",
              " Prediction(uid=5763, iid=2355, r_ui=5.0, est=4.255807925699309, details={'was_impossible': False}),\n",
              " Prediction(uid=6004, iid=2174, r_ui=2.0, est=3.391574772487202, details={'was_impossible': False}),\n",
              " Prediction(uid=5080, iid=780, r_ui=5.0, est=3.9114762216984875, details={'was_impossible': False}),\n",
              " Prediction(uid=157, iid=376, r_ui=3.0, est=3.4477100341411, details={'was_impossible': False}),\n",
              " Prediction(uid=4227, iid=3393, r_ui=2.0, est=1.5346960364078985, details={'was_impossible': False}),\n",
              " Prediction(uid=5220, iid=3623, r_ui=4.0, est=2.989289676205604, details={'was_impossible': False}),\n",
              " Prediction(uid=5434, iid=924, r_ui=5.0, est=4.985727677095107, details={'was_impossible': False}),\n",
              " Prediction(uid=5040, iid=750, r_ui=4.0, est=4.573771983826975, details={'was_impossible': False}),\n",
              " Prediction(uid=5568, iid=592, r_ui=5.0, est=4.293786126246593, details={'was_impossible': False}),\n",
              " Prediction(uid=2472, iid=1573, r_ui=3.0, est=2.9796413506251724, details={'was_impossible': False}),\n",
              " Prediction(uid=1815, iid=3510, r_ui=3.0, est=3.793195643675933, details={'was_impossible': False}),\n",
              " Prediction(uid=4048, iid=256, r_ui=4.0, est=3.77475415582708, details={'was_impossible': False}),\n",
              " Prediction(uid=1916, iid=1069, r_ui=3.0, est=4.042144056430776, details={'was_impossible': False}),\n",
              " Prediction(uid=424, iid=1658, r_ui=3.0, est=3.3422741145878043, details={'was_impossible': False}),\n",
              " Prediction(uid=723, iid=2840, r_ui=3.0, est=3.161323790500843, details={'was_impossible': False}),\n",
              " Prediction(uid=3356, iid=1674, r_ui=5.0, est=4.628412440518218, details={'was_impossible': False}),\n",
              " Prediction(uid=4362, iid=1375, r_ui=1.0, est=2.373259155498799, details={'was_impossible': False}),\n",
              " Prediction(uid=6025, iid=2717, r_ui=4.0, est=2.968530861973636, details={'was_impossible': False}),\n",
              " Prediction(uid=3246, iid=207, r_ui=4.0, est=2.7884357643966617, details={'was_impossible': False}),\n",
              " Prediction(uid=752, iid=2361, r_ui=1.0, est=2.3995266081637014, details={'was_impossible': False}),\n",
              " Prediction(uid=5241, iid=1584, r_ui=4.0, est=3.254613602063277, details={'was_impossible': False}),\n",
              " Prediction(uid=4535, iid=353, r_ui=5.0, est=4.105020693545238, details={'was_impossible': False}),\n",
              " Prediction(uid=749, iid=1587, r_ui=3.0, est=3.2249477227101986, details={'was_impossible': False}),\n",
              " Prediction(uid=889, iid=32, r_ui=4.0, est=3.1013192419126954, details={'was_impossible': False}),\n",
              " Prediction(uid=3333, iid=60, r_ui=1.0, est=2.1148685800219362, details={'was_impossible': False}),\n",
              " Prediction(uid=2693, iid=969, r_ui=5.0, est=4.012950538702242, details={'was_impossible': False}),\n",
              " Prediction(uid=3389, iid=546, r_ui=1.0, est=1.1913022603630568, details={'was_impossible': False}),\n",
              " Prediction(uid=624, iid=2686, r_ui=5.0, est=3.7377662986361364, details={'was_impossible': False}),\n",
              " Prediction(uid=3526, iid=1042, r_ui=5.0, est=3.402404813486788, details={'was_impossible': False}),\n",
              " Prediction(uid=3185, iid=457, r_ui=5.0, est=3.999320271331436, details={'was_impossible': False}),\n",
              " Prediction(uid=2599, iid=1405, r_ui=4.0, est=2.990647875359349, details={'was_impossible': False}),\n",
              " Prediction(uid=5837, iid=1031, r_ui=4.0, est=3.697716118651261, details={'was_impossible': False}),\n",
              " Prediction(uid=1709, iid=3039, r_ui=4.0, est=3.6881529129065767, details={'was_impossible': False}),\n",
              " Prediction(uid=1968, iid=3760, r_ui=1.0, est=2.3794918574132917, details={'was_impossible': False}),\n",
              " Prediction(uid=802, iid=1377, r_ui=3.0, est=3.3422003240217464, details={'was_impossible': False}),\n",
              " Prediction(uid=4979, iid=733, r_ui=4.0, est=3.8580624083975983, details={'was_impossible': False}),\n",
              " Prediction(uid=4213, iid=517, r_ui=4.0, est=4.405550556646452, details={'was_impossible': False}),\n",
              " Prediction(uid=1019, iid=2648, r_ui=3.0, est=3.4336853485132437, details={'was_impossible': False}),\n",
              " Prediction(uid=1207, iid=3810, r_ui=1.0, est=2.379463444043433, details={'was_impossible': False}),\n",
              " Prediction(uid=2848, iid=595, r_ui=4.0, est=3.5268994620312455, details={'was_impossible': False}),\n",
              " Prediction(uid=3746, iid=1339, r_ui=4.0, est=4.120683047875287, details={'was_impossible': False}),\n",
              " Prediction(uid=2181, iid=3068, r_ui=5.0, est=3.947497620863704, details={'was_impossible': False}),\n",
              " Prediction(uid=1112, iid=2978, r_ui=3.0, est=2.5516908856512655, details={'was_impossible': False}),\n",
              " Prediction(uid=3180, iid=1215, r_ui=3.0, est=3.4654707327079626, details={'was_impossible': False}),\n",
              " Prediction(uid=6036, iid=461, r_ui=4.0, est=3.1287653799745954, details={'was_impossible': False}),\n",
              " Prediction(uid=5875, iid=608, r_ui=5.0, est=4.985152371004933, details={'was_impossible': False}),\n",
              " Prediction(uid=3266, iid=3476, r_ui=5.0, est=4.315388647032815, details={'was_impossible': False}),\n",
              " Prediction(uid=2088, iid=1499, r_ui=4.0, est=3.205608442473978, details={'was_impossible': False}),\n",
              " Prediction(uid=90, iid=208, r_ui=3.0, est=2.8826525924352473, details={'was_impossible': False}),\n",
              " Prediction(uid=1203, iid=2028, r_ui=5.0, est=4.682591652763302, details={'was_impossible': False}),\n",
              " Prediction(uid=2564, iid=1721, r_ui=3.0, est=3.7713430870449, details={'was_impossible': False}),\n",
              " Prediction(uid=3834, iid=3949, r_ui=5.0, est=4.923208574252867, details={'was_impossible': False}),\n",
              " Prediction(uid=1620, iid=858, r_ui=4.0, est=4.246897372358166, details={'was_impossible': False}),\n",
              " Prediction(uid=984, iid=910, r_ui=4.0, est=4.42608897950435, details={'was_impossible': False}),\n",
              " Prediction(uid=4854, iid=969, r_ui=5.0, est=4.385916954114716, details={'was_impossible': False}),\n",
              " Prediction(uid=808, iid=2428, r_ui=3.0, est=3.2398026844219188, details={'was_impossible': False}),\n",
              " Prediction(uid=2887, iid=524, r_ui=4.0, est=3.5365640957632674, details={'was_impossible': False}),\n",
              " Prediction(uid=264, iid=3489, r_ui=3.0, est=2.6299402447805544, details={'was_impossible': False}),\n",
              " Prediction(uid=4167, iid=1375, r_ui=4.0, est=3.0393716137204287, details={'was_impossible': False}),\n",
              " Prediction(uid=173, iid=2020, r_ui=3.0, est=4.06917774681065, details={'was_impossible': False}),\n",
              " Prediction(uid=5689, iid=377, r_ui=5.0, est=3.2951314507409384, details={'was_impossible': False}),\n",
              " Prediction(uid=2776, iid=2011, r_ui=3.0, est=3.563688080910258, details={'was_impossible': False}),\n",
              " Prediction(uid=5634, iid=1883, r_ui=1.0, est=3.45478382599445, details={'was_impossible': False}),\n",
              " Prediction(uid=1942, iid=589, r_ui=2.0, est=2.757882673831159, details={'was_impossible': False}),\n",
              " Prediction(uid=3316, iid=1097, r_ui=4.0, est=3.7004225082021787, details={'was_impossible': False}),\n",
              " Prediction(uid=1266, iid=356, r_ui=2.0, est=4.0820187193779836, details={'was_impossible': False}),\n",
              " Prediction(uid=878, iid=2012, r_ui=5.0, est=3.9000498805329866, details={'was_impossible': False}),\n",
              " Prediction(uid=4637, iid=1569, r_ui=5.0, est=3.7105725254354125, details={'was_impossible': False}),\n",
              " Prediction(uid=781, iid=3869, r_ui=3.0, est=2.871379691884379, details={'was_impossible': False}),\n",
              " Prediction(uid=1219, iid=3481, r_ui=4.0, est=3.8381660111298532, details={'was_impossible': False}),\n",
              " Prediction(uid=1593, iid=1544, r_ui=3.0, est=2.252485662140517, details={'was_impossible': False}),\n",
              " Prediction(uid=5102, iid=3100, r_ui=5.0, est=4.512522821408914, details={'was_impossible': False}),\n",
              " Prediction(uid=4482, iid=1645, r_ui=3.0, est=3.1619556253215957, details={'was_impossible': False}),\n",
              " Prediction(uid=4122, iid=750, r_ui=5.0, est=4.690782446240339, details={'was_impossible': False}),\n",
              " Prediction(uid=4748, iid=1233, r_ui=4.0, est=4.716769676628341, details={'was_impossible': False}),\n",
              " Prediction(uid=1613, iid=1729, r_ui=4.0, est=3.5112046746129644, details={'was_impossible': False}),\n",
              " Prediction(uid=2458, iid=2722, r_ui=4.0, est=3.2828041784184263, details={'was_impossible': False}),\n",
              " Prediction(uid=366, iid=3194, r_ui=5.0, est=3.486499122207406, details={'was_impossible': False}),\n",
              " Prediction(uid=5880, iid=1269, r_ui=4.0, est=3.744045981182492, details={'was_impossible': False}),\n",
              " Prediction(uid=3648, iid=2366, r_ui=2.0, est=1.8032666912548418, details={'was_impossible': False}),\n",
              " Prediction(uid=4606, iid=1270, r_ui=3.0, est=3.448882603199477, details={'was_impossible': False}),\n",
              " Prediction(uid=2926, iid=1682, r_ui=5.0, est=3.7913768647473804, details={'was_impossible': False}),\n",
              " Prediction(uid=2233, iid=2792, r_ui=4.0, est=2.3746079121475328, details={'was_impossible': False}),\n",
              " Prediction(uid=985, iid=2628, r_ui=4.0, est=3.668194356618987, details={'was_impossible': False}),\n",
              " Prediction(uid=744, iid=2145, r_ui=4.0, est=3.4394153457517955, details={'was_impossible': False}),\n",
              " Prediction(uid=4064, iid=3536, r_ui=3.0, est=2.9594765280354802, details={'was_impossible': False}),\n",
              " Prediction(uid=5539, iid=2384, r_ui=4.0, est=3.3504531947698237, details={'was_impossible': False}),\n",
              " Prediction(uid=1652, iid=3481, r_ui=1.0, est=3.560345536372045, details={'was_impossible': False}),\n",
              " Prediction(uid=2173, iid=3685, r_ui=4.0, est=3.9274926455264354, details={'was_impossible': False}),\n",
              " Prediction(uid=984, iid=3527, r_ui=4.0, est=3.6259890328197146, details={'was_impossible': False}),\n",
              " Prediction(uid=1470, iid=2722, r_ui=4.0, est=3.6301205862708583, details={'was_impossible': False}),\n",
              " Prediction(uid=4897, iid=1258, r_ui=4.0, est=3.3252534969947494, details={'was_impossible': False}),\n",
              " Prediction(uid=1669, iid=1188, r_ui=5.0, est=3.7144404473866683, details={'was_impossible': False}),\n",
              " Prediction(uid=45, iid=469, r_ui=1.0, est=2.4224579774594495, details={'was_impossible': False}),\n",
              " Prediction(uid=1958, iid=648, r_ui=4.0, est=3.744312880740533, details={'was_impossible': False}),\n",
              " Prediction(uid=3754, iid=1321, r_ui=4.0, est=3.7611000104122168, details={'was_impossible': False}),\n",
              " Prediction(uid=284, iid=2355, r_ui=4.0, est=3.855360054636013, details={'was_impossible': False}),\n",
              " Prediction(uid=801, iid=1247, r_ui=4.0, est=4.17955068485706, details={'was_impossible': False}),\n",
              " Prediction(uid=2888, iid=2268, r_ui=4.0, est=3.892051837998656, details={'was_impossible': False}),\n",
              " Prediction(uid=5400, iid=3404, r_ui=2.0, est=3.9949948504206496, details={'was_impossible': False}),\n",
              " Prediction(uid=2497, iid=1292, r_ui=5.0, est=4.353042591307655, details={'was_impossible': False}),\n",
              " Prediction(uid=3703, iid=3760, r_ui=5.0, est=3.162674076484249, details={'was_impossible': False}),\n",
              " Prediction(uid=1343, iid=2788, r_ui=4.0, est=4.556111785898077, details={'was_impossible': False}),\n",
              " Prediction(uid=1500, iid=1380, r_ui=2.0, est=3.024267355284848, details={'was_impossible': False}),\n",
              " Prediction(uid=3371, iid=2406, r_ui=3.0, est=2.5584541000391496, details={'was_impossible': False}),\n",
              " Prediction(uid=362, iid=3826, r_ui=1.0, est=2.469176767997914, details={'was_impossible': False}),\n",
              " Prediction(uid=2993, iid=2686, r_ui=4.0, est=4.467872634230199, details={'was_impossible': False}),\n",
              " Prediction(uid=3216, iid=1732, r_ui=5.0, est=3.2048182989514347, details={'was_impossible': False}),\n",
              " Prediction(uid=4556, iid=3504, r_ui=3.0, est=3.7727124959939875, details={'was_impossible': False}),\n",
              " Prediction(uid=1380, iid=3082, r_ui=5.0, est=3.789199241733764, details={'was_impossible': False}),\n",
              " Prediction(uid=3046, iid=2707, r_ui=4.0, est=3.700971869913648, details={'was_impossible': False}),\n",
              " Prediction(uid=2489, iid=1791, r_ui=3.0, est=2.798355234817004, details={'was_impossible': False}),\n",
              " Prediction(uid=5976, iid=147, r_ui=3.0, est=3.421788034005414, details={'was_impossible': False}),\n",
              " Prediction(uid=4054, iid=1228, r_ui=4.0, est=4.576298193048482, details={'was_impossible': False}),\n",
              " Prediction(uid=469, iid=1250, r_ui=4.0, est=4.494180947937016, details={'was_impossible': False}),\n",
              " Prediction(uid=6036, iid=2640, r_ui=2.0, est=3.038981774766399, details={'was_impossible': False}),\n",
              " Prediction(uid=2148, iid=1885, r_ui=4.0, est=3.5630848845716945, details={'was_impossible': False}),\n",
              " Prediction(uid=2562, iid=2268, r_ui=4.0, est=4.255945491253804, details={'was_impossible': False}),\n",
              " Prediction(uid=3292, iid=1135, r_ui=5.0, est=3.6286522764157794, details={'was_impossible': False}),\n",
              " Prediction(uid=19, iid=2947, r_ui=4.0, est=4.332171165595973, details={'was_impossible': False}),\n",
              " Prediction(uid=1298, iid=1396, r_ui=4.0, est=4.027616819736779, details={'was_impossible': False}),\n",
              " Prediction(uid=1943, iid=1884, r_ui=1.0, est=3.378905227515808, details={'was_impossible': False}),\n",
              " Prediction(uid=5306, iid=1645, r_ui=2.0, est=3.002760024808139, details={'was_impossible': False}),\n",
              " Prediction(uid=4224, iid=805, r_ui=4.0, est=4.187113241423273, details={'was_impossible': False}),\n",
              " Prediction(uid=169, iid=926, r_ui=3.0, est=3.3849596469813914, details={'was_impossible': False}),\n",
              " Prediction(uid=1010, iid=3210, r_ui=4.0, est=3.3938168287426493, details={'was_impossible': False}),\n",
              " Prediction(uid=2719, iid=3032, r_ui=3.0, est=3.692713590152502, details={'was_impossible': False}),\n",
              " Prediction(uid=2985, iid=1373, r_ui=4.0, est=3.9369667923528855, details={'was_impossible': False}),\n",
              " Prediction(uid=5026, iid=2532, r_ui=4.0, est=2.483032951934863, details={'was_impossible': False}),\n",
              " Prediction(uid=1579, iid=3723, r_ui=3.0, est=3.7075324266984264, details={'was_impossible': False}),\n",
              " Prediction(uid=1150, iid=347, r_ui=4.0, est=1.955329750921972, details={'was_impossible': False}),\n",
              " Prediction(uid=4016, iid=3068, r_ui=3.0, est=3.0930983482584327, details={'was_impossible': False}),\n",
              " Prediction(uid=2962, iid=3849, r_ui=3.0, est=3.466498540532161, details={'was_impossible': False}),\n",
              " Prediction(uid=5686, iid=1208, r_ui=4.0, est=3.024237841077108, details={'was_impossible': False}),\n",
              " Prediction(uid=5394, iid=2160, r_ui=3.0, est=3.4403121153744913, details={'was_impossible': False}),\n",
              " Prediction(uid=4625, iid=3752, r_ui=4.0, est=2.9953134823644287, details={'was_impossible': False}),\n",
              " Prediction(uid=4496, iid=2107, r_ui=3.0, est=3.436588902702032, details={'was_impossible': False}),\n",
              " Prediction(uid=4754, iid=1091, r_ui=5.0, est=3.4269526631194442, details={'was_impossible': False}),\n",
              " Prediction(uid=2820, iid=1833, r_ui=2.0, est=2.4817588255985434, details={'was_impossible': False}),\n",
              " Prediction(uid=5312, iid=3712, r_ui=4.0, est=3.4934661146277817, details={'was_impossible': False}),\n",
              " Prediction(uid=265, iid=804, r_ui=4.0, est=3.209296184125935, details={'was_impossible': False}),\n",
              " Prediction(uid=5978, iid=1199, r_ui=4.0, est=3.425101254950868, details={'was_impossible': False}),\n",
              " Prediction(uid=3180, iid=225, r_ui=2.0, est=2.025162825304732, details={'was_impossible': False}),\n",
              " Prediction(uid=2928, iid=3544, r_ui=4.0, est=2.9481407612178496, details={'was_impossible': False}),\n",
              " Prediction(uid=3334, iid=1721, r_ui=5.0, est=4.516699402066578, details={'was_impossible': False}),\n",
              " Prediction(uid=3792, iid=153, r_ui=3.0, est=3.209896250822451, details={'was_impossible': False}),\n",
              " Prediction(uid=4342, iid=2532, r_ui=5.0, est=3.84304461509628, details={'was_impossible': False}),\n",
              " Prediction(uid=1449, iid=913, r_ui=5.0, est=4.094049505894655, details={'was_impossible': False}),\n",
              " Prediction(uid=2202, iid=258, r_ui=2.0, est=2.442526062641123, details={'was_impossible': False}),\n",
              " Prediction(uid=2446, iid=293, r_ui=4.0, est=4.791931691531823, details={'was_impossible': False}),\n",
              " Prediction(uid=1013, iid=1221, r_ui=4.0, est=4.217725139306145, details={'was_impossible': False}),\n",
              " Prediction(uid=3648, iid=788, r_ui=5.0, est=3.2557848464000094, details={'was_impossible': False}),\n",
              " Prediction(uid=924, iid=2908, r_ui=4.0, est=4.12490993995539, details={'was_impossible': False}),\n",
              " Prediction(uid=3930, iid=3035, r_ui=5.0, est=4.508163600913644, details={'was_impossible': False}),\n",
              " Prediction(uid=721, iid=2699, r_ui=3.0, est=3.318371284328217, details={'was_impossible': False}),\n",
              " Prediction(uid=2140, iid=2858, r_ui=5.0, est=3.6552136700132825, details={'was_impossible': False}),\n",
              " Prediction(uid=264, iid=1608, r_ui=2.0, est=2.735526953626314, details={'was_impossible': False}),\n",
              " Prediction(uid=770, iid=2145, r_ui=1.0, est=2.325144735920223, details={'was_impossible': False}),\n",
              " Prediction(uid=1449, iid=1254, r_ui=4.0, est=4.387078944786839, details={'was_impossible': False}),\n",
              " Prediction(uid=4344, iid=674, r_ui=3.0, est=3.755278254073194, details={'was_impossible': False}),\n",
              " Prediction(uid=3219, iid=2723, r_ui=3.0, est=2.6510513689238504, details={'was_impossible': False}),\n",
              " Prediction(uid=327, iid=2732, r_ui=4.0, est=3.7717516669278233, details={'was_impossible': False}),\n",
              " Prediction(uid=5504, iid=1732, r_ui=4.0, est=4.101579288729936, details={'was_impossible': False}),\n",
              " Prediction(uid=377, iid=1278, r_ui=5.0, est=4.212558822933268, details={'was_impossible': False}),\n",
              " Prediction(uid=1299, iid=2995, r_ui=2.0, est=2.685276150703376, details={'was_impossible': False}),\n",
              " Prediction(uid=3871, iid=2717, r_ui=3.0, est=3.1012465621842646, details={'was_impossible': False}),\n",
              " Prediction(uid=3108, iid=1948, r_ui=4.0, est=3.6586850208147665, details={'was_impossible': False}),\n",
              " Prediction(uid=4984, iid=2341, r_ui=3.0, est=2.8053754824510904, details={'was_impossible': False}),\n",
              " Prediction(uid=1357, iid=1340, r_ui=5.0, est=4.543418380608069, details={'was_impossible': False}),\n",
              " Prediction(uid=3621, iid=2665, r_ui=4.0, est=3.0961270410502477, details={'was_impossible': False}),\n",
              " Prediction(uid=5054, iid=2454, r_ui=4.0, est=2.860450224113799, details={'was_impossible': False}),\n",
              " Prediction(uid=5841, iid=3034, r_ui=4.0, est=4.462541639610666, details={'was_impossible': False}),\n",
              " Prediction(uid=1116, iid=3104, r_ui=5.0, est=3.8141850633509295, details={'was_impossible': False}),\n",
              " Prediction(uid=3900, iid=1485, r_ui=5.0, est=3.951758120507501, details={'was_impossible': False}),\n",
              " Prediction(uid=2453, iid=2643, r_ui=2.0, est=2.5641011121065698, details={'was_impossible': False}),\n",
              " Prediction(uid=4658, iid=485, r_ui=1.0, est=1.351952199552573, details={'was_impossible': False}),\n",
              " Prediction(uid=4460, iid=780, r_ui=4.0, est=3.6301006703343774, details={'was_impossible': False}),\n",
              " Prediction(uid=2188, iid=408, r_ui=3.0, est=2.683977354734629, details={'was_impossible': False}),\n",
              " Prediction(uid=4279, iid=2, r_ui=3.0, est=3.21725981622516, details={'was_impossible': False}),\n",
              " Prediction(uid=5100, iid=1179, r_ui=5.0, est=4.340827355208473, details={'was_impossible': False}),\n",
              " Prediction(uid=2529, iid=2716, r_ui=4.0, est=3.936851529649608, details={'was_impossible': False}),\n",
              " Prediction(uid=1496, iid=2109, r_ui=4.0, est=3.5946343935861655, details={'was_impossible': False}),\n",
              " Prediction(uid=62, iid=909, r_ui=4.0, est=4.118710264932867, details={'was_impossible': False}),\n",
              " Prediction(uid=3985, iid=1172, r_ui=5.0, est=3.9966029782394963, details={'was_impossible': False}),\n",
              " Prediction(uid=310, iid=2506, r_ui=4.0, est=3.9661307523267006, details={'was_impossible': False}),\n",
              " Prediction(uid=1202, iid=1333, r_ui=2.0, est=3.605925954652584, details={'was_impossible': False}),\n",
              " Prediction(uid=4243, iid=2002, r_ui=4.0, est=4.17330026356429, details={'was_impossible': False}),\n",
              " Prediction(uid=2880, iid=3481, r_ui=3.0, est=4.192426407582856, details={'was_impossible': False}),\n",
              " Prediction(uid=1971, iid=1923, r_ui=5.0, est=3.7168092325987425, details={'was_impossible': False}),\n",
              " Prediction(uid=2678, iid=912, r_ui=5.0, est=4.18886979697763, details={'was_impossible': False}),\n",
              " Prediction(uid=3425, iid=3728, r_ui=4.0, est=4.1811997038664135, details={'was_impossible': False}),\n",
              " Prediction(uid=5717, iid=2002, r_ui=3.0, est=3.749065087477968, details={'was_impossible': False}),\n",
              " Prediction(uid=2106, iid=3863, r_ui=4.0, est=2.567860637857463, details={'was_impossible': False}),\n",
              " Prediction(uid=2106, iid=2042, r_ui=2.0, est=1.0574203968029439, details={'was_impossible': False}),\n",
              " Prediction(uid=3882, iid=999, r_ui=4.0, est=3.5218713912566795, details={'was_impossible': False}),\n",
              " Prediction(uid=1962, iid=252, r_ui=3.0, est=2.2840084681051565, details={'was_impossible': False}),\n",
              " Prediction(uid=2997, iid=1197, r_ui=4.0, est=4.64397931363636, details={'was_impossible': False}),\n",
              " Prediction(uid=40, iid=2524, r_ui=2.0, est=2.8710304381664606, details={'was_impossible': False}),\n",
              " Prediction(uid=5620, iid=3101, r_ui=4.0, est=4.277397397019683, details={'was_impossible': False}),\n",
              " Prediction(uid=4392, iid=2699, r_ui=1.0, est=3.1529186049684426, details={'was_impossible': False}),\n",
              " Prediction(uid=5132, iid=3949, r_ui=5.0, est=4.745311755558077, details={'was_impossible': False}),\n",
              " Prediction(uid=5916, iid=1544, r_ui=3.0, est=2.743066604789854, details={'was_impossible': False}),\n",
              " Prediction(uid=3301, iid=3093, r_ui=5.0, est=3.964635128715994, details={'was_impossible': False}),\n",
              " Prediction(uid=1422, iid=1127, r_ui=3.0, est=2.9753961005764857, details={'was_impossible': False}),\n",
              " Prediction(uid=4607, iid=538, r_ui=4.0, est=4.210773948501109, details={'was_impossible': False}),\n",
              " Prediction(uid=5954, iid=2462, r_ui=3.0, est=1.8619321600483634, details={'was_impossible': False}),\n",
              " Prediction(uid=5252, iid=3735, r_ui=4.0, est=4.053181057263089, details={'was_impossible': False}),\n",
              " Prediction(uid=2122, iid=2395, r_ui=2.0, est=3.3272840488399247, details={'was_impossible': False}),\n",
              " Prediction(uid=2279, iid=3504, r_ui=5.0, est=4.372048465472565, details={'was_impossible': False}),\n",
              " Prediction(uid=5911, iid=1097, r_ui=4.0, est=3.358338265280974, details={'was_impossible': False}),\n",
              " Prediction(uid=1969, iid=2688, r_ui=4.0, est=3.8983521458601933, details={'was_impossible': False}),\n",
              " Prediction(uid=5070, iid=442, r_ui=3.0, est=2.4069212226739296, details={'was_impossible': False}),\n",
              " Prediction(uid=33, iid=3421, r_ui=2.0, est=3.957979436525043, details={'was_impossible': False}),\n",
              " Prediction(uid=2010, iid=704, r_ui=2.0, est=1.3421463737930375, details={'was_impossible': False}),\n",
              " Prediction(uid=162, iid=1688, r_ui=4.0, est=4.176009547066749, details={'was_impossible': False}),\n",
              " Prediction(uid=5433, iid=2997, r_ui=5.0, est=3.887227490962516, details={'was_impossible': False}),\n",
              " Prediction(uid=1415, iid=1265, r_ui=4.0, est=3.7824758854960394, details={'was_impossible': False}),\n",
              " Prediction(uid=1015, iid=942, r_ui=5.0, est=4.442012402570426, details={'was_impossible': False}),\n",
              " Prediction(uid=5585, iid=1321, r_ui=3.0, est=3.588237641186228, details={'was_impossible': False}),\n",
              " Prediction(uid=1501, iid=2559, r_ui=4.0, est=2.928509534075014, details={'was_impossible': False}),\n",
              " Prediction(uid=3905, iid=1198, r_ui=5.0, est=4.392513932000741, details={'was_impossible': False}),\n",
              " Prediction(uid=746, iid=3107, r_ui=4.0, est=3.0195483932964136, details={'was_impossible': False}),\n",
              " Prediction(uid=678, iid=1612, r_ui=4.0, est=3.841767078950986, details={'was_impossible': False}),\n",
              " Prediction(uid=4418, iid=3163, r_ui=5.0, est=3.8871648035290876, details={'was_impossible': False}),\n",
              " Prediction(uid=4489, iid=1517, r_ui=5.0, est=4.351632308111002, details={'was_impossible': False}),\n",
              " Prediction(uid=3471, iid=3301, r_ui=4.0, est=3.2061303757594444, details={'was_impossible': False}),\n",
              " Prediction(uid=3957, iid=1090, r_ui=5.0, est=4.4021947344446435, details={'was_impossible': False}),\n",
              " Prediction(uid=2395, iid=2763, r_ui=5.0, est=3.9039526412858545, details={'was_impossible': False}),\n",
              " Prediction(uid=1496, iid=19, r_ui=2.0, est=2.216338253954624, details={'was_impossible': False}),\n",
              " Prediction(uid=3044, iid=1387, r_ui=3.0, est=4.127581949154946, details={'was_impossible': False}),\n",
              " Prediction(uid=4489, iid=337, r_ui=4.0, est=4.678631433898419, details={'was_impossible': False}),\n",
              " Prediction(uid=2180, iid=2571, r_ui=5.0, est=4.0422763912861885, details={'was_impossible': False}),\n",
              " Prediction(uid=2023, iid=1036, r_ui=5.0, est=4.605727990267437, details={'was_impossible': False}),\n",
              " Prediction(uid=6036, iid=2114, r_ui=3.0, est=3.432387611278637, details={'was_impossible': False}),\n",
              " Prediction(uid=4869, iid=3703, r_ui=3.0, est=2.778767585938866, details={'was_impossible': False}),\n",
              " Prediction(uid=3182, iid=2890, r_ui=3.0, est=3.1395496579544546, details={'was_impossible': False}),\n",
              " Prediction(uid=461, iid=373, r_ui=4.0, est=3.7351813462533303, details={'was_impossible': False}),\n",
              " Prediction(uid=303, iid=3308, r_ui=4.0, est=3.347055019598801, details={'was_impossible': False}),\n",
              " Prediction(uid=4140, iid=2474, r_ui=3.0, est=3.6655399917296005, details={'was_impossible': False}),\n",
              " Prediction(uid=2611, iid=1, r_ui=5.0, est=4.075572430736737, details={'was_impossible': False}),\n",
              " Prediction(uid=5265, iid=3504, r_ui=3.0, est=3.7762663942783563, details={'was_impossible': False}),\n",
              " Prediction(uid=3746, iid=2406, r_ui=4.0, est=3.3430722636825063, details={'was_impossible': False}),\n",
              " Prediction(uid=5598, iid=2907, r_ui=2.0, est=2.9910581536476863, details={'was_impossible': False}),\n",
              " Prediction(uid=5755, iid=1393, r_ui=2.0, est=3.3221267791220828, details={'was_impossible': False}),\n",
              " Prediction(uid=163, iid=3160, r_ui=4.0, est=2.253094207104153, details={'was_impossible': False}),\n",
              " Prediction(uid=4085, iid=2794, r_ui=3.0, est=3.219170755024086, details={'was_impossible': False}),\n",
              " Prediction(uid=3380, iid=3760, r_ui=3.0, est=3.332050459982801, details={'was_impossible': False}),\n",
              " Prediction(uid=4004, iid=589, r_ui=4.0, est=3.183594809242746, details={'was_impossible': False}),\n",
              " Prediction(uid=3596, iid=1649, r_ui=3.0, est=4.595242354133287, details={'was_impossible': False}),\n",
              " Prediction(uid=393, iid=2858, r_ui=3.0, est=3.5327581065689415, details={'was_impossible': False}),\n",
              " Prediction(uid=127, iid=1997, r_ui=5.0, est=3.780932500020947, details={'was_impossible': False}),\n",
              " Prediction(uid=1150, iid=1204, r_ui=3.0, est=3.9844563962357267, details={'was_impossible': False}),\n",
              " Prediction(uid=5129, iid=1097, r_ui=5.0, est=4.454387067097693, details={'was_impossible': False}),\n",
              " Prediction(uid=2034, iid=1066, r_ui=5.0, est=4.363172132792279, details={'was_impossible': False}),\n",
              " Prediction(uid=471, iid=256, r_ui=2.0, est=2.6017395076823253, details={'was_impossible': False}),\n",
              " Prediction(uid=2445, iid=1690, r_ui=3.0, est=3.417194739429568, details={'was_impossible': False}),\n",
              " Prediction(uid=2460, iid=1617, r_ui=3.0, est=4.3715826497347985, details={'was_impossible': False}),\n",
              " Prediction(uid=2205, iid=2424, r_ui=2.0, est=2.395727151609088, details={'was_impossible': False}),\n",
              " Prediction(uid=2611, iid=1093, r_ui=5.0, est=4.006457209732428, details={'was_impossible': False}),\n",
              " Prediction(uid=5312, iid=2240, r_ui=5.0, est=3.7692720370085073, details={'was_impossible': False}),\n",
              " Prediction(uid=4310, iid=517, r_ui=5.0, est=3.9869511787391887, details={'was_impossible': False}),\n",
              " Prediction(uid=3945, iid=1918, r_ui=4.0, est=3.0937880267699898, details={'was_impossible': False}),\n",
              " Prediction(uid=1737, iid=1126, r_ui=2.0, est=2.7524435254770085, details={'was_impossible': False}),\n",
              " Prediction(uid=5861, iid=2788, r_ui=5.0, est=3.951084977099804, details={'was_impossible': False}),\n",
              " Prediction(uid=4318, iid=3249, r_ui=4.0, est=4.061417935378112, details={'was_impossible': False}),\n",
              " Prediction(uid=1117, iid=2141, r_ui=4.0, est=3.2388380881589067, details={'was_impossible': False}),\n",
              " Prediction(uid=3614, iid=3219, r_ui=2.0, est=3.085765176895702, details={'was_impossible': False}),\n",
              " Prediction(uid=2054, iid=1238, r_ui=4.0, est=3.874269222145084, details={'was_impossible': False}),\n",
              " Prediction(uid=5550, iid=434, r_ui=3.0, est=3.801001668089582, details={'was_impossible': False}),\n",
              " Prediction(uid=3868, iid=217, r_ui=3.0, est=2.737826408345812, details={'was_impossible': False}),\n",
              " Prediction(uid=5920, iid=1224, r_ui=3.0, est=4.250751274899601, details={'was_impossible': False}),\n",
              " Prediction(uid=2823, iid=700, r_ui=1.0, est=2.5299144964709055, details={'was_impossible': False}),\n",
              " Prediction(uid=1998, iid=3789, r_ui=3.0, est=4.068647508799645, details={'was_impossible': False}),\n",
              " Prediction(uid=854, iid=1466, r_ui=3.0, est=3.587323497595932, details={'was_impossible': False}),\n",
              " Prediction(uid=192, iid=694, r_ui=1.0, est=2.1091844873620587, details={'was_impossible': False}),\n",
              " Prediction(uid=1132, iid=2012, r_ui=3.0, est=4.320546152369903, details={'was_impossible': False}),\n",
              " Prediction(uid=1764, iid=2974, r_ui=3.0, est=3.4362527923534443, details={'was_impossible': False}),\n",
              " Prediction(uid=3025, iid=2135, r_ui=3.0, est=3.8542691413108336, details={'was_impossible': False}),\n",
              " Prediction(uid=3599, iid=1, r_ui=4.0, est=3.8253307363496862, details={'was_impossible': False}),\n",
              " Prediction(uid=1448, iid=3361, r_ui=5.0, est=4.244876462114988, details={'was_impossible': False}),\n",
              " Prediction(uid=3792, iid=1356, r_ui=4.0, est=3.8519152160459007, details={'was_impossible': False}),\n",
              " Prediction(uid=955, iid=2529, r_ui=2.0, est=4.142995750237545, details={'was_impossible': False}),\n",
              " Prediction(uid=6003, iid=1094, r_ui=5.0, est=4.600697451777944, details={'was_impossible': False}),\n",
              " Prediction(uid=770, iid=66, r_ui=2.0, est=1.062316370994567, details={'was_impossible': False}),\n",
              " Prediction(uid=300, iid=1206, r_ui=3.0, est=4.156710909237803, details={'was_impossible': False}),\n",
              " Prediction(uid=3624, iid=1370, r_ui=3.0, est=3.946414352929548, details={'was_impossible': False}),\n",
              " Prediction(uid=193, iid=2973, r_ui=4.0, est=3.851845154134478, details={'was_impossible': False}),\n",
              " Prediction(uid=3426, iid=543, r_ui=1.0, est=3.4694642107547673, details={'was_impossible': False}),\n",
              " Prediction(uid=1329, iid=2888, r_ui=3.0, est=2.372733181495421, details={'was_impossible': False}),\n",
              " Prediction(uid=3651, iid=2941, r_ui=2.0, est=3.959289351123078, details={'was_impossible': False}),\n",
              " Prediction(uid=5812, iid=3225, r_ui=3.0, est=2.6600192057164738, details={'was_impossible': False}),\n",
              " Prediction(uid=4006, iid=10, r_ui=4.0, est=4.3421045530359805, details={'was_impossible': False}),\n",
              " Prediction(uid=1680, iid=3204, r_ui=4.0, est=3.8607182219076184, details={'was_impossible': False}),\n",
              " Prediction(uid=1968, iid=150, r_ui=4.0, est=3.424333608604119, details={'was_impossible': False}),\n",
              " Prediction(uid=4207, iid=3547, r_ui=3.0, est=4.576124124915414, details={'was_impossible': False}),\n",
              " Prediction(uid=2501, iid=3798, r_ui=3.0, est=2.8617529019107546, details={'was_impossible': False}),\n",
              " Prediction(uid=4956, iid=674, r_ui=3.0, est=3.4781975206871705, details={'was_impossible': False}),\n",
              " Prediction(uid=2529, iid=3441, r_ui=4.0, est=3.962525416328871, details={'was_impossible': False}),\n",
              " Prediction(uid=2162, iid=378, r_ui=4.0, est=3.345790402702862, details={'was_impossible': False}),\n",
              " Prediction(uid=501, iid=2399, r_ui=3.0, est=2.8171047183972653, details={'was_impossible': False}),\n",
              " Prediction(uid=3582, iid=2, r_ui=4.0, est=3.74747782572593, details={'was_impossible': False}),\n",
              " Prediction(uid=2857, iid=1240, r_ui=5.0, est=4.237636234130168, details={'was_impossible': False}),\n",
              " Prediction(uid=4448, iid=1968, r_ui=3.0, est=4.444878309530704, details={'was_impossible': False}),\n",
              " Prediction(uid=4386, iid=2761, r_ui=4.0, est=4.487581199340988, details={'was_impossible': False}),\n",
              " Prediction(uid=4520, iid=2599, r_ui=4.0, est=3.823548073106578, details={'was_impossible': False}),\n",
              " Prediction(uid=2046, iid=2997, r_ui=4.0, est=3.8051012870433345, details={'was_impossible': False}),\n",
              " Prediction(uid=4488, iid=3834, r_ui=2.0, est=2.11447713374564, details={'was_impossible': False}),\n",
              " Prediction(uid=2011, iid=52, r_ui=4.0, est=3.544430782808728, details={'was_impossible': False}),\n",
              " Prediction(uid=5015, iid=973, r_ui=4.0, est=4.395085160152748, details={'was_impossible': False}),\n",
              " Prediction(uid=1448, iid=3421, r_ui=5.0, est=4.08679567773584, details={'was_impossible': False}),\n",
              " Prediction(uid=3512, iid=509, r_ui=2.0, est=3.92693998734792, details={'was_impossible': False}),\n",
              " Prediction(uid=298, iid=2858, r_ui=5.0, est=4.347985004174875, details={'was_impossible': False}),\n",
              " Prediction(uid=3618, iid=1552, r_ui=3.0, est=2.8707832532146216, details={'was_impossible': False}),\n",
              " Prediction(uid=3919, iid=3050, r_ui=4.0, est=3.712471800414319, details={'was_impossible': False}),\n",
              " Prediction(uid=3389, iid=2322, r_ui=1.0, est=1.9443265223871642, details={'was_impossible': False}),\n",
              " Prediction(uid=5996, iid=3418, r_ui=4.0, est=3.8312830095132138, details={'was_impossible': False}),\n",
              " Prediction(uid=1418, iid=3360, r_ui=4.0, est=3.754984505283731, details={'was_impossible': False}),\n",
              " Prediction(uid=222, iid=3555, r_ui=4.0, est=3.7511476294275194, details={'was_impossible': False}),\n",
              " Prediction(uid=5662, iid=2879, r_ui=3.0, est=4.170297043065605, details={'was_impossible': False}),\n",
              " Prediction(uid=5437, iid=1210, r_ui=4.0, est=3.553918447305722, details={'was_impossible': False}),\n",
              " Prediction(uid=2105, iid=36, r_ui=4.0, est=4.0530899279689745, details={'was_impossible': False}),\n",
              " Prediction(uid=5360, iid=3615, r_ui=4.0, est=3.4584008681233858, details={'was_impossible': False}),\n",
              " Prediction(uid=2077, iid=2355, r_ui=5.0, est=3.8939744523240387, details={'was_impossible': False}),\n",
              " Prediction(uid=4212, iid=940, r_ui=4.0, est=3.7163840742589804, details={'was_impossible': False}),\n",
              " Prediction(uid=3126, iid=2841, r_ui=4.0, est=3.775201461242344, details={'was_impossible': False}),\n",
              " Prediction(uid=4257, iid=2861, r_ui=4.0, est=2.978467537946968, details={'was_impossible': False}),\n",
              " Prediction(uid=169, iid=1234, r_ui=4.0, est=4.551324759098696, details={'was_impossible': False}),\n",
              " Prediction(uid=5113, iid=381, r_ui=1.0, est=2.180180489098201, details={'was_impossible': False}),\n",
              " Prediction(uid=1835, iid=1263, r_ui=5.0, est=4.706620280882496, details={'was_impossible': False}),\n",
              " Prediction(uid=552, iid=1499, r_ui=4.0, est=2.6876565909902026, details={'was_impossible': False}),\n",
              " Prediction(uid=1234, iid=930, r_ui=5.0, est=4.371542535993883, details={'was_impossible': False}),\n",
              " Prediction(uid=1899, iid=3089, r_ui=5.0, est=4.380585198703093, details={'was_impossible': False}),\n",
              " Prediction(uid=3476, iid=3527, r_ui=1.0, est=2.4135337235345875, details={'was_impossible': False}),\n",
              " Prediction(uid=1357, iid=2647, r_ui=4.0, est=3.4031108368956686, details={'was_impossible': False}),\n",
              " Prediction(uid=3503, iid=2822, r_ui=5.0, est=3.5647526462982064, details={'was_impossible': False}),\n",
              " Prediction(uid=3475, iid=2410, r_ui=1.0, est=1.8940796689412027, details={'was_impossible': False}),\n",
              " Prediction(uid=2012, iid=204, r_ui=2.0, est=2.2196410525487127, details={'was_impossible': False}),\n",
              " Prediction(uid=3992, iid=3219, r_ui=4.0, est=3.705918280264371, details={'was_impossible': False}),\n",
              " Prediction(uid=230, iid=2109, r_ui=4.0, est=4.0313110348672, details={'was_impossible': False}),\n",
              " Prediction(uid=2529, iid=3669, r_ui=3.0, est=2.9636712674361645, details={'was_impossible': False}),\n",
              " Prediction(uid=2194, iid=2872, r_ui=5.0, est=3.6259432335576878, details={'was_impossible': False}),\n",
              " Prediction(uid=4405, iid=413, r_ui=1.0, est=3.0811640877350666, details={'was_impossible': False}),\n",
              " Prediction(uid=4337, iid=1214, r_ui=5.0, est=4.178627656100593, details={'was_impossible': False}),\n",
              " Prediction(uid=528, iid=3948, r_ui=3.0, est=3.926606999238131, details={'was_impossible': False}),\n",
              " Prediction(uid=3462, iid=2683, r_ui=4.0, est=3.052064378660466, details={'was_impossible': False}),\n",
              " Prediction(uid=2459, iid=595, r_ui=5.0, est=3.748422053501341, details={'was_impossible': False}),\n",
              " Prediction(uid=2292, iid=303, r_ui=1.0, est=2.6415524901463323, details={'was_impossible': False}),\n",
              " Prediction(uid=4123, iid=1991, r_ui=3.0, est=2.395824018011804, details={'was_impossible': False}),\n",
              " Prediction(uid=3770, iid=2390, r_ui=4.0, est=4.155850363463, details={'was_impossible': False}),\n",
              " Prediction(uid=3345, iid=1021, r_ui=3.0, est=3.463572006574494, details={'was_impossible': False}),\n",
              " Prediction(uid=3724, iid=3545, r_ui=5.0, est=3.6941244961125435, details={'was_impossible': False}),\n",
              " Prediction(uid=5950, iid=920, r_ui=3.0, est=3.2556576024164974, details={'was_impossible': False}),\n",
              " Prediction(uid=5074, iid=1704, r_ui=5.0, est=4.458927169741813, details={'was_impossible': False}),\n",
              " Prediction(uid=4801, iid=2054, r_ui=5.0, est=4.230641400065293, details={'was_impossible': False}),\n",
              " Prediction(uid=2181, iid=2648, r_ui=5.0, est=4.579905677609022, details={'was_impossible': False}),\n",
              " Prediction(uid=4303, iid=3653, r_ui=5.0, est=3.5207827590267557, details={'was_impossible': False}),\n",
              " Prediction(uid=1837, iid=2718, r_ui=3.0, est=3.1998626345220424, details={'was_impossible': False}),\n",
              " Prediction(uid=1346, iid=592, r_ui=4.0, est=3.1951020109668242, details={'was_impossible': False}),\n",
              " Prediction(uid=2565, iid=2473, r_ui=4.0, est=2.9095543795492924, details={'was_impossible': False}),\n",
              " Prediction(uid=4510, iid=944, r_ui=3.0, est=3.3055210440111846, details={'was_impossible': False}),\n",
              " Prediction(uid=1131, iid=1204, r_ui=5.0, est=5, details={'was_impossible': False}),\n",
              " Prediction(uid=4794, iid=2683, r_ui=5.0, est=3.8507727808880543, details={'was_impossible': False}),\n",
              " Prediction(uid=4055, iid=2023, r_ui=4.0, est=2.4102550730608074, details={'was_impossible': False}),\n",
              " Prediction(uid=5394, iid=724, r_ui=3.0, est=2.936506738249903, details={'was_impossible': False}),\n",
              " Prediction(uid=3836, iid=1717, r_ui=2.0, est=2.701290141804119, details={'was_impossible': False}),\n",
              " Prediction(uid=2168, iid=1500, r_ui=5.0, est=3.9273684962061304, details={'was_impossible': False}),\n",
              " Prediction(uid=1860, iid=1271, r_ui=3.0, est=3.166307855577567, details={'was_impossible': False}),\n",
              " Prediction(uid=5023, iid=3183, r_ui=4.0, est=3.241436213554449, details={'was_impossible': False}),\n",
              " Prediction(uid=122, iid=2692, r_ui=4.0, est=3.649591223388213, details={'was_impossible': False}),\n",
              " Prediction(uid=4277, iid=2410, r_ui=4.0, est=3.88774002015798, details={'was_impossible': False}),\n",
              " Prediction(uid=5886, iid=1197, r_ui=5.0, est=4.219560876303342, details={'was_impossible': False}),\n",
              " Prediction(uid=4838, iid=1064, r_ui=4.0, est=3.1389178593779246, details={'was_impossible': False}),\n",
              " Prediction(uid=2913, iid=1596, r_ui=4.0, est=3.859537738107083, details={'was_impossible': False}),\n",
              " Prediction(uid=5523, iid=34, r_ui=4.0, est=3.577059757612517, details={'was_impossible': False}),\n",
              " Prediction(uid=4940, iid=3099, r_ui=4.0, est=3.4623089169618626, details={'was_impossible': False}),\n",
              " Prediction(uid=4169, iid=750, r_ui=5.0, est=4.608461364864667, details={'was_impossible': False}),\n",
              " Prediction(uid=3842, iid=317, r_ui=3.0, est=2.8252869050655565, details={'was_impossible': False}),\n",
              " Prediction(uid=5367, iid=784, r_ui=1.0, est=2.6829870683609407, details={'was_impossible': False}),\n",
              " Prediction(uid=2073, iid=272, r_ui=4.0, est=3.702450349474763, details={'was_impossible': False}),\n",
              " Prediction(uid=2443, iid=3157, r_ui=2.0, est=3.401937284065118, details={'was_impossible': False}),\n",
              " Prediction(uid=1984, iid=2144, r_ui=3.0, est=3.462698678114374, details={'was_impossible': False}),\n",
              " Prediction(uid=5971, iid=2436, r_ui=4.0, est=3.4075487682607553, details={'was_impossible': False}),\n",
              " Prediction(uid=5482, iid=1635, r_ui=4.0, est=3.7428724669180635, details={'was_impossible': False}),\n",
              " Prediction(uid=673, iid=778, r_ui=5.0, est=3.9485754131046873, details={'was_impossible': False}),\n",
              " Prediction(uid=3521, iid=1131, r_ui=4.0, est=4.0935599882965255, details={'was_impossible': False}),\n",
              " Prediction(uid=6012, iid=2712, r_ui=4.0, est=2.763972163431014, details={'was_impossible': False}),\n",
              " Prediction(uid=4054, iid=1257, r_ui=3.0, est=3.8640861698684477, details={'was_impossible': False}),\n",
              " Prediction(uid=4888, iid=1304, r_ui=5.0, est=4.261804869333176, details={'was_impossible': False}),\n",
              " Prediction(uid=3573, iid=2662, r_ui=3.0, est=3.5617361867632304, details={'was_impossible': False}),\n",
              " Prediction(uid=4568, iid=3720, r_ui=5.0, est=3.7573348461305893, details={'was_impossible': False}),\n",
              " Prediction(uid=2909, iid=423, r_ui=4.0, est=3.7002407999375695, details={'was_impossible': False}),\n",
              " Prediction(uid=531, iid=87, r_ui=2.0, est=2.0153207854253306, details={'was_impossible': False}),\n",
              " Prediction(uid=5511, iid=1240, r_ui=5.0, est=4.834224418166781, details={'was_impossible': False}),\n",
              " Prediction(uid=2611, iid=1777, r_ui=3.0, est=3.503837727573441, details={'was_impossible': False}),\n",
              " Prediction(uid=3971, iid=1358, r_ui=4.0, est=3.877165545483462, details={'was_impossible': False}),\n",
              " Prediction(uid=5433, iid=832, r_ui=3.0, est=3.2135410924401526, details={'was_impossible': False}),\n",
              " Prediction(uid=1861, iid=1299, r_ui=4.0, est=3.906104312939756, details={'was_impossible': False}),\n",
              " Prediction(uid=778, iid=3418, r_ui=2.0, est=3.646677352429668, details={'was_impossible': False}),\n",
              " Prediction(uid=2670, iid=923, r_ui=5.0, est=4.234775266147761, details={'was_impossible': False}),\n",
              " Prediction(uid=1224, iid=1589, r_ui=4.0, est=3.1241111807275765, details={'was_impossible': False}),\n",
              " Prediction(uid=1579, iid=3730, r_ui=4.0, est=3.8565648162647523, details={'was_impossible': False}),\n",
              " Prediction(uid=3031, iid=3386, r_ui=4.0, est=4.332486243993891, details={'was_impossible': False}),\n",
              " Prediction(uid=2032, iid=2495, r_ui=1.0, est=3.549612864736176, details={'was_impossible': False}),\n",
              " Prediction(uid=2059, iid=1580, r_ui=2.0, est=3.298003715646809, details={'was_impossible': False}),\n",
              " Prediction(uid=3499, iid=1198, r_ui=5.0, est=4.605826469675938, details={'was_impossible': False}),\n",
              " Prediction(uid=4106, iid=2997, r_ui=5.0, est=3.0951239034575195, details={'was_impossible': False}),\n",
              " Prediction(uid=457, iid=555, r_ui=3.0, est=4.014032327842873, details={'was_impossible': False}),\n",
              " Prediction(uid=3339, iid=2966, r_ui=4.0, est=4.281690405934806, details={'was_impossible': False}),\n",
              " Prediction(uid=999, iid=1958, r_ui=4.0, est=2.894498859535301, details={'was_impossible': False}),\n",
              " Prediction(uid=2928, iid=1502, r_ui=4.0, est=3.3664597557092764, details={'was_impossible': False}),\n",
              " Prediction(uid=4169, iid=3586, r_ui=3.0, est=3.559888139712779, details={'was_impossible': False}),\n",
              " Prediction(uid=1737, iid=2059, r_ui=4.0, est=3.22212659437449, details={'was_impossible': False}),\n",
              " Prediction(uid=424, iid=1252, r_ui=5.0, est=4.728701144352708, details={'was_impossible': False}),\n",
              " Prediction(uid=4238, iid=2815, r_ui=2.0, est=2.2242228478513186, details={'was_impossible': False}),\n",
              " Prediction(uid=5463, iid=1032, r_ui=3.0, est=3.7946568092904145, details={'was_impossible': False}),\n",
              " Prediction(uid=1920, iid=1367, r_ui=3.0, est=3.549122290931747, details={'was_impossible': False}),\n",
              " Prediction(uid=4729, iid=1948, r_ui=4.0, est=4.624618044659921, details={'was_impossible': False}),\n",
              " Prediction(uid=2106, iid=3591, r_ui=2.0, est=2.3679189631935516, details={'was_impossible': False}),\n",
              " Prediction(uid=649, iid=3864, r_ui=4.0, est=2.722058090989095, details={'was_impossible': False}),\n",
              " Prediction(uid=1547, iid=1246, r_ui=5.0, est=4.345759268773312, details={'was_impossible': False}),\n",
              " Prediction(uid=1932, iid=2599, r_ui=5.0, est=4.067071949137898, details={'was_impossible': False}),\n",
              " Prediction(uid=3729, iid=457, r_ui=5.0, est=4.801992080470342, details={'was_impossible': False}),\n",
              " Prediction(uid=4587, iid=3717, r_ui=3.0, est=1.9649437684061353, details={'was_impossible': False}),\n",
              " Prediction(uid=5736, iid=930, r_ui=3.0, est=4.523922182174939, details={'was_impossible': False}),\n",
              " Prediction(uid=2402, iid=2950, r_ui=1.0, est=2.007175440362226, details={'was_impossible': False}),\n",
              " Prediction(uid=5615, iid=2496, r_ui=3.0, est=3.310473641339278, details={'was_impossible': False}),\n",
              " Prediction(uid=1263, iid=2710, r_ui=4.0, est=2.8327554894649714, details={'was_impossible': False}),\n",
              " Prediction(uid=1591, iid=1296, r_ui=5.0, est=4.498753769376366, details={'was_impossible': False}),\n",
              " Prediction(uid=1009, iid=2504, r_ui=3.0, est=3.209870421893268, details={'was_impossible': False}),\n",
              " Prediction(uid=1285, iid=6, r_ui=5.0, est=4.222801341988788, details={'was_impossible': False}),\n",
              " Prediction(uid=3724, iid=908, r_ui=5.0, est=4.150843989935696, details={'was_impossible': False}),\n",
              " Prediction(uid=2342, iid=3481, r_ui=2.0, est=4.06982392542819, details={'was_impossible': False}),\n",
              " Prediction(uid=415, iid=1374, r_ui=4.0, est=3.946879500576021, details={'was_impossible': False}),\n",
              " Prediction(uid=500, iid=2863, r_ui=5.0, est=4.309524221275079, details={'was_impossible': False}),\n",
              " Prediction(uid=1632, iid=2859, r_ui=5.0, est=2.9452295753849715, details={'was_impossible': False}),\n",
              " Prediction(uid=2069, iid=750, r_ui=5.0, est=4.28027250514631, details={'was_impossible': False}),\n",
              " Prediction(uid=4484, iid=941, r_ui=5.0, est=4.561012379097262, details={'was_impossible': False}),\n",
              " Prediction(uid=3990, iid=1266, r_ui=5.0, est=4.59136612614783, details={'was_impossible': False}),\n",
              " Prediction(uid=1758, iid=3256, r_ui=4.0, est=3.535478534379318, details={'was_impossible': False}),\n",
              " Prediction(uid=2368, iid=2858, r_ui=5.0, est=4.453748980434978, details={'was_impossible': False}),\n",
              " Prediction(uid=1812, iid=2478, r_ui=3.0, est=3.68893528981937, details={'was_impossible': False}),\n",
              " Prediction(uid=2888, iid=1089, r_ui=4.0, est=4.163281453865232, details={'was_impossible': False}),\n",
              " Prediction(uid=5090, iid=2003, r_ui=2.0, est=4.000789227844645, details={'was_impossible': False}),\n",
              " Prediction(uid=3459, iid=2916, r_ui=4.0, est=3.646703292918022, details={'was_impossible': False}),\n",
              " Prediction(uid=4169, iid=3436, r_ui=3.0, est=2.783681494867643, details={'was_impossible': False}),\n",
              " Prediction(uid=3746, iid=368, r_ui=5.0, est=3.8778411734001996, details={'was_impossible': False}),\n",
              " Prediction(uid=5553, iid=858, r_ui=5.0, est=4.048107992834268, details={'was_impossible': False}),\n",
              " Prediction(uid=487, iid=1259, r_ui=4.0, est=3.60901636915056, details={'was_impossible': False}),\n",
              " Prediction(uid=3518, iid=586, r_ui=3.0, est=2.8906942364753494, details={'was_impossible': False}),\n",
              " Prediction(uid=194, iid=1753, r_ui=4.0, est=3.4666953284156774, details={'was_impossible': False}),\n",
              " Prediction(uid=1171, iid=3354, r_ui=5.0, est=2.8570185140121973, details={'was_impossible': False}),\n",
              " Prediction(uid=2321, iid=1089, r_ui=5.0, est=3.5177973248998033, details={'was_impossible': False}),\n",
              " Prediction(uid=4271, iid=2693, r_ui=2.0, est=3.2120630428401995, details={'was_impossible': False}),\n",
              " Prediction(uid=753, iid=783, r_ui=3.0, est=3.491822183706907, details={'was_impossible': False}),\n",
              " Prediction(uid=5792, iid=1694, r_ui=3.0, est=4.0779096966081, details={'was_impossible': False}),\n",
              " Prediction(uid=3431, iid=1183, r_ui=5.0, est=3.9434681893612935, details={'was_impossible': False}),\n",
              " Prediction(uid=1846, iid=162, r_ui=4.0, est=4.036023869180554, details={'was_impossible': False}),\n",
              " Prediction(uid=505, iid=1258, r_ui=4.0, est=4.608742683896259, details={'was_impossible': False}),\n",
              " Prediction(uid=1266, iid=783, r_ui=4.0, est=3.144930518355426, details={'was_impossible': False}),\n",
              " Prediction(uid=781, iid=1544, r_ui=2.0, est=2.2476229504288026, details={'was_impossible': False}),\n",
              " Prediction(uid=1448, iid=319, r_ui=5.0, est=4.238841108898951, details={'was_impossible': False}),\n",
              " Prediction(uid=4305, iid=2594, r_ui=4.0, est=4.231571594736325, details={'was_impossible': False}),\n",
              " Prediction(uid=4430, iid=306, r_ui=3.0, est=3.739203492739516, details={'was_impossible': False}),\n",
              " Prediction(uid=2847, iid=3257, r_ui=1.0, est=1.543309326557556, details={'was_impossible': False}),\n",
              " Prediction(uid=52, iid=1552, r_ui=4.0, est=3.8680562488049697, details={'was_impossible': False}),\n",
              " Prediction(uid=3562, iid=2485, r_ui=3.0, est=3.0504374920806403, details={'was_impossible': False}),\n",
              " Prediction(uid=850, iid=3404, r_ui=3.0, est=3.113612949726385, details={'was_impossible': False}),\n",
              " Prediction(uid=649, iid=3006, r_ui=4.0, est=4.246128207569776, details={'was_impossible': False}),\n",
              " Prediction(uid=714, iid=1967, r_ui=5.0, est=4.100455580639643, details={'was_impossible': False}),\n",
              " Prediction(uid=3769, iid=1747, r_ui=5.0, est=4.01489292764022, details={'was_impossible': False}),\n",
              " Prediction(uid=5877, iid=3300, r_ui=4.0, est=3.6112252266580196, details={'was_impossible': False}),\n",
              " Prediction(uid=567, iid=3479, r_ui=5.0, est=4.539232791864255, details={'was_impossible': False}),\n",
              " Prediction(uid=4401, iid=877, r_ui=2.0, est=3.228381636456952, details={'was_impossible': False}),\n",
              " Prediction(uid=2181, iid=551, r_ui=4.0, est=3.9423975721899676, details={'was_impossible': False}),\n",
              " Prediction(uid=1203, iid=2294, r_ui=4.0, est=3.6621702776063922, details={'was_impossible': False}),\n",
              " Prediction(uid=5636, iid=1805, r_ui=2.0, est=2.9414806872169588, details={'was_impossible': False}),\n",
              " Prediction(uid=1448, iid=2012, r_ui=4.0, est=3.7460132394729944, details={'was_impossible': False}),\n",
              " Prediction(uid=4448, iid=110, r_ui=4.0, est=5, details={'was_impossible': False}),\n",
              " Prediction(uid=4407, iid=2334, r_ui=2.0, est=3.039838946332804, details={'was_impossible': False}),\n",
              " Prediction(uid=1753, iid=759, r_ui=5.0, est=4.616115177822872, details={'was_impossible': False}),\n",
              " Prediction(uid=1795, iid=541, r_ui=4.0, est=4.8471203625416335, details={'was_impossible': False}),\n",
              " Prediction(uid=2771, iid=1488, r_ui=2.0, est=2.226758155919256, details={'was_impossible': False}),\n",
              " Prediction(uid=737, iid=3471, r_ui=2.0, est=3.577897700139122, details={'was_impossible': False}),\n",
              " Prediction(uid=782, iid=3510, r_ui=4.0, est=3.5974435355089307, details={'was_impossible': False}),\n",
              " Prediction(uid=314, iid=3730, r_ui=5.0, est=3.460081540324964, details={'was_impossible': False}),\n",
              " Prediction(uid=1019, iid=3809, r_ui=4.0, est=2.9600596468496443, details={'was_impossible': False}),\n",
              " Prediction(uid=3115, iid=2628, r_ui=3.0, est=3.0303495115117944, details={'was_impossible': False}),\n",
              " Prediction(uid=5185, iid=145, r_ui=4.0, est=3.1633842329648996, details={'was_impossible': False}),\n",
              " Prediction(uid=6033, iid=2628, r_ui=4.0, est=3.8747481047106676, details={'was_impossible': False}),\n",
              " Prediction(uid=148, iid=3389, r_ui=3.0, est=3.1846038270645285, details={'was_impossible': False}),\n",
              " Prediction(uid=4085, iid=902, r_ui=5.0, est=3.563856144689078, details={'was_impossible': False}),\n",
              " Prediction(uid=3118, iid=1375, r_ui=3.0, est=2.9026460799745974, details={'was_impossible': False}),\n",
              " Prediction(uid=5037, iid=1641, r_ui=4.0, est=4.059561110950722, details={'was_impossible': False}),\n",
              " Prediction(uid=4561, iid=1367, r_ui=3.0, est=3.5856326864669916, details={'was_impossible': False}),\n",
              " Prediction(uid=3342, iid=2959, r_ui=3.0, est=3.8001697556547036, details={'was_impossible': False}),\n",
              " Prediction(uid=2753, iid=1357, r_ui=4.0, est=3.4023843579648436, details={'was_impossible': False}),\n",
              " Prediction(uid=3608, iid=2390, r_ui=2.0, est=4.017248527933072, details={'was_impossible': False}),\n",
              " Prediction(uid=4238, iid=176, r_ui=4.0, est=4.006132408363784, details={'was_impossible': False}),\n",
              " Prediction(uid=2962, iid=2110, r_ui=3.0, est=2.5081231420985284, details={'was_impossible': False}),\n",
              " Prediction(uid=4802, iid=2762, r_ui=5.0, est=4.526181775301345, details={'was_impossible': False}),\n",
              " Prediction(uid=3955, iid=387, r_ui=4.0, est=3.0785847631183763, details={'was_impossible': False}),\n",
              " Prediction(uid=5869, iid=1, r_ui=3.0, est=4.07479713045019, details={'was_impossible': False}),\n",
              " Prediction(uid=48, iid=3763, r_ui=2.0, est=3.111333367039798, details={'was_impossible': False}),\n",
              " Prediction(uid=2290, iid=1721, r_ui=4.0, est=3.4414445426697493, details={'was_impossible': False}),\n",
              " Prediction(uid=2348, iid=2851, r_ui=3.0, est=2.0344015605082757, details={'was_impossible': False}),\n",
              " Prediction(uid=1286, iid=1094, r_ui=5.0, est=3.6254662897998142, details={'was_impossible': False}),\n",
              " Prediction(uid=2914, iid=36, r_ui=5.0, est=4.494295352445858, details={'was_impossible': False}),\n",
              " Prediction(uid=4662, iid=2359, r_ui=3.0, est=3.0456000763801714, details={'was_impossible': False}),\n",
              " Prediction(uid=1155, iid=2883, r_ui=4.0, est=3.2306308084260515, details={'was_impossible': False}),\n",
              " Prediction(uid=3476, iid=3330, r_ui=5.0, est=3.4969688295319536, details={'was_impossible': False}),\n",
              " Prediction(uid=1733, iid=492, r_ui=4.0, est=4.120256647577465, details={'was_impossible': False}),\n",
              " Prediction(uid=2483, iid=1283, r_ui=5.0, est=3.8824228903869717, details={'was_impossible': False}),\n",
              " Prediction(uid=3942, iid=2078, r_ui=3.0, est=2.6364053989325535, details={'was_impossible': False}),\n",
              " Prediction(uid=3858, iid=3249, r_ui=2.0, est=3.9087694973285005, details={'was_impossible': False}),\n",
              " Prediction(uid=3314, iid=1407, r_ui=4.0, est=3.9393981895685743, details={'was_impossible': False}),\n",
              " Prediction(uid=4918, iid=2278, r_ui=2.0, est=3.453572233431913, details={'was_impossible': False}),\n",
              " Prediction(uid=2765, iid=2948, r_ui=3.0, est=3.9640938581495084, details={'was_impossible': False}),\n",
              " Prediction(uid=5686, iid=587, r_ui=1.0, est=2.0038397990401355, details={'was_impossible': False}),\n",
              " Prediction(uid=2456, iid=1591, r_ui=1.0, est=2.4009943524966446, details={'was_impossible': False}),\n",
              " Prediction(uid=5107, iid=1214, r_ui=4.0, est=3.0955854851658082, details={'was_impossible': False}),\n",
              " Prediction(uid=1396, iid=1875, r_ui=4.0, est=3.4822523551115254, details={'was_impossible': False}),\n",
              " Prediction(uid=2638, iid=2409, r_ui=3.0, est=2.668939011514588, details={'was_impossible': False}),\n",
              " Prediction(uid=3476, iid=3013, r_ui=1.0, est=2.0142505494356198, details={'was_impossible': False}),\n",
              " Prediction(uid=331, iid=150, r_ui=4.0, est=4.440357713216982, details={'was_impossible': False}),\n",
              " Prediction(uid=5111, iid=2313, r_ui=5.0, est=4.226862616500066, details={'was_impossible': False}),\n",
              " Prediction(uid=2529, iid=2761, r_ui=5.0, est=3.7513785630824614, details={'was_impossible': False}),\n",
              " Prediction(uid=3130, iid=2580, r_ui=4.0, est=3.732758274375018, details={'was_impossible': False}),\n",
              " Prediction(uid=5788, iid=453, r_ui=3.0, est=2.762774950372126, details={'was_impossible': False}),\n",
              " Prediction(uid=2461, iid=2628, r_ui=3.0, est=3.2105311723594063, details={'was_impossible': False}),\n",
              " Prediction(uid=3261, iid=58, r_ui=4.0, est=4.453387606676726, details={'was_impossible': False}),\n",
              " Prediction(uid=3001, iid=1200, r_ui=5.0, est=4.588893948915448, details={'was_impossible': False}),\n",
              " Prediction(uid=2316, iid=508, r_ui=4.0, est=4.228625534879861, details={'was_impossible': False}),\n",
              " Prediction(uid=5884, iid=592, r_ui=5.0, est=3.037095013234114, details={'was_impossible': False}),\n",
              " Prediction(uid=1812, iid=3786, r_ui=5.0, est=4.213185507061987, details={'was_impossible': False}),\n",
              " Prediction(uid=5916, iid=3035, r_ui=5.0, est=3.9198531988951326, details={'was_impossible': False}),\n",
              " Prediction(uid=4030, iid=2942, r_ui=2.0, est=2.766296904643546, details={'was_impossible': False}),\n",
              " Prediction(uid=1396, iid=912, r_ui=3.0, est=4.190855739213182, details={'was_impossible': False}),\n",
              " Prediction(uid=5682, iid=1616, r_ui=2.0, est=3.263875192610913, details={'was_impossible': False}),\n",
              " Prediction(uid=1294, iid=661, r_ui=4.0, est=3.8223951383996235, details={'was_impossible': False}),\n",
              " Prediction(uid=5011, iid=329, r_ui=3.0, est=3.6676629935434284, details={'was_impossible': False}),\n",
              " Prediction(uid=5366, iid=47, r_ui=5.0, est=3.8742828762371286, details={'was_impossible': False}),\n",
              " Prediction(uid=2627, iid=2858, r_ui=5.0, est=4.105464171083078, details={'was_impossible': False}),\n",
              " Prediction(uid=1812, iid=2496, r_ui=3.0, est=3.7506586399033703, details={'was_impossible': False}),\n",
              " Prediction(uid=1594, iid=905, r_ui=4.0, est=4.26684636536601, details={'was_impossible': False}),\n",
              " Prediction(uid=5222, iid=2640, r_ui=3.0, est=2.423420044544729, details={'was_impossible': False}),\n",
              " Prediction(uid=3764, iid=2382, r_ui=1.0, est=1.7301976633033038, details={'was_impossible': False}),\n",
              " Prediction(uid=4521, iid=1527, r_ui=4.0, est=3.306513106526513, details={'was_impossible': False}),\n",
              " Prediction(uid=4207, iid=1942, r_ui=5.0, est=4.422717858465508, details={'was_impossible': False}),\n",
              " Prediction(uid=3224, iid=185, r_ui=4.0, est=3.111310677038848, details={'was_impossible': False}),\n",
              " Prediction(uid=1733, iid=1391, r_ui=3.0, est=3.251799978355465, details={'was_impossible': False}),\n",
              " Prediction(uid=629, iid=1021, r_ui=4.0, est=3.565389482947157, details={'was_impossible': False}),\n",
              " Prediction(uid=101, iid=3082, r_ui=5.0, est=4.805830933261577, details={'was_impossible': False}),\n",
              " Prediction(uid=1168, iid=3566, r_ui=3.0, est=3.2102805561142906, details={'was_impossible': False}),\n",
              " Prediction(uid=4802, iid=3893, r_ui=3.0, est=3.981935453155359, details={'was_impossible': False}),\n",
              " Prediction(uid=1557, iid=1097, r_ui=5.0, est=4.561163050249471, details={'was_impossible': False}),\n",
              " Prediction(uid=4021, iid=2991, r_ui=4.0, est=3.257689853005112, details={'was_impossible': False}),\n",
              " Prediction(uid=5184, iid=1484, r_ui=4.0, est=4.662793234342238, details={'was_impossible': False}),\n",
              " Prediction(uid=3993, iid=1, r_ui=2.0, est=2.932840937220749, details={'was_impossible': False}),\n",
              " Prediction(uid=4699, iid=2807, r_ui=1.0, est=2.014584813457218, details={'was_impossible': False}),\n",
              " Prediction(uid=3140, iid=2006, r_ui=4.0, est=4.116862387216643, details={'was_impossible': False}),\n",
              " Prediction(uid=4089, iid=1124, r_ui=3.0, est=4.2239766555903815, details={'was_impossible': False}),\n",
              " Prediction(uid=3074, iid=3618, r_ui=4.0, est=3.786041682468465, details={'was_impossible': False}),\n",
              " Prediction(uid=5783, iid=357, r_ui=3.0, est=4.322833690326729, details={'was_impossible': False}),\n",
              " Prediction(uid=3292, iid=3543, r_ui=4.0, est=4.517990319680565, details={'was_impossible': False}),\n",
              " Prediction(uid=3976, iid=150, r_ui=4.0, est=4.317526457024579, details={'was_impossible': False}),\n",
              " Prediction(uid=3756, iid=1198, r_ui=5.0, est=4.7887016040547765, details={'was_impossible': False}),\n",
              " Prediction(uid=4608, iid=1500, r_ui=4.0, est=4.02507035278519, details={'was_impossible': False}),\n",
              " Prediction(uid=1054, iid=1527, r_ui=5.0, est=3.8530741010505833, details={'was_impossible': False}),\n",
              " Prediction(uid=4452, iid=3159, r_ui=5.0, est=3.4931906956555125, details={'was_impossible': False}),\n",
              " Prediction(uid=5335, iid=1127, r_ui=4.0, est=3.6150636319006453, details={'was_impossible': False}),\n",
              " Prediction(uid=2924, iid=3114, r_ui=5.0, est=4.544515096830014, details={'was_impossible': False}),\n",
              " Prediction(uid=3358, iid=1127, r_ui=4.0, est=3.8579739187168185, details={'was_impossible': False}),\n",
              " Prediction(uid=4007, iid=2375, r_ui=2.0, est=2.3708197342485113, details={'was_impossible': False}),\n",
              " Prediction(uid=4344, iid=1379, r_ui=3.0, est=1.517854100205838, details={'was_impossible': False}),\n",
              " Prediction(uid=2880, iid=348, r_ui=4.0, est=3.2498679410518116, details={'was_impossible': False}),\n",
              " Prediction(uid=1124, iid=1278, r_ui=5.0, est=4.56596911249726, details={'was_impossible': False}),\n",
              " Prediction(uid=181, iid=173, r_ui=1.0, est=2.123149230902169, details={'was_impossible': False}),\n",
              " Prediction(uid=352, iid=7, r_ui=3.0, est=3.4053668967430943, details={'was_impossible': False}),\n",
              " Prediction(uid=360, iid=2355, r_ui=4.0, est=3.62591092393908, details={'was_impossible': False}),\n",
              " Prediction(uid=1442, iid=671, r_ui=2.0, est=3.467247024526892, details={'was_impossible': False}),\n",
              " Prediction(uid=5449, iid=2987, r_ui=4.0, est=4.092362892704901, details={'was_impossible': False}),\n",
              " Prediction(uid=2926, iid=497, r_ui=4.0, est=4.050262388632659, details={'was_impossible': False}),\n",
              " Prediction(uid=699, iid=318, r_ui=5.0, est=4.245254927186285, details={'was_impossible': False}),\n",
              " Prediction(uid=5482, iid=480, r_ui=4.0, est=4.034222776400692, details={'was_impossible': False}),\n",
              " Prediction(uid=3353, iid=2427, r_ui=3.0, est=3.8004433148354786, details={'was_impossible': False}),\n",
              " Prediction(uid=5329, iid=1101, r_ui=3.0, est=3.6775800236953486, details={'was_impossible': False}),\n",
              " Prediction(uid=2334, iid=261, r_ui=4.0, est=3.9975933487786617, details={'was_impossible': False}),\n",
              " Prediction(uid=1112, iid=1293, r_ui=5.0, est=4.568876990099494, details={'was_impossible': False}),\n",
              " Prediction(uid=2157, iid=912, r_ui=5.0, est=4.057766642616122, details={'was_impossible': False}),\n",
              " Prediction(uid=4381, iid=2428, r_ui=2.0, est=2.303918847647245, details={'was_impossible': False}),\n",
              " Prediction(uid=5041, iid=1036, r_ui=4.0, est=4.496249644265069, details={'was_impossible': False}),\n",
              " Prediction(uid=3997, iid=3639, r_ui=5.0, est=4.437492545977622, details={'was_impossible': False}),\n",
              " Prediction(uid=3562, iid=1036, r_ui=5.0, est=4.56134680682465, details={'was_impossible': False}),\n",
              " Prediction(uid=1220, iid=2042, r_ui=3.0, est=2.8484336445077627, details={'was_impossible': False}),\n",
              " Prediction(uid=4520, iid=3623, r_ui=3.0, est=3.525192391993124, details={'was_impossible': False}),\n",
              " Prediction(uid=2989, iid=1611, r_ui=2.0, est=3.7274451613165396, details={'was_impossible': False}),\n",
              " Prediction(uid=2491, iid=454, r_ui=4.0, est=3.934252525472733, details={'was_impossible': False}),\n",
              " Prediction(uid=5892, iid=736, r_ui=3.0, est=3.482079726542305, details={'was_impossible': False}),\n",
              " Prediction(uid=1249, iid=1206, r_ui=4.0, est=4.0088446933016, details={'was_impossible': False}),\n",
              " Prediction(uid=1611, iid=2694, r_ui=3.0, est=2.5398472130120586, details={'was_impossible': False}),\n",
              " Prediction(uid=573, iid=2366, r_ui=1.0, est=3.6590687458885784, details={'was_impossible': False}),\n",
              " Prediction(uid=2748, iid=3896, r_ui=1.0, est=2.07308518172847, details={'was_impossible': False}),\n",
              " Prediction(uid=2472, iid=904, r_ui=4.0, est=4.4501847797399625, details={'was_impossible': False}),\n",
              " Prediction(uid=2860, iid=16, r_ui=4.0, est=3.9920597111506697, details={'was_impossible': False}),\n",
              " Prediction(uid=4227, iid=2520, r_ui=3.0, est=2.324821838880654, details={'was_impossible': False}),\n",
              " Prediction(uid=1219, iid=589, r_ui=4.0, est=4.248705102943882, details={'was_impossible': False}),\n",
              " Prediction(uid=5950, iid=2423, r_ui=2.0, est=2.7246076776228194, details={'was_impossible': False}),\n",
              " Prediction(uid=2146, iid=1221, r_ui=4.0, est=4.37442906169766, details={'was_impossible': False}),\n",
              " Prediction(uid=986, iid=3676, r_ui=5.0, est=3.276659738911437, details={'was_impossible': False}),\n",
              " Prediction(uid=587, iid=1732, r_ui=5.0, est=3.3469351515680525, details={'was_impossible': False}),\n",
              " Prediction(uid=4215, iid=3006, r_ui=5.0, est=4.316016578879393, details={'was_impossible': False}),\n",
              " Prediction(uid=4568, iid=3219, r_ui=3.0, est=3.5179242525792884, details={'was_impossible': False}),\n",
              " Prediction(uid=881, iid=3753, r_ui=1.0, est=2.568553710431523, details={'was_impossible': False}),\n",
              " Prediction(uid=1843, iid=1077, r_ui=4.0, est=3.989744596250674, details={'was_impossible': False}),\n",
              " Prediction(uid=5620, iid=3552, r_ui=4.0, est=3.5313620657844025, details={'was_impossible': False}),\n",
              " Prediction(uid=3228, iid=2628, r_ui=4.0, est=2.8795095332867047, details={'was_impossible': False}),\n",
              " Prediction(uid=656, iid=3629, r_ui=4.0, est=4.388775697598362, details={'was_impossible': False}),\n",
              " Prediction(uid=4610, iid=2174, r_ui=4.0, est=3.8083080005731382, details={'was_impossible': False}),\n",
              " Prediction(uid=744, iid=2720, r_ui=1.0, est=2.4313510191231864, details={'was_impossible': False}),\n",
              " Prediction(uid=3682, iid=3359, r_ui=5.0, est=4.573899584711615, details={'was_impossible': False}),\n",
              " Prediction(uid=1804, iid=3285, r_ui=2.0, est=2.3378542722819033, details={'was_impossible': False}),\n",
              " Prediction(uid=2895, iid=3733, r_ui=4.0, est=4.019532549016623, details={'was_impossible': False}),\n",
              " Prediction(uid=111, iid=497, r_ui=4.0, est=4.113476683504455, details={'was_impossible': False}),\n",
              " Prediction(uid=4227, iid=3584, r_ui=1.0, est=1.913179870659252, details={'was_impossible': False}),\n",
              " Prediction(uid=1389, iid=788, r_ui=3.0, est=2.638884201332756, details={'was_impossible': False}),\n",
              " Prediction(uid=1137, iid=3185, r_ui=3.0, est=3.8081507012719404, details={'was_impossible': False}),\n",
              " Prediction(uid=4028, iid=2935, r_ui=1.0, est=3.5149078362551887, details={'was_impossible': False}),\n",
              " Prediction(uid=3842, iid=3671, r_ui=1.0, est=3.6327096116634374, details={'was_impossible': False}),\n",
              " Prediction(uid=279, iid=1233, r_ui=4.0, est=3.590606401595004, details={'was_impossible': False}),\n",
              " Prediction(uid=5831, iid=2412, r_ui=3.0, est=2.2475204834910594, details={'was_impossible': False}),\n",
              " Prediction(uid=4024, iid=412, r_ui=3.0, est=3.256118558429758, details={'was_impossible': False}),\n",
              " Prediction(uid=4448, iid=3347, r_ui=4.0, est=4.717857420443104, details={'was_impossible': False}),\n",
              " Prediction(uid=3321, iid=1288, r_ui=4.0, est=4.156407580942396, details={'was_impossible': False}),\n",
              " Prediction(uid=5085, iid=909, r_ui=5.0, est=4.568338452703846, details={'was_impossible': False}),\n",
              " Prediction(uid=3499, iid=1431, r_ui=1.0, est=2.2447458047122852, details={'was_impossible': False}),\n",
              " Prediction(uid=1380, iid=293, r_ui=4.0, est=4.070591919169692, details={'was_impossible': False}),\n",
              " Prediction(uid=259, iid=318, r_ui=5.0, est=4.672066930742237, details={'was_impossible': False}),\n",
              " Prediction(uid=2529, iid=256, r_ui=4.0, est=3.7357205290588604, details={'was_impossible': False}),\n",
              " Prediction(uid=3297, iid=551, r_ui=2.0, est=3.433069769809831, details={'was_impossible': False}),\n",
              " Prediction(uid=4800, iid=527, r_ui=5.0, est=4.604271244829833, details={'was_impossible': False}),\n",
              " Prediction(uid=201, iid=1888, r_ui=4.0, est=3.387019359272606, details={'was_impossible': False}),\n",
              " Prediction(uid=5847, iid=383, r_ui=3.0, est=3.813343332543004, details={'was_impossible': False}),\n",
              " Prediction(uid=6006, iid=2797, r_ui=3.0, est=3.5412555858310486, details={'was_impossible': False}),\n",
              " Prediction(uid=1733, iid=1704, r_ui=5.0, est=4.1796294073567655, details={'was_impossible': False}),\n",
              " Prediction(uid=4060, iid=3448, r_ui=4.0, est=3.75356734535253, details={'was_impossible': False}),\n",
              " Prediction(uid=5956, iid=2803, r_ui=4.0, est=3.1610778225703475, details={'was_impossible': False}),\n",
              " Prediction(uid=3705, iid=110, r_ui=4.0, est=4.064702952994534, details={'was_impossible': False}),\n",
              " Prediction(uid=1675, iid=3770, r_ui=2.0, est=4.091714454049816, details={'was_impossible': False}),\n",
              " Prediction(uid=5490, iid=1407, r_ui=3.0, est=3.424763482656502, details={'was_impossible': False}),\n",
              " Prediction(uid=1340, iid=1858, r_ui=1.0, est=1.5530500468163764, details={'was_impossible': False}),\n",
              " Prediction(uid=3426, iid=3147, r_ui=3.0, est=3.7175066870263462, details={'was_impossible': False}),\n",
              " Prediction(uid=2529, iid=3196, r_ui=4.0, est=4.457150889521422, details={'was_impossible': False}),\n",
              " Prediction(uid=1758, iid=1653, r_ui=3.0, est=3.636950955150772, details={'was_impossible': False}),\n",
              " Prediction(uid=1889, iid=2502, r_ui=3.0, est=3.8913276883669545, details={'was_impossible': False}),\n",
              " Prediction(uid=199, iid=2702, r_ui=3.0, est=2.710098761230212, details={'was_impossible': False}),\n",
              " Prediction(uid=4506, iid=2524, r_ui=2.0, est=3.210466408665323, details={'was_impossible': False}),\n",
              " Prediction(uid=1592, iid=1297, r_ui=3.0, est=3.668706732918531, details={'was_impossible': False}),\n",
              " Prediction(uid=5576, iid=3157, r_ui=5.0, est=4.088067356283743, details={'was_impossible': False}),\n",
              " Prediction(uid=2223, iid=2707, r_ui=3.0, est=2.7917196057063416, details={'was_impossible': False}),\n",
              " Prediction(uid=4675, iid=2580, r_ui=5.0, est=4.160540933916279, details={'was_impossible': False}),\n",
              " Prediction(uid=1021, iid=1953, r_ui=5.0, est=4.782460758058613, details={'was_impossible': False}),\n",
              " Prediction(uid=1632, iid=111, r_ui=4.0, est=3.95562024143998, details={'was_impossible': False}),\n",
              " Prediction(uid=5043, iid=2671, r_ui=5.0, est=4.277996508583082, details={'was_impossible': False}),\n",
              " Prediction(uid=2164, iid=2313, r_ui=5.0, est=4.229118431237804, details={'was_impossible': False}),\n",
              " Prediction(uid=820, iid=1374, r_ui=5.0, est=3.9307222710950738, details={'was_impossible': False}),\n",
              " Prediction(uid=5558, iid=3054, r_ui=1.0, est=1.0224779022094181, details={'was_impossible': False}),\n",
              " Prediction(uid=2581, iid=2279, r_ui=1.0, est=2.8809837554892366, details={'was_impossible': False}),\n",
              " Prediction(uid=1981, iid=2454, r_ui=2.0, est=2.805286174439606, details={'was_impossible': False}),\n",
              " Prediction(uid=1764, iid=548, r_ui=3.0, est=3.9819673158044164, details={'was_impossible': False}),\n",
              " Prediction(uid=3417, iid=2174, r_ui=3.0, est=3.6260702714221815, details={'was_impossible': False}),\n",
              " Prediction(uid=889, iid=2815, r_ui=3.0, est=1.3873417940396036, details={'was_impossible': False}),\n",
              " Prediction(uid=3778, iid=1806, r_ui=2.0, est=2.2195790760929106, details={'was_impossible': False}),\n",
              " Prediction(uid=6006, iid=531, r_ui=1.0, est=3.4656025263717383, details={'was_impossible': False}),\n",
              " Prediction(uid=1209, iid=2003, r_ui=2.0, est=3.0312343103468993, details={'was_impossible': False}),\n",
              " Prediction(uid=5335, iid=2908, r_ui=4.0, est=4.2342132602272615, details={'was_impossible': False}),\n",
              " Prediction(uid=2994, iid=1744, r_ui=3.0, est=2.650020253717354, details={'was_impossible': False}),\n",
              " Prediction(uid=3726, iid=1129, r_ui=4.0, est=3.4307929604504253, details={'was_impossible': False}),\n",
              " Prediction(uid=4535, iid=6, r_ui=4.0, est=4.525213714734086, details={'was_impossible': False}),\n",
              " Prediction(uid=429, iid=592, r_ui=3.0, est=3.072538467011463, details={'was_impossible': False}),\n",
              " Prediction(uid=2124, iid=912, r_ui=5.0, est=5, details={'was_impossible': False}),\n",
              " Prediction(uid=302, iid=2640, r_ui=2.0, est=3.7171257136963223, details={'was_impossible': False}),\n",
              " Prediction(uid=2202, iid=1873, r_ui=5.0, est=3.3485609763806203, details={'was_impossible': False}),\n",
              " Prediction(uid=2261, iid=1054, r_ui=2.0, est=3.4538291721886263, details={'was_impossible': False}),\n",
              " Prediction(uid=1579, iid=1380, r_ui=3.0, est=4.0631647031692335, details={'was_impossible': False}),\n",
              " Prediction(uid=4675, iid=1080, r_ui=5.0, est=4.2663692026558895, details={'was_impossible': False}),\n",
              " Prediction(uid=261, iid=70, r_ui=4.0, est=3.3999057958337557, details={'was_impossible': False}),\n",
              " Prediction(uid=5569, iid=2369, r_ui=3.0, est=3.3692950027688555, details={'was_impossible': False}),\n",
              " Prediction(uid=2988, iid=3578, r_ui=5.0, est=3.9268158233946875, details={'was_impossible': False}),\n",
              " Prediction(uid=4518, iid=21, r_ui=5.0, est=4.455294124753931, details={'was_impossible': False}),\n",
              " Prediction(uid=1680, iid=3508, r_ui=4.0, est=4.131573032459719, details={'was_impossible': False}),\n",
              " Prediction(uid=5558, iid=343, r_ui=1.0, est=1.9129801292170852, details={'was_impossible': False}),\n",
              " Prediction(uid=3361, iid=3203, r_ui=2.0, est=3.763957127730225, details={'was_impossible': False}),\n",
              " Prediction(uid=333, iid=3361, r_ui=2.0, est=3.586530106687163, details={'was_impossible': False}),\n",
              " Prediction(uid=2039, iid=1608, r_ui=3.0, est=3.3865709364744743, details={'was_impossible': False}),\n",
              " Prediction(uid=4303, iid=1243, r_ui=3.0, est=3.7849880796145623, details={'was_impossible': False}),\n",
              " Prediction(uid=5387, iid=468, r_ui=2.0, est=2.9855903099238277, details={'was_impossible': False}),\n",
              " Prediction(uid=1624, iid=2735, r_ui=3.0, est=3.1689594735367965, details={'was_impossible': False}),\n",
              " Prediction(uid=3861, iid=3182, r_ui=5.0, est=3.7571698555225637, details={'was_impossible': False}),\n",
              " Prediction(uid=1704, iid=1291, r_ui=5.0, est=4.773938954882872, details={'was_impossible': False}),\n",
              " Prediction(uid=3208, iid=266, r_ui=5.0, est=3.6130954029917275, details={'was_impossible': False}),\n",
              " Prediction(uid=3736, iid=2028, r_ui=5.0, est=4.866335441787289, details={'was_impossible': False}),\n",
              " Prediction(uid=3967, iid=3552, r_ui=1.0, est=2.9865791665278647, details={'was_impossible': False}),\n",
              " Prediction(uid=2266, iid=3185, r_ui=3.0, est=3.710063819095841, details={'was_impossible': False}),\n",
              " Prediction(uid=5162, iid=2058, r_ui=3.0, est=3.4391564760905715, details={'was_impossible': False}),\n",
              " Prediction(uid=2955, iid=2686, r_ui=3.0, est=3.628146196914869, details={'was_impossible': False}),\n",
              " Prediction(uid=5441, iid=356, r_ui=5.0, est=4.194385935955408, details={'was_impossible': False}),\n",
              " Prediction(uid=1015, iid=2155, r_ui=4.0, est=4.173040491831205, details={'was_impossible': False}),\n",
              " Prediction(uid=3656, iid=3324, r_ui=1.0, est=2.4648059467108947, details={'was_impossible': False}),\n",
              " Prediction(uid=4644, iid=2762, r_ui=3.0, est=3.4635840781777514, details={'was_impossible': False}),\n",
              " Prediction(uid=1591, iid=2795, r_ui=5.0, est=4.220912181636248, details={'was_impossible': False}),\n",
              " Prediction(uid=3101, iid=2709, r_ui=5.0, est=3.5530043248984087, details={'was_impossible': False}),\n",
              " Prediction(uid=3134, iid=2688, r_ui=3.0, est=3.232657650757979, details={'was_impossible': False}),\n",
              " Prediction(uid=2951, iid=296, r_ui=3.0, est=4.537469063040569, details={'was_impossible': False}),\n",
              " Prediction(uid=3744, iid=940, r_ui=5.0, est=3.9353505389342636, details={'was_impossible': False}),\n",
              " Prediction(uid=3389, iid=2353, r_ui=2.0, est=2.8811813703392195, details={'was_impossible': False}),\n",
              " Prediction(uid=3998, iid=1989, r_ui=1.0, est=1.9157054254621486, details={'was_impossible': False}),\n",
              " Prediction(uid=1693, iid=1959, r_ui=5.0, est=3.185880058070042, details={'was_impossible': False}),\n",
              " Prediction(uid=777, iid=2082, r_ui=2.0, est=2.4303602169757164, details={'was_impossible': False}),\n",
              " Prediction(uid=4243, iid=2802, r_ui=4.0, est=3.7614629999437343, details={'was_impossible': False}),\n",
              " Prediction(uid=3888, iid=1219, r_ui=3.0, est=3.775982140337908, details={'was_impossible': False}),\n",
              " Prediction(uid=1631, iid=34, r_ui=5.0, est=4.714200381067189, details={'was_impossible': False}),\n",
              " Prediction(uid=2420, iid=1198, r_ui=5.0, est=4.891968107357279, details={'was_impossible': False}),\n",
              " Prediction(uid=518, iid=2006, r_ui=4.0, est=3.7010634901960646, details={'was_impossible': False}),\n",
              " Prediction(uid=4313, iid=260, r_ui=5.0, est=4.681616403309696, details={'was_impossible': False}),\n",
              " Prediction(uid=1958, iid=507, r_ui=3.0, est=3.2267555767101093, details={'was_impossible': False}),\n",
              " Prediction(uid=1912, iid=1734, r_ui=2.0, est=2.5835828047494998, details={'was_impossible': False}),\n",
              " Prediction(uid=868, iid=1214, r_ui=3.0, est=4.000225282004867, details={'was_impossible': False}),\n",
              " Prediction(uid=1071, iid=2433, r_ui=2.0, est=4.049300492842242, details={'was_impossible': False}),\n",
              " Prediction(uid=190, iid=1186, r_ui=2.0, est=3.275568646920143, details={'was_impossible': False}),\n",
              " Prediction(uid=2742, iid=497, r_ui=4.0, est=3.156015595101152, details={'was_impossible': False}),\n",
              " Prediction(uid=2483, iid=971, r_ui=5.0, est=4.0001402639212245, details={'was_impossible': False}),\n",
              " Prediction(uid=1461, iid=3481, r_ui=2.0, est=4.296571338599206, details={'was_impossible': False}),\n",
              " Prediction(uid=754, iid=3006, r_ui=4.0, est=3.8798944093920915, details={'was_impossible': False}),\n",
              " Prediction(uid=2679, iid=1104, r_ui=5.0, est=3.972490751200237, details={'was_impossible': False}),\n",
              " Prediction(uid=5294, iid=1284, r_ui=5.0, est=4.846497898837701, details={'was_impossible': False}),\n",
              " Prediction(uid=2198, iid=3253, r_ui=4.0, est=3.2795097268514235, details={'was_impossible': False}),\n",
              " Prediction(uid=2852, iid=1642, r_ui=4.0, est=3.799470959162812, details={'was_impossible': False}),\n",
              " Prediction(uid=3845, iid=1077, r_ui=3.0, est=3.9813097812442346, details={'was_impossible': False}),\n",
              " Prediction(uid=1920, iid=2792, r_ui=1.0, est=2.9103583032212352, details={'was_impossible': False}),\n",
              " Prediction(uid=5935, iid=1270, r_ui=4.0, est=3.735657726085961, details={'was_impossible': False}),\n",
              " Prediction(uid=1248, iid=1242, r_ui=4.0, est=3.5434983838259395, details={'was_impossible': False}),\n",
              " Prediction(uid=76, iid=318, r_ui=5.0, est=4.857613727986549, details={'was_impossible': False}),\n",
              " Prediction(uid=1680, iid=3715, r_ui=4.0, est=2.4581693131380398, details={'was_impossible': False}),\n",
              " Prediction(uid=1354, iid=724, r_ui=4.0, est=2.785697137440172, details={'was_impossible': False}),\n",
              " Prediction(uid=1449, iid=1702, r_ui=1.0, est=1.4959878619322422, details={'was_impossible': False}),\n",
              " Prediction(uid=5948, iid=1641, r_ui=4.0, est=4.008901662826219, details={'was_impossible': False}),\n",
              " Prediction(uid=5317, iid=1859, r_ui=1.0, est=4.14137104811972, details={'was_impossible': False}),\n",
              " Prediction(uid=3434, iid=778, r_ui=5.0, est=4.773017453616675, details={'was_impossible': False}),\n",
              " Prediction(uid=2189, iid=2908, r_ui=3.0, est=3.9570531988828557, details={'was_impossible': False}),\n",
              " Prediction(uid=3821, iid=1116, r_ui=4.0, est=2.925247991438295, details={'was_impossible': False}),\n",
              " Prediction(uid=4362, iid=3704, r_ui=4.0, est=2.6174400249782743, details={'was_impossible': False}),\n",
              " Prediction(uid=3834, iid=1753, r_ui=5.0, est=4.717150271344659, details={'was_impossible': False}),\n",
              " Prediction(uid=2282, iid=2288, r_ui=5.0, est=4.346556269710871, details={'was_impossible': False}),\n",
              " Prediction(uid=5664, iid=1205, r_ui=4.0, est=3.5947639291617257, details={'was_impossible': False}),\n",
              " Prediction(uid=305, iid=2713, r_ui=1.0, est=1.0620947647103371, details={'was_impossible': False}),\n",
              " Prediction(uid=2173, iid=3809, r_ui=3.0, est=3.5817797810133523, details={'was_impossible': False}),\n",
              " Prediction(uid=5183, iid=1370, r_ui=2.0, est=3.4365566179920215, details={'was_impossible': False}),\n",
              " Prediction(uid=5683, iid=160, r_ui=3.0, est=3.1011181458934365, details={'was_impossible': False}),\n",
              " Prediction(uid=2224, iid=1199, r_ui=5.0, est=4.500517725912794, details={'was_impossible': False}),\n",
              " Prediction(uid=3746, iid=586, r_ui=2.0, est=3.2244867731779565, details={'was_impossible': False}),\n",
              " Prediction(uid=4716, iid=3067, r_ui=5.0, est=4.13770778647611, details={'was_impossible': False}),\n",
              " Prediction(uid=4026, iid=2951, r_ui=4.0, est=3.8219563979810216, details={'was_impossible': False}),\n",
              " Prediction(uid=5580, iid=647, r_ui=3.0, est=3.958702852735385, details={'was_impossible': False}),\n",
              " Prediction(uid=1306, iid=3484, r_ui=3.0, est=2.9864474130459033, details={'was_impossible': False}),\n",
              " Prediction(uid=2069, iid=1171, r_ui=4.0, est=3.7400094555356533, details={'was_impossible': False}),\n",
              " Prediction(uid=1812, iid=2794, r_ui=1.0, est=3.3196386640727273, details={'was_impossible': False}),\n",
              " Prediction(uid=3118, iid=367, r_ui=3.0, est=3.412433349550848, details={'was_impossible': False}),\n",
              " Prediction(uid=3274, iid=3414, r_ui=3.0, est=2.9433343561705496, details={'was_impossible': False}),\n",
              " Prediction(uid=4579, iid=1806, r_ui=3.0, est=2.7978316994294534, details={'was_impossible': False}),\n",
              " Prediction(uid=533, iid=2005, r_ui=3.0, est=3.115672235225045, details={'was_impossible': False}),\n",
              " Prediction(uid=1041, iid=2664, r_ui=4.0, est=4.372279565089311, details={'was_impossible': False}),\n",
              " Prediction(uid=123, iid=1275, r_ui=3.0, est=4.060681261058814, details={'was_impossible': False}),\n",
              " Prediction(uid=3182, iid=4, r_ui=1.0, est=2.282600318053795, details={'was_impossible': False}),\n",
              " Prediction(uid=3910, iid=2102, r_ui=4.0, est=2.9625550779509773, details={'was_impossible': False}),\n",
              " Prediction(uid=2011, iid=2860, r_ui=4.0, est=3.207051410160556, details={'was_impossible': False}),\n",
              " Prediction(uid=850, iid=903, r_ui=3.0, est=4.140337093278311, details={'was_impossible': False}),\n",
              " Prediction(uid=427, iid=2160, r_ui=4.0, est=3.9538000174069494, details={'was_impossible': False}),\n",
              " Prediction(uid=3999, iid=151, r_ui=3.0, est=3.7683557526896303, details={'was_impossible': False}),\n",
              " Prediction(uid=678, iid=160, r_ui=3.0, est=2.7785404272187333, details={'was_impossible': False}),\n",
              " Prediction(uid=3624, iid=47, r_ui=5.0, est=4.6925450500108505, details={'was_impossible': False}),\n",
              " Prediction(uid=4725, iid=2014, r_ui=3.0, est=3.397003158811208, details={'was_impossible': False}),\n",
              " Prediction(uid=2239, iid=2716, r_ui=4.0, est=3.8883463687412627, details={'was_impossible': False}),\n",
              " Prediction(uid=2143, iid=786, r_ui=3.0, est=2.460007467846877, details={'was_impossible': False}),\n",
              " Prediction(uid=5812, iid=3478, r_ui=4.0, est=3.6123819752265085, details={'was_impossible': False}),\n",
              " Prediction(uid=588, iid=912, r_ui=5.0, est=4.481761529038909, details={'was_impossible': False}),\n",
              " Prediction(uid=80, iid=3247, r_ui=4.0, est=3.518788812241393, details={'was_impossible': False}),\n",
              " Prediction(uid=5561, iid=377, r_ui=3.0, est=3.74455274629803, details={'was_impossible': False}),\n",
              " Prediction(uid=800, iid=107, r_ui=5.0, est=3.3447567170597043, details={'was_impossible': False}),\n",
              " Prediction(uid=3292, iid=1936, r_ui=2.0, est=4.553284184275901, details={'was_impossible': False}),\n",
              " Prediction(uid=2258, iid=1327, r_ui=3.0, est=2.6802152954134617, details={'was_impossible': False}),\n",
              " Prediction(uid=2820, iid=377, r_ui=2.0, est=2.342227986086411, details={'was_impossible': False}),\n",
              " Prediction(uid=4808, iid=1073, r_ui=4.0, est=3.7440847314246, details={'was_impossible': False}),\n",
              " Prediction(uid=621, iid=1717, r_ui=3.0, est=2.7833132181600955, details={'was_impossible': False}),\n",
              " Prediction(uid=5956, iid=1968, r_ui=4.0, est=3.6340511961849264, details={'was_impossible': False}),\n",
              " Prediction(uid=4236, iid=2716, r_ui=5.0, est=4.737278192838496, details={'was_impossible': False}),\n",
              " Prediction(uid=6026, iid=750, r_ui=5.0, est=4.510273384899616, details={'was_impossible': False}),\n",
              " Prediction(uid=2102, iid=1222, r_ui=4.0, est=3.3275528843125555, details={'was_impossible': False}),\n",
              " Prediction(uid=727, iid=215, r_ui=5.0, est=3.5340626644042756, details={'was_impossible': False}),\n",
              " Prediction(uid=3346, iid=919, r_ui=3.0, est=4.1781191710594685, details={'was_impossible': False}),\n",
              " Prediction(uid=3816, iid=2161, r_ui=5.0, est=3.8678804001647182, details={'was_impossible': False}),\n",
              " Prediction(uid=4522, iid=1219, r_ui=4.0, est=3.876053710318835, details={'was_impossible': False}),\n",
              " Prediction(uid=4808, iid=990, r_ui=3.0, est=2.62218474103685, details={'was_impossible': False}),\n",
              " Prediction(uid=5161, iid=1562, r_ui=1.0, est=1, details={'was_impossible': False}),\n",
              " Prediction(uid=1812, iid=1130, r_ui=3.0, est=3.2405681296310984, details={'was_impossible': False}),\n",
              " Prediction(uid=721, iid=1036, r_ui=4.0, est=4.417971814919526, details={'was_impossible': False}),\n",
              " Prediction(uid=3054, iid=2858, r_ui=5.0, est=4.138426681172928, details={'was_impossible': False}),\n",
              " Prediction(uid=3340, iid=3185, r_ui=4.0, est=3.730424430772607, details={'was_impossible': False}),\n",
              " Prediction(uid=4702, iid=1207, r_ui=4.0, est=4.166342009957555, details={'was_impossible': False}),\n",
              " Prediction(uid=1010, iid=3182, r_ui=3.0, est=2.9864462842679522, details={'was_impossible': False}),\n",
              " Prediction(uid=1671, iid=1644, r_ui=2.0, est=2.292976091730621, details={'was_impossible': False}),\n",
              " Prediction(uid=5014, iid=3417, r_ui=3.0, est=3.378955067909186, details={'was_impossible': False}),\n",
              " Prediction(uid=3184, iid=1562, r_ui=2.0, est=2.1933124770697505, details={'was_impossible': False}),\n",
              " Prediction(uid=808, iid=2716, r_ui=5.0, est=4.314766450835475, details={'was_impossible': False}),\n",
              " Prediction(uid=222, iid=2100, r_ui=4.0, est=3.752674314419327, details={'was_impossible': False}),\n",
              " Prediction(uid=3047, iid=1206, r_ui=1.0, est=4.017874466247835, details={'was_impossible': False}),\n",
              " Prediction(uid=2334, iid=2020, r_ui=3.0, est=3.5479706593484206, details={'was_impossible': False}),\n",
              " Prediction(uid=1181, iid=2291, r_ui=3.0, est=3.0841296314651196, details={'was_impossible': False}),\n",
              " Prediction(uid=3676, iid=1282, r_ui=5.0, est=4.079124319181389, details={'was_impossible': False}),\n",
              " Prediction(uid=839, iid=3070, r_ui=4.0, est=3.5287475878011003, details={'was_impossible': False}),\n",
              " Prediction(uid=698, iid=3672, r_ui=2.0, est=2.80614539576076, details={'was_impossible': False}),\n",
              " Prediction(uid=138, iid=608, r_ui=4.0, est=4.912522705502476, details={'was_impossible': False}),\n",
              " Prediction(uid=770, iid=3360, r_ui=4.0, est=4.135627854669867, details={'was_impossible': False}),\n",
              " Prediction(uid=6036, iid=3363, r_ui=2.0, est=3.9172568695046466, details={'was_impossible': False}),\n",
              " Prediction(uid=497, iid=3328, r_ui=5.0, est=3.5784712396386427, details={'was_impossible': False}),\n",
              " Prediction(uid=1426, iid=1672, r_ui=4.0, est=3.5207723093067456, details={'was_impossible': False}),\n",
              " Prediction(uid=5367, iid=3684, r_ui=2.0, est=3.0023027352390566, details={'was_impossible': False}),\n",
              " Prediction(uid=2643, iid=1957, r_ui=3.0, est=3.3539268303346237, details={'was_impossible': False}),\n",
              " Prediction(uid=4260, iid=852, r_ui=3.0, est=3.071146641189097, details={'was_impossible': False}),\n",
              " Prediction(uid=550, iid=1243, r_ui=4.0, est=3.7600341939502, details={'was_impossible': False}),\n",
              " Prediction(uid=3996, iid=1387, r_ui=3.0, est=4.41027012440598, details={'was_impossible': False}),\n",
              " Prediction(uid=735, iid=198, r_ui=3.0, est=3.3998581672991897, details={'was_impossible': False}),\n",
              " Prediction(uid=1701, iid=1246, r_ui=4.0, est=4.424761588056332, details={'was_impossible': False}),\n",
              " Prediction(uid=22, iid=1438, r_ui=1.0, est=2.1707259372507783, details={'was_impossible': False}),\n",
              " Prediction(uid=5886, iid=1721, r_ui=4.0, est=3.7633352112796405, details={'was_impossible': False}),\n",
              " Prediction(uid=4042, iid=1264, r_ui=4.0, est=3.8733210955697372, details={'was_impossible': False}),\n",
              " Prediction(uid=2611, iid=1909, r_ui=2.0, est=2.90996939452095, details={'was_impossible': False}),\n",
              " Prediction(uid=5289, iid=2208, r_ui=4.0, est=4.245121356065949, details={'was_impossible': False}),\n",
              " Prediction(uid=5111, iid=2160, r_ui=5.0, est=4.185317656590232, details={'was_impossible': False}),\n",
              " Prediction(uid=2453, iid=2273, r_ui=3.0, est=3.511945722931513, details={'was_impossible': False}),\n",
              " Prediction(uid=1210, iid=1197, r_ui=5.0, est=4.717587090565489, details={'was_impossible': False}),\n",
              " Prediction(uid=4053, iid=2424, r_ui=3.0, est=2.8308185256797604, details={'was_impossible': False}),\n",
              " Prediction(uid=1883, iid=2171, r_ui=4.0, est=3.463409712030212, details={'was_impossible': False}),\n",
              " Prediction(uid=5937, iid=1527, r_ui=4.0, est=4.193899599096622, details={'was_impossible': False}),\n",
              " Prediction(uid=2158, iid=1127, r_ui=4.0, est=3.7851091034788293, details={'was_impossible': False}),\n",
              " Prediction(uid=5530, iid=2128, r_ui=3.0, est=2.911725234365402, details={'was_impossible': False}),\n",
              " Prediction(uid=5511, iid=1588, r_ui=4.0, est=3.3915510644492053, details={'was_impossible': False}),\n",
              " Prediction(uid=4277, iid=803, r_ui=4.0, est=4.582230245893459, details={'was_impossible': False}),\n",
              " Prediction(uid=65, iid=9, r_ui=5.0, est=3.435486960274556, details={'was_impossible': False}),\n",
              " Prediction(uid=1285, iid=587, r_ui=5.0, est=3.9656636201302096, details={'was_impossible': False}),\n",
              " Prediction(uid=1628, iid=1441, r_ui=3.0, est=3.332226567018677, details={'was_impossible': False}),\n",
              " Prediction(uid=5679, iid=517, r_ui=4.0, est=4.387979295903724, details={'was_impossible': False}),\n",
              " Prediction(uid=977, iid=1288, r_ui=2.0, est=3.7232402042820447, details={'was_impossible': False}),\n",
              " Prediction(uid=295, iid=3578, r_ui=4.0, est=4.3642192952838945, details={'was_impossible': False}),\n",
              " Prediction(uid=1616, iid=2860, r_ui=3.0, est=2.7541089342874807, details={'was_impossible': False}),\n",
              " Prediction(uid=2907, iid=19, r_ui=5.0, est=3.430474464929496, details={'was_impossible': False}),\n",
              " Prediction(uid=4568, iid=3113, r_ui=3.0, est=2.3281630239591, details={'was_impossible': False}),\n",
              " Prediction(uid=1280, iid=2028, r_ui=5.0, est=4.820794829968599, details={'was_impossible': False}),\n",
              " Prediction(uid=4979, iid=2949, r_ui=5.0, est=4.068653753092464, details={'was_impossible': False}),\n",
              " Prediction(uid=5954, iid=914, r_ui=3.0, est=4.223387418105314, details={'was_impossible': False}),\n",
              " Prediction(uid=1943, iid=2567, r_ui=4.0, est=3.3008495476156465, details={'was_impossible': False}),\n",
              " Prediction(uid=2038, iid=1513, r_ui=2.0, est=3.511227457351532, details={'was_impossible': False}),\n",
              " Prediction(uid=3808, iid=330, r_ui=3.0, est=2.4275011481409727, details={'was_impossible': False}),\n",
              " Prediction(uid=3735, iid=246, r_ui=5.0, est=4.187245655225864, details={'was_impossible': False}),\n",
              " Prediction(uid=1119, iid=2024, r_ui=4.0, est=3.481910683068558, details={'was_impossible': False}),\n",
              " Prediction(uid=2402, iid=1177, r_ui=2.0, est=3.455001420293973, details={'was_impossible': False}),\n",
              " Prediction(uid=2507, iid=1188, r_ui=5.0, est=4.1395879214612545, details={'was_impossible': False}),\n",
              " Prediction(uid=3262, iid=587, r_ui=4.0, est=3.247606852064505, details={'was_impossible': False}),\n",
              " Prediction(uid=752, iid=1354, r_ui=5.0, est=3.680771130309982, details={'was_impossible': False}),\n",
              " Prediction(uid=3858, iid=3296, r_ui=5.0, est=4.847131978557409, details={'was_impossible': False}),\n",
              " Prediction(uid=1304, iid=592, r_ui=3.0, est=4.2408420226768, details={'was_impossible': False}),\n",
              " Prediction(uid=4048, iid=1356, r_ui=5.0, est=4.840692036504476, details={'was_impossible': False}),\n",
              " Prediction(uid=4249, iid=628, r_ui=5.0, est=3.578368168457748, details={'was_impossible': False}),\n",
              " Prediction(uid=4808, iid=2414, r_ui=4.0, est=3.3278691566881995, details={'was_impossible': False}),\n",
              " Prediction(uid=3988, iid=3448, r_ui=5.0, est=4.287714822298742, details={'was_impossible': False}),\n",
              " Prediction(uid=5788, iid=5, r_ui=2.0, est=2.1628863692828153, details={'was_impossible': False}),\n",
              " Prediction(uid=2233, iid=1641, r_ui=5.0, est=3.2304620657344287, details={'was_impossible': False}),\n",
              " Prediction(uid=2764, iid=3095, r_ui=5.0, est=4.487218616480946, details={'was_impossible': False}),\n",
              " Prediction(uid=2771, iid=2058, r_ui=3.0, est=3.1338859992079806, details={'was_impossible': False}),\n",
              " Prediction(uid=4725, iid=3732, r_ui=3.0, est=3.2970630295021888, details={'was_impossible': False}),\n",
              " Prediction(uid=5501, iid=1422, r_ui=3.0, est=2.571708385560547, details={'was_impossible': False}),\n",
              " Prediction(uid=4890, iid=1265, r_ui=2.0, est=3.1393588932629872, details={'was_impossible': False}),\n",
              " Prediction(uid=1321, iid=1994, r_ui=4.0, est=3.4388974725125006, details={'was_impossible': False}),\n",
              " Prediction(uid=930, iid=608, r_ui=3.0, est=4.130475430625985, details={'was_impossible': False}),\n",
              " Prediction(uid=1842, iid=628, r_ui=4.0, est=4.447299657901388, details={'was_impossible': False}),\n",
              " Prediction(uid=5597, iid=2389, r_ui=4.0, est=2.7299341169345075, details={'was_impossible': False}),\n",
              " Prediction(uid=4312, iid=3948, r_ui=4.0, est=3.7941717863643416, details={'was_impossible': False}),\n",
              " Prediction(uid=1019, iid=931, r_ui=4.0, est=3.599841908562957, details={'was_impossible': False}),\n",
              " Prediction(uid=4514, iid=296, r_ui=5.0, est=4.258848497176092, details={'was_impossible': False}),\n",
              " Prediction(uid=4833, iid=2605, r_ui=4.0, est=3.7451087840729214, details={'was_impossible': False}),\n",
              " Prediction(uid=889, iid=2501, r_ui=2.0, est=3.3785016275833213, details={'was_impossible': False}),\n",
              " Prediction(uid=726, iid=2380, r_ui=2.0, est=2.354632488743352, details={'was_impossible': False}),\n",
              " Prediction(uid=4517, iid=2297, r_ui=2.0, est=2.9524215703612318, details={'was_impossible': False}),\n",
              " Prediction(uid=4086, iid=2093, r_ui=1.0, est=3.9754046320763883, details={'was_impossible': False}),\n",
              " Prediction(uid=4523, iid=2406, r_ui=4.0, est=3.2554670778979067, details={'was_impossible': False}),\n",
              " Prediction(uid=5144, iid=3623, r_ui=5.0, est=3.0987280875275096, details={'was_impossible': False}),\n",
              " Prediction(uid=1125, iid=3538, r_ui=3.0, est=3.543314345077396, details={'was_impossible': False}),\n",
              " Prediction(uid=5168, iid=2683, r_ui=3.0, est=4.247020510395366, details={'was_impossible': False}),\n",
              " Prediction(uid=2077, iid=2408, r_ui=2.0, est=2.223661712995302, details={'was_impossible': False}),\n",
              " Prediction(uid=3684, iid=2792, r_ui=2.0, est=3.7133772991987555, details={'was_impossible': False}),\n",
              " Prediction(uid=1641, iid=253, r_ui=5.0, est=2.9372791847390523, details={'was_impossible': False}),\n",
              " Prediction(uid=1628, iid=322, r_ui=4.0, est=4.031694092114169, details={'was_impossible': False}),\n",
              " Prediction(uid=2173, iid=468, r_ui=4.0, est=3.363619570274626, details={'was_impossible': False}),\n",
              " Prediction(uid=971, iid=170, r_ui=3.0, est=3.1321976515296615, details={'was_impossible': False}),\n",
              " Prediction(uid=3154, iid=745, r_ui=5.0, est=4.3680823142618825, details={'was_impossible': False}),\n",
              " Prediction(uid=6016, iid=3624, r_ui=3.0, est=2.9531370421288066, details={'was_impossible': False}),\n",
              " Prediction(uid=2203, iid=2916, r_ui=4.0, est=3.974856938974864, details={'was_impossible': False}),\n",
              " Prediction(uid=3029, iid=2797, r_ui=5.0, est=4.545808044934913, details={'was_impossible': False}),\n",
              " Prediction(uid=4079, iid=3388, r_ui=3.0, est=3.345577814544739, details={'was_impossible': False}),\n",
              " Prediction(uid=2206, iid=353, r_ui=2.0, est=3.0920531713413832, details={'was_impossible': False}),\n",
              " Prediction(uid=766, iid=2245, r_ui=4.0, est=3.6852810157631075, details={'was_impossible': False}),\n",
              " Prediction(uid=139, iid=2085, r_ui=3.0, est=3.5538640668633934, details={'was_impossible': False}),\n",
              " Prediction(uid=4850, iid=2762, r_ui=5.0, est=4.826096275402383, details={'was_impossible': False}),\n",
              " Prediction(uid=3525, iid=3535, r_ui=4.0, est=3.2160515545304587, details={'was_impossible': False}),\n",
              " Prediction(uid=4700, iid=3759, r_ui=2.0, est=2.9768491496594947, details={'was_impossible': False}),\n",
              " Prediction(uid=757, iid=2805, r_ui=3.0, est=2.674590585668252, details={'was_impossible': False}),\n",
              " Prediction(uid=1447, iid=3433, r_ui=1.0, est=1.433615861881575, details={'was_impossible': False}),\n",
              " Prediction(uid=433, iid=1777, r_ui=3.0, est=3.658442949941254, details={'was_impossible': False}),\n",
              " Prediction(uid=2015, iid=2195, r_ui=5.0, est=3.332028034226586, details={'was_impossible': False}),\n",
              " Prediction(uid=1974, iid=3015, r_ui=3.0, est=3.2773912684306, details={'was_impossible': False}),\n",
              " Prediction(uid=25, iid=1917, r_ui=4.0, est=3.1765822276312696, details={'was_impossible': False}),\n",
              " Prediction(uid=5636, iid=223, r_ui=2.0, est=2.842493118839061, details={'was_impossible': False}),\n",
              " Prediction(uid=5107, iid=1552, r_ui=3.0, est=2.323451790396702, details={'was_impossible': False}),\n",
              " Prediction(uid=1060, iid=3821, r_ui=3.0, est=3.1588476374311982, details={'was_impossible': False}),\n",
              " Prediction(uid=2347, iid=1221, r_ui=3.0, est=4.40124841173577, details={'was_impossible': False}),\n",
              " Prediction(uid=2116, iid=259, r_ui=3.0, est=3.3849496840668074, details={'was_impossible': False}),\n",
              " Prediction(uid=869, iid=1984, r_ui=1.0, est=2.3956401658503608, details={'was_impossible': False}),\n",
              " Prediction(uid=5493, iid=2542, r_ui=5.0, est=3.907748738484593, details={'was_impossible': False}),\n",
              " Prediction(uid=1447, iid=552, r_ui=3.0, est=2.719784599943831, details={'was_impossible': False}),\n",
              " Prediction(uid=3705, iid=2944, r_ui=5.0, est=3.8079120413382332, details={'was_impossible': False}),\n",
              " Prediction(uid=5848, iid=475, r_ui=4.0, est=3.782908739933258, details={'was_impossible': False}),\n",
              " Prediction(uid=3829, iid=353, r_ui=3.0, est=2.395372696688073, details={'was_impossible': False}),\n",
              " Prediction(uid=3835, iid=1732, r_ui=5.0, est=4.3903148327086905, details={'was_impossible': False}),\n",
              " Prediction(uid=3414, iid=1129, r_ui=4.0, est=4.208864864850636, details={'was_impossible': False}),\n",
              " Prediction(uid=1445, iid=3360, r_ui=1.0, est=3.7746633344221987, details={'was_impossible': False}),\n",
              " Prediction(uid=1599, iid=2291, r_ui=3.0, est=2.9329268799745494, details={'was_impossible': False}),\n",
              " Prediction(uid=1291, iid=862, r_ui=4.0, est=3.659092842990066, details={'was_impossible': False}),\n",
              " Prediction(uid=1632, iid=3471, r_ui=4.0, est=2.9608887751000137, details={'was_impossible': False}),\n",
              " Prediction(uid=4030, iid=3755, r_ui=3.0, est=3.1272594389185313, details={'was_impossible': False}),\n",
              " Prediction(uid=2609, iid=1480, r_ui=5.0, est=3.75631673487708, details={'was_impossible': False}),\n",
              " Prediction(uid=3002, iid=1, r_ui=5.0, est=4.229681288097751, details={'was_impossible': False}),\n",
              " Prediction(uid=412, iid=930, r_ui=5.0, est=4.975110754519274, details={'was_impossible': False}),\n",
              " Prediction(uid=2665, iid=3263, r_ui=4.0, est=3.232009228279924, details={'was_impossible': False}),\n",
              " Prediction(uid=2330, iid=952, r_ui=4.0, est=2.9351451757850766, details={'was_impossible': False}),\n",
              " Prediction(uid=2934, iid=3020, r_ui=3.0, est=3.3827888222555886, details={'was_impossible': False}),\n",
              " Prediction(uid=798, iid=2846, r_ui=4.0, est=3.1176742229882173, details={'was_impossible': False}),\n",
              " Prediction(uid=1147, iid=2181, r_ui=5.0, est=3.20438808450756, details={'was_impossible': False}),\n",
              " Prediction(uid=5367, iid=1033, r_ui=3.0, est=2.669164862394932, details={'was_impossible': False}),\n",
              " Prediction(uid=1842, iid=1816, r_ui=4.0, est=3.4282750428222775, details={'was_impossible': False}),\n",
              " Prediction(uid=4964, iid=1263, r_ui=5.0, est=4.356215571110503, details={'was_impossible': False}),\n",
              " Prediction(uid=4204, iid=2248, r_ui=5.0, est=4.567231318906592, details={'was_impossible': False}),\n",
              " Prediction(uid=5761, iid=1405, r_ui=5.0, est=3.3185585508632545, details={'was_impossible': False}),\n",
              " Prediction(uid=2419, iid=3007, r_ui=4.0, est=3.9600352965036576, details={'was_impossible': False}),\n",
              " Prediction(uid=3569, iid=3396, r_ui=3.0, est=3.315992791704479, details={'was_impossible': False}),\n",
              " Prediction(uid=3751, iid=2390, r_ui=3.0, est=3.151688483952837, details={'was_impossible': False}),\n",
              " Prediction(uid=3261, iid=1114, r_ui=4.0, est=2.9328087167961443, details={'was_impossible': False}),\n",
              " Prediction(uid=2305, iid=3477, r_ui=3.0, est=2.809587014325796, details={'was_impossible': False}),\n",
              " Prediction(uid=3116, iid=2959, r_ui=4.0, est=3.8599765231228957, details={'was_impossible': False}),\n",
              " Prediction(uid=3538, iid=2273, r_ui=4.0, est=3.6341764601259188, details={'was_impossible': False}),\n",
              " Prediction(uid=2063, iid=3203, r_ui=3.0, est=3.7148208534630496, details={'was_impossible': False}),\n",
              " Prediction(uid=1001, iid=367, r_ui=3.0, est=2.760376334461006, details={'was_impossible': False}),\n",
              " Prediction(uid=935, iid=3200, r_ui=4.0, est=3.675929794890991, details={'was_impossible': False}),\n",
              " Prediction(uid=5326, iid=2064, r_ui=2.0, est=2.3197740512550915, details={'was_impossible': False}),\n",
              " Prediction(uid=706, iid=2589, r_ui=4.0, est=2.613384935887285, details={'was_impossible': False}),\n",
              " Prediction(uid=4732, iid=2560, r_ui=3.0, est=3.4721077912085265, details={'was_impossible': False}),\n",
              " Prediction(uid=3881, iid=1580, r_ui=1.0, est=3.945711324765765, details={'was_impossible': False}),\n",
              " Prediction(uid=5767, iid=1102, r_ui=2.0, est=3.723694636585539, details={'was_impossible': False}),\n",
              " Prediction(uid=3029, iid=3107, r_ui=5.0, est=3.542389142365591, details={'was_impossible': False}),\n",
              " Prediction(uid=1073, iid=28, r_ui=5.0, est=4.326674732253916, details={'was_impossible': False}),\n",
              " Prediction(uid=2972, iid=1, r_ui=5.0, est=3.813152234971684, details={'was_impossible': False}),\n",
              " Prediction(uid=2257, iid=3436, r_ui=4.0, est=2.9474875310595947, details={'was_impossible': False}),\n",
              " Prediction(uid=5795, iid=3624, r_ui=1.0, est=2.484955492902407, details={'was_impossible': False}),\n",
              " Prediction(uid=808, iid=3418, r_ui=4.0, est=2.8225821216888836, details={'was_impossible': False}),\n",
              " Prediction(uid=1666, iid=1198, r_ui=4.0, est=4.164009844996451, details={'was_impossible': False}),\n",
              " Prediction(uid=1836, iid=1960, r_ui=4.0, est=4.325419358830141, details={'was_impossible': False}),\n",
              " ...]"
            ]
          },
          "execution_count": 25,
          "metadata": {},
          "output_type": "execute_result"
        }
      ],
      "source": [
        "predictions_svd"
      ]
    },
    {
      "cell_type": "code",
      "execution_count": null,
      "metadata": {
        "colab": {
          "background_save": true
        },
        "id": "Gb_ALVvAvzSo",
        "outputId": "d6aa1eb6-a3c7-44e1-9ec4-7c8d8aa41523"
      },
      "outputs": [
        {
          "name": "stdout",
          "output_type": "stream",
          "text": [
            "SVD RMSE:\n",
            "RMSE: 0.8776\n"
          ]
        },
        {
          "data": {
            "text/plain": [
              "0.8775899318379707"
            ]
          },
          "execution_count": 26,
          "metadata": {},
          "output_type": "execute_result"
        }
      ],
      "source": [
        "print(\"SVD RMSE:\")\n",
        "accuracy.rmse(predictions_svd)"
      ]
    },
    {
      "cell_type": "code",
      "execution_count": null,
      "metadata": {
        "colab": {
          "background_save": true
        },
        "id": "YMrEKADAwDbR",
        "outputId": "7c92a3df-7cbe-4f20-ac55-d26d4fbd91b5"
      },
      "outputs": [
        {
          "name": "stdout",
          "output_type": "stream",
          "text": [
            "Prediction for User 1 on Movie 1193 (SVD):\n",
            "user: 1          item: 1193       r_ui = None   est = 4.48   {'was_impossible': False}\n"
          ]
        }
      ],
      "source": [
        "user_id = 1\n",
        "movie_id = 1193\n",
        "prediction_svd = algo_svd.predict(user_id, movie_id)\n",
        "print(f\"Prediction for User {user_id} on Movie {movie_id} (SVD):\")\n",
        "print(prediction_svd)"
      ]
    },
    {
      "cell_type": "markdown",
      "metadata": {
        "id": "ZekwPSb5QCxh"
      },
      "source": [
        "## 3.5 Model-based Collaborative Filtering"
      ]
    },
    {
      "cell_type": "markdown",
      "metadata": {
        "id": "R3bbRnHqQMf-"
      },
      "source": [
        "### 3.5.1 Neural Collaborative Filtering"
      ]
    },
    {
      "cell_type": "code",
      "execution_count": null,
      "metadata": {
        "id": "hvsYhbcVQGdq"
      },
      "outputs": [],
      "source": []
    }
  ],
  "metadata": {
    "colab": {
      "provenance": [],
      "toc_visible": true
    },
    "kernelspec": {
      "display_name": "Python 3",
      "name": "python3"
    },
    "language_info": {
      "name": "python"
    }
  },
  "nbformat": 4,
  "nbformat_minor": 0
}