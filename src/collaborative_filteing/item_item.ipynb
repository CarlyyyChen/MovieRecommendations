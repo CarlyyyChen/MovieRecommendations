{
 "cells": [
  {
   "cell_type": "markdown",
   "metadata": {},
   "source": [
    "Import Necessary Libraries"
   ]
  },
  {
   "cell_type": "code",
   "execution_count": 1,
   "metadata": {},
   "outputs": [],
   "source": [
    "import pandas as pd\n",
    "import numpy as np\n",
    "import pickle\n",
    "import matplotlib.pyplot as plt\n",
    "from sklearn.metrics.pairwise import cosine_similarity\n",
    "from sklearn.model_selection import train_test_split\n",
    "from tqdm import tqdm\n",
    "import warnings\n",
    "\n",
    "warnings.filterwarnings('ignore')\n"
   ]
  },
  {
   "cell_type": "markdown",
   "metadata": {},
   "source": [
    " Load and Preview the Dataset"
   ]
  },
  {
   "cell_type": "code",
   "execution_count": 2,
   "metadata": {},
   "outputs": [
    {
     "name": "stdout",
     "output_type": "stream",
     "text": [
      "Data preview:\n",
      "   UserID  MovieID  Rating                 Title\n",
      "0       1      122     5.0      Boomerang (1992)\n",
      "1       1      185     5.0       Net, The (1995)\n",
      "2       1      231     5.0  Dumb & Dumber (1994)\n",
      "3       1      292     5.0       Outbreak (1995)\n",
      "4       1      316     5.0       Stargate (1994)\n",
      "\n",
      "Dataset shape: (10000054, 4)\n"
     ]
    }
   ],
   "source": [
    "# Load the dataset\n",
    "df = pd.read_csv(\"C:/Users/anujp/OneDrive/Desktop/MovieRecommendations/data/Final_data/Final_data.csv\")\n",
    "\n",
    "# Preview the first few rows\n",
    "print(\"Data preview:\")\n",
    "print(df.head())\n",
    "\n",
    "# Check the shape of the dataset\n",
    "print(\"\\nDataset shape:\", df.shape)\n"
   ]
  },
  {
   "cell_type": "markdown",
   "metadata": {},
   "source": [
    "Prepare the Item-User Matrix and Compute Item Similarity"
   ]
  },
  {
   "cell_type": "code",
   "execution_count": 3,
   "metadata": {},
   "outputs": [
    {
     "name": "stdout",
     "output_type": "stream",
     "text": [
      "Item similarity matrix and movie mapping saved successfully.\n"
     ]
    }
   ],
   "source": [
    "item_user_matrix = df.pivot_table(index='MovieID', columns='UserID', values='Rating').fillna(0)\n",
    "\n",
    "# Compute the cosine similarity matrix\n",
    "item_similarity = cosine_similarity(item_user_matrix)\n",
    "\n",
    "# Create a DataFrame for item similarity\n",
    "item_similarity_df = pd.DataFrame(item_similarity, index=item_user_matrix.index, columns=item_user_matrix.index)\n",
    "\n",
    "# Define the path for saving the models\n",
    "save_path = r'C:\\Users\\anujp\\OneDrive\\Desktop\\MovieRecommendations\\models\\collaborative_filtering\\item_based'\n",
    "\n",
    "# Save the item similarity matrix\n",
    "with open(f'{save_path}\\\\item_similarity.pkl', 'wb') as f:\n",
    "    pickle.dump(item_similarity_df, f)\n",
    "\n",
    "# Create and save the movie ID to title mapping\n",
    "movie_id_to_title = pd.Series(df['Title'].values, index=df['MovieID']).to_dict()\n",
    "with open(f'{save_path}\\\\movie_id_to_title.pkl', 'wb') as f:\n",
    "    pickle.dump(movie_id_to_title, f)\n",
    "\n",
    "print(\"Item similarity matrix and movie mapping saved successfully.\")"
   ]
  },
  {
   "cell_type": "markdown",
   "metadata": {},
   "source": [
    "Split the Data into Training and Testing Sets"
   ]
  },
  {
   "cell_type": "code",
   "execution_count": 4,
   "metadata": {},
   "outputs": [
    {
     "name": "stdout",
     "output_type": "stream",
     "text": [
      "Data has been split into training and testing sets.\n"
     ]
    }
   ],
   "source": [
    "# Create user-item matrix for the entire dataset\n",
    "user_item_matrix = df.pivot_table(index='UserID', columns='MovieID', values='Rating')\n",
    "\n",
    "# Split the data into train and test sets\n",
    "train_data, test_data = train_test_split(df, test_size=0.2, random_state=42)\n",
    "\n",
    "# Create user-item matrices for train and test data\n",
    "train_user_item_matrix = train_data.pivot_table(index='UserID', columns='MovieID', values='Rating')\n",
    "test_user_item_matrix = test_data.pivot_table(index='UserID', columns='MovieID', values='Rating')\n",
    "\n",
    "print(\"Data has been split into training and testing sets.\")\n"
   ]
  },
  {
   "cell_type": "markdown",
   "metadata": {},
   "source": [
    "Define Functions for Making Predictions"
   ]
  },
  {
   "cell_type": "code",
   "execution_count": 5,
   "metadata": {},
   "outputs": [],
   "source": [
    "def predict_rating(user_id, item_id, train_user_item_matrix, item_similarity_df):\n",
    "    \"\"\"\n",
    "    Predict the rating of a user for a given item using item-based collaborative filtering.\n",
    "    \"\"\"\n",
    "    if item_id not in item_similarity_df.index or user_id not in train_user_item_matrix.index:\n",
    "        return np.nan\n",
    "    \n",
    "    # Get the similarity scores for the item\n",
    "    sim_scores = item_similarity_df[item_id]\n",
    "    \n",
    "    # Get the user's ratings for similar items\n",
    "    user_ratings = train_user_item_matrix.loc[user_id]\n",
    "    \n",
    "    # Only consider items the user has rated\n",
    "    user_ratings = user_ratings.dropna()\n",
    "    \n",
    "    # Align the indices\n",
    "    sim_scores = sim_scores[user_ratings.index]\n",
    "    \n",
    "    # Compute the weighted sum of ratings\n",
    "    numerator = np.dot(sim_scores, user_ratings)\n",
    "    denominator = sim_scores.sum()\n",
    "    \n",
    "    if denominator == 0:\n",
    "        return np.nan\n",
    "    else:\n",
    "        return numerator / denominator\n",
    "\n",
    "def predict_ratings(test_data, train_user_item_matrix, item_similarity_df):\n",
    "    \"\"\"\n",
    "    Predict ratings for all entries in the test set.\n",
    "    \"\"\"\n",
    "    predictions = []\n",
    "    actuals = []\n",
    "    \n",
    "    for index, row in tqdm(test_data.iterrows(), total=test_data.shape[0]):\n",
    "        user_id = row['UserID']\n",
    "        item_id = row['MovieID']\n",
    "        actual_rating = row['Rating']\n",
    "        \n",
    "        predicted_rating = predict_rating(user_id, item_id, train_user_item_matrix, item_similarity_df)\n",
    "        \n",
    "        if not np.isnan(predicted_rating):\n",
    "            predictions.append(predicted_rating)\n",
    "            actuals.append(actual_rating)\n",
    "    \n",
    "    return actuals, predictions\n"
   ]
  },
  {
   "cell_type": "markdown",
   "metadata": {},
   "source": [
    " Define Evaluation Functions for MAE and RMSE"
   ]
  },
  {
   "cell_type": "code",
   "execution_count": 6,
   "metadata": {},
   "outputs": [],
   "source": [
    "from sklearn.metrics import mean_absolute_error, mean_squared_error\n",
    "\n",
    "def compute_mae_rmse(actuals, predictions):\n",
    "    \"\"\"\n",
    "    Compute Mean Absolute Error (MAE) and Root Mean Squared Error (RMSE).\n",
    "    \"\"\"\n",
    "    mae = mean_absolute_error(actuals, predictions)\n",
    "    rmse = np.sqrt(mean_squared_error(actuals, predictions))\n",
    "    return mae, rmse\n"
   ]
  },
  {
   "cell_type": "markdown",
   "metadata": {},
   "source": [
    " Evaluate the Model Using MAE and RMSE"
   ]
  },
  {
   "cell_type": "code",
   "execution_count": 7,
   "metadata": {},
   "outputs": [
    {
     "name": "stderr",
     "output_type": "stream",
     "text": [
      "100%|██████████| 2000011/2000011 [12:48<00:00, 2602.62it/s]\n"
     ]
    },
    {
     "name": "stdout",
     "output_type": "stream",
     "text": [
      "Mean Absolute Error (MAE): 0.7376\n",
      "Root Mean Squared Error (RMSE): 0.9460\n"
     ]
    }
   ],
   "source": [
    "# Predict ratings for the test set\n",
    "actuals, predictions = predict_ratings(test_data, train_user_item_matrix, item_similarity_df)\n",
    "\n",
    "# Compute MAE and RMSE\n",
    "mae, rmse = compute_mae_rmse(actuals, predictions)\n",
    "\n",
    "print(f\"Mean Absolute Error (MAE): {mae:.4f}\")\n",
    "print(f\"Root Mean Squared Error (RMSE): {rmse:.4f}\")\n"
   ]
  },
  {
   "cell_type": "markdown",
   "metadata": {},
   "source": [
    "Compute Precision@K and Recall@K"
   ]
  },
  {
   "cell_type": "code",
   "execution_count": 8,
   "metadata": {},
   "outputs": [
    {
     "name": "stderr",
     "output_type": "stream",
     "text": [
      "100%|██████████| 69796/69796 [11:39<00:00, 99.76it/s] "
     ]
    },
    {
     "name": "stdout",
     "output_type": "stream",
     "text": [
      "Precision@5: 0.7508\n",
      "Recall@5: 0.5019\n"
     ]
    },
    {
     "name": "stderr",
     "output_type": "stream",
     "text": [
      "\n"
     ]
    }
   ],
   "source": [
    "# Cell 8: Compute Precision@K and Recall@K\n",
    "\n",
    "def precision_recall_at_k(test_data, train_user_item_matrix, item_similarity_df, k=5, threshold=3.5):\n",
    "    \"\"\"\n",
    "    Compute Precision@K and Recall@K for the test set.\n",
    "    \"\"\"\n",
    "    user_precision = []\n",
    "    user_recall = []\n",
    "    \n",
    "    # Get unique users in the test set\n",
    "    test_users = test_data['UserID'].unique()\n",
    "    \n",
    "    for user_id in tqdm(test_users):\n",
    "        # Get actual and predicted ratings for the user\n",
    "        user_test_data = test_data[test_data['UserID'] == user_id]\n",
    "        actual_ratings = user_test_data.set_index('MovieID')['Rating']\n",
    "        \n",
    "        # Predict ratings for all items\n",
    "        user_predicted_ratings = {}\n",
    "        for item_id in actual_ratings.index:\n",
    "            predicted_rating = predict_rating(user_id, item_id, train_user_item_matrix, item_similarity_df)\n",
    "            if not np.isnan(predicted_rating):\n",
    "                user_predicted_ratings[item_id] = predicted_rating\n",
    "        \n",
    "        if not user_predicted_ratings:\n",
    "            continue\n",
    "        \n",
    "        # Get top K recommendations\n",
    "        top_k_items = sorted(user_predicted_ratings.items(), key=lambda x: x[1], reverse=True)[:k]\n",
    "        recommended_items = set([item for item, rating in top_k_items])\n",
    "        \n",
    "        # Relevant items (actual ratings above threshold)\n",
    "        relevant_items = set(actual_ratings[actual_ratings >= threshold].index)\n",
    "        \n",
    "        # True positives (relevant items recommended)\n",
    "        tp = recommended_items & relevant_items\n",
    "        \n",
    "        # Compute precision and recall\n",
    "        precision = len(tp) / len(recommended_items) if recommended_items else 0\n",
    "        recall = len(tp) / len(relevant_items) if relevant_items else 0\n",
    "        \n",
    "        user_precision.append(precision)\n",
    "        user_recall.append(recall)\n",
    "    \n",
    "    # Compute average precision and recall\n",
    "    avg_precision = np.mean(user_precision)\n",
    "    avg_recall = np.mean(user_recall)\n",
    "    \n",
    "    return avg_precision, avg_recall\n",
    "\n",
    "# Compute Precision@K and Recall@K\n",
    "precision, recall = precision_recall_at_k(test_data, train_user_item_matrix, item_similarity_df, k=5, threshold=3.5)\n",
    "\n",
    "print(f\"Precision@5: {precision:.4f}\")\n",
    "print(f\"Recall@5: {recall:.4f}\")\n"
   ]
  },
  {
   "cell_type": "markdown",
   "metadata": {},
   "source": [
    "Compute Normalized Discounted Cumulative Gain (NDCG)"
   ]
  },
  {
   "cell_type": "code",
   "execution_count": 9,
   "metadata": {},
   "outputs": [
    {
     "name": "stderr",
     "output_type": "stream",
     "text": [
      "100%|██████████| 69796/69796 [11:15<00:00, 103.35it/s]"
     ]
    },
    {
     "name": "stdout",
     "output_type": "stream",
     "text": [
      "NDCG@5: 0.7813\n"
     ]
    },
    {
     "name": "stderr",
     "output_type": "stream",
     "text": [
      "\n"
     ]
    }
   ],
   "source": [
    "# Cell 9: Compute Normalized Discounted Cumulative Gain (NDCG)\n",
    "\n",
    "def ndcg_at_k(test_data, train_user_item_matrix, item_similarity_df, k=5):\n",
    "    \"\"\"\n",
    "    Compute NDCG@K for the test set.\n",
    "    \"\"\"\n",
    "    ndcg_scores = []\n",
    "    \n",
    "    # Get unique users in the test set\n",
    "    test_users = test_data['UserID'].unique()\n",
    "    \n",
    "    for user_id in tqdm(test_users):\n",
    "        # Get actual ratings for the user\n",
    "        user_test_data = test_data[test_data['UserID'] == user_id]\n",
    "        actual_ratings = user_test_data.set_index('MovieID')['Rating']\n",
    "        \n",
    "        # Predict ratings for all items\n",
    "        user_predicted_ratings = {}\n",
    "        for item_id in actual_ratings.index:\n",
    "            predicted_rating = predict_rating(user_id, item_id, train_user_item_matrix, item_similarity_df)\n",
    "            if not np.isnan(predicted_rating):\n",
    "                user_predicted_ratings[item_id] = predicted_rating\n",
    "        \n",
    "        if not user_predicted_ratings:\n",
    "            continue\n",
    "        \n",
    "        # Sort predicted ratings\n",
    "        sorted_items = sorted(user_predicted_ratings.items(), key=lambda x: x[1], reverse=True)\n",
    "        \n",
    "        # Get top K items\n",
    "        top_k_items = sorted_items[:k]\n",
    "        \n",
    "        # Compute DCG\n",
    "        dcg = 0.0\n",
    "        for i, (item_id, pred_rating) in enumerate(top_k_items):\n",
    "            actual_rating = actual_ratings.get(item_id, 0)\n",
    "            gain = (2 ** actual_rating - 1) / np.log2(i + 2)\n",
    "            dcg += gain\n",
    "        \n",
    "        # Compute IDCG\n",
    "        ideal_ratings = sorted(actual_ratings.values, reverse=True)[:k]\n",
    "        idcg = 0.0\n",
    "        for i, rating in enumerate(ideal_ratings):\n",
    "            gain = (2 ** rating - 1) / np.log2(i + 2)\n",
    "            idcg += gain\n",
    "        \n",
    "        if idcg == 0:\n",
    "            ndcg = 0\n",
    "        else:\n",
    "            ndcg = dcg / idcg\n",
    "        \n",
    "        ndcg_scores.append(ndcg)\n",
    "    \n",
    "    # Compute average NDCG\n",
    "    avg_ndcg = np.mean(ndcg_scores)\n",
    "    \n",
    "    return avg_ndcg\n",
    "\n",
    "# Compute NDCG@K\n",
    "ndcg = ndcg_at_k(test_data, train_user_item_matrix, item_similarity_df, k=5)\n",
    "\n",
    "print(f\"NDCG@5: {ndcg:.4f}\")\n"
   ]
  },
  {
   "cell_type": "markdown",
   "metadata": {},
   "source": [
    " Summarize Evaluation Results"
   ]
  },
  {
   "cell_type": "code",
   "execution_count": 10,
   "metadata": {},
   "outputs": [
    {
     "name": "stdout",
     "output_type": "stream",
     "text": [
      "Evaluation Metrics Summary:\n",
      "Mean Absolute Error (MAE): 0.7376\n",
      "Root Mean Squared Error (RMSE): 0.9460\n",
      "Precision@5: 0.7508\n",
      "Recall@5: 0.5019\n",
      "NDCG@5: 0.7813\n"
     ]
    }
   ],
   "source": [
    "print(\"Evaluation Metrics Summary:\")\n",
    "print(f\"Mean Absolute Error (MAE): {mae:.4f}\")\n",
    "print(f\"Root Mean Squared Error (RMSE): {rmse:.4f}\")\n",
    "print(f\"Precision@5: {precision:.4f}\")\n",
    "print(f\"Recall@5: {recall:.4f}\")\n",
    "print(f\"NDCG@5: {ndcg:.4f}\")\n"
   ]
  }
 ],
 "metadata": {
  "colab": {
   "provenance": [],
   "toc_visible": true
  },
  "kernelspec": {
   "display_name": "reinforcement_learning",
   "language": "python",
   "name": "python3"
  },
  "language_info": {
   "codemirror_mode": {
    "name": "ipython",
    "version": 3
   },
   "file_extension": ".py",
   "mimetype": "text/x-python",
   "name": "python",
   "nbconvert_exporter": "python",
   "pygments_lexer": "ipython3",
   "version": "3.10.15"
  }
 },
 "nbformat": 4,
 "nbformat_minor": 0
}
