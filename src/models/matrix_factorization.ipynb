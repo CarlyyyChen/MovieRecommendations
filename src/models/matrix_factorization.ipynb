{
 "cells": [
  {
   "cell_type": "markdown",
   "metadata": {},
   "source": [
    "### Import necessary libraries"
   ]
  },
  {
   "cell_type": "code",
   "metadata": {
    "ExecuteTime": {
     "end_time": "2024-11-26T23:28:50.050672Z",
     "start_time": "2024-11-26T23:28:50.048053Z"
    }
   },
   "source": [
    "import pandas as pd"
   ],
   "outputs": [],
   "execution_count": 3
  },
  {
   "cell_type": "markdown",
   "metadata": {},
   "source": [
    "# 1. Data Collection and Manipulation"
   ]
  },
  {
   "cell_type": "markdown",
   "metadata": {},
   "source": [
    "## 1.1 Automatic Download of Dataset"
   ]
  },
  {
   "cell_type": "code",
   "metadata": {
    "ExecuteTime": {
     "end_time": "2024-11-26T23:28:52.833948Z",
     "start_time": "2024-11-26T23:28:52.705215Z"
    }
   },
   "source": [
    "!wget -q http://files.grouplens.org/datasets/movielens/ml-1m.zip"
   ],
   "outputs": [
    {
     "name": "stdout",
     "output_type": "stream",
     "text": [
      "zsh:1: command not found: wget\r\n"
     ]
    }
   ],
   "execution_count": 4
  },
  {
   "cell_type": "code",
   "metadata": {
    "ExecuteTime": {
     "end_time": "2024-11-26T23:28:58.122893Z",
     "start_time": "2024-11-26T23:28:57.991189Z"
    }
   },
   "source": [
    "!unzip -q ml-1m.zip"
   ],
   "outputs": [
    {
     "name": "stdout",
     "output_type": "stream",
     "text": [
      "unzip:  cannot find or open ml-1m.zip, ml-1m.zip.zip or ml-1m.zip.ZIP.\r\n"
     ]
    }
   ],
   "execution_count": 6
  },
  {
   "cell_type": "markdown",
   "metadata": {},
   "source": [
    "## 1.2 Save to csv files"
   ]
  },
  {
   "cell_type": "code",
   "metadata": {
    "ExecuteTime": {
     "end_time": "2024-11-26T23:28:59.227694Z",
     "start_time": "2024-11-26T23:28:59.094873Z"
    }
   },
   "source": [
    " # Load the users file and save to CSV\n",
    "users = pd.read_csv('../../data/processed/users.csv')\n",
    "\n",
    "# Load the movies file and save to CSV\n",
    "movies = pd.read_csv('../../data/processed/movies.csv')\n",
    "\n",
    "# Load the ratings file and save to CSV\n",
    "ratings = pd.read_csv('../../data/processed/ratings.csv')"
   ],
   "outputs": [],
   "execution_count": 7
  },
  {
   "cell_type": "markdown",
   "metadata": {},
   "source": [
    "## 1.3 Print the first few rows of the each dataframe"
   ]
  },
  {
   "cell_type": "code",
   "metadata": {
    "ExecuteTime": {
     "end_time": "2024-11-26T23:28:59.839841Z",
     "start_time": "2024-11-26T23:28:59.831812Z"
    }
   },
   "source": [
    "# Print the first few rows of the users dataframe to check user details like user ID and demographics\n",
    "print(\"First few rows of the users dataframe:\")\n",
    "print(users.head())\n",
    "print(\"\\n\")  # Adds a newline for better separation of the output\n",
    "\n",
    "# Print the first few rows of the movies dataframe to view movie information such as movie ID and title\n",
    "print(\"First few rows of the movies dataframe:\")\n",
    "print(movies.head())\n",
    "print(\"\\n\")  # Adds a newline for better separation of the output\n",
    "\n",
    "# Print the first few rows of the ratings dataframe to inspect entries of user ratings for movies\n",
    "print(\"First few rows of the ratings dataframe:\")\n",
    "print(ratings.head())"
   ],
   "outputs": [
    {
     "name": "stdout",
     "output_type": "stream",
     "text": [
      "First few rows of the users dataframe:\n",
      "   UserID Gender  Age  Occupation Zip-code\n",
      "0       1      F    1          10    48067\n",
      "1       2      M   56          16    70072\n",
      "2       3      M   25          15    55117\n",
      "3       4      M   45           7    02460\n",
      "4       5      M   25          20    55455\n",
      "\n",
      "\n",
      "First few rows of the movies dataframe:\n",
      "   MovieID                               Title                        Genres\n",
      "0        1                    Toy Story (1995)   Animation|Children's|Comedy\n",
      "1        2                      Jumanji (1995)  Adventure|Children's|Fantasy\n",
      "2        3             Grumpier Old Men (1995)                Comedy|Romance\n",
      "3        4            Waiting to Exhale (1995)                  Comedy|Drama\n",
      "4        5  Father of the Bride Part II (1995)                        Comedy\n",
      "\n",
      "\n",
      "First few rows of the ratings dataframe:\n",
      "   UserID  MovieID  Rating  Timestamp\n",
      "0       1     1193       5  978300760\n",
      "1       1      661       3  978302109\n",
      "2       1      914       3  978301968\n",
      "3       1     3408       4  978300275\n",
      "4       1     2355       5  978824291\n"
     ]
    }
   ],
   "execution_count": 8
  },
  {
   "cell_type": "markdown",
   "metadata": {},
   "source": [
    "## 1.4 Print the column names of the each dataframe"
   ]
  },
  {
   "cell_type": "code",
   "metadata": {
    "ExecuteTime": {
     "end_time": "2024-11-26T23:29:00.417293Z",
     "start_time": "2024-11-26T23:29:00.412638Z"
    }
   },
   "source": [
    "# Print the column names of the users dataframe to understand the fields related to user information\n",
    "print(\"Column names in the users dataframe:\")\n",
    "print(users.columns)\n",
    "print(\"\\n\")  # Adds a newline for better separation of the output\n",
    "\n",
    "# Print the column names of the movies dataframe to see the attributes associated with movies, such as titles and genres\n",
    "print(\"Column names in the movies dataframe:\")\n",
    "print(movies.columns)\n",
    "print(\"\\n\")  # Adds a newline for better separation of the output\n",
    "\n",
    "# Print the column names of the ratings dataframe to review the fields that link users and movies through ratings\n",
    "print(\"Column names in the ratings dataframe:\")\n",
    "print(ratings.columns)"
   ],
   "outputs": [
    {
     "name": "stdout",
     "output_type": "stream",
     "text": [
      "Column names in the users dataframe:\n",
      "Index(['UserID', 'Gender', 'Age', 'Occupation', 'Zip-code'], dtype='object')\n",
      "\n",
      "\n",
      "Column names in the movies dataframe:\n",
      "Index(['MovieID', 'Title', 'Genres'], dtype='object')\n",
      "\n",
      "\n",
      "Column names in the ratings dataframe:\n",
      "Index(['UserID', 'MovieID', 'Rating', 'Timestamp'], dtype='object')\n"
     ]
    }
   ],
   "execution_count": 9
  },
  {
   "cell_type": "markdown",
   "metadata": {},
   "source": [
    "## 1.5 Checking for missing values in each dataframe"
   ]
  },
  {
   "cell_type": "code",
   "metadata": {
    "ExecuteTime": {
     "end_time": "2024-11-26T23:29:00.968050Z",
     "start_time": "2024-11-26T23:29:00.957859Z"
    }
   },
   "source": [
    "# Display the number of missing values in each column of the users dataframe\n",
    "print(\"Missing values in the users dataframe:\")\n",
    "print(users.isnull().sum())\n",
    "print(\"\\n\")  # Adds a newline for better separation of output\n",
    "\n",
    "# Display the number of missing values in each column of the movies dataframe\n",
    "print(\"Missing values in the movies dataframe:\")\n",
    "print(movies.isnull().sum())\n",
    "print(\"\\n\")  # Adds a newline for better separation of output\n",
    "\n",
    "# Display the number of missing values in each column of the ratings dataframe\n",
    "print(\"Missing values in the ratings dataframe:\")\n",
    "print(ratings.isnull().sum())"
   ],
   "outputs": [
    {
     "name": "stdout",
     "output_type": "stream",
     "text": [
      "Missing values in the users dataframe:\n",
      "UserID        0\n",
      "Gender        0\n",
      "Age           0\n",
      "Occupation    0\n",
      "Zip-code      0\n",
      "dtype: int64\n",
      "\n",
      "\n",
      "Missing values in the movies dataframe:\n",
      "MovieID    0\n",
      "Title      0\n",
      "Genres     0\n",
      "dtype: int64\n",
      "\n",
      "\n",
      "Missing values in the ratings dataframe:\n",
      "UserID       0\n",
      "MovieID      0\n",
      "Rating       0\n",
      "Timestamp    0\n",
      "dtype: int64\n"
     ]
    }
   ],
   "execution_count": 10
  },
  {
   "cell_type": "markdown",
   "metadata": {},
   "source": [
    "## 1.6 Convert the 'Timestamp' column in the ratings dataframe from Unix time to datetime format."
   ]
  },
  {
   "cell_type": "code",
   "metadata": {
    "ExecuteTime": {
     "end_time": "2024-11-26T23:29:01.629744Z",
     "start_time": "2024-11-26T23:29:01.549334Z"
    }
   },
   "source": [
    "# This enhances readability and usability of the timestamp data for further analysis.\n",
    "ratings['Timestamp'] = pd.to_datetime(ratings['Timestamp'], unit='s')\n",
    "\n",
    "# Display the first few rows of the ratings dataframe to confirm the successful conversion of the 'Timestamp' column.\n",
    "print(\"First few rows of the ratings dataframe after converting 'Timestamp':\")\n",
    "print(ratings.head())"
   ],
   "outputs": [
    {
     "name": "stdout",
     "output_type": "stream",
     "text": [
      "First few rows of the ratings dataframe after converting 'Timestamp':\n",
      "   UserID  MovieID  Rating           Timestamp\n",
      "0       1     1193       5 2000-12-31 22:12:40\n",
      "1       1      661       3 2000-12-31 22:35:09\n",
      "2       1      914       3 2000-12-31 22:32:48\n",
      "3       1     3408       4 2000-12-31 22:04:35\n",
      "4       1     2355       5 2001-01-06 23:38:11\n"
     ]
    }
   ],
   "execution_count": 11
  },
  {
   "cell_type": "markdown",
   "metadata": {},
   "source": [
    "## 1.7  Merge the ratings dataframe with the movies dataframe on the MovieID column.\n"
   ]
  },
  {
   "cell_type": "code",
   "metadata": {
    "ExecuteTime": {
     "end_time": "2024-11-26T23:29:02.279454Z",
     "start_time": "2024-11-26T23:29:02.139668Z"
    }
   },
   "source": [
    "# This step combines movie rating data with corresponding movie details.\n",
    "merged_data = pd.merge(ratings, movies, on='MovieID')\n",
    "\n",
    "# Further merge the resulting dataframe with the users dataframe on the UserID column.\n",
    "# This addition includes user demographic details into the merged dataset.\n",
    "merged_data = pd.merge(merged_data, users, on='UserID')\n",
    "\n",
    "# Display the column names of the merged dataframe to verify successful merges and to understand the available data fields.\n",
    "print(\"Columns in the merged dataframe:\")\n",
    "print(merged_data.columns)"
   ],
   "outputs": [
    {
     "name": "stdout",
     "output_type": "stream",
     "text": [
      "Columns in the merged dataframe:\n",
      "Index(['UserID', 'MovieID', 'Rating', 'Timestamp', 'Title', 'Genres', 'Gender',\n",
      "       'Age', 'Occupation', 'Zip-code'],\n",
      "      dtype='object')\n"
     ]
    }
   ],
   "execution_count": 12
  },
  {
   "cell_type": "markdown",
   "metadata": {},
   "source": [
    "## 1.6 Removing Duplicates"
   ]
  },
  {
   "cell_type": "code",
   "metadata": {
    "ExecuteTime": {
     "end_time": "2024-11-26T23:29:02.937227Z",
     "start_time": "2024-11-26T23:29:02.838122Z"
    }
   },
   "source": [
    "dup_bool = merged_data.duplicated(['UserID','MovieID','Rating','Timestamp'])\n",
    "dups = sum(dup_bool) # by considering all columns..( including timestamp)\n",
    "print(\"There are {} duplicate rating entries in the data..\".format(dups))"
   ],
   "outputs": [
    {
     "name": "stdout",
     "output_type": "stream",
     "text": [
      "There are 0 duplicate rating entries in the data..\n"
     ]
    }
   ],
   "execution_count": 13
  },
  {
   "cell_type": "markdown",
   "metadata": {},
   "source": [
    "## 3.4 Matrix Factorization"
   ]
  },
  {
   "cell_type": "markdown",
   "metadata": {},
   "source": [
    "###3.4.1 Matrix factorization using SVD\n",
    "\n",
    "\n"
   ]
  },
  {
   "cell_type": "code",
   "metadata": {
    "ExecuteTime": {
     "end_time": "2024-11-26T23:29:03.582278Z",
     "start_time": "2024-11-26T23:29:03.495564Z"
    }
   },
   "source": [
    "from surprise import Dataset, Reader, KNNWithMeans, SVD, accuracy\n",
    "from surprise.model_selection import train_test_split"
   ],
   "outputs": [],
   "execution_count": 14
  },
  {
   "cell_type": "code",
   "metadata": {
    "ExecuteTime": {
     "end_time": "2024-11-26T23:29:04.632685Z",
     "start_time": "2024-11-26T23:29:03.588569Z"
    }
   },
   "source": [
    "reader = Reader(rating_scale=(1,5))\n",
    "data = Dataset.load_from_df(merged_data[['UserID','MovieID','Rating']], reader)\n",
    "\n",
    "# Split into train and test sets\n",
    "trainset, testset = train_test_split(data, test_size=0.25)"
   ],
   "outputs": [],
   "execution_count": 15
  },
  {
   "cell_type": "code",
   "metadata": {
    "ExecuteTime": {
     "end_time": "2024-11-26T23:29:09.808106Z",
     "start_time": "2024-11-26T23:29:04.639911Z"
    }
   },
   "source": [
    "algo_svd = SVD()\n",
    "algo_svd.fit(trainset)\n",
    "predictions_svd = algo_svd.test(testset)"
   ],
   "outputs": [],
   "execution_count": 16
  },
  {
   "cell_type": "code",
   "metadata": {
    "ExecuteTime": {
     "end_time": "2024-11-26T23:29:09.828148Z",
     "start_time": "2024-11-26T23:29:09.816648Z"
    }
   },
   "source": [
    "predictions_svd"
   ],
   "outputs": [
    {
     "data": {
      "text/plain": [
       "[Prediction(uid=2116, iid=21, r_ui=4.0, est=3.703828094700873, details={'was_impossible': False}),\n",
       " Prediction(uid=3300, iid=10, r_ui=3.0, est=3.720961765973142, details={'was_impossible': False}),\n",
       " Prediction(uid=1313, iid=3827, r_ui=3.0, est=3.455717691856679, details={'was_impossible': False}),\n",
       " Prediction(uid=4543, iid=1954, r_ui=4.0, est=4.158121969231158, details={'was_impossible': False}),\n",
       " Prediction(uid=150, iid=2312, r_ui=3.0, est=4.39081061930054, details={'was_impossible': False}),\n",
       " Prediction(uid=1150, iid=319, r_ui=5.0, est=3.36599436905514, details={'was_impossible': False}),\n",
       " Prediction(uid=735, iid=3256, r_ui=4.0, est=3.735041473058763, details={'was_impossible': False}),\n",
       " Prediction(uid=293, iid=263, r_ui=4.0, est=3.528195699934648, details={'was_impossible': False}),\n",
       " Prediction(uid=558, iid=1957, r_ui=5.0, est=3.995355242080471, details={'was_impossible': False}),\n",
       " Prediction(uid=4510, iid=3471, r_ui=4.0, est=3.0366995068016314, details={'was_impossible': False}),\n",
       " Prediction(uid=1507, iid=3114, r_ui=4.0, est=4.887481883606776, details={'was_impossible': False}),\n",
       " Prediction(uid=713, iid=3638, r_ui=3.0, est=3.1223299646264344, details={'was_impossible': False}),\n",
       " Prediction(uid=800, iid=1425, r_ui=5.0, est=3.874536843856589, details={'was_impossible': False}),\n",
       " Prediction(uid=4088, iid=163, r_ui=3.0, est=3.3606690727156407, details={'was_impossible': False}),\n",
       " Prediction(uid=3436, iid=151, r_ui=3.0, est=4.299724641596501, details={'was_impossible': False}),\n",
       " Prediction(uid=802, iid=155, r_ui=4.0, est=3.7783102378643494, details={'was_impossible': False}),\n",
       " Prediction(uid=4251, iid=1343, r_ui=4.0, est=3.662703936200526, details={'was_impossible': False}),\n",
       " Prediction(uid=1764, iid=2881, r_ui=5.0, est=4.951906517377104, details={'was_impossible': False}),\n",
       " Prediction(uid=534, iid=1415, r_ui=3.0, est=3.6646707405122827, details={'was_impossible': False}),\n",
       " Prediction(uid=3308, iid=168, r_ui=2.0, est=2.5968969831096653, details={'was_impossible': False}),\n",
       " Prediction(uid=518, iid=2550, r_ui=5.0, est=4.297572973013862, details={'was_impossible': False}),\n",
       " Prediction(uid=2840, iid=1206, r_ui=2.0, est=3.221705377785165, details={'was_impossible': False}),\n",
       " Prediction(uid=1112, iid=1961, r_ui=5.0, est=4.1955048914709385, details={'was_impossible': False}),\n",
       " Prediction(uid=1643, iid=3683, r_ui=5.0, est=4.904135383245557, details={'was_impossible': False}),\n",
       " Prediction(uid=1442, iid=3793, r_ui=5.0, est=3.2874924919331785, details={'was_impossible': False}),\n",
       " Prediction(uid=1087, iid=2324, r_ui=5.0, est=4.462251953905454, details={'was_impossible': False}),\n",
       " Prediction(uid=2304, iid=252, r_ui=4.0, est=3.9132289365052535, details={'was_impossible': False}),\n",
       " Prediction(uid=1684, iid=527, r_ui=5.0, est=4.533315951213157, details={'was_impossible': False}),\n",
       " Prediction(uid=1015, iid=1380, r_ui=4.0, est=3.6186163670399263, details={'was_impossible': False}),\n",
       " Prediction(uid=5126, iid=261, r_ui=3.0, est=3.5320265790056387, details={'was_impossible': False}),\n",
       " Prediction(uid=2679, iid=104, r_ui=3.0, est=2.9764829081527084, details={'was_impossible': False}),\n",
       " Prediction(uid=5060, iid=593, r_ui=2.0, est=4.273432184377072, details={'was_impossible': False}),\n",
       " Prediction(uid=5353, iid=1997, r_ui=4.0, est=3.697101478398336, details={'was_impossible': False}),\n",
       " Prediction(uid=1680, iid=2411, r_ui=1.0, est=2.7869997829209416, details={'was_impossible': False}),\n",
       " Prediction(uid=416, iid=2841, r_ui=3.0, est=3.8291571562002056, details={'was_impossible': False}),\n",
       " Prediction(uid=1920, iid=318, r_ui=4.0, est=4.176384731531406, details={'was_impossible': False}),\n",
       " Prediction(uid=1064, iid=1653, r_ui=4.0, est=3.9565301430622113, details={'was_impossible': False}),\n",
       " Prediction(uid=1726, iid=1127, r_ui=4.0, est=3.060965761763153, details={'was_impossible': False}),\n",
       " Prediction(uid=4064, iid=2007, r_ui=2.0, est=2.1500672107584875, details={'was_impossible': False}),\n",
       " Prediction(uid=4088, iid=3755, r_ui=3.0, est=2.961641485689328, details={'was_impossible': False}),\n",
       " Prediction(uid=2841, iid=1189, r_ui=5.0, est=4.393528763249423, details={'was_impossible': False}),\n",
       " Prediction(uid=5148, iid=417, r_ui=5.0, est=3.7317147844035228, details={'was_impossible': False}),\n",
       " Prediction(uid=5960, iid=342, r_ui=4.0, est=3.59400101711288, details={'was_impossible': False}),\n",
       " Prediction(uid=62, iid=454, r_ui=3.0, est=3.209761608184271, details={'was_impossible': False}),\n",
       " Prediction(uid=2995, iid=2985, r_ui=3.0, est=3.9546177026553977, details={'was_impossible': False}),\n",
       " Prediction(uid=2583, iid=2078, r_ui=4.0, est=4.4744357488648046, details={'was_impossible': False}),\n",
       " Prediction(uid=5658, iid=556, r_ui=5.0, est=4.6806855278856485, details={'was_impossible': False}),\n",
       " Prediction(uid=5306, iid=261, r_ui=3.0, est=3.909369227868077, details={'was_impossible': False}),\n",
       " Prediction(uid=1380, iid=2965, r_ui=1.0, est=2.083676548968042, details={'was_impossible': False}),\n",
       " Prediction(uid=4911, iid=2628, r_ui=3.0, est=3.2362490593039914, details={'was_impossible': False}),\n",
       " Prediction(uid=2832, iid=1266, r_ui=3.0, est=4.356198313197057, details={'was_impossible': False}),\n",
       " Prediction(uid=114, iid=2018, r_ui=4.0, est=4.070588112737577, details={'was_impossible': False}),\n",
       " Prediction(uid=4126, iid=1396, r_ui=4.0, est=3.8472504266861853, details={'was_impossible': False}),\n",
       " Prediction(uid=2841, iid=632, r_ui=4.0, est=4.0535026533963014, details={'was_impossible': False}),\n",
       " Prediction(uid=3029, iid=3831, r_ui=4.0, est=4.293650411230375, details={'was_impossible': False}),\n",
       " Prediction(uid=3943, iid=52, r_ui=4.0, est=4.153314756126239, details={'was_impossible': False}),\n",
       " Prediction(uid=3138, iid=3363, r_ui=3.0, est=3.908721677382282, details={'was_impossible': False}),\n",
       " Prediction(uid=1146, iid=260, r_ui=3.0, est=4.184562880926276, details={'was_impossible': False}),\n",
       " Prediction(uid=4126, iid=1265, r_ui=3.0, est=3.498403655954949, details={'was_impossible': False}),\n",
       " Prediction(uid=5955, iid=1711, r_ui=4.0, est=3.702299525779166, details={'was_impossible': False}),\n",
       " Prediction(uid=4352, iid=2447, r_ui=3.0, est=3.6569892266279402, details={'was_impossible': False}),\n",
       " Prediction(uid=5167, iid=367, r_ui=3.0, est=3.479877248469436, details={'was_impossible': False}),\n",
       " Prediction(uid=4411, iid=3258, r_ui=3.0, est=2.8906831719500694, details={'was_impossible': False}),\n",
       " Prediction(uid=3682, iid=2020, r_ui=2.0, est=4.441060248097179, details={'was_impossible': False}),\n",
       " Prediction(uid=5499, iid=1721, r_ui=5.0, est=4.49473960906047, details={'was_impossible': False}),\n",
       " Prediction(uid=3801, iid=366, r_ui=3.0, est=4.162893407932919, details={'was_impossible': False}),\n",
       " Prediction(uid=5977, iid=1208, r_ui=4.0, est=4.475369370045887, details={'was_impossible': False}),\n",
       " Prediction(uid=116, iid=2392, r_ui=3.0, est=2.563203001505068, details={'was_impossible': False}),\n",
       " Prediction(uid=4715, iid=176, r_ui=4.0, est=4.236637002176003, details={'was_impossible': False}),\n",
       " Prediction(uid=237, iid=3536, r_ui=3.0, est=3.38818313637968, details={'was_impossible': False}),\n",
       " Prediction(uid=5620, iid=2003, r_ui=3.0, est=3.1376444622584745, details={'was_impossible': False}),\n",
       " Prediction(uid=5555, iid=15, r_ui=3.0, est=2.013813848358242, details={'was_impossible': False}),\n",
       " Prediction(uid=5955, iid=3156, r_ui=2.0, est=3.35886260758658, details={'was_impossible': False}),\n",
       " Prediction(uid=1544, iid=1200, r_ui=5.0, est=4.375296299220347, details={'was_impossible': False}),\n",
       " Prediction(uid=3039, iid=960, r_ui=1.0, est=4.1234632189752025, details={'was_impossible': False}),\n",
       " Prediction(uid=4841, iid=1127, r_ui=4.0, est=3.2437124225616225, details={'was_impossible': False}),\n",
       " Prediction(uid=4294, iid=2083, r_ui=5.0, est=3.7063027847776278, details={'was_impossible': False}),\n",
       " Prediction(uid=2990, iid=924, r_ui=3.0, est=4.5927493537159, details={'was_impossible': False}),\n",
       " Prediction(uid=5711, iid=3552, r_ui=4.0, est=4.522260699363818, details={'was_impossible': False}),\n",
       " Prediction(uid=1196, iid=6, r_ui=2.0, est=3.7987362235222157, details={'was_impossible': False}),\n",
       " Prediction(uid=2177, iid=527, r_ui=5.0, est=4.554758081078775, details={'was_impossible': False}),\n",
       " Prediction(uid=5367, iid=1032, r_ui=3.0, est=2.9969000364487117, details={'was_impossible': False}),\n",
       " Prediction(uid=924, iid=2108, r_ui=4.0, est=3.893172852316287, details={'was_impossible': False}),\n",
       " Prediction(uid=3519, iid=3186, r_ui=4.0, est=3.4825401741981437, details={'was_impossible': False}),\n",
       " Prediction(uid=5032, iid=1285, r_ui=4.0, est=4.088901153427112, details={'was_impossible': False}),\n",
       " Prediction(uid=1124, iid=1249, r_ui=3.0, est=3.890604699603339, details={'was_impossible': False}),\n",
       " Prediction(uid=3733, iid=1271, r_ui=2.0, est=3.3592494439165588, details={'was_impossible': False}),\n",
       " Prediction(uid=4149, iid=1408, r_ui=3.0, est=4.1419079445940685, details={'was_impossible': False}),\n",
       " Prediction(uid=10, iid=2407, r_ui=5.0, est=4.170669705814522, details={'was_impossible': False}),\n",
       " Prediction(uid=2978, iid=3168, r_ui=4.0, est=3.1090978974155323, details={'was_impossible': False}),\n",
       " Prediction(uid=1922, iid=2021, r_ui=2.0, est=2.89963520777202, details={'was_impossible': False}),\n",
       " Prediction(uid=2793, iid=2605, r_ui=4.0, est=3.798573390710137, details={'was_impossible': False}),\n",
       " Prediction(uid=4323, iid=3182, r_ui=4.0, est=3.7168555773795244, details={'was_impossible': False}),\n",
       " Prediction(uid=3017, iid=2997, r_ui=4.0, est=3.3453119882359306, details={'was_impossible': False}),\n",
       " Prediction(uid=3083, iid=3810, r_ui=5.0, est=3.4021452002346075, details={'was_impossible': False}),\n",
       " Prediction(uid=1737, iid=2709, r_ui=2.0, est=3.515191821331182, details={'was_impossible': False}),\n",
       " Prediction(uid=4497, iid=1244, r_ui=5.0, est=4.267823991579679, details={'was_impossible': False}),\n",
       " Prediction(uid=2887, iid=3397, r_ui=2.0, est=3.4267786991967197, details={'was_impossible': False}),\n",
       " Prediction(uid=5762, iid=1356, r_ui=4.0, est=3.9592816674946087, details={'was_impossible': False}),\n",
       " Prediction(uid=5433, iid=2827, r_ui=4.0, est=2.082872373753792, details={'was_impossible': False}),\n",
       " Prediction(uid=4253, iid=1344, r_ui=3.0, est=3.305254690493599, details={'was_impossible': False}),\n",
       " Prediction(uid=5935, iid=1270, r_ui=4.0, est=3.7970470072747897, details={'was_impossible': False}),\n",
       " Prediction(uid=3743, iid=3755, r_ui=3.0, est=3.2533952117994325, details={'was_impossible': False}),\n",
       " Prediction(uid=1611, iid=1073, r_ui=5.0, est=3.647046577779988, details={'was_impossible': False}),\n",
       " Prediction(uid=2544, iid=2565, r_ui=4.0, est=3.6907924399029346, details={'was_impossible': False}),\n",
       " Prediction(uid=2092, iid=2355, r_ui=3.0, est=3.7607344154149334, details={'was_impossible': False}),\n",
       " Prediction(uid=284, iid=2413, r_ui=3.0, est=3.865015916414377, details={'was_impossible': False}),\n",
       " Prediction(uid=2181, iid=3238, r_ui=1.0, est=1.6247009121956137, details={'was_impossible': False}),\n",
       " Prediction(uid=1124, iid=2997, r_ui=4.0, est=3.947031014843211, details={'was_impossible': False}),\n",
       " Prediction(uid=5000, iid=2455, r_ui=4.0, est=4.125079300328459, details={'was_impossible': False}),\n",
       " Prediction(uid=984, iid=1952, r_ui=4.0, est=4.271122782667472, details={'was_impossible': False}),\n",
       " Prediction(uid=4862, iid=260, r_ui=5.0, est=3.963094682018289, details={'was_impossible': False}),\n",
       " Prediction(uid=134, iid=2006, r_ui=3.0, est=3.1390212597989238, details={'was_impossible': False}),\n",
       " Prediction(uid=2525, iid=1080, r_ui=3.0, est=3.2956900209476, details={'was_impossible': False}),\n",
       " Prediction(uid=1904, iid=2193, r_ui=3.0, est=3.9334658929650996, details={'was_impossible': False}),\n",
       " Prediction(uid=1507, iid=3035, r_ui=5.0, est=4.437352370189302, details={'was_impossible': False}),\n",
       " Prediction(uid=4144, iid=1301, r_ui=4.0, est=4.20490701987975, details={'was_impossible': False}),\n",
       " Prediction(uid=6037, iid=1230, r_ui=5.0, est=3.9335547946599343, details={'was_impossible': False}),\n",
       " Prediction(uid=2565, iid=356, r_ui=5.0, est=4.485770221638151, details={'was_impossible': False}),\n",
       " Prediction(uid=5570, iid=1304, r_ui=4.0, est=4.076942009828003, details={'was_impossible': False}),\n",
       " Prediction(uid=566, iid=464, r_ui=2.0, est=2.159575144824684, details={'was_impossible': False}),\n",
       " Prediction(uid=869, iid=656, r_ui=2.0, est=2.695423906969468, details={'was_impossible': False}),\n",
       " Prediction(uid=630, iid=3358, r_ui=4.0, est=3.7593544697613615, details={'was_impossible': False}),\n",
       " Prediction(uid=2529, iid=3070, r_ui=2.0, est=3.9650893108090672, details={'was_impossible': False}),\n",
       " Prediction(uid=5691, iid=852, r_ui=4.0, est=3.8083154276341262, details={'was_impossible': False}),\n",
       " Prediction(uid=2170, iid=2312, r_ui=4.0, est=4.136776812032891, details={'was_impossible': False}),\n",
       " Prediction(uid=3769, iid=1294, r_ui=5.0, est=4.360265654295621, details={'was_impossible': False}),\n",
       " Prediction(uid=3204, iid=3868, r_ui=4.0, est=4.181885158349733, details={'was_impossible': False}),\n",
       " Prediction(uid=1912, iid=3200, r_ui=2.0, est=2.5014390276754925, details={'was_impossible': False}),\n",
       " Prediction(uid=4902, iid=1, r_ui=3.0, est=4.360927667978697, details={'was_impossible': False}),\n",
       " Prediction(uid=1780, iid=597, r_ui=2.0, est=3.149710521153999, details={'was_impossible': False}),\n",
       " Prediction(uid=5156, iid=1625, r_ui=3.0, est=4.216807179140825, details={'was_impossible': False}),\n",
       " Prediction(uid=3621, iid=1240, r_ui=2.0, est=2.6523779986826863, details={'was_impossible': False}),\n",
       " Prediction(uid=3119, iid=940, r_ui=4.0, est=3.6035696564093502, details={'was_impossible': False}),\n",
       " Prediction(uid=881, iid=3698, r_ui=4.0, est=3.0561855483475724, details={'was_impossible': False}),\n",
       " Prediction(uid=963, iid=2968, r_ui=3.0, est=3.6086228575126222, details={'was_impossible': False}),\n",
       " Prediction(uid=5401, iid=2291, r_ui=3.0, est=4.048875804394991, details={'was_impossible': False}),\n",
       " Prediction(uid=4470, iid=110, r_ui=5.0, est=5, details={'was_impossible': False}),\n",
       " Prediction(uid=5916, iid=1650, r_ui=3.0, est=3.0205997508661375, details={'was_impossible': False}),\n",
       " Prediction(uid=5120, iid=1028, r_ui=3.0, est=3.6577637983006777, details={'was_impossible': False}),\n",
       " Prediction(uid=3319, iid=1246, r_ui=3.0, est=3.673741840559163, details={'was_impossible': False}),\n",
       " Prediction(uid=2024, iid=417, r_ui=2.0, est=3.6174463773847063, details={'was_impossible': False}),\n",
       " Prediction(uid=1797, iid=154, r_ui=5.0, est=3.7916708577750957, details={'was_impossible': False}),\n",
       " Prediction(uid=44, iid=2529, r_ui=4.0, est=2.6746667901562113, details={'was_impossible': False}),\n",
       " Prediction(uid=1150, iid=3014, r_ui=1.0, est=2.062442037398633, details={'was_impossible': False}),\n",
       " Prediction(uid=3824, iid=3584, r_ui=2.0, est=2.3133765149978496, details={'was_impossible': False}),\n",
       " Prediction(uid=5113, iid=237, r_ui=1.0, est=1.881624539089568, details={'was_impossible': False}),\n",
       " Prediction(uid=2077, iid=423, r_ui=2.0, est=2.6799678761633636, details={'was_impossible': False}),\n",
       " Prediction(uid=881, iid=1385, r_ui=2.0, est=3.0746639080068445, details={'was_impossible': False}),\n",
       " Prediction(uid=1557, iid=1717, r_ui=4.0, est=3.247496485118204, details={'was_impossible': False}),\n",
       " Prediction(uid=732, iid=3707, r_ui=4.0, est=4.008840245968872, details={'was_impossible': False}),\n",
       " Prediction(uid=149, iid=337, r_ui=3.0, est=4.528809229749036, details={'was_impossible': False}),\n",
       " Prediction(uid=1466, iid=1358, r_ui=4.0, est=4.263784833378093, details={'was_impossible': False}),\n",
       " Prediction(uid=2208, iid=3298, r_ui=4.0, est=3.16913376920806, details={'was_impossible': False}),\n",
       " Prediction(uid=721, iid=2391, r_ui=4.0, est=3.672650760118384, details={'was_impossible': False}),\n",
       " Prediction(uid=5289, iid=2183, r_ui=4.0, est=3.720605733297602, details={'was_impossible': False}),\n",
       " Prediction(uid=410, iid=1028, r_ui=5.0, est=4.145890180509124, details={'was_impossible': False}),\n",
       " Prediction(uid=1068, iid=1416, r_ui=4.0, est=4.03222463581133, details={'was_impossible': False}),\n",
       " Prediction(uid=4728, iid=1681, r_ui=3.0, est=2.8321804505410957, details={'was_impossible': False}),\n",
       " Prediction(uid=5220, iid=1171, r_ui=3.0, est=3.552005654359746, details={'was_impossible': False}),\n",
       " Prediction(uid=639, iid=2367, r_ui=4.0, est=3.4449544823787592, details={'was_impossible': False}),\n",
       " Prediction(uid=3841, iid=111, r_ui=5.0, est=5, details={'was_impossible': False}),\n",
       " Prediction(uid=1340, iid=3257, r_ui=3.0, est=1.667666019940927, details={'was_impossible': False}),\n",
       " Prediction(uid=4169, iid=1730, r_ui=4.0, est=4.0430217734860685, details={'was_impossible': False}),\n",
       " Prediction(uid=2124, iid=2890, r_ui=5.0, est=3.945189480452812, details={'was_impossible': False}),\n",
       " Prediction(uid=3311, iid=1690, r_ui=2.0, est=2.682443592335611, details={'was_impossible': False}),\n",
       " Prediction(uid=5621, iid=2513, r_ui=3.0, est=2.1798157438226125, details={'was_impossible': False}),\n",
       " Prediction(uid=1394, iid=1339, r_ui=2.0, est=2.5020654620389067, details={'was_impossible': False}),\n",
       " Prediction(uid=4829, iid=110, r_ui=4.0, est=4.362932107763843, details={'was_impossible': False}),\n",
       " Prediction(uid=4375, iid=597, r_ui=4.0, est=4.618169314732686, details={'was_impossible': False}),\n",
       " Prediction(uid=942, iid=1500, r_ui=4.0, est=3.8796723419852506, details={'was_impossible': False}),\n",
       " Prediction(uid=5422, iid=898, r_ui=4.0, est=4.773254632097823, details={'was_impossible': False}),\n",
       " Prediction(uid=5682, iid=547, r_ui=3.0, est=2.8980684027114885, details={'was_impossible': False}),\n",
       " Prediction(uid=5350, iid=590, r_ui=3.0, est=3.512392865874804, details={'was_impossible': False}),\n",
       " Prediction(uid=1210, iid=1242, r_ui=5.0, est=4.473464183434701, details={'was_impossible': False}),\n",
       " Prediction(uid=1264, iid=266, r_ui=3.0, est=2.864524623197371, details={'was_impossible': False}),\n",
       " Prediction(uid=5634, iid=1917, r_ui=5.0, est=4.379032812084615, details={'was_impossible': False}),\n",
       " Prediction(uid=1704, iid=934, r_ui=4.0, est=4.302649182832611, details={'was_impossible': False}),\n",
       " Prediction(uid=3775, iid=3504, r_ui=5.0, est=4.047374051099417, details={'was_impossible': False}),\n",
       " Prediction(uid=3022, iid=1408, r_ui=3.0, est=2.923780101540177, details={'was_impossible': False}),\n",
       " Prediction(uid=3903, iid=1097, r_ui=3.0, est=4.186763089645124, details={'was_impossible': False}),\n",
       " Prediction(uid=4174, iid=750, r_ui=5.0, est=4.801408161645503, details={'was_impossible': False}),\n",
       " Prediction(uid=5780, iid=2058, r_ui=4.0, est=4.072670959296225, details={'was_impossible': False}),\n",
       " Prediction(uid=2946, iid=1396, r_ui=3.0, est=3.120547248539861, details={'was_impossible': False}),\n",
       " Prediction(uid=1930, iid=1374, r_ui=3.0, est=3.0478661056778673, details={'was_impossible': False}),\n",
       " Prediction(uid=3464, iid=292, r_ui=3.0, est=3.6682902554480896, details={'was_impossible': False}),\n",
       " Prediction(uid=462, iid=3088, r_ui=2.0, est=4.081129017601862, details={'was_impossible': False}),\n",
       " Prediction(uid=1001, iid=1, r_ui=4.0, est=4.656080693628376, details={'was_impossible': False}),\n",
       " Prediction(uid=2629, iid=3020, r_ui=3.0, est=3.22532369123626, details={'was_impossible': False}),\n",
       " Prediction(uid=3135, iid=2609, r_ui=5.0, est=4.617233077250162, details={'was_impossible': False}),\n",
       " Prediction(uid=5035, iid=587, r_ui=4.0, est=4.456175828058857, details={'was_impossible': False}),\n",
       " Prediction(uid=2402, iid=3702, r_ui=4.0, est=3.792391209293551, details={'was_impossible': False}),\n",
       " Prediction(uid=3550, iid=1215, r_ui=4.0, est=3.865505706444872, details={'was_impossible': False}),\n",
       " Prediction(uid=4745, iid=2804, r_ui=5.0, est=3.9887231726032852, details={'was_impossible': False}),\n",
       " Prediction(uid=1932, iid=16, r_ui=4.0, est=3.526219695826864, details={'was_impossible': False}),\n",
       " Prediction(uid=6035, iid=236, r_ui=2.0, est=2.5740701835970277, details={'was_impossible': False}),\n",
       " Prediction(uid=5317, iid=318, r_ui=5.0, est=4.759986213961855, details={'was_impossible': False}),\n",
       " Prediction(uid=3831, iid=1748, r_ui=1.0, est=3.2936400584883767, details={'was_impossible': False}),\n",
       " Prediction(uid=1015, iid=3548, r_ui=5.0, est=3.85725588023004, details={'was_impossible': False}),\n",
       " Prediction(uid=2664, iid=1120, r_ui=3.0, est=3.59811624524304, details={'was_impossible': False}),\n",
       " Prediction(uid=3256, iid=3113, r_ui=3.0, est=2.984899682359516, details={'was_impossible': False}),\n",
       " Prediction(uid=1880, iid=1606, r_ui=1.0, est=2.356996008279013, details={'was_impossible': False}),\n",
       " Prediction(uid=4946, iid=920, r_ui=5.0, est=3.557752103996326, details={'was_impossible': False}),\n",
       " Prediction(uid=3280, iid=3478, r_ui=2.0, est=2.5535270276440705, details={'was_impossible': False}),\n",
       " Prediction(uid=2933, iid=593, r_ui=3.0, est=4.380847717945419, details={'was_impossible': False}),\n",
       " Prediction(uid=721, iid=3912, r_ui=3.0, est=2.833467870274696, details={'was_impossible': False}),\n",
       " Prediction(uid=4079, iid=1991, r_ui=2.0, est=2.9666170618890755, details={'was_impossible': False}),\n",
       " Prediction(uid=2693, iid=1959, r_ui=3.0, est=2.840226986720821, details={'was_impossible': False}),\n",
       " Prediction(uid=1496, iid=1175, r_ui=3.0, est=3.468672923115943, details={'was_impossible': False}),\n",
       " Prediction(uid=2307, iid=589, r_ui=5.0, est=4.568158967103683, details={'was_impossible': False}),\n",
       " Prediction(uid=1470, iid=1429, r_ui=4.0, est=2.64923520215492, details={'was_impossible': False}),\n",
       " Prediction(uid=4274, iid=517, r_ui=3.0, est=2.6210676579053254, details={'was_impossible': False}),\n",
       " Prediction(uid=1360, iid=2411, r_ui=3.0, est=2.615473753448172, details={'was_impossible': False}),\n",
       " Prediction(uid=3963, iid=1197, r_ui=4.0, est=4.437757716610147, details={'was_impossible': False}),\n",
       " Prediction(uid=3475, iid=3707, r_ui=4.0, est=2.210630046049234, details={'was_impossible': False}),\n",
       " Prediction(uid=2072, iid=2858, r_ui=5.0, est=4.392933868170334, details={'was_impossible': False}),\n",
       " Prediction(uid=5831, iid=2018, r_ui=4.0, est=3.8515215981496507, details={'was_impossible': False}),\n",
       " Prediction(uid=5102, iid=1183, r_ui=4.0, est=3.908061470617889, details={'was_impossible': False}),\n",
       " Prediction(uid=926, iid=2581, r_ui=3.0, est=4.25479210908554, details={'was_impossible': False}),\n",
       " Prediction(uid=5643, iid=924, r_ui=1.0, est=3.2047000889433357, details={'was_impossible': False}),\n",
       " Prediction(uid=674, iid=903, r_ui=5.0, est=4.702887738442685, details={'was_impossible': False}),\n",
       " Prediction(uid=1288, iid=3408, r_ui=3.0, est=3.8292314687325932, details={'was_impossible': False}),\n",
       " Prediction(uid=392, iid=237, r_ui=2.0, est=2.3955181546746562, details={'was_impossible': False}),\n",
       " Prediction(uid=2409, iid=2797, r_ui=4.0, est=4.0385832540883975, details={'was_impossible': False}),\n",
       " Prediction(uid=5100, iid=1395, r_ui=5.0, est=4.097740137581713, details={'was_impossible': False}),\n",
       " Prediction(uid=4345, iid=2094, r_ui=3.0, est=2.7825613991351794, details={'was_impossible': False}),\n",
       " Prediction(uid=93, iid=2161, r_ui=3.0, est=3.6367714752737057, details={'was_impossible': False}),\n",
       " Prediction(uid=5888, iid=1883, r_ui=4.0, est=3.8213329398504072, details={'was_impossible': False}),\n",
       " Prediction(uid=136, iid=47, r_ui=3.0, est=3.2958098106807454, details={'was_impossible': False}),\n",
       " Prediction(uid=2478, iid=457, r_ui=3.0, est=3.738425263718995, details={'was_impossible': False}),\n",
       " Prediction(uid=482, iid=315, r_ui=1.0, est=2.623754345717258, details={'was_impossible': False}),\n",
       " Prediction(uid=1680, iid=2404, r_ui=1.0, est=2.493139086248946, details={'was_impossible': False}),\n",
       " Prediction(uid=482, iid=2985, r_ui=1.0, est=2.887591570270857, details={'was_impossible': False}),\n",
       " Prediction(uid=3618, iid=1427, r_ui=3.0, est=2.2626275975490433, details={'was_impossible': False}),\n",
       " Prediction(uid=1980, iid=1721, r_ui=5.0, est=4.240090866473368, details={'was_impossible': False}),\n",
       " Prediction(uid=5432, iid=1237, r_ui=5.0, est=3.959510381820379, details={'was_impossible': False}),\n",
       " Prediction(uid=3823, iid=755, r_ui=4.0, est=3.659225132861648, details={'was_impossible': False}),\n",
       " Prediction(uid=3572, iid=1256, r_ui=4.0, est=4.357516549902099, details={'was_impossible': False}),\n",
       " Prediction(uid=1408, iid=1856, r_ui=4.0, est=2.9044292728301815, details={'was_impossible': False}),\n",
       " Prediction(uid=1628, iid=2700, r_ui=5.0, est=4.364676903077523, details={'was_impossible': False}),\n",
       " Prediction(uid=1658, iid=2716, r_ui=4.0, est=4.056417939635842, details={'was_impossible': False}),\n",
       " Prediction(uid=4344, iid=1499, r_ui=3.0, est=1.6150566619523037, details={'was_impossible': False}),\n",
       " Prediction(uid=368, iid=316, r_ui=3.0, est=3.7769221107244464, details={'was_impossible': False}),\n",
       " Prediction(uid=1016, iid=3125, r_ui=5.0, est=3.366693601092087, details={'was_impossible': False}),\n",
       " Prediction(uid=4816, iid=2340, r_ui=5.0, est=4.556342379902546, details={'was_impossible': False}),\n",
       " Prediction(uid=728, iid=3948, r_ui=3.0, est=3.7418729001051205, details={'was_impossible': False}),\n",
       " Prediction(uid=5635, iid=919, r_ui=4.0, est=4.116685641645604, details={'was_impossible': False}),\n",
       " Prediction(uid=3217, iid=2291, r_ui=2.0, est=3.7174732467937672, details={'was_impossible': False}),\n",
       " Prediction(uid=1609, iid=489, r_ui=2.0, est=2.3877062005185614, details={'was_impossible': False}),\n",
       " Prediction(uid=4186, iid=2406, r_ui=4.0, est=3.2696414914895464, details={'was_impossible': False}),\n",
       " Prediction(uid=3454, iid=3104, r_ui=4.0, est=3.5837886418771494, details={'was_impossible': False}),\n",
       " Prediction(uid=1050, iid=49, r_ui=3.0, est=3.3061899508541748, details={'was_impossible': False}),\n",
       " Prediction(uid=4060, iid=1345, r_ui=4.0, est=3.8356705982876163, details={'was_impossible': False}),\n",
       " Prediction(uid=195, iid=761, r_ui=3.0, est=2.9909179219285242, details={'was_impossible': False}),\n",
       " Prediction(uid=1182, iid=594, r_ui=4.0, est=3.9802588157348677, details={'was_impossible': False}),\n",
       " Prediction(uid=1285, iid=2755, r_ui=3.0, est=2.781756284009536, details={'was_impossible': False}),\n",
       " Prediction(uid=889, iid=3190, r_ui=2.0, est=1.413273341446658, details={'was_impossible': False}),\n",
       " Prediction(uid=4285, iid=70, r_ui=1.0, est=3.046090598382488, details={'was_impossible': False}),\n",
       " Prediction(uid=3207, iid=253, r_ui=4.0, est=4.065835387050488, details={'was_impossible': False}),\n",
       " Prediction(uid=3044, iid=3370, r_ui=4.0, est=4.302089255899028, details={'was_impossible': False}),\n",
       " Prediction(uid=4345, iid=3211, r_ui=3.0, est=3.5543281007490872, details={'was_impossible': False}),\n",
       " Prediction(uid=980, iid=2728, r_ui=5.0, est=3.4820383557369228, details={'was_impossible': False}),\n",
       " Prediction(uid=4985, iid=457, r_ui=3.0, est=4.205969282515324, details={'was_impossible': False}),\n",
       " Prediction(uid=65, iid=3638, r_ui=4.0, est=4.178666243299869, details={'was_impossible': False}),\n",
       " Prediction(uid=2409, iid=3616, r_ui=2.0, est=3.0513586197496267, details={'was_impossible': False}),\n",
       " Prediction(uid=314, iid=2857, r_ui=2.0, est=2.944619255518938, details={'was_impossible': False}),\n",
       " Prediction(uid=4571, iid=2384, r_ui=2.0, est=3.710491270531989, details={'was_impossible': False}),\n",
       " Prediction(uid=3391, iid=480, r_ui=5.0, est=3.925105935694846, details={'was_impossible': False}),\n",
       " Prediction(uid=5499, iid=2858, r_ui=5.0, est=4.4101480355706055, details={'was_impossible': False}),\n",
       " Prediction(uid=133, iid=2918, r_ui=4.0, est=3.9918438062910004, details={'was_impossible': False}),\n",
       " Prediction(uid=4089, iid=2794, r_ui=3.0, est=3.2309989860715906, details={'was_impossible': False}),\n",
       " Prediction(uid=5384, iid=2858, r_ui=5.0, est=4.65876262248664, details={'was_impossible': False}),\n",
       " Prediction(uid=5763, iid=1906, r_ui=4.0, est=3.2804717516063784, details={'was_impossible': False}),\n",
       " Prediction(uid=963, iid=2105, r_ui=2.0, est=2.933684410810226, details={'was_impossible': False}),\n",
       " Prediction(uid=3690, iid=778, r_ui=4.0, est=3.887492264056143, details={'was_impossible': False}),\n",
       " Prediction(uid=4335, iid=2248, r_ui=4.0, est=3.9460226616554808, details={'was_impossible': False}),\n",
       " Prediction(uid=2191, iid=750, r_ui=5.0, est=3.719234339590163, details={'was_impossible': False}),\n",
       " Prediction(uid=3727, iid=2174, r_ui=3.0, est=3.248977738189297, details={'was_impossible': False}),\n",
       " Prediction(uid=2181, iid=1129, r_ui=4.0, est=3.125215295066946, details={'was_impossible': False}),\n",
       " Prediction(uid=2857, iid=667, r_ui=2.0, est=2.401778928962843, details={'was_impossible': False}),\n",
       " Prediction(uid=2134, iid=383, r_ui=4.0, est=3.0142225612153077, details={'was_impossible': False}),\n",
       " Prediction(uid=436, iid=1240, r_ui=4.0, est=4.214708313400506, details={'was_impossible': False}),\n",
       " Prediction(uid=3034, iid=920, r_ui=5.0, est=4.627977319793253, details={'was_impossible': False}),\n",
       " Prediction(uid=1624, iid=165, r_ui=3.0, est=2.6117905846569127, details={'was_impossible': False}),\n",
       " Prediction(uid=4134, iid=1193, r_ui=5.0, est=4.0672143588469005, details={'was_impossible': False}),\n",
       " Prediction(uid=479, iid=296, r_ui=3.0, est=3.2555286064849387, details={'was_impossible': False}),\n",
       " Prediction(uid=4662, iid=1680, r_ui=4.0, est=3.2247867607958933, details={'was_impossible': False}),\n",
       " Prediction(uid=4345, iid=1277, r_ui=3.0, est=3.903510064885253, details={'was_impossible': False}),\n",
       " Prediction(uid=531, iid=3618, r_ui=3.0, est=2.9261212971919823, details={'was_impossible': False}),\n",
       " Prediction(uid=5289, iid=2871, r_ui=4.0, est=4.248412115606308, details={'was_impossible': False}),\n",
       " Prediction(uid=3118, iid=2599, r_ui=5.0, est=3.9800367604452527, details={'was_impossible': False}),\n",
       " Prediction(uid=2462, iid=1242, r_ui=5.0, est=4.01869031172856, details={'was_impossible': False}),\n",
       " Prediction(uid=1106, iid=1965, r_ui=3.0, est=3.672946745475215, details={'was_impossible': False}),\n",
       " Prediction(uid=6003, iid=1779, r_ui=3.0, est=2.4623909813984444, details={'was_impossible': False}),\n",
       " Prediction(uid=518, iid=912, r_ui=5.0, est=4.824030980667226, details={'was_impossible': False}),\n",
       " Prediction(uid=3869, iid=2123, r_ui=2.0, est=3.0912892157685765, details={'was_impossible': False}),\n",
       " Prediction(uid=5910, iid=1810, r_ui=4.0, est=4.089258932992068, details={'was_impossible': False}),\n",
       " Prediction(uid=1613, iid=3397, r_ui=4.0, est=3.873883239895519, details={'was_impossible': False}),\n",
       " Prediction(uid=5795, iid=71, r_ui=1.0, est=1.429229238047601, details={'was_impossible': False}),\n",
       " Prediction(uid=2223, iid=647, r_ui=2.0, est=3.1033098671300183, details={'was_impossible': False}),\n",
       " Prediction(uid=1634, iid=1923, r_ui=1.0, est=3.6543910423624952, details={'was_impossible': False}),\n",
       " Prediction(uid=3096, iid=3704, r_ui=3.0, est=3.489106455113668, details={'was_impossible': False}),\n",
       " Prediction(uid=6020, iid=3104, r_ui=3.0, est=4.650051815812539, details={'was_impossible': False}),\n",
       " Prediction(uid=2290, iid=595, r_ui=3.0, est=3.629673396587775, details={'was_impossible': False}),\n",
       " Prediction(uid=1078, iid=3255, r_ui=3.0, est=3.8873101787922058, details={'was_impossible': False}),\n",
       " Prediction(uid=1696, iid=3100, r_ui=5.0, est=4.075009834036075, details={'was_impossible': False}),\n",
       " Prediction(uid=5256, iid=1396, r_ui=4.0, est=3.915875746507452, details={'was_impossible': False}),\n",
       " Prediction(uid=1552, iid=356, r_ui=5.0, est=3.744486605189162, details={'was_impossible': False}),\n",
       " Prediction(uid=3727, iid=1222, r_ui=5.0, est=4.290868795680583, details={'was_impossible': False}),\n",
       " Prediction(uid=855, iid=380, r_ui=3.0, est=3.313421788354121, details={'was_impossible': False}),\n",
       " Prediction(uid=4721, iid=968, r_ui=5.0, est=4.238777469764231, details={'was_impossible': False}),\n",
       " Prediction(uid=3080, iid=2195, r_ui=1.0, est=3.015176056881534, details={'was_impossible': False}),\n",
       " Prediction(uid=869, iid=870, r_ui=2.0, est=2.611741232629014, details={'was_impossible': False}),\n",
       " Prediction(uid=6024, iid=1610, r_ui=5.0, est=4.486776742537352, details={'was_impossible': False}),\n",
       " Prediction(uid=5955, iid=1921, r_ui=5.0, est=3.9125196760766454, details={'was_impossible': False}),\n",
       " Prediction(uid=166, iid=1721, r_ui=4.0, est=3.773097954325957, details={'was_impossible': False}),\n",
       " Prediction(uid=4353, iid=2944, r_ui=4.0, est=4.045468231844621, details={'was_impossible': False}),\n",
       " Prediction(uid=2756, iid=2770, r_ui=5.0, est=3.4837735839883157, details={'was_impossible': False}),\n",
       " Prediction(uid=3624, iid=1591, r_ui=4.0, est=3.275343381649627, details={'was_impossible': False}),\n",
       " Prediction(uid=2719, iid=2987, r_ui=5.0, est=3.852130122834237, details={'was_impossible': False}),\n",
       " Prediction(uid=5575, iid=3247, r_ui=2.0, est=2.656451816480052, details={'was_impossible': False}),\n",
       " Prediction(uid=1746, iid=1924, r_ui=5.0, est=4.037098754764735, details={'was_impossible': False}),\n",
       " Prediction(uid=3532, iid=194, r_ui=4.0, est=3.7448437196832023, details={'was_impossible': False}),\n",
       " Prediction(uid=3715, iid=3703, r_ui=4.0, est=4.12038661832398, details={'was_impossible': False}),\n",
       " Prediction(uid=5543, iid=1033, r_ui=2.0, est=3.4215732294306744, details={'was_impossible': False}),\n",
       " Prediction(uid=309, iid=2951, r_ui=4.0, est=4.072060560002502, details={'was_impossible': False}),\n",
       " Prediction(uid=3226, iid=3654, r_ui=4.0, est=4.365894857235227, details={'was_impossible': False}),\n",
       " Prediction(uid=3997, iid=3804, r_ui=4.0, est=3.3700442667947956, details={'was_impossible': False}),\n",
       " Prediction(uid=412, iid=1035, r_ui=3.0, est=4.081619424832983, details={'was_impossible': False}),\n",
       " Prediction(uid=3507, iid=2231, r_ui=3.0, est=3.7125813944090647, details={'was_impossible': False}),\n",
       " Prediction(uid=5394, iid=3200, r_ui=2.0, est=3.6411150511238857, details={'was_impossible': False}),\n",
       " Prediction(uid=1998, iid=2137, r_ui=4.0, est=3.9063428580205732, details={'was_impossible': False}),\n",
       " Prediction(uid=4823, iid=2810, r_ui=3.0, est=3.361739203125439, details={'was_impossible': False}),\n",
       " Prediction(uid=4435, iid=2712, r_ui=5.0, est=2.676592990365442, details={'was_impossible': False}),\n",
       " Prediction(uid=4647, iid=3039, r_ui=4.0, est=3.4608604330934556, details={'was_impossible': False}),\n",
       " Prediction(uid=3464, iid=1648, r_ui=3.0, est=3.3135395519580713, details={'was_impossible': False}),\n",
       " Prediction(uid=1591, iid=1129, r_ui=4.0, est=3.8806041235707567, details={'was_impossible': False}),\n",
       " Prediction(uid=3410, iid=3686, r_ui=2.0, est=2.6913302321169494, details={'was_impossible': False}),\n",
       " Prediction(uid=3521, iid=1968, r_ui=3.0, est=4.088518346674846, details={'was_impossible': False}),\n",
       " Prediction(uid=3391, iid=1247, r_ui=5.0, est=4.9036038126903305, details={'was_impossible': False}),\n",
       " Prediction(uid=5087, iid=2804, r_ui=4.0, est=3.5769092429046996, details={'was_impossible': False}),\n",
       " Prediction(uid=3808, iid=3203, r_ui=5.0, est=3.463843521442586, details={'was_impossible': False}),\n",
       " Prediction(uid=2507, iid=2066, r_ui=4.0, est=4.5113236211797005, details={'was_impossible': False}),\n",
       " Prediction(uid=1741, iid=3863, r_ui=5.0, est=3.4482535231497, details={'was_impossible': False}),\n",
       " Prediction(uid=2323, iid=562, r_ui=5.0, est=3.58741845220214, details={'was_impossible': False}),\n",
       " Prediction(uid=1837, iid=3317, r_ui=4.0, est=3.6099703726739434, details={'was_impossible': False}),\n",
       " Prediction(uid=2366, iid=3256, r_ui=4.0, est=3.3053837886448347, details={'was_impossible': False}),\n",
       " Prediction(uid=26, iid=1588, r_ui=2.0, est=2.6933803427839402, details={'was_impossible': False}),\n",
       " Prediction(uid=2408, iid=2762, r_ui=5.0, est=4.546923051805763, details={'was_impossible': False}),\n",
       " Prediction(uid=674, iid=50, r_ui=5.0, est=4.985669935950153, details={'was_impossible': False}),\n",
       " Prediction(uid=5256, iid=1951, r_ui=5.0, est=4.128595446640848, details={'was_impossible': False}),\n",
       " Prediction(uid=711, iid=2176, r_ui=4.0, est=4.116771180990438, details={'was_impossible': False}),\n",
       " Prediction(uid=136, iid=1078, r_ui=4.0, est=3.979636568445244, details={'was_impossible': False}),\n",
       " Prediction(uid=5722, iid=1230, r_ui=5.0, est=5, details={'was_impossible': False}),\n",
       " Prediction(uid=3600, iid=2338, r_ui=4.0, est=2.4376327499450103, details={'was_impossible': False}),\n",
       " Prediction(uid=1507, iid=946, r_ui=5.0, est=4.53824682113061, details={'was_impossible': False}),\n",
       " Prediction(uid=3675, iid=1257, r_ui=3.0, est=3.7644857695583234, details={'was_impossible': False}),\n",
       " Prediction(uid=1956, iid=551, r_ui=5.0, est=3.1609065663354463, details={'was_impossible': False}),\n",
       " Prediction(uid=5071, iid=1950, r_ui=4.0, est=4.278310542625731, details={'was_impossible': False}),\n",
       " Prediction(uid=4673, iid=2395, r_ui=4.0, est=4.068272587114397, details={'was_impossible': False}),\n",
       " Prediction(uid=2941, iid=1566, r_ui=4.0, est=2.9679050222741648, details={'was_impossible': False}),\n",
       " Prediction(uid=62, iid=2186, r_ui=4.0, est=3.948215340654256, details={'was_impossible': False}),\n",
       " Prediction(uid=5643, iid=2282, r_ui=2.0, est=3.418575318208803, details={'was_impossible': False}),\n",
       " Prediction(uid=3454, iid=2005, r_ui=3.0, est=3.436190172467453, details={'was_impossible': False}),\n",
       " Prediction(uid=1264, iid=3250, r_ui=3.0, est=3.2134767611711688, details={'was_impossible': False}),\n",
       " Prediction(uid=5947, iid=2661, r_ui=5.0, est=2.840242040111886, details={'was_impossible': False}),\n",
       " Prediction(uid=368, iid=19, r_ui=3.0, est=2.686809547757542, details={'was_impossible': False}),\n",
       " Prediction(uid=5854, iid=913, r_ui=4.0, est=4.487345225008749, details={'was_impossible': False}),\n",
       " Prediction(uid=750, iid=3897, r_ui=4.0, est=4.411832375501484, details={'was_impossible': False}),\n",
       " Prediction(uid=5047, iid=2617, r_ui=3.0, est=2.8273629998056817, details={'was_impossible': False}),\n",
       " Prediction(uid=1546, iid=1518, r_ui=3.0, est=3.156937684619374, details={'was_impossible': False}),\n",
       " Prediction(uid=4084, iid=999, r_ui=4.0, est=3.899583669828366, details={'was_impossible': False}),\n",
       " Prediction(uid=5198, iid=29, r_ui=2.0, est=3.956884343526492, details={'was_impossible': False}),\n",
       " Prediction(uid=1474, iid=2609, r_ui=5.0, est=4.190791982151814, details={'was_impossible': False}),\n",
       " Prediction(uid=1547, iid=1219, r_ui=4.0, est=3.849238980189093, details={'was_impossible': False}),\n",
       " Prediction(uid=1501, iid=708, r_ui=3.0, est=3.9429905072700957, details={'was_impossible': False}),\n",
       " Prediction(uid=2751, iid=3671, r_ui=2.0, est=3.8172845981937273, details={'was_impossible': False}),\n",
       " Prediction(uid=5084, iid=1777, r_ui=5.0, est=3.769577286567896, details={'was_impossible': False}),\n",
       " Prediction(uid=2474, iid=2571, r_ui=5.0, est=4.649738381548458, details={'was_impossible': False}),\n",
       " Prediction(uid=4030, iid=480, r_ui=5.0, est=3.271549574400719, details={'was_impossible': False}),\n",
       " Prediction(uid=5763, iid=527, r_ui=4.0, est=4.07454199082829, details={'was_impossible': False}),\n",
       " Prediction(uid=6036, iid=2926, r_ui=4.0, est=3.284303739788672, details={'was_impossible': False}),\n",
       " Prediction(uid=4836, iid=3755, r_ui=2.0, est=2.596737586354616, details={'was_impossible': False}),\n",
       " Prediction(uid=2304, iid=150, r_ui=4.0, est=4.235824299187215, details={'was_impossible': False}),\n",
       " Prediction(uid=4411, iid=1208, r_ui=5.0, est=4.50098170716316, details={'was_impossible': False}),\n",
       " Prediction(uid=3758, iid=2690, r_ui=3.0, est=3.0036517034318875, details={'was_impossible': False}),\n",
       " Prediction(uid=5038, iid=3070, r_ui=3.0, est=3.9408362813834144, details={'was_impossible': False}),\n",
       " Prediction(uid=4055, iid=1711, r_ui=3.0, est=2.7715241588450805, details={'was_impossible': False}),\n",
       " Prediction(uid=1879, iid=1641, r_ui=5.0, est=3.9257235422396, details={'was_impossible': False}),\n",
       " Prediction(uid=49, iid=1370, r_ui=4.0, est=3.6735794543179865, details={'was_impossible': False}),\n",
       " Prediction(uid=2105, iid=1586, r_ui=3.0, est=2.2351243109965115, details={'was_impossible': False}),\n",
       " Prediction(uid=5771, iid=1090, r_ui=5.0, est=3.781400166282768, details={'was_impossible': False}),\n",
       " Prediction(uid=70, iid=2700, r_ui=5.0, est=3.642865223107767, details={'was_impossible': False}),\n",
       " Prediction(uid=5100, iid=1327, r_ui=3.0, est=2.899015841761071, details={'was_impossible': False}),\n",
       " Prediction(uid=2491, iid=1198, r_ui=5.0, est=4.387532201302031, details={'was_impossible': False}),\n",
       " Prediction(uid=2119, iid=1201, r_ui=4.0, est=4.12387015162453, details={'was_impossible': False}),\n",
       " Prediction(uid=5699, iid=2470, r_ui=3.0, est=2.767094874483789, details={'was_impossible': False}),\n",
       " Prediction(uid=4971, iid=3174, r_ui=3.0, est=3.491836711933923, details={'was_impossible': False}),\n",
       " Prediction(uid=601, iid=2337, r_ui=2.0, est=2.9418020135452343, details={'was_impossible': False}),\n",
       " Prediction(uid=3191, iid=2340, r_ui=3.0, est=3.342332448145451, details={'was_impossible': False}),\n",
       " Prediction(uid=93, iid=3063, r_ui=2.0, est=2.6580815370355624, details={'was_impossible': False}),\n",
       " Prediction(uid=382, iid=1290, r_ui=4.0, est=3.7885226768296127, details={'was_impossible': False}),\n",
       " Prediction(uid=5699, iid=1356, r_ui=3.0, est=2.7795165432243634, details={'was_impossible': False}),\n",
       " Prediction(uid=3935, iid=2496, r_ui=2.0, est=3.499456207047718, details={'was_impossible': False}),\n",
       " Prediction(uid=5321, iid=367, r_ui=2.0, est=2.6243106127503872, details={'was_impossible': False}),\n",
       " Prediction(uid=5113, iid=1735, r_ui=2.0, est=2.1096306578458113, details={'was_impossible': False}),\n",
       " Prediction(uid=2265, iid=2405, r_ui=4.0, est=3.461513003052134, details={'was_impossible': False}),\n",
       " Prediction(uid=4194, iid=3396, r_ui=4.0, est=3.8566352022683636, details={'was_impossible': False}),\n",
       " Prediction(uid=4784, iid=2294, r_ui=4.0, est=4.07408374577409, details={'was_impossible': False}),\n",
       " Prediction(uid=2899, iid=415, r_ui=4.0, est=3.26416235938897, details={'was_impossible': False}),\n",
       " Prediction(uid=4041, iid=1769, r_ui=4.0, est=3.261631627986301, details={'was_impossible': False}),\n",
       " Prediction(uid=1694, iid=2155, r_ui=3.0, est=3.3608028299653023, details={'was_impossible': False}),\n",
       " Prediction(uid=2857, iid=3918, r_ui=3.0, est=2.354506095413773, details={'was_impossible': False}),\n",
       " Prediction(uid=1772, iid=2781, r_ui=3.0, est=3.398786630625731, details={'was_impossible': False}),\n",
       " Prediction(uid=476, iid=3, r_ui=3.0, est=3.9793034775685356, details={'was_impossible': False}),\n",
       " Prediction(uid=53, iid=2015, r_ui=4.0, est=4.155670839909503, details={'was_impossible': False}),\n",
       " Prediction(uid=4274, iid=1518, r_ui=3.0, est=3.0523979525644647, details={'was_impossible': False}),\n",
       " Prediction(uid=166, iid=3526, r_ui=4.0, est=3.721455825879159, details={'was_impossible': False}),\n",
       " Prediction(uid=4001, iid=2097, r_ui=4.0, est=4.065052367427178, details={'was_impossible': False}),\n",
       " Prediction(uid=1306, iid=2701, r_ui=3.0, est=2.448134548292254, details={'was_impossible': False}),\n",
       " Prediction(uid=1354, iid=2801, r_ui=2.0, est=3.7929584551844266, details={'was_impossible': False}),\n",
       " Prediction(uid=3430, iid=3155, r_ui=3.0, est=3.32982427473166, details={'was_impossible': False}),\n",
       " Prediction(uid=199, iid=1591, r_ui=1.0, est=2.8566649900771925, details={'was_impossible': False}),\n",
       " Prediction(uid=1302, iid=589, r_ui=4.0, est=4.5420351886437, details={'was_impossible': False}),\n",
       " Prediction(uid=1377, iid=852, r_ui=3.0, est=3.106019360402768, details={'was_impossible': False}),\n",
       " Prediction(uid=2719, iid=1073, r_ui=5.0, est=3.4691614174056524, details={'was_impossible': False}),\n",
       " Prediction(uid=3013, iid=529, r_ui=5.0, est=3.8177139826600186, details={'was_impossible': False}),\n",
       " Prediction(uid=5536, iid=3755, r_ui=4.0, est=2.379229724069089, details={'was_impossible': False}),\n",
       " Prediction(uid=1503, iid=2174, r_ui=4.0, est=3.068986600236898, details={'was_impossible': False}),\n",
       " Prediction(uid=5111, iid=590, r_ui=2.0, est=3.712537193741453, details={'was_impossible': False}),\n",
       " Prediction(uid=509, iid=2841, r_ui=4.0, est=3.9849301247325544, details={'was_impossible': False}),\n",
       " Prediction(uid=1082, iid=2336, r_ui=4.0, est=4.575240246217385, details={'was_impossible': False}),\n",
       " Prediction(uid=1915, iid=3450, r_ui=3.0, est=3.1954826640994223, details={'was_impossible': False}),\n",
       " Prediction(uid=3256, iid=2571, r_ui=5.0, est=4.444517235553571, details={'was_impossible': False}),\n",
       " Prediction(uid=3309, iid=724, r_ui=3.0, est=3.2823447106224966, details={'was_impossible': False}),\n",
       " Prediction(uid=4890, iid=1270, r_ui=2.0, est=2.698540419606142, details={'was_impossible': False}),\n",
       " Prediction(uid=2106, iid=362, r_ui=1.0, est=2.0815700266511437, details={'was_impossible': False}),\n",
       " Prediction(uid=61, iid=3564, r_ui=3.0, est=1.9156071960088676, details={'was_impossible': False}),\n",
       " Prediction(uid=173, iid=2639, r_ui=2.0, est=3.1505971441205736, details={'was_impossible': False}),\n",
       " Prediction(uid=3511, iid=866, r_ui=5.0, est=4.103905785349411, details={'was_impossible': False}),\n",
       " Prediction(uid=1112, iid=2662, r_ui=3.0, est=3.7729856483761948, details={'was_impossible': False}),\n",
       " Prediction(uid=976, iid=3543, r_ui=4.0, est=3.7866518136167557, details={'was_impossible': False}),\n",
       " Prediction(uid=2920, iid=1270, r_ui=2.0, est=3.306201066281666, details={'was_impossible': False}),\n",
       " Prediction(uid=4514, iid=1911, r_ui=1.0, est=2.539059083199839, details={'was_impossible': False}),\n",
       " Prediction(uid=1104, iid=32, r_ui=5.0, est=4.062098207457829, details={'was_impossible': False}),\n",
       " Prediction(uid=3342, iid=3146, r_ui=3.0, est=2.730450501510948, details={'was_impossible': False}),\n",
       " Prediction(uid=5163, iid=2028, r_ui=4.0, est=4.339588145028931, details={'was_impossible': False}),\n",
       " Prediction(uid=1837, iid=3551, r_ui=4.0, est=3.921484578013896, details={'was_impossible': False}),\n",
       " Prediction(uid=2867, iid=3354, r_ui=5.0, est=3.7985459865744633, details={'was_impossible': False}),\n",
       " Prediction(uid=1391, iid=3534, r_ui=3.0, est=3.0105690329930312, details={'was_impossible': False}),\n",
       " Prediction(uid=3519, iid=2314, r_ui=3.0, est=2.475978803969813, details={'was_impossible': False}),\n",
       " Prediction(uid=4742, iid=1625, r_ui=4.0, est=3.9845121507798145, details={'was_impossible': False}),\n",
       " Prediction(uid=2969, iid=1997, r_ui=3.0, est=3.837725602105028, details={'was_impossible': False}),\n",
       " Prediction(uid=2158, iid=3160, r_ui=5.0, est=3.72196691153956, details={'was_impossible': False}),\n",
       " Prediction(uid=3651, iid=1805, r_ui=4.0, est=3.5416062937503674, details={'was_impossible': False}),\n",
       " Prediction(uid=4007, iid=2470, r_ui=3.0, est=3.043420497228618, details={'was_impossible': False}),\n",
       " Prediction(uid=770, iid=1387, r_ui=4.0, est=3.833253572511305, details={'was_impossible': False}),\n",
       " Prediction(uid=3029, iid=2094, r_ui=3.0, est=3.634587769616983, details={'was_impossible': False}),\n",
       " Prediction(uid=3711, iid=1094, r_ui=5.0, est=3.988626600941635, details={'was_impossible': False}),\n",
       " Prediction(uid=3156, iid=648, r_ui=3.0, est=3.6983678062874876, details={'was_impossible': False}),\n",
       " Prediction(uid=5376, iid=2090, r_ui=3.0, est=3.198481748751853, details={'was_impossible': False}),\n",
       " Prediction(uid=698, iid=1396, r_ui=4.0, est=3.180923395278883, details={'was_impossible': False}),\n",
       " Prediction(uid=4253, iid=1080, r_ui=2.0, est=2.7088670166658533, details={'was_impossible': False}),\n",
       " Prediction(uid=5924, iid=1086, r_ui=4.0, est=3.986919588873899, details={'was_impossible': False}),\n",
       " Prediction(uid=3669, iid=2803, r_ui=3.0, est=2.7443077984862057, details={'was_impossible': False}),\n",
       " Prediction(uid=3299, iid=3298, r_ui=3.0, est=3.437694693083489, details={'was_impossible': False}),\n",
       " Prediction(uid=2664, iid=1259, r_ui=4.0, est=4.40863373564807, details={'was_impossible': False}),\n",
       " Prediction(uid=4384, iid=2915, r_ui=4.0, est=4.146454664852402, details={'was_impossible': False}),\n",
       " Prediction(uid=660, iid=3196, r_ui=4.0, est=3.5221323552273227, details={'was_impossible': False}),\n",
       " Prediction(uid=4144, iid=2043, r_ui=3.0, est=2.972771548917276, details={'was_impossible': False}),\n",
       " Prediction(uid=5643, iid=1177, r_ui=4.0, est=4.007905594486312, details={'was_impossible': False}),\n",
       " Prediction(uid=232, iid=2289, r_ui=5.0, est=4.310191786462971, details={'was_impossible': False}),\n",
       " Prediction(uid=3764, iid=926, r_ui=4.0, est=4.1255390901693785, details={'was_impossible': False}),\n",
       " Prediction(uid=3207, iid=1339, r_ui=1.0, est=4.706088197250845, details={'was_impossible': False}),\n",
       " Prediction(uid=5536, iid=2252, r_ui=3.0, est=2.3069883928118835, details={'was_impossible': False}),\n",
       " Prediction(uid=1101, iid=3068, r_ui=4.0, est=3.4402366654932237, details={'was_impossible': False}),\n",
       " Prediction(uid=4615, iid=2320, r_ui=2.0, est=3.0233865119652465, details={'was_impossible': False}),\n",
       " Prediction(uid=4621, iid=1784, r_ui=4.0, est=3.6243186815433623, details={'was_impossible': False}),\n",
       " Prediction(uid=3692, iid=3623, r_ui=4.0, est=3.5985767398523594, details={'was_impossible': False}),\n",
       " Prediction(uid=1726, iid=1275, r_ui=2.0, est=3.134212110849991, details={'was_impossible': False}),\n",
       " Prediction(uid=3518, iid=2908, r_ui=5.0, est=4.431873036196437, details={'was_impossible': False}),\n",
       " Prediction(uid=3142, iid=1288, r_ui=5.0, est=4.242995509288394, details={'was_impossible': False}),\n",
       " Prediction(uid=1246, iid=3114, r_ui=4.0, est=4.440772301389556, details={'was_impossible': False}),\n",
       " Prediction(uid=2600, iid=2997, r_ui=1.0, est=2.816131966748914, details={'was_impossible': False}),\n",
       " Prediction(uid=204, iid=2431, r_ui=4.0, est=3.800386502978017, details={'was_impossible': False}),\n",
       " Prediction(uid=3591, iid=3686, r_ui=5.0, est=3.394133576709206, details={'was_impossible': False}),\n",
       " Prediction(uid=5452, iid=290, r_ui=3.0, est=3.6504683200538492, details={'was_impossible': False}),\n",
       " Prediction(uid=393, iid=1244, r_ui=5.0, est=3.7071946326419294, details={'was_impossible': False}),\n",
       " Prediction(uid=1878, iid=1214, r_ui=4.0, est=4.027191630927891, details={'was_impossible': False}),\n",
       " Prediction(uid=4401, iid=1952, r_ui=4.0, est=4.461806972712033, details={'was_impossible': False}),\n",
       " Prediction(uid=5812, iid=2065, r_ui=5.0, est=3.7271405026221602, details={'was_impossible': False}),\n",
       " Prediction(uid=3403, iid=1566, r_ui=4.0, est=3.519977172640969, details={'was_impossible': False}),\n",
       " Prediction(uid=4808, iid=2167, r_ui=5.0, est=3.3625530501729117, details={'was_impossible': False}),\n",
       " Prediction(uid=4048, iid=2496, r_ui=5.0, est=3.9852047113559057, details={'was_impossible': False}),\n",
       " Prediction(uid=5367, iid=3481, r_ui=5.0, est=3.3421629366148835, details={'was_impossible': False}),\n",
       " Prediction(uid=5829, iid=2671, r_ui=2.0, est=3.3562926563953166, details={'was_impossible': False}),\n",
       " Prediction(uid=4728, iid=1275, r_ui=5.0, est=4.0449340979286115, details={'was_impossible': False}),\n",
       " Prediction(uid=2847, iid=2496, r_ui=1.0, est=2.39489368932567, details={'was_impossible': False}),\n",
       " Prediction(uid=2148, iid=1307, r_ui=4.0, est=4.419032187498419, details={'was_impossible': False}),\n",
       " Prediction(uid=4243, iid=2410, r_ui=4.0, est=4.002946791682295, details={'was_impossible': False}),\n",
       " Prediction(uid=918, iid=316, r_ui=4.0, est=2.971574814275743, details={'was_impossible': False}),\n",
       " Prediction(uid=5763, iid=3304, r_ui=4.0, est=2.9105665388901025, details={'was_impossible': False}),\n",
       " Prediction(uid=3140, iid=805, r_ui=4.0, est=4.164957277663843, details={'was_impossible': False}),\n",
       " Prediction(uid=5689, iid=497, r_ui=4.0, est=3.7596883299695105, details={'was_impossible': False}),\n",
       " Prediction(uid=4313, iid=608, r_ui=5.0, est=4.775592726002796, details={'was_impossible': False}),\n",
       " Prediction(uid=1102, iid=3752, r_ui=1.0, est=1.7636939806141463, details={'was_impossible': False}),\n",
       " Prediction(uid=5643, iid=2016, r_ui=2.0, est=1.8485277701586806, details={'was_impossible': False}),\n",
       " Prediction(uid=4976, iid=2861, r_ui=5.0, est=3.8348466388715012, details={'was_impossible': False}),\n",
       " Prediction(uid=3158, iid=480, r_ui=4.0, est=3.2294143809804137, details={'was_impossible': False}),\n",
       " Prediction(uid=3970, iid=1198, r_ui=4.0, est=4.4667226324042115, details={'was_impossible': False}),\n",
       " Prediction(uid=975, iid=541, r_ui=5.0, est=4.547854313207104, details={'was_impossible': False}),\n",
       " Prediction(uid=2611, iid=875, r_ui=4.0, est=3.0305141872636767, details={'was_impossible': False}),\n",
       " Prediction(uid=4957, iid=1313, r_ui=2.0, est=2.4259808905228977, details={'was_impossible': False}),\n",
       " Prediction(uid=850, iid=2247, r_ui=3.0, est=3.0404548502950557, details={'was_impossible': False}),\n",
       " Prediction(uid=1010, iid=1967, r_ui=3.0, est=2.7193830711070777, details={'was_impossible': False}),\n",
       " Prediction(uid=2895, iid=2985, r_ui=5.0, est=4.323947567123948, details={'was_impossible': False}),\n",
       " Prediction(uid=453, iid=1963, r_ui=5.0, est=4.277157481709878, details={'was_impossible': False}),\n",
       " Prediction(uid=5662, iid=1620, r_ui=4.0, est=4.4227704004334605, details={'was_impossible': False}),\n",
       " Prediction(uid=2962, iid=2122, r_ui=2.0, est=1.9398313822126136, details={'was_impossible': False}),\n",
       " Prediction(uid=4298, iid=1196, r_ui=5.0, est=4.570168343570721, details={'was_impossible': False}),\n",
       " Prediction(uid=1920, iid=3735, r_ui=2.0, est=3.2289087314434717, details={'was_impossible': False}),\n",
       " Prediction(uid=1902, iid=163, r_ui=4.0, est=3.9954099989208425, details={'was_impossible': False}),\n",
       " Prediction(uid=1380, iid=2012, r_ui=3.0, est=3.4004896460919087, details={'was_impossible': False}),\n",
       " Prediction(uid=3923, iid=589, r_ui=4.0, est=4.370154462505677, details={'was_impossible': False}),\n",
       " Prediction(uid=4308, iid=2720, r_ui=2.0, est=1.8024804775636438, details={'was_impossible': False}),\n",
       " Prediction(uid=2320, iid=1950, r_ui=5.0, est=3.9543630677237123, details={'was_impossible': False}),\n",
       " Prediction(uid=3621, iid=517, r_ui=3.0, est=3.078667106569362, details={'was_impossible': False}),\n",
       " Prediction(uid=2231, iid=3540, r_ui=4.0, est=2.7751592904975633, details={'was_impossible': False}),\n",
       " Prediction(uid=2063, iid=1060, r_ui=3.0, est=3.620043105497196, details={'was_impossible': False}),\n",
       " Prediction(uid=4207, iid=2409, r_ui=3.0, est=3.8722428688168664, details={'was_impossible': False}),\n",
       " Prediction(uid=4953, iid=1625, r_ui=5.0, est=4.436049794912591, details={'was_impossible': False}),\n",
       " Prediction(uid=2531, iid=1307, r_ui=5.0, est=3.914365070306415, details={'was_impossible': False}),\n",
       " Prediction(uid=1812, iid=714, r_ui=5.0, est=5, details={'was_impossible': False}),\n",
       " Prediction(uid=4389, iid=1208, r_ui=4.0, est=3.7619705194794695, details={'was_impossible': False}),\n",
       " Prediction(uid=5323, iid=2529, r_ui=5.0, est=3.810185883502222, details={'was_impossible': False}),\n",
       " Prediction(uid=3509, iid=170, r_ui=3.0, est=2.4418635248624874, details={'was_impossible': False}),\n",
       " Prediction(uid=1976, iid=1408, r_ui=3.0, est=4.194424045541225, details={'was_impossible': False}),\n",
       " Prediction(uid=4718, iid=1580, r_ui=4.0, est=4.381723365534216, details={'was_impossible': False}),\n",
       " Prediction(uid=3992, iid=558, r_ui=4.0, est=3.151756929322595, details={'was_impossible': False}),\n",
       " Prediction(uid=4682, iid=471, r_ui=5.0, est=4.460509453611717, details={'was_impossible': False}),\n",
       " Prediction(uid=1643, iid=2468, r_ui=3.0, est=3.5124094594648314, details={'was_impossible': False}),\n",
       " Prediction(uid=1140, iid=2527, r_ui=3.0, est=2.6979390956817446, details={'was_impossible': False}),\n",
       " Prediction(uid=4363, iid=2098, r_ui=4.0, est=3.820445594626685, details={'was_impossible': False}),\n",
       " Prediction(uid=352, iid=2374, r_ui=4.0, est=2.864189877209749, details={'was_impossible': False}),\n",
       " Prediction(uid=3462, iid=337, r_ui=5.0, est=4.115225979313859, details={'was_impossible': False}),\n",
       " Prediction(uid=4658, iid=1977, r_ui=1.0, est=2.1952577040555283, details={'was_impossible': False}),\n",
       " Prediction(uid=1912, iid=3447, r_ui=2.0, est=2.6980732711537327, details={'was_impossible': False}),\n",
       " Prediction(uid=777, iid=1101, r_ui=3.0, est=3.131777253043562, details={'was_impossible': False}),\n",
       " Prediction(uid=1593, iid=1617, r_ui=3.0, est=3.675645547031466, details={'was_impossible': False}),\n",
       " Prediction(uid=5099, iid=2717, r_ui=4.0, est=3.468714147745359, details={'was_impossible': False}),\n",
       " Prediction(uid=1321, iid=1197, r_ui=3.0, est=3.6911077500311693, details={'was_impossible': False}),\n",
       " Prediction(uid=23, iid=3479, r_ui=3.0, est=3.207691622999964, details={'was_impossible': False}),\n",
       " Prediction(uid=4898, iid=337, r_ui=4.0, est=4.227106484537894, details={'was_impossible': False}),\n",
       " Prediction(uid=2741, iid=1610, r_ui=5.0, est=4.475119574942384, details={'was_impossible': False}),\n",
       " Prediction(uid=2909, iid=2817, r_ui=2.0, est=1.8556553640811466, details={'was_impossible': False}),\n",
       " Prediction(uid=2808, iid=3795, r_ui=4.0, est=4.198615450262337, details={'was_impossible': False}),\n",
       " Prediction(uid=2753, iid=1244, r_ui=3.0, est=3.7898758192255784, details={'was_impossible': False}),\n",
       " Prediction(uid=4041, iid=1639, r_ui=3.0, est=4.1295376745015275, details={'was_impossible': False}),\n",
       " Prediction(uid=4869, iid=1953, r_ui=3.0, est=3.4380160284974783, details={'was_impossible': False}),\n",
       " Prediction(uid=4948, iid=1285, r_ui=3.0, est=3.5521216412533083, details={'was_impossible': False}),\n",
       " Prediction(uid=1697, iid=2997, r_ui=3.0, est=3.1034307333932727, details={'was_impossible': False}),\n",
       " Prediction(uid=3760, iid=32, r_ui=3.0, est=4.250692349510154, details={'was_impossible': False}),\n",
       " Prediction(uid=5939, iid=1183, r_ui=4.0, est=3.9978481504862744, details={'was_impossible': False}),\n",
       " Prediction(uid=4919, iid=1136, r_ui=5.0, est=3.9204486734763098, details={'was_impossible': False}),\n",
       " Prediction(uid=696, iid=480, r_ui=3.0, est=3.238795507961017, details={'was_impossible': False}),\n",
       " Prediction(uid=3512, iid=1676, r_ui=3.0, est=2.7303921642676054, details={'was_impossible': False}),\n",
       " Prediction(uid=1916, iid=309, r_ui=4.0, est=3.842410168454839, details={'was_impossible': False}),\n",
       " Prediction(uid=5530, iid=2959, r_ui=5.0, est=3.6896041733263747, details={'was_impossible': False}),\n",
       " Prediction(uid=2383, iid=1188, r_ui=5.0, est=3.597664546057231, details={'was_impossible': False}),\n",
       " Prediction(uid=3749, iid=852, r_ui=2.0, est=3.386494214008638, details={'was_impossible': False}),\n",
       " Prediction(uid=3261, iid=1517, r_ui=4.0, est=3.9989709308797567, details={'was_impossible': False}),\n",
       " Prediction(uid=4610, iid=3442, r_ui=1.0, est=2.457315999863723, details={'was_impossible': False}),\n",
       " Prediction(uid=2792, iid=647, r_ui=3.0, est=3.3296776807521606, details={'was_impossible': False}),\n",
       " Prediction(uid=2629, iid=3039, r_ui=5.0, est=4.066213134446222, details={'was_impossible': False}),\n",
       " Prediction(uid=5096, iid=1704, r_ui=5.0, est=4.060489137016276, details={'was_impossible': False}),\n",
       " Prediction(uid=1824, iid=3189, r_ui=4.0, est=3.539689149904231, details={'was_impossible': False}),\n",
       " Prediction(uid=5434, iid=47, r_ui=5.0, est=4.089522962310223, details={'was_impossible': False}),\n",
       " Prediction(uid=6036, iid=1226, r_ui=4.0, est=3.8654509576647063, details={'was_impossible': False}),\n",
       " Prediction(uid=5787, iid=1019, r_ui=4.0, est=3.9206502561070993, details={'was_impossible': False}),\n",
       " Prediction(uid=5222, iid=2083, r_ui=2.0, est=2.8670524466828264, details={'was_impossible': False}),\n",
       " Prediction(uid=2411, iid=2336, r_ui=4.0, est=3.7114572042952476, details={'was_impossible': False}),\n",
       " Prediction(uid=5536, iid=3436, r_ui=2.0, est=2.634340917452479, details={'was_impossible': False}),\n",
       " Prediction(uid=2077, iid=2858, r_ui=5.0, est=5, details={'was_impossible': False}),\n",
       " Prediction(uid=208, iid=50, r_ui=4.0, est=4.242242567577383, details={'was_impossible': False}),\n",
       " Prediction(uid=729, iid=2167, r_ui=1.0, est=3.2414679665682304, details={'was_impossible': False}),\n",
       " Prediction(uid=4889, iid=3705, r_ui=4.0, est=3.232129064838081, details={'was_impossible': False}),\n",
       " Prediction(uid=2537, iid=429, r_ui=1.0, est=1.7329952900535577, details={'was_impossible': False}),\n",
       " Prediction(uid=3779, iid=3097, r_ui=4.0, est=4.204011312143178, details={'was_impossible': False}),\n",
       " Prediction(uid=3107, iid=2640, r_ui=3.0, est=4.102317721815719, details={'was_impossible': False}),\n",
       " Prediction(uid=123, iid=381, r_ui=4.0, est=3.238906797715451, details={'was_impossible': False}),\n",
       " Prediction(uid=855, iid=953, r_ui=5.0, est=3.9234245993757306, details={'was_impossible': False}),\n",
       " Prediction(uid=3163, iid=3034, r_ui=3.0, est=4.294049377050262, details={'was_impossible': False}),\n",
       " Prediction(uid=1324, iid=608, r_ui=4.0, est=4.2241744073164345, details={'was_impossible': False}),\n",
       " Prediction(uid=5198, iid=2142, r_ui=2.0, est=2.2471890611577248, details={'was_impossible': False}),\n",
       " Prediction(uid=945, iid=163, r_ui=4.0, est=3.3318478741071007, details={'was_impossible': False}),\n",
       " Prediction(uid=1194, iid=3201, r_ui=3.0, est=3.501116621729012, details={'was_impossible': False}),\n",
       " Prediction(uid=2592, iid=1950, r_ui=5.0, est=4.334229911070132, details={'was_impossible': False}),\n",
       " Prediction(uid=4708, iid=1394, r_ui=5.0, est=4.794967645530904, details={'was_impossible': False}),\n",
       " Prediction(uid=1803, iid=1845, r_ui=4.0, est=3.4021251077797388, details={'was_impossible': False}),\n",
       " Prediction(uid=1027, iid=2028, r_ui=4.0, est=4.021838729859635, details={'was_impossible': False}),\n",
       " Prediction(uid=1242, iid=1148, r_ui=5.0, est=4.405165784412877, details={'was_impossible': False}),\n",
       " Prediction(uid=710, iid=1703, r_ui=2.0, est=2.7822767553998484, details={'was_impossible': False}),\n",
       " Prediction(uid=5431, iid=556, r_ui=4.0, est=4.113358615752357, details={'was_impossible': False}),\n",
       " Prediction(uid=505, iid=466, r_ui=3.0, est=3.5611568977836567, details={'was_impossible': False}),\n",
       " Prediction(uid=4658, iid=2288, r_ui=3.0, est=3.1966675112474925, details={'was_impossible': False}),\n",
       " Prediction(uid=4585, iid=519, r_ui=3.0, est=2.630876245372475, details={'was_impossible': False}),\n",
       " Prediction(uid=5915, iid=543, r_ui=4.0, est=3.762654341393216, details={'was_impossible': False}),\n",
       " Prediction(uid=513, iid=435, r_ui=1.0, est=1.950691396477635, details={'was_impossible': False}),\n",
       " Prediction(uid=3054, iid=1500, r_ui=3.0, est=3.3216111155885617, details={'was_impossible': False}),\n",
       " Prediction(uid=4543, iid=1407, r_ui=4.0, est=3.400662804010486, details={'was_impossible': False}),\n",
       " Prediction(uid=3507, iid=1093, r_ui=4.0, est=3.9250952438133018, details={'was_impossible': False}),\n",
       " Prediction(uid=2938, iid=539, r_ui=5.0, est=3.775889020564684, details={'was_impossible': False}),\n",
       " Prediction(uid=5530, iid=2282, r_ui=4.0, est=3.466148284297757, details={'was_impossible': False}),\n",
       " Prediction(uid=5378, iid=3729, r_ui=4.0, est=3.6676687794835874, details={'was_impossible': False}),\n",
       " Prediction(uid=4591, iid=1196, r_ui=5.0, est=4.237219998755771, details={'was_impossible': False}),\n",
       " Prediction(uid=4041, iid=1020, r_ui=4.0, est=3.2604475771103107, details={'was_impossible': False}),\n",
       " Prediction(uid=3285, iid=553, r_ui=3.0, est=3.9504834337752093, details={'was_impossible': False}),\n",
       " Prediction(uid=3934, iid=3263, r_ui=2.0, est=2.4774465214286057, details={'was_impossible': False}),\n",
       " Prediction(uid=1941, iid=3693, r_ui=1.0, est=1.4349645079117233, details={'was_impossible': False}),\n",
       " Prediction(uid=4041, iid=47, r_ui=4.0, est=3.973382479328943, details={'was_impossible': False}),\n",
       " Prediction(uid=537, iid=3730, r_ui=5.0, est=4.549401896181719, details={'was_impossible': False}),\n",
       " Prediction(uid=5318, iid=3256, r_ui=4.0, est=3.8569367695843977, details={'was_impossible': False}),\n",
       " Prediction(uid=1980, iid=2396, r_ui=5.0, est=4.678627463978019, details={'was_impossible': False}),\n",
       " Prediction(uid=5054, iid=852, r_ui=3.0, est=2.9607278181402394, details={'was_impossible': False}),\n",
       " Prediction(uid=4237, iid=1912, r_ui=4.0, est=3.4963070677723054, details={'was_impossible': False}),\n",
       " Prediction(uid=2487, iid=527, r_ui=4.0, est=3.9845458328775902, details={'was_impossible': False}),\n",
       " Prediction(uid=5102, iid=2918, r_ui=5.0, est=4.813257579302891, details={'was_impossible': False}),\n",
       " Prediction(uid=1312, iid=2354, r_ui=2.0, est=3.1311903592256836, details={'was_impossible': False}),\n",
       " Prediction(uid=2492, iid=1291, r_ui=3.0, est=4.5158702239960515, details={'was_impossible': False}),\n",
       " Prediction(uid=5624, iid=356, r_ui=4.0, est=3.7778040101323973, details={'was_impossible': False}),\n",
       " Prediction(uid=2127, iid=2683, r_ui=3.0, est=4.129768333861164, details={'was_impossible': False}),\n",
       " Prediction(uid=2857, iid=2628, r_ui=4.0, est=3.251025257832697, details={'was_impossible': False}),\n",
       " Prediction(uid=4320, iid=919, r_ui=5.0, est=4.764917056814352, details={'was_impossible': False}),\n",
       " Prediction(uid=3534, iid=1748, r_ui=1.0, est=3.7312193915362126, details={'was_impossible': False}),\n",
       " Prediction(uid=1571, iid=2795, r_ui=3.0, est=3.5128730445897416, details={'was_impossible': False}),\n",
       " Prediction(uid=3823, iid=952, r_ui=5.0, est=3.5551582160022615, details={'was_impossible': False}),\n",
       " Prediction(uid=6036, iid=2419, r_ui=3.0, est=2.7007559262977434, details={'was_impossible': False}),\n",
       " Prediction(uid=2916, iid=3328, r_ui=5.0, est=4.04271467436318, details={'was_impossible': False}),\n",
       " Prediction(uid=2777, iid=3948, r_ui=4.0, est=4.032668620962468, details={'was_impossible': False}),\n",
       " Prediction(uid=1873, iid=3623, r_ui=4.0, est=3.382033921886335, details={'was_impossible': False}),\n",
       " Prediction(uid=2190, iid=2599, r_ui=4.0, est=4.317619889577661, details={'was_impossible': False}),\n",
       " Prediction(uid=3253, iid=3246, r_ui=4.0, est=3.875372781312926, details={'was_impossible': False}),\n",
       " Prediction(uid=3232, iid=2396, r_ui=4.0, est=3.4172814419691044, details={'was_impossible': False}),\n",
       " Prediction(uid=5479, iid=1994, r_ui=3.0, est=2.8463836943148677, details={'was_impossible': False}),\n",
       " Prediction(uid=3745, iid=1923, r_ui=5.0, est=4.326320468112568, details={'was_impossible': False}),\n",
       " Prediction(uid=5550, iid=494, r_ui=5.0, est=3.7535627710687614, details={'was_impossible': False}),\n",
       " Prediction(uid=5770, iid=1358, r_ui=5.0, est=4.854972603187099, details={'was_impossible': False}),\n",
       " Prediction(uid=5193, iid=1395, r_ui=3.0, est=3.1854425652975187, details={'was_impossible': False}),\n",
       " Prediction(uid=4253, iid=588, r_ui=4.0, est=3.2238954182658777, details={'was_impossible': False}),\n",
       " Prediction(uid=5090, iid=1965, r_ui=5.0, est=3.5602194890005174, details={'was_impossible': False}),\n",
       " Prediction(uid=5872, iid=2396, r_ui=4.0, est=4.092713192987697, details={'was_impossible': False}),\n",
       " Prediction(uid=5517, iid=1287, r_ui=4.0, est=4.176213931538163, details={'was_impossible': False}),\n",
       " Prediction(uid=4983, iid=594, r_ui=4.0, est=4.201187268842223, details={'was_impossible': False}),\n",
       " Prediction(uid=3458, iid=317, r_ui=3.0, est=3.923973717500011, details={'was_impossible': False}),\n",
       " Prediction(uid=3301, iid=3481, r_ui=4.0, est=3.801865491994305, details={'was_impossible': False}),\n",
       " Prediction(uid=4271, iid=3213, r_ui=1.0, est=3.1173976070716605, details={'was_impossible': False}),\n",
       " Prediction(uid=3512, iid=1276, r_ui=4.0, est=4.54813673888299, details={'was_impossible': False}),\n",
       " Prediction(uid=5638, iid=1014, r_ui=3.0, est=3.3482374758502913, details={'was_impossible': False}),\n",
       " Prediction(uid=4508, iid=1260, r_ui=5.0, est=4.2409724035139265, details={'was_impossible': False}),\n",
       " Prediction(uid=3597, iid=2081, r_ui=5.0, est=4.318701986706538, details={'was_impossible': False}),\n",
       " Prediction(uid=1244, iid=1597, r_ui=3.0, est=3.0897643651831586, details={'was_impossible': False}),\n",
       " Prediction(uid=5404, iid=1302, r_ui=4.0, est=4.282372523417214, details={'was_impossible': False}),\n",
       " Prediction(uid=5273, iid=1244, r_ui=5.0, est=4.245824350689624, details={'was_impossible': False}),\n",
       " Prediction(uid=2279, iid=3932, r_ui=5.0, est=3.6438415110993274, details={'was_impossible': False}),\n",
       " Prediction(uid=1288, iid=3037, r_ui=4.0, est=4.009219543755125, details={'was_impossible': False}),\n",
       " Prediction(uid=565, iid=3481, r_ui=4.0, est=3.598333650023659, details={'was_impossible': False}),\n",
       " Prediction(uid=4227, iid=881, r_ui=2.0, est=2.2732895115670204, details={'was_impossible': False}),\n",
       " Prediction(uid=5341, iid=2469, r_ui=4.0, est=3.649441795275965, details={'was_impossible': False}),\n",
       " Prediction(uid=4686, iid=1136, r_ui=5.0, est=4.8528061245618614, details={'was_impossible': False}),\n",
       " Prediction(uid=5331, iid=1104, r_ui=3.0, est=3.599565067196424, details={'was_impossible': False}),\n",
       " Prediction(uid=2634, iid=2019, r_ui=5.0, est=4.632318313201696, details={'was_impossible': False}),\n",
       " Prediction(uid=935, iid=2245, r_ui=4.0, est=3.628086789103808, details={'was_impossible': False}),\n",
       " Prediction(uid=4725, iid=3773, r_ui=3.0, est=3.107456390026086, details={'was_impossible': False}),\n",
       " Prediction(uid=5344, iid=924, r_ui=4.0, est=3.6283522521467244, details={'was_impossible': False}),\n",
       " Prediction(uid=3224, iid=3466, r_ui=4.0, est=3.625829959013777, details={'was_impossible': False}),\n",
       " Prediction(uid=3856, iid=1541, r_ui=3.0, est=3.85322869637842, details={'was_impossible': False}),\n",
       " Prediction(uid=1173, iid=1833, r_ui=3.0, est=2.4559340381258257, details={'was_impossible': False}),\n",
       " Prediction(uid=5852, iid=2926, r_ui=3.0, est=2.8243539499116825, details={'was_impossible': False}),\n",
       " Prediction(uid=3829, iid=187, r_ui=2.0, est=2.7118250935050994, details={'was_impossible': False}),\n",
       " Prediction(uid=855, iid=1235, r_ui=5.0, est=4.366427092015028, details={'was_impossible': False}),\n",
       " Prediction(uid=1942, iid=314, r_ui=5.0, est=3.245948864660811, details={'was_impossible': False}),\n",
       " Prediction(uid=1271, iid=2028, r_ui=5.0, est=5, details={'was_impossible': False}),\n",
       " Prediction(uid=1442, iid=3033, r_ui=3.0, est=3.3991693323220016, details={'was_impossible': False}),\n",
       " Prediction(uid=1329, iid=2389, r_ui=3.0, est=2.8559353558583487, details={'was_impossible': False}),\n",
       " Prediction(uid=1228, iid=501, r_ui=2.0, est=3.2534920547343056, details={'was_impossible': False}),\n",
       " Prediction(uid=868, iid=2633, r_ui=3.0, est=3.546955751425001, details={'was_impossible': False}),\n",
       " Prediction(uid=4408, iid=1081, r_ui=3.0, est=3.714862592512392, details={'was_impossible': False}),\n",
       " Prediction(uid=531, iid=1968, r_ui=4.0, est=3.8200696731523776, details={'was_impossible': False}),\n",
       " Prediction(uid=710, iid=2124, r_ui=4.0, est=3.150315050930906, details={'was_impossible': False}),\n",
       " Prediction(uid=3017, iid=1966, r_ui=3.0, est=3.1027533904659252, details={'was_impossible': False}),\n",
       " Prediction(uid=3321, iid=2352, r_ui=3.0, est=3.8538256259712016, details={'was_impossible': False}),\n",
       " Prediction(uid=3749, iid=1343, r_ui=5.0, est=3.5349411016699426, details={'was_impossible': False}),\n",
       " Prediction(uid=2094, iid=3262, r_ui=5.0, est=3.5547949912857555, details={'was_impossible': False}),\n",
       " Prediction(uid=3129, iid=2100, r_ui=3.0, est=2.8895341330967614, details={'was_impossible': False}),\n",
       " Prediction(uid=5223, iid=2289, r_ui=4.0, est=3.9441381380135434, details={'was_impossible': False}),\n",
       " Prediction(uid=4286, iid=3660, r_ui=5.0, est=2.721151227555554, details={'was_impossible': False}),\n",
       " Prediction(uid=3539, iid=1821, r_ui=4.0, est=3.6540547676966315, details={'was_impossible': False}),\n",
       " Prediction(uid=3315, iid=2762, r_ui=5.0, est=4.730618024225507, details={'was_impossible': False}),\n",
       " Prediction(uid=1747, iid=1230, r_ui=3.0, est=2.714765580244223, details={'was_impossible': False}),\n",
       " Prediction(uid=1701, iid=2033, r_ui=3.0, est=2.96225234439269, details={'was_impossible': False}),\n",
       " Prediction(uid=5996, iid=379, r_ui=5.0, est=3.156216698654, details={'was_impossible': False}),\n",
       " Prediction(uid=1916, iid=982, r_ui=4.0, est=3.8220173552279753, details={'was_impossible': False}),\n",
       " Prediction(uid=1194, iid=1246, r_ui=4.0, est=4.23094536033302, details={'was_impossible': False}),\n",
       " Prediction(uid=2645, iid=1894, r_ui=3.0, est=2.822811437330211, details={'was_impossible': False}),\n",
       " Prediction(uid=3641, iid=1960, r_ui=3.0, est=4.509272913770019, details={'was_impossible': False}),\n",
       " Prediction(uid=4107, iid=1356, r_ui=4.0, est=3.9015281423040635, details={'was_impossible': False}),\n",
       " Prediction(uid=3180, iid=3614, r_ui=3.0, est=2.8621554699508596, details={'was_impossible': False}),\n",
       " Prediction(uid=852, iid=260, r_ui=4.0, est=4.395369465170495, details={'was_impossible': False}),\n",
       " Prediction(uid=1667, iid=15, r_ui=2.0, est=2.629334514043886, details={'was_impossible': False}),\n",
       " Prediction(uid=3847, iid=1562, r_ui=3.0, est=1.7805173217687176, details={'was_impossible': False}),\n",
       " Prediction(uid=2231, iid=3075, r_ui=4.0, est=4.181689266565854, details={'was_impossible': False}),\n",
       " Prediction(uid=3067, iid=1126, r_ui=2.0, est=3.384570249377107, details={'was_impossible': False}),\n",
       " Prediction(uid=4041, iid=1205, r_ui=4.0, est=4.060446249476087, details={'was_impossible': False}),\n",
       " Prediction(uid=1943, iid=1546, r_ui=5.0, est=3.7391570455439016, details={'was_impossible': False}),\n",
       " Prediction(uid=3178, iid=858, r_ui=5.0, est=4.405192450107398, details={'was_impossible': False}),\n",
       " Prediction(uid=4237, iid=3102, r_ui=4.0, est=3.9198054528834723, details={'was_impossible': False}),\n",
       " Prediction(uid=4961, iid=1580, r_ui=2.0, est=3.0365272405655257, details={'was_impossible': False}),\n",
       " Prediction(uid=2962, iid=780, r_ui=3.0, est=2.261429089935716, details={'was_impossible': False}),\n",
       " Prediction(uid=3660, iid=2968, r_ui=5.0, est=3.387351185499291, details={'was_impossible': False}),\n",
       " Prediction(uid=5837, iid=3252, r_ui=5.0, est=4.035591694690285, details={'was_impossible': False}),\n",
       " Prediction(uid=5025, iid=1333, r_ui=4.0, est=3.759158446918819, details={'was_impossible': False}),\n",
       " Prediction(uid=3310, iid=1387, r_ui=4.0, est=4.889748218481681, details={'was_impossible': False}),\n",
       " Prediction(uid=2199, iid=2502, r_ui=5.0, est=3.577626671634984, details={'was_impossible': False}),\n",
       " Prediction(uid=1172, iid=913, r_ui=4.0, est=4.408611844569605, details={'was_impossible': False}),\n",
       " Prediction(uid=4457, iid=85, r_ui=4.0, est=3.819480054773769, details={'was_impossible': False}),\n",
       " Prediction(uid=517, iid=577, r_ui=4.0, est=3.4757982002050194, details={'was_impossible': False}),\n",
       " Prediction(uid=4819, iid=2370, r_ui=4.0, est=4.040663964467701, details={'was_impossible': False}),\n",
       " Prediction(uid=1086, iid=1954, r_ui=5.0, est=4.298087002811122, details={'was_impossible': False}),\n",
       " Prediction(uid=1466, iid=493, r_ui=4.0, est=3.8279603413974153, details={'was_impossible': False}),\n",
       " Prediction(uid=660, iid=318, r_ui=5.0, est=4.275110906304042, details={'was_impossible': False}),\n",
       " Prediction(uid=3940, iid=2929, r_ui=5.0, est=4.186189924561146, details={'was_impossible': False}),\n",
       " Prediction(uid=3824, iid=1252, r_ui=4.0, est=3.9012619126742765, details={'was_impossible': False}),\n",
       " Prediction(uid=378, iid=1784, r_ui=2.0, est=3.6667826646303263, details={'was_impossible': False}),\n",
       " Prediction(uid=1748, iid=594, r_ui=4.0, est=3.777081940202633, details={'was_impossible': False}),\n",
       " Prediction(uid=3290, iid=2686, r_ui=3.0, est=3.5451008162386817, details={'was_impossible': False}),\n",
       " Prediction(uid=3031, iid=1, r_ui=4.0, est=4.20023549396489, details={'was_impossible': False}),\n",
       " Prediction(uid=925, iid=914, r_ui=3.0, est=3.6270501951642804, details={'was_impossible': False}),\n",
       " Prediction(uid=1010, iid=1590, r_ui=1.0, est=1.7776352487883518, details={'was_impossible': False}),\n",
       " Prediction(uid=2262, iid=1371, r_ui=4.0, est=3.209410542629767, details={'was_impossible': False}),\n",
       " Prediction(uid=2996, iid=1170, r_ui=1.0, est=2.3936584241168943, details={'was_impossible': False}),\n",
       " Prediction(uid=5949, iid=1500, r_ui=4.0, est=3.0862848789605595, details={'was_impossible': False}),\n",
       " Prediction(uid=3916, iid=2761, r_ui=4.0, est=4.2859718572315, details={'was_impossible': False}),\n",
       " Prediction(uid=4261, iid=21, r_ui=4.0, est=2.9692837339129747, details={'was_impossible': False}),\n",
       " Prediction(uid=1221, iid=2735, r_ui=3.0, est=3.81628314219567, details={'was_impossible': False}),\n",
       " Prediction(uid=911, iid=1246, r_ui=4.0, est=4.647677529152147, details={'was_impossible': False}),\n",
       " Prediction(uid=4310, iid=2890, r_ui=3.0, est=3.996203299748029, details={'was_impossible': False}),\n",
       " Prediction(uid=791, iid=2184, r_ui=3.0, est=3.6997667697491115, details={'was_impossible': False}),\n",
       " Prediction(uid=3487, iid=1617, r_ui=5.0, est=4.689922518497665, details={'was_impossible': False}),\n",
       " Prediction(uid=2795, iid=1617, r_ui=4.0, est=3.6418713389291493, details={'was_impossible': False}),\n",
       " Prediction(uid=1714, iid=648, r_ui=2.0, est=3.14125208706543, details={'was_impossible': False}),\n",
       " Prediction(uid=3574, iid=1639, r_ui=5.0, est=3.855998271930789, details={'was_impossible': False}),\n",
       " Prediction(uid=4979, iid=3035, r_ui=5.0, est=3.732960974316285, details={'was_impossible': False}),\n",
       " Prediction(uid=3013, iid=1095, r_ui=3.0, est=3.380200580997754, details={'was_impossible': False}),\n",
       " Prediction(uid=5950, iid=1387, r_ui=5.0, est=3.643436409337333, details={'was_impossible': False}),\n",
       " Prediction(uid=981, iid=3006, r_ui=3.0, est=2.8593545017336437, details={'was_impossible': False}),\n",
       " Prediction(uid=3153, iid=1265, r_ui=3.0, est=3.7340368325466082, details={'was_impossible': False}),\n",
       " Prediction(uid=855, iid=377, r_ui=3.0, est=3.1463571657581615, details={'was_impossible': False}),\n",
       " Prediction(uid=2944, iid=2605, r_ui=3.0, est=3.8687421204335237, details={'was_impossible': False}),\n",
       " Prediction(uid=257, iid=1653, r_ui=5.0, est=4.267765500466396, details={'was_impossible': False}),\n",
       " Prediction(uid=3842, iid=3418, r_ui=5.0, est=4.236610343952009, details={'was_impossible': False}),\n",
       " Prediction(uid=1181, iid=2640, r_ui=3.0, est=2.881362616120831, details={'was_impossible': False}),\n",
       " Prediction(uid=4028, iid=3130, r_ui=5.0, est=3.0500198189556444, details={'was_impossible': False}),\n",
       " Prediction(uid=349, iid=2985, r_ui=3.0, est=3.517479443999868, details={'was_impossible': False}),\n",
       " Prediction(uid=5769, iid=2997, r_ui=5.0, est=4.504553702603215, details={'was_impossible': False}),\n",
       " Prediction(uid=5268, iid=1552, r_ui=2.0, est=3.078535382557884, details={'was_impossible': False}),\n",
       " Prediction(uid=5511, iid=3395, r_ui=5.0, est=3.5176220474047266, details={'was_impossible': False}),\n",
       " Prediction(uid=601, iid=1267, r_ui=4.0, est=4.2180059787207025, details={'was_impossible': False}),\n",
       " Prediction(uid=4193, iid=3368, r_ui=4.0, est=3.78001308710514, details={'was_impossible': False}),\n",
       " Prediction(uid=1733, iid=1597, r_ui=2.0, est=2.663176461568532, details={'was_impossible': False}),\n",
       " Prediction(uid=2082, iid=589, r_ui=4.0, est=4.646904872580542, details={'was_impossible': False}),\n",
       " Prediction(uid=1759, iid=231, r_ui=4.0, est=4.582324286859272, details={'was_impossible': False}),\n",
       " Prediction(uid=1451, iid=1237, r_ui=3.0, est=4.798168863377527, details={'was_impossible': False}),\n",
       " Prediction(uid=1741, iid=3416, r_ui=4.0, est=4.1489197841284735, details={'was_impossible': False}),\n",
       " Prediction(uid=4966, iid=2366, r_ui=3.0, est=3.416411732151565, details={'was_impossible': False}),\n",
       " Prediction(uid=1861, iid=491, r_ui=3.0, est=3.2605816230793887, details={'was_impossible': False}),\n",
       " Prediction(uid=630, iid=1, r_ui=4.0, est=4.553244220473102, details={'was_impossible': False}),\n",
       " Prediction(uid=876, iid=2028, r_ui=4.0, est=4.16297227302652, details={'was_impossible': False}),\n",
       " Prediction(uid=1753, iid=3479, r_ui=5.0, est=3.891315299877236, details={'was_impossible': False}),\n",
       " Prediction(uid=1261, iid=1383, r_ui=3.0, est=3.0410885231862252, details={'was_impossible': False}),\n",
       " Prediction(uid=4335, iid=2144, r_ui=2.0, est=3.63846965690429, details={'was_impossible': False}),\n",
       " Prediction(uid=5526, iid=1377, r_ui=2.0, est=2.65850766547313, details={'was_impossible': False}),\n",
       " Prediction(uid=4479, iid=1931, r_ui=4.0, est=3.9361940491398384, details={'was_impossible': False}),\n",
       " Prediction(uid=539, iid=2989, r_ui=4.0, est=3.756363680673582, details={'was_impossible': False}),\n",
       " Prediction(uid=5538, iid=931, r_ui=4.0, est=3.9675130888533916, details={'was_impossible': False}),\n",
       " Prediction(uid=4774, iid=1408, r_ui=5.0, est=4.4881674770293065, details={'was_impossible': False}),\n",
       " Prediction(uid=3182, iid=2470, r_ui=3.0, est=2.5317088911894783, details={'was_impossible': False}),\n",
       " Prediction(uid=2754, iid=2961, r_ui=4.0, est=2.992572147073195, details={'was_impossible': False}),\n",
       " Prediction(uid=3519, iid=2846, r_ui=3.0, est=2.8560619786678805, details={'was_impossible': False}),\n",
       " Prediction(uid=5516, iid=1365, r_ui=3.0, est=4.087045705520348, details={'was_impossible': False}),\n",
       " Prediction(uid=1886, iid=527, r_ui=5.0, est=4.673613565989629, details={'was_impossible': False}),\n",
       " Prediction(uid=5927, iid=1794, r_ui=4.0, est=3.533936815798958, details={'was_impossible': False}),\n",
       " Prediction(uid=3212, iid=2575, r_ui=5.0, est=3.151048339731633, details={'was_impossible': False}),\n",
       " Prediction(uid=5964, iid=2735, r_ui=4.0, est=2.970147400645346, details={'was_impossible': False}),\n",
       " Prediction(uid=3993, iid=586, r_ui=3.0, est=2.868536848064307, details={'was_impossible': False}),\n",
       " Prediction(uid=909, iid=1224, r_ui=5.0, est=4.629849561840762, details={'was_impossible': False}),\n",
       " Prediction(uid=937, iid=3755, r_ui=5.0, est=3.178929176923029, details={'was_impossible': False}),\n",
       " Prediction(uid=4663, iid=3671, r_ui=4.0, est=3.6441911513109106, details={'was_impossible': False}),\n",
       " Prediction(uid=3401, iid=2539, r_ui=4.0, est=3.257508419489342, details={'was_impossible': False}),\n",
       " Prediction(uid=3159, iid=3448, r_ui=5.0, est=3.956460451384925, details={'was_impossible': False}),\n",
       " Prediction(uid=2599, iid=2000, r_ui=4.0, est=4.118861631593111, details={'was_impossible': False}),\n",
       " Prediction(uid=3264, iid=3812, r_ui=4.0, est=3.004585840440515, details={'was_impossible': False}),\n",
       " Prediction(uid=4771, iid=2968, r_ui=4.0, est=3.3815607020572602, details={'was_impossible': False}),\n",
       " Prediction(uid=920, iid=1334, r_ui=2.0, est=2.539102967668927, details={'was_impossible': False}),\n",
       " Prediction(uid=319, iid=27, r_ui=3.0, est=2.4775629584548566, details={'was_impossible': False}),\n",
       " Prediction(uid=5807, iid=36, r_ui=5.0, est=3.7470441780451065, details={'was_impossible': False}),\n",
       " Prediction(uid=3138, iid=2517, r_ui=3.0, est=2.784999144039951, details={'was_impossible': False}),\n",
       " Prediction(uid=4579, iid=260, r_ui=4.0, est=4.123915619818877, details={'was_impossible': False}),\n",
       " Prediction(uid=5948, iid=3167, r_ui=4.0, est=4.365361454090253, details={'was_impossible': False}),\n",
       " Prediction(uid=6016, iid=1953, r_ui=4.0, est=3.7620431680820214, details={'was_impossible': False}),\n",
       " Prediction(uid=2010, iid=3535, r_ui=3.0, est=3.409853901274015, details={'was_impossible': False}),\n",
       " Prediction(uid=4022, iid=1371, r_ui=2.0, est=2.9447465407388824, details={'was_impossible': False}),\n",
       " Prediction(uid=4404, iid=292, r_ui=3.0, est=2.498972687329603, details={'was_impossible': False}),\n",
       " Prediction(uid=2590, iid=1261, r_ui=5.0, est=4.354906273640623, details={'was_impossible': False}),\n",
       " Prediction(uid=3280, iid=1027, r_ui=3.0, est=2.4053678107253873, details={'was_impossible': False}),\n",
       " Prediction(uid=3762, iid=3694, r_ui=1.0, est=1.1982802211035575, details={'was_impossible': False}),\n",
       " Prediction(uid=175, iid=551, r_ui=5.0, est=3.9023944726970994, details={'was_impossible': False}),\n",
       " Prediction(uid=4867, iid=581, r_ui=5.0, est=4.5665693026117715, details={'was_impossible': False}),\n",
       " Prediction(uid=411, iid=1292, r_ui=3.0, est=3.646154891000232, details={'was_impossible': False}),\n",
       " Prediction(uid=4028, iid=377, r_ui=1.0, est=3.4499400784161636, details={'was_impossible': False}),\n",
       " Prediction(uid=2054, iid=849, r_ui=2.0, est=2.373011129433288, details={'was_impossible': False}),\n",
       " Prediction(uid=3709, iid=2416, r_ui=3.0, est=3.207481924887596, details={'was_impossible': False}),\n",
       " Prediction(uid=3312, iid=3258, r_ui=3.0, est=2.733241469524062, details={'was_impossible': False}),\n",
       " Prediction(uid=3512, iid=29, r_ui=4.0, est=4.258562898549338, details={'was_impossible': False}),\n",
       " Prediction(uid=2129, iid=3328, r_ui=3.0, est=3.2632337179997153, details={'was_impossible': False}),\n",
       " Prediction(uid=3371, iid=249, r_ui=3.0, est=3.511830965506491, details={'was_impossible': False}),\n",
       " Prediction(uid=352, iid=2770, r_ui=5.0, est=3.716449901432336, details={'was_impossible': False}),\n",
       " Prediction(uid=1015, iid=3699, r_ui=4.0, est=3.7065607170043138, details={'was_impossible': False}),\n",
       " Prediction(uid=673, iid=1249, r_ui=5.0, est=3.3889445256126716, details={'was_impossible': False}),\n",
       " Prediction(uid=3505, iid=1344, r_ui=4.0, est=3.6572153440343227, details={'was_impossible': False}),\n",
       " Prediction(uid=4378, iid=1036, r_ui=4.0, est=3.6060438938791255, details={'was_impossible': False}),\n",
       " Prediction(uid=2809, iid=598, r_ui=5.0, est=4.220583996351651, details={'was_impossible': False}),\n",
       " Prediction(uid=3528, iid=3732, r_ui=1.0, est=2.9754420113859625, details={'was_impossible': False}),\n",
       " Prediction(uid=3262, iid=529, r_ui=3.0, est=3.57583093095242, details={'was_impossible': False}),\n",
       " Prediction(uid=1778, iid=761, r_ui=3.0, est=2.904602339232921, details={'was_impossible': False}),\n",
       " Prediction(uid=3695, iid=1713, r_ui=3.0, est=3.466943021042079, details={'was_impossible': False}),\n",
       " Prediction(uid=5568, iid=2815, r_ui=5.0, est=3.7519437089417953, details={'was_impossible': False}),\n",
       " Prediction(uid=3272, iid=225, r_ui=4.0, est=3.9753231826145923, details={'was_impossible': False}),\n",
       " Prediction(uid=4186, iid=1225, r_ui=3.0, est=3.510237823692787, details={'was_impossible': False}),\n",
       " Prediction(uid=2907, iid=1291, r_ui=5.0, est=3.9000583430598486, details={'was_impossible': False}),\n",
       " Prediction(uid=1983, iid=102, r_ui=2.0, est=2.5860862432991754, details={'was_impossible': False}),\n",
       " Prediction(uid=223, iid=362, r_ui=3.0, est=3.454591632221676, details={'was_impossible': False}),\n",
       " Prediction(uid=4048, iid=3753, r_ui=5.0, est=4.819608761633903, details={'was_impossible': False}),\n",
       " Prediction(uid=2785, iid=3101, r_ui=4.0, est=3.1274754920097383, details={'was_impossible': False}),\n",
       " Prediction(uid=3769, iid=208, r_ui=4.0, est=2.948643971363108, details={'was_impossible': False}),\n",
       " Prediction(uid=2745, iid=924, r_ui=5.0, est=4.326165416460585, details={'was_impossible': False}),\n",
       " Prediction(uid=1212, iid=3952, r_ui=4.0, est=4.266739874897782, details={'was_impossible': False}),\n",
       " Prediction(uid=2258, iid=1380, r_ui=4.0, est=3.6205031685876503, details={'was_impossible': False}),\n",
       " Prediction(uid=716, iid=3578, r_ui=5.0, est=4.702696994223299, details={'was_impossible': False}),\n",
       " Prediction(uid=1265, iid=165, r_ui=1.0, est=2.9322723880221986, details={'was_impossible': False}),\n",
       " Prediction(uid=1962, iid=1498, r_ui=2.0, est=2.468963719307865, details={'was_impossible': False}),\n",
       " Prediction(uid=4378, iid=490, r_ui=2.0, est=3.2082065532501485, details={'was_impossible': False}),\n",
       " Prediction(uid=5624, iid=733, r_ui=4.0, est=3.590761097671463, details={'was_impossible': False}),\n",
       " Prediction(uid=4556, iid=2, r_ui=4.0, est=3.6112893874316487, details={'was_impossible': False}),\n",
       " Prediction(uid=1206, iid=2657, r_ui=3.0, est=3.5089235726537726, details={'was_impossible': False}),\n",
       " Prediction(uid=4292, iid=1627, r_ui=1.0, est=3.008137236190667, details={'was_impossible': False}),\n",
       " Prediction(uid=1617, iid=3159, r_ui=1.0, est=3.6397229721814197, details={'was_impossible': False}),\n",
       " Prediction(uid=1101, iid=1374, r_ui=5.0, est=3.955541578596596, details={'was_impossible': False}),\n",
       " Prediction(uid=4167, iid=329, r_ui=2.0, est=2.5774650188393435, details={'was_impossible': False}),\n",
       " Prediction(uid=3516, iid=1243, r_ui=5.0, est=3.704969931771287, details={'was_impossible': False}),\n",
       " Prediction(uid=643, iid=2581, r_ui=2.0, est=2.273305190345874, details={'was_impossible': False}),\n",
       " Prediction(uid=3759, iid=543, r_ui=5.0, est=3.743537251688995, details={'was_impossible': False}),\n",
       " Prediction(uid=3569, iid=3107, r_ui=3.0, est=3.0005374955397537, details={'was_impossible': False}),\n",
       " Prediction(uid=5271, iid=3219, r_ui=3.0, est=2.4063514115999505, details={'was_impossible': False}),\n",
       " Prediction(uid=3810, iid=3578, r_ui=5.0, est=4.4123693578933105, details={'was_impossible': False}),\n",
       " Prediction(uid=3041, iid=2542, r_ui=5.0, est=3.571431076658413, details={'was_impossible': False}),\n",
       " Prediction(uid=1912, iid=1269, r_ui=2.0, est=3.057081923887746, details={'was_impossible': False}),\n",
       " Prediction(uid=4596, iid=1689, r_ui=1.0, est=3.104984465064757, details={'was_impossible': False}),\n",
       " Prediction(uid=5186, iid=1372, r_ui=3.0, est=3.571765375502715, details={'was_impossible': False}),\n",
       " Prediction(uid=3773, iid=344, r_ui=4.0, est=3.5184293322669715, details={'was_impossible': False}),\n",
       " Prediction(uid=5268, iid=2628, r_ui=1.0, est=3.0319916521339265, details={'was_impossible': False}),\n",
       " Prediction(uid=2109, iid=2662, r_ui=3.0, est=3.7328591696706894, details={'was_impossible': False}),\n",
       " Prediction(uid=4653, iid=593, r_ui=3.0, est=4.316332402171597, details={'was_impossible': False}),\n",
       " Prediction(uid=5888, iid=420, r_ui=2.0, est=1.3826376316726243, details={'was_impossible': False}),\n",
       " Prediction(uid=550, iid=2723, r_ui=1.0, est=2.939143373589403, details={'was_impossible': False}),\n",
       " Prediction(uid=1437, iid=1136, r_ui=5.0, est=4.897093451511375, details={'was_impossible': False}),\n",
       " Prediction(uid=5393, iid=1959, r_ui=2.0, est=3.6815405375034898, details={'was_impossible': False}),\n",
       " Prediction(uid=2876, iid=1196, r_ui=5.0, est=4.128758222349471, details={'was_impossible': False}),\n",
       " Prediction(uid=1611, iid=2840, r_ui=3.0, est=2.94770325292616, details={'was_impossible': False}),\n",
       " Prediction(uid=4570, iid=3614, r_ui=2.0, est=3.266979252376652, details={'was_impossible': False}),\n",
       " Prediction(uid=5394, iid=3087, r_ui=3.0, est=3.242595971514737, details={'was_impossible': False}),\n",
       " Prediction(uid=1645, iid=1012, r_ui=4.0, est=4.500754441351612, details={'was_impossible': False}),\n",
       " Prediction(uid=839, iid=509, r_ui=5.0, est=4.366751758263019, details={'was_impossible': False}),\n",
       " Prediction(uid=660, iid=2017, r_ui=3.0, est=2.6341224245549997, details={'was_impossible': False}),\n",
       " Prediction(uid=587, iid=593, r_ui=4.0, est=3.685046602727579, details={'was_impossible': False}),\n",
       " Prediction(uid=3114, iid=3273, r_ui=3.0, est=2.318942353227197, details={'was_impossible': False}),\n",
       " Prediction(uid=33, iid=2174, r_ui=3.0, est=2.598660525513097, details={'was_impossible': False}),\n",
       " Prediction(uid=1181, iid=2411, r_ui=2.0, est=2.0110914371850175, details={'was_impossible': False}),\n",
       " Prediction(uid=4855, iid=529, r_ui=5.0, est=3.2148834973938323, details={'was_impossible': False}),\n",
       " Prediction(uid=1079, iid=1725, r_ui=5.0, est=3.53889710225582, details={'was_impossible': False}),\n",
       " Prediction(uid=3425, iid=1228, r_ui=5.0, est=4.810265237967939, details={'was_impossible': False}),\n",
       " Prediction(uid=1943, iid=1247, r_ui=3.0, est=4.169897475822877, details={'was_impossible': False}),\n",
       " Prediction(uid=3219, iid=2572, r_ui=3.0, est=3.986382329250042, details={'was_impossible': False}),\n",
       " Prediction(uid=4156, iid=1518, r_ui=4.0, est=3.7939000425838163, details={'was_impossible': False}),\n",
       " Prediction(uid=5135, iid=1, r_ui=4.0, est=4.311114330736322, details={'was_impossible': False}),\n",
       " Prediction(uid=2030, iid=2355, r_ui=5.0, est=3.8786541218425272, details={'was_impossible': False}),\n",
       " Prediction(uid=699, iid=800, r_ui=3.0, est=3.8358715661494682, details={'was_impossible': False}),\n",
       " Prediction(uid=2944, iid=2724, r_ui=2.0, est=3.803289742733432, details={'was_impossible': False}),\n",
       " Prediction(uid=2011, iid=2912, r_ui=3.0, est=3.119888927960502, details={'was_impossible': False}),\n",
       " Prediction(uid=202, iid=1129, r_ui=4.0, est=3.5019054848246496, details={'was_impossible': False}),\n",
       " Prediction(uid=3994, iid=480, r_ui=5.0, est=4.219116408118767, details={'was_impossible': False}),\n",
       " Prediction(uid=1335, iid=2470, r_ui=3.0, est=2.6376055392869975, details={'was_impossible': False}),\n",
       " Prediction(uid=2188, iid=3755, r_ui=3.0, est=2.8278518573408986, details={'was_impossible': False}),\n",
       " Prediction(uid=442, iid=2291, r_ui=3.0, est=3.9432341799978587, details={'was_impossible': False}),\n",
       " Prediction(uid=2744, iid=368, r_ui=5.0, est=1.7116682345690872, details={'was_impossible': False}),\n",
       " Prediction(uid=1448, iid=3039, r_ui=4.0, est=4.135935068862118, details={'was_impossible': False}),\n",
       " Prediction(uid=1394, iid=2454, r_ui=5.0, est=2.868340180911112, details={'was_impossible': False}),\n",
       " Prediction(uid=5765, iid=2038, r_ui=3.0, est=2.770907813989407, details={'was_impossible': False}),\n",
       " Prediction(uid=5733, iid=2997, r_ui=5.0, est=4.667307704461941, details={'was_impossible': False}),\n",
       " Prediction(uid=1235, iid=1094, r_ui=3.0, est=3.5120745179130557, details={'was_impossible': False}),\n",
       " Prediction(uid=2522, iid=1198, r_ui=5.0, est=4.177431647896121, details={'was_impossible': False}),\n",
       " Prediction(uid=3267, iid=39, r_ui=3.0, est=3.777393223013395, details={'was_impossible': False}),\n",
       " Prediction(uid=1168, iid=736, r_ui=2.0, est=2.948858526964631, details={'was_impossible': False}),\n",
       " Prediction(uid=4193, iid=480, r_ui=3.0, est=3.5770778592486896, details={'was_impossible': False}),\n",
       " Prediction(uid=5750, iid=306, r_ui=4.0, est=4.114561628589307, details={'was_impossible': False}),\n",
       " Prediction(uid=2784, iid=1219, r_ui=5.0, est=4.477593803202344, details={'was_impossible': False}),\n",
       " Prediction(uid=1686, iid=3481, r_ui=4.0, est=4.2333757031674, details={'was_impossible': False}),\n",
       " Prediction(uid=3546, iid=3543, r_ui=2.0, est=3.666159276458786, details={'was_impossible': False}),\n",
       " Prediction(uid=1306, iid=3729, r_ui=3.0, est=4.0812540072210455, details={'was_impossible': False}),\n",
       " Prediction(uid=191, iid=413, r_ui=3.0, est=3.067219490502084, details={'was_impossible': False}),\n",
       " Prediction(uid=4808, iid=470, r_ui=2.0, est=2.0617382963300317, details={'was_impossible': False}),\n",
       " Prediction(uid=3723, iid=3421, r_ui=5.0, est=4.790700895690002, details={'was_impossible': False}),\n",
       " Prediction(uid=1980, iid=1670, r_ui=4.0, est=3.7972481227357, details={'was_impossible': False}),\n",
       " Prediction(uid=2354, iid=3793, r_ui=3.0, est=4.007965722435314, details={'was_impossible': False}),\n",
       " Prediction(uid=4508, iid=2967, r_ui=4.0, est=3.980984535549489, details={'was_impossible': False}),\n",
       " Prediction(uid=2102, iid=858, r_ui=5.0, est=4.784847655602425, details={'was_impossible': False}),\n",
       " Prediction(uid=1335, iid=3626, r_ui=2.0, est=1.9192512778202144, details={'was_impossible': False}),\n",
       " Prediction(uid=5096, iid=1297, r_ui=3.0, est=3.6370508158029304, details={'was_impossible': False}),\n",
       " Prediction(uid=2434, iid=1036, r_ui=5.0, est=4.058707871859356, details={'was_impossible': False}),\n",
       " Prediction(uid=2579, iid=904, r_ui=3.0, est=4.315979272320573, details={'was_impossible': False}),\n",
       " Prediction(uid=869, iid=2974, r_ui=1.0, est=1.8609476501500224, details={'was_impossible': False}),\n",
       " Prediction(uid=795, iid=1188, r_ui=3.0, est=3.6306560354308908, details={'was_impossible': False}),\n",
       " Prediction(uid=6000, iid=158, r_ui=3.0, est=2.32907273906129, details={'was_impossible': False}),\n",
       " Prediction(uid=2897, iid=164, r_ui=3.0, est=3.5554391609819573, details={'was_impossible': False}),\n",
       " Prediction(uid=1391, iid=329, r_ui=2.0, est=3.1839869376319725, details={'was_impossible': False}),\n",
       " Prediction(uid=542, iid=1249, r_ui=4.0, est=3.768872513388291, details={'was_impossible': False}),\n",
       " Prediction(uid=1120, iid=275, r_ui=3.0, est=2.8143720552912677, details={'was_impossible': False}),\n",
       " Prediction(uid=4001, iid=2883, r_ui=2.0, est=3.0122026617181223, details={'was_impossible': False}),\n",
       " Prediction(uid=5312, iid=3108, r_ui=5.0, est=4.303781522480334, details={'was_impossible': False}),\n",
       " Prediction(uid=1721, iid=486, r_ui=2.0, est=2.3727459646532028, details={'was_impossible': False}),\n",
       " Prediction(uid=1383, iid=2475, r_ui=3.0, est=2.8706924899049415, details={'was_impossible': False}),\n",
       " Prediction(uid=3121, iid=1203, r_ui=3.0, est=4.4022396530153705, details={'was_impossible': False}),\n",
       " Prediction(uid=1255, iid=461, r_ui=4.0, est=3.5341119370526175, details={'was_impossible': False}),\n",
       " Prediction(uid=2383, iid=2528, r_ui=2.0, est=3.2552175784016932, details={'was_impossible': False}),\n",
       " Prediction(uid=5014, iid=1129, r_ui=3.0, est=2.723347002534736, details={'was_impossible': False}),\n",
       " Prediction(uid=2544, iid=223, r_ui=4.0, est=3.449673125757494, details={'was_impossible': False}),\n",
       " Prediction(uid=4055, iid=1370, r_ui=3.0, est=3.004401994956028, details={'was_impossible': False}),\n",
       " Prediction(uid=5799, iid=2995, r_ui=1.0, est=2.3564069377154206, details={'was_impossible': False}),\n",
       " Prediction(uid=69, iid=1120, r_ui=5.0, est=3.986310326246505, details={'was_impossible': False}),\n",
       " Prediction(uid=4598, iid=2020, r_ui=3.0, est=3.299857777272236, details={'was_impossible': False}),\n",
       " Prediction(uid=5163, iid=1256, r_ui=3.0, est=4.018311212557186, details={'was_impossible': False}),\n",
       " Prediction(uid=1509, iid=1831, r_ui=1.0, est=1.7828039353844942, details={'was_impossible': False}),\n",
       " Prediction(uid=3553, iid=2028, r_ui=4.0, est=5, details={'was_impossible': False}),\n",
       " Prediction(uid=5738, iid=589, r_ui=3.0, est=4.09047236422524, details={'was_impossible': False}),\n",
       " Prediction(uid=1680, iid=1963, r_ui=4.0, est=4.68168771003026, details={'was_impossible': False}),\n",
       " Prediction(uid=3410, iid=435, r_ui=3.0, est=1.8901191217124995, details={'was_impossible': False}),\n",
       " Prediction(uid=1054, iid=1499, r_ui=1.0, est=3.421640425413781, details={'was_impossible': False}),\n",
       " Prediction(uid=663, iid=366, r_ui=4.0, est=3.5858145153039183, details={'was_impossible': False}),\n",
       " Prediction(uid=1912, iid=3840, r_ui=1.0, est=1.5207026504435457, details={'was_impossible': False}),\n",
       " Prediction(uid=1752, iid=89, r_ui=3.0, est=3.3092372976669298, details={'was_impossible': False}),\n",
       " Prediction(uid=2611, iid=2237, r_ui=3.0, est=3.5950741340916537, details={'was_impossible': False}),\n",
       " Prediction(uid=1837, iid=1639, r_ui=1.0, est=3.6669004755997605, details={'was_impossible': False}),\n",
       " Prediction(uid=2471, iid=3868, r_ui=1.0, est=2.7734652188289903, details={'was_impossible': False}),\n",
       " Prediction(uid=727, iid=3147, r_ui=3.0, est=4.266474719428694, details={'was_impossible': False}),\n",
       " Prediction(uid=613, iid=1376, r_ui=4.0, est=3.208455590036337, details={'was_impossible': False}),\n",
       " Prediction(uid=577, iid=1220, r_ui=5.0, est=4.973756216428649, details={'was_impossible': False}),\n",
       " Prediction(uid=1597, iid=3543, r_ui=3.0, est=4.134749372166289, details={'was_impossible': False}),\n",
       " Prediction(uid=1706, iid=342, r_ui=3.0, est=3.6914483502784226, details={'was_impossible': False}),\n",
       " Prediction(uid=1051, iid=3261, r_ui=3.0, est=3.6471061180171183, details={'was_impossible': False}),\n",
       " Prediction(uid=5585, iid=1136, r_ui=5.0, est=3.992536729098452, details={'was_impossible': False}),\n",
       " Prediction(uid=5621, iid=2124, r_ui=4.0, est=2.935527925397338, details={'was_impossible': False}),\n",
       " Prediction(uid=1223, iid=1256, r_ui=5.0, est=3.964474165854096, details={'was_impossible': False}),\n",
       " Prediction(uid=5880, iid=1246, r_ui=4.0, est=3.598387927903695, details={'was_impossible': False}),\n",
       " Prediction(uid=3546, iid=1614, r_ui=3.0, est=2.699261991588929, details={'was_impossible': False}),\n",
       " Prediction(uid=2962, iid=2903, r_ui=1.0, est=1.6802846830284797, details={'was_impossible': False}),\n",
       " Prediction(uid=1203, iid=44, r_ui=1.0, est=2.956895725296919, details={'was_impossible': False}),\n",
       " Prediction(uid=2185, iid=2648, r_ui=4.0, est=4.328010422316928, details={'was_impossible': False}),\n",
       " Prediction(uid=1173, iid=1457, r_ui=3.0, est=3.053882752747014, details={'was_impossible': False}),\n",
       " Prediction(uid=2165, iid=2355, r_ui=4.0, est=3.988779053288182, details={'was_impossible': False}),\n",
       " Prediction(uid=4048, iid=1956, r_ui=3.0, est=4.346251253440991, details={'was_impossible': False}),\n",
       " Prediction(uid=4725, iid=3610, r_ui=3.0, est=2.725752041356546, details={'was_impossible': False}),\n",
       " Prediction(uid=3311, iid=2795, r_ui=4.0, est=4.159520505353322, details={'was_impossible': False}),\n",
       " Prediction(uid=4689, iid=2762, r_ui=5.0, est=4.513760444284332, details={'was_impossible': False}),\n",
       " Prediction(uid=1377, iid=355, r_ui=2.0, est=2.2173050649463732, details={'was_impossible': False}),\n",
       " Prediction(uid=4204, iid=608, r_ui=5.0, est=4.7091101496432595, details={'was_impossible': False}),\n",
       " Prediction(uid=646, iid=3654, r_ui=3.0, est=3.721502551898367, details={'was_impossible': False}),\n",
       " Prediction(uid=3491, iid=3263, r_ui=3.0, est=3.680317805950999, details={'was_impossible': False}),\n",
       " Prediction(uid=3210, iid=778, r_ui=4.0, est=4.5842272864780425, details={'was_impossible': False}),\n",
       " Prediction(uid=5982, iid=50, r_ui=5.0, est=4.319994592626287, details={'was_impossible': False}),\n",
       " Prediction(uid=3594, iid=3180, r_ui=3.0, est=2.0663096077261947, details={'was_impossible': False}),\n",
       " Prediction(uid=927, iid=344, r_ui=3.0, est=3.430198703255556, details={'was_impossible': False}),\n",
       " Prediction(uid=3349, iid=1500, r_ui=2.0, est=3.416186859391342, details={'was_impossible': False}),\n",
       " Prediction(uid=2111, iid=154, r_ui=4.0, est=3.780301791521352, details={'was_impossible': False}),\n",
       " Prediction(uid=3451, iid=2997, r_ui=5.0, est=4.277418010453616, details={'was_impossible': False}),\n",
       " Prediction(uid=4335, iid=2753, r_ui=3.0, est=3.604618288410262, details={'was_impossible': False}),\n",
       " Prediction(uid=4682, iid=1125, r_ui=4.0, est=3.7226433914901893, details={'was_impossible': False}),\n",
       " Prediction(uid=1635, iid=1479, r_ui=4.0, est=3.3529141632024047, details={'was_impossible': False}),\n",
       " Prediction(uid=5263, iid=2985, r_ui=4.0, est=3.6864393793811865, details={'was_impossible': False}),\n",
       " Prediction(uid=1391, iid=3114, r_ui=5.0, est=4.232216936041717, details={'was_impossible': False}),\n",
       " Prediction(uid=4318, iid=160, r_ui=3.0, est=2.7952096201093006, details={'was_impossible': False}),\n",
       " Prediction(uid=4790, iid=858, r_ui=4.0, est=4.535512819995287, details={'was_impossible': False}),\n",
       " ...]"
      ]
     },
     "execution_count": 17,
     "metadata": {},
     "output_type": "execute_result"
    }
   ],
   "execution_count": 17
  },
  {
   "cell_type": "code",
   "metadata": {
    "ExecuteTime": {
     "end_time": "2024-11-26T23:29:09.933729Z",
     "start_time": "2024-11-26T23:29:09.845813Z"
    }
   },
   "source": [
    "print(\"SVD RMSE:\")\n",
    "accuracy.rmse(predictions_svd)"
   ],
   "outputs": [
    {
     "name": "stdout",
     "output_type": "stream",
     "text": [
      "SVD RMSE:\n",
      "RMSE: 0.8768\n"
     ]
    },
    {
     "data": {
      "text/plain": [
       "0.8767654392600681"
      ]
     },
     "execution_count": 18,
     "metadata": {},
     "output_type": "execute_result"
    }
   ],
   "execution_count": 18
  },
  {
   "cell_type": "code",
   "metadata": {
    "ExecuteTime": {
     "end_time": "2024-11-26T23:29:09.948261Z",
     "start_time": "2024-11-26T23:29:09.944871Z"
    }
   },
   "source": [
    "user_id = 1\n",
    "movie_id = 1193\n",
    "prediction_svd = algo_svd.predict(user_id, movie_id)\n",
    "print(f\"Prediction for User {user_id} on Movie {movie_id} (SVD):\")\n",
    "print(prediction_svd)"
   ],
   "outputs": [
    {
     "name": "stdout",
     "output_type": "stream",
     "text": [
      "Prediction for User 1 on Movie 1193 (SVD):\n",
      "user: 1          item: 1193       r_ui = None   est = 4.15   {'was_impossible': False}\n"
     ]
    }
   ],
   "execution_count": 19
  },
  {
   "metadata": {
    "ExecuteTime": {
     "end_time": "2024-11-26T23:29:09.969658Z",
     "start_time": "2024-11-26T23:29:09.965915Z"
    }
   },
   "cell_type": "code",
   "source": [
    "from surprise import Dataset, Reader, NMF, accuracy\n",
    "from surprise.model_selection import train_test_split\n"
   ],
   "outputs": [],
   "execution_count": 20
  },
  {
   "metadata": {
    "ExecuteTime": {
     "end_time": "2024-11-26T23:29:11.009472Z",
     "start_time": "2024-11-26T23:29:09.995147Z"
    }
   },
   "cell_type": "code",
   "source": [
    "reader = Reader(rating_scale=(1, 5))\n",
    "data = Dataset.load_from_df(merged_data[['UserID', 'MovieID', 'Rating']], reader)\n",
    "\n",
    "# Split into train and test sets\n",
    "trainset, testset = train_test_split(data, test_size=0.25)"
   ],
   "outputs": [],
   "execution_count": 21
  },
  {
   "metadata": {
    "ExecuteTime": {
     "end_time": "2024-11-26T23:29:18.171993Z",
     "start_time": "2024-11-26T23:29:11.016579Z"
    }
   },
   "cell_type": "code",
   "source": [
    "# Initialize and train the NMF algorithm\n",
    "algo_nmf = NMF()\n",
    "algo_nmf.fit(trainset)"
   ],
   "outputs": [
    {
     "data": {
      "text/plain": [
       "<surprise.prediction_algorithms.matrix_factorization.NMF at 0x2a0f6ee50>"
      ]
     },
     "execution_count": 22,
     "metadata": {},
     "output_type": "execute_result"
    }
   ],
   "execution_count": 22
  },
  {
   "metadata": {
    "ExecuteTime": {
     "end_time": "2024-11-26T23:29:18.933591Z",
     "start_time": "2024-11-26T23:29:18.182168Z"
    }
   },
   "cell_type": "code",
   "source": [
    "# Test the NMF algorithm on the test set\n",
    "predictions_nmf = algo_nmf.test(testset)"
   ],
   "outputs": [],
   "execution_count": 23
  },
  {
   "metadata": {
    "ExecuteTime": {
     "end_time": "2024-11-26T23:29:19.008563Z",
     "start_time": "2024-11-26T23:29:18.941543Z"
    }
   },
   "cell_type": "code",
   "source": [
    "# Evaluate RMSE for NMF\n",
    "print(\"NMF RMSE:\")\n",
    "accuracy.rmse(predictions_nmf)"
   ],
   "outputs": [
    {
     "name": "stdout",
     "output_type": "stream",
     "text": [
      "NMF RMSE:\n",
      "RMSE: 0.9138\n"
     ]
    },
    {
     "data": {
      "text/plain": [
       "0.9138489042517364"
      ]
     },
     "execution_count": 24,
     "metadata": {},
     "output_type": "execute_result"
    }
   ],
   "execution_count": 24
  },
  {
   "metadata": {
    "ExecuteTime": {
     "end_time": "2024-11-26T23:29:19.019878Z",
     "start_time": "2024-11-26T23:29:19.016817Z"
    }
   },
   "cell_type": "code",
   "source": [
    "# Example prediction for a specific user and movie\n",
    "user_id = 1\n",
    "movie_id = 1193\n",
    "prediction_nmf = algo_nmf.predict(user_id, movie_id)\n",
    "print(f\"Prediction for User {user_id} on Movie {movie_id} (NMF):\")\n",
    "print(prediction_nmf)"
   ],
   "outputs": [
    {
     "name": "stdout",
     "output_type": "stream",
     "text": [
      "Prediction for User 1 on Movie 1193 (NMF):\n",
      "user: 1          item: 1193       r_ui = None   est = 4.38   {'was_impossible': False}\n"
     ]
    }
   ],
   "execution_count": 25
  },
  {
   "metadata": {
    "ExecuteTime": {
     "end_time": "2024-11-26T23:31:02.917625Z",
     "start_time": "2024-11-26T23:31:02.641635Z"
    }
   },
   "cell_type": "code",
   "source": [
    "import matplotlib.pyplot as plt\n",
    "\n",
    "# Define RMSE values for SVD and NMF\n",
    "algorithms = ['SVD', 'NMF']\n",
    "rmse_values = [accuracy.rmse(predictions_svd, verbose=False),\n",
    "               accuracy.rmse(predictions_nmf, verbose=False)]\n",
    "\n",
    "# Plotting the bar chart\n",
    "plt.figure(figsize=(8, 5))\n",
    "plt.bar(algorithms, rmse_values, color=['blue', 'orange'], width=0.6)\n",
    "\n",
    "# Add plot details\n",
    "plt.title('Comparison of RMSE Values: SVD vs NMF', fontsize=16)\n",
    "plt.ylabel('RMSE Value', fontsize=12)\n",
    "plt.xlabel('Algorithms', fontsize=12)\n",
    "plt.ylim(0, max(rmse_values) + 0.2)  # Extend y-axis for clarity\n",
    "\n",
    "# Annotate RMSE values on top of the bars\n",
    "for i, value in enumerate(rmse_values):\n",
    "    plt.text(i, value + 0.02, f\"{value:.3f}\", ha='center', fontsize=10)\n",
    "\n",
    "plt.grid(axis='y', linestyle='--', alpha=0.7)\n",
    "plt.tight_layout()\n",
    "\n",
    "# Display the chart\n",
    "plt.show()\n"
   ],
   "outputs": [
    {
     "data": {
      "text/plain": [
       "<Figure size 800x500 with 1 Axes>"
      ],
      "image/png": "[encoded data removed]"
     },
     "metadata": {},
     "output_type": "display_data"
    }
   ],
   "execution_count": 30
  }
 ],
 "metadata": {
  "language_info": {
   "name": "python"
  },
  "kernelspec": {
   "name": "python3",
   "language": "python",
   "display_name": "Python 3 (ipykernel)"
  }
 },
 "nbformat": 4,
 "nbformat_minor": 2
}
