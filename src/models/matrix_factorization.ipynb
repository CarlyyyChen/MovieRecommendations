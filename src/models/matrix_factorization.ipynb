{
 "cells": [
  {
   "cell_type": "markdown",
   "metadata": {},
   "source": [
    "### Import necessary libraries"
   ]
  },
  {
   "cell_type": "code",
   "metadata": {
    "ExecuteTime": {
     "end_time": "2024-11-28T00:13:59.531427Z",
     "start_time": "2024-11-28T00:13:59.527769Z"
    }
   },
   "source": [
    "import pandas as pd"
   ],
   "outputs": [],
   "execution_count": 38
  },
  {
   "cell_type": "markdown",
   "metadata": {},
   "source": [
    "# 1. Data Collection and Manipulation"
   ]
  },
  {
   "cell_type": "markdown",
   "metadata": {},
   "source": [
    "## 1.1 Automatic Download of Dataset"
   ]
  },
  {
   "cell_type": "code",
   "metadata": {
    "ExecuteTime": {
     "end_time": "2024-11-28T00:14:01.309504Z",
     "start_time": "2024-11-28T00:14:01.169676Z"
    }
   },
   "source": [
    "!wget -q http://files.grouplens.org/datasets/movielens/ml-1m.zip"
   ],
   "outputs": [
    {
     "name": "stdout",
     "output_type": "stream",
     "text": [
      "zsh:1: command not found: wget\r\n"
     ]
    }
   ],
   "execution_count": 39
  },
  {
   "cell_type": "code",
   "metadata": {
    "ExecuteTime": {
     "end_time": "2024-11-28T00:14:01.550431Z",
     "start_time": "2024-11-28T00:14:01.428095Z"
    }
   },
   "source": "!unzip -q ml-1m.zip",
   "outputs": [
    {
     "name": "stdout",
     "output_type": "stream",
     "text": [
      "unzip:  cannot find or open ml-1m.zip, ml-1m.zip.zip or ml-1m.zip.ZIP.\r\n"
     ]
    }
   ],
   "execution_count": 40
  },
  {
   "cell_type": "markdown",
   "metadata": {},
   "source": [
    "## 1.2 Save to csv files"
   ]
  },
  {
   "cell_type": "code",
   "metadata": {
    "ExecuteTime": {
     "end_time": "2024-11-28T00:14:07.108413Z",
     "start_time": "2024-11-28T00:14:06.955839Z"
    }
   },
   "source": [
    " # Load the users file and save to CSV\n",
    "users = pd.read_csv('../../data/processed/users.csv')\n",
    "\n",
    "# Load the movies file and save to CSV\n",
    "movies = pd.read_csv('../../data/processed/movies.csv')\n",
    "\n",
    "# Load the ratings file and save to CSV\n",
    "ratings = pd.read_csv('../../data/processed/ratings.csv')"
   ],
   "outputs": [],
   "execution_count": 41
  },
  {
   "cell_type": "markdown",
   "metadata": {},
   "source": [
    "## 1.3 Print the first few rows of the each dataframe"
   ]
  },
  {
   "cell_type": "code",
   "metadata": {
    "ExecuteTime": {
     "end_time": "2024-11-28T00:14:07.951428Z",
     "start_time": "2024-11-28T00:14:07.945872Z"
    }
   },
   "source": [
    "# Print the first few rows of the users dataframe to check user details like user ID and demographics\n",
    "print(\"First few rows of the users dataframe:\")\n",
    "print(users.head())\n",
    "print(\"\\n\")  # Adds a newline for better separation of the output\n",
    "\n",
    "# Print the first few rows of the movies dataframe to view movie information such as movie ID and title\n",
    "print(\"First few rows of the movies dataframe:\")\n",
    "print(movies.head())\n",
    "print(\"\\n\")  # Adds a newline for better separation of the output\n",
    "\n",
    "# Print the first few rows of the ratings dataframe to inspect entries of user ratings for movies\n",
    "print(\"First few rows of the ratings dataframe:\")\n",
    "print(ratings.head())"
   ],
   "outputs": [
    {
     "name": "stdout",
     "output_type": "stream",
     "text": [
      "First few rows of the users dataframe:\n",
      "   UserID Gender  Age  Occupation Zip-code\n",
      "0       1      F    1          10    48067\n",
      "1       2      M   56          16    70072\n",
      "2       3      M   25          15    55117\n",
      "3       4      M   45           7    02460\n",
      "4       5      M   25          20    55455\n",
      "\n",
      "\n",
      "First few rows of the movies dataframe:\n",
      "   MovieID                               Title                        Genres\n",
      "0        1                    Toy Story (1995)   Animation|Children's|Comedy\n",
      "1        2                      Jumanji (1995)  Adventure|Children's|Fantasy\n",
      "2        3             Grumpier Old Men (1995)                Comedy|Romance\n",
      "3        4            Waiting to Exhale (1995)                  Comedy|Drama\n",
      "4        5  Father of the Bride Part II (1995)                        Comedy\n",
      "\n",
      "\n",
      "First few rows of the ratings dataframe:\n",
      "   UserID  MovieID  Rating  Timestamp\n",
      "0       1     1193       5  978300760\n",
      "1       1      661       3  978302109\n",
      "2       1      914       3  978301968\n",
      "3       1     3408       4  978300275\n",
      "4       1     2355       5  978824291\n"
     ]
    }
   ],
   "execution_count": 42
  },
  {
   "cell_type": "markdown",
   "metadata": {},
   "source": [
    "## 1.4 Print the column names of the each dataframe"
   ]
  },
  {
   "cell_type": "code",
   "metadata": {
    "ExecuteTime": {
     "end_time": "2024-11-28T00:14:08.467863Z",
     "start_time": "2024-11-28T00:14:08.464697Z"
    }
   },
   "source": [
    "# Print the column names of the users dataframe to understand the fields related to user information\n",
    "print(\"Column names in the users dataframe:\")\n",
    "print(users.columns)\n",
    "print(\"\\n\")  # Adds a newline for better separation of the output\n",
    "\n",
    "# Print the column names of the movies dataframe to see the attributes associated with movies, such as titles and genres\n",
    "print(\"Column names in the movies dataframe:\")\n",
    "print(movies.columns)\n",
    "print(\"\\n\")  # Adds a newline for better separation of the output\n",
    "\n",
    "# Print the column names of the ratings dataframe to review the fields that link users and movies through ratings\n",
    "print(\"Column names in the ratings dataframe:\")\n",
    "print(ratings.columns)"
   ],
   "outputs": [
    {
     "name": "stdout",
     "output_type": "stream",
     "text": [
      "Column names in the users dataframe:\n",
      "Index(['UserID', 'Gender', 'Age', 'Occupation', 'Zip-code'], dtype='object')\n",
      "\n",
      "\n",
      "Column names in the movies dataframe:\n",
      "Index(['MovieID', 'Title', 'Genres'], dtype='object')\n",
      "\n",
      "\n",
      "Column names in the ratings dataframe:\n",
      "Index(['UserID', 'MovieID', 'Rating', 'Timestamp'], dtype='object')\n"
     ]
    }
   ],
   "execution_count": 43
  },
  {
   "cell_type": "markdown",
   "metadata": {},
   "source": [
    "## 1.5 Checking for missing values in each dataframe"
   ]
  },
  {
   "cell_type": "code",
   "metadata": {
    "ExecuteTime": {
     "end_time": "2024-11-28T00:14:08.992927Z",
     "start_time": "2024-11-28T00:14:08.986373Z"
    }
   },
   "source": [
    "# Display the number of missing values in each column of the users dataframe\n",
    "print(\"Missing values in the users dataframe:\")\n",
    "print(users.isnull().sum())\n",
    "print(\"\\n\")  # Adds a newline for better separation of output\n",
    "\n",
    "# Display the number of missing values in each column of the movies dataframe\n",
    "print(\"Missing values in the movies dataframe:\")\n",
    "print(movies.isnull().sum())\n",
    "print(\"\\n\")  # Adds a newline for better separation of output\n",
    "\n",
    "# Display the number of missing values in each column of the ratings dataframe\n",
    "print(\"Missing values in the ratings dataframe:\")\n",
    "print(ratings.isnull().sum())"
   ],
   "outputs": [
    {
     "name": "stdout",
     "output_type": "stream",
     "text": [
      "Missing values in the users dataframe:\n",
      "UserID        0\n",
      "Gender        0\n",
      "Age           0\n",
      "Occupation    0\n",
      "Zip-code      0\n",
      "dtype: int64\n",
      "\n",
      "\n",
      "Missing values in the movies dataframe:\n",
      "MovieID    0\n",
      "Title      0\n",
      "Genres     0\n",
      "dtype: int64\n",
      "\n",
      "\n",
      "Missing values in the ratings dataframe:\n",
      "UserID       0\n",
      "MovieID      0\n",
      "Rating       0\n",
      "Timestamp    0\n",
      "dtype: int64\n"
     ]
    }
   ],
   "execution_count": 44
  },
  {
   "cell_type": "markdown",
   "metadata": {},
   "source": [
    "## 1.6 Convert the 'Timestamp' column in the ratings dataframe from Unix time to datetime format."
   ]
  },
  {
   "cell_type": "code",
   "metadata": {
    "ExecuteTime": {
     "end_time": "2024-11-28T00:14:09.560554Z",
     "start_time": "2024-11-28T00:14:09.490383Z"
    }
   },
   "source": [
    "# This enhances readability and usability of the timestamp data for further analysis.\n",
    "ratings['Timestamp'] = pd.to_datetime(ratings['Timestamp'], unit='s')\n",
    "\n",
    "# Display the first few rows of the ratings dataframe to confirm the successful conversion of the 'Timestamp' column.\n",
    "print(\"First few rows of the ratings dataframe after converting 'Timestamp':\")\n",
    "print(ratings.head())"
   ],
   "outputs": [
    {
     "name": "stdout",
     "output_type": "stream",
     "text": [
      "First few rows of the ratings dataframe after converting 'Timestamp':\n",
      "   UserID  MovieID  Rating           Timestamp\n",
      "0       1     1193       5 2000-12-31 22:12:40\n",
      "1       1      661       3 2000-12-31 22:35:09\n",
      "2       1      914       3 2000-12-31 22:32:48\n",
      "3       1     3408       4 2000-12-31 22:04:35\n",
      "4       1     2355       5 2001-01-06 23:38:11\n"
     ]
    }
   ],
   "execution_count": 45
  },
  {
   "cell_type": "markdown",
   "metadata": {},
   "source": [
    "## 1.7  Merge the ratings dataframe with the movies dataframe on the MovieID column.\n"
   ]
  },
  {
   "cell_type": "code",
   "metadata": {
    "ExecuteTime": {
     "end_time": "2024-11-28T00:14:10.141648Z",
     "start_time": "2024-11-28T00:14:09.959125Z"
    }
   },
   "source": [
    "# This step combines movie rating data with corresponding movie details.\n",
    "merged_data = pd.merge(ratings, movies, on='MovieID')\n",
    "\n",
    "# Further merge the resulting dataframe with the users dataframe on the UserID column.\n",
    "# This addition includes user demographic details into the merged dataset.\n",
    "merged_data = pd.merge(merged_data, users, on='UserID')\n",
    "\n",
    "# Display the column names of the merged dataframe to verify successful merges and to understand the available data fields.\n",
    "print(\"Columns in the merged dataframe:\")\n",
    "print(merged_data.columns)"
   ],
   "outputs": [
    {
     "name": "stdout",
     "output_type": "stream",
     "text": [
      "Columns in the merged dataframe:\n",
      "Index(['UserID', 'MovieID', 'Rating', 'Timestamp', 'Title', 'Genres', 'Gender',\n",
      "       'Age', 'Occupation', 'Zip-code'],\n",
      "      dtype='object')\n"
     ]
    }
   ],
   "execution_count": 46
  },
  {
   "cell_type": "markdown",
   "metadata": {},
   "source": [
    "## 1.6 Removing Duplicates"
   ]
  },
  {
   "cell_type": "code",
   "metadata": {
    "ExecuteTime": {
     "end_time": "2024-11-28T00:14:10.712799Z",
     "start_time": "2024-11-28T00:14:10.612902Z"
    }
   },
   "source": [
    "dup_bool = merged_data.duplicated(['UserID','MovieID','Rating','Timestamp'])\n",
    "dups = sum(dup_bool) # by considering all columns..( including timestamp)\n",
    "print(\"There are {} duplicate rating entries in the data..\".format(dups))"
   ],
   "outputs": [
    {
     "name": "stdout",
     "output_type": "stream",
     "text": [
      "There are 0 duplicate rating entries in the data..\n"
     ]
    }
   ],
   "execution_count": 47
  },
  {
   "cell_type": "markdown",
   "metadata": {},
   "source": [
    "## 3.4 Matrix Factorization"
   ]
  },
  {
   "cell_type": "markdown",
   "metadata": {},
   "source": [
    "###3.4.1 Matrix factorization using SVD\n",
    "\n",
    "\n"
   ]
  },
  {
   "cell_type": "code",
   "metadata": {
    "ExecuteTime": {
     "end_time": "2024-11-28T00:14:11.322456Z",
     "start_time": "2024-11-28T00:14:11.318977Z"
    }
   },
   "source": [
    "from surprise import Dataset, Reader, KNNWithMeans, SVD, accuracy\n",
    "from surprise.model_selection import train_test_split"
   ],
   "outputs": [],
   "execution_count": 48
  },
  {
   "cell_type": "code",
   "metadata": {
    "ExecuteTime": {
     "end_time": "2024-11-28T00:14:12.726182Z",
     "start_time": "2024-11-28T00:14:11.571554Z"
    }
   },
   "source": [
    "reader = Reader(rating_scale=(1,5))\n",
    "data = Dataset.load_from_df(merged_data[['UserID','MovieID','Rating']], reader)\n",
    "\n",
    "# Split into train and test sets\n",
    "trainset, testset = train_test_split(data, test_size=0.25)"
   ],
   "outputs": [],
   "execution_count": 49
  },
  {
   "cell_type": "code",
   "metadata": {
    "ExecuteTime": {
     "end_time": "2024-11-28T00:14:17.862875Z",
     "start_time": "2024-11-28T00:14:12.730554Z"
    }
   },
   "source": [
    "algo_svd = SVD()\n",
    "algo_svd.fit(trainset)\n",
    "predictions_svd = algo_svd.test(testset)"
   ],
   "outputs": [],
   "execution_count": 50
  },
  {
   "cell_type": "code",
   "metadata": {
    "ExecuteTime": {
     "end_time": "2024-11-28T00:14:17.905019Z",
     "start_time": "2024-11-28T00:14:17.895915Z"
    }
   },
   "source": [
    "predictions_svd"
   ],
   "outputs": [
    {
     "data": {
      "text/plain": [
       "[Prediction(uid=3007, iid=2533, r_ui=2.0, est=2.571656951290436, details={'was_impossible': False}),\n",
       " Prediction(uid=2566, iid=1917, r_ui=4.0, est=3.518781118320961, details={'was_impossible': False}),\n",
       " Prediction(uid=4809, iid=1230, r_ui=4.0, est=4.568640660119852, details={'was_impossible': False}),\n",
       " Prediction(uid=4543, iid=3169, r_ui=4.0, est=3.6548814996937407, details={'was_impossible': False}),\n",
       " Prediction(uid=2784, iid=3418, r_ui=3.0, est=3.556765086893468, details={'was_impossible': False}),\n",
       " Prediction(uid=2012, iid=3633, r_ui=3.0, est=3.44926917532428, details={'was_impossible': False}),\n",
       " Prediction(uid=4621, iid=592, r_ui=4.0, est=3.453351580195406, details={'was_impossible': False}),\n",
       " Prediction(uid=4165, iid=1175, r_ui=5.0, est=3.8003967414525195, details={'was_impossible': False}),\n",
       " Prediction(uid=1176, iid=3196, r_ui=4.0, est=4.351965031365238, details={'was_impossible': False}),\n",
       " Prediction(uid=1109, iid=2987, r_ui=5.0, est=3.3594381596132736, details={'was_impossible': False}),\n",
       " Prediction(uid=4768, iid=3052, r_ui=5.0, est=3.9070582004653445, details={'was_impossible': False}),\n",
       " Prediction(uid=5040, iid=2514, r_ui=3.0, est=2.894493230582696, details={'was_impossible': False}),\n",
       " Prediction(uid=1113, iid=532, r_ui=2.0, est=3.3044850136068598, details={'was_impossible': False}),\n",
       " Prediction(uid=3848, iid=111, r_ui=5.0, est=4.3492229669014915, details={'was_impossible': False}),\n",
       " Prediction(uid=5220, iid=2796, r_ui=3.0, est=2.7327751071732966, details={'was_impossible': False}),\n",
       " Prediction(uid=796, iid=736, r_ui=2.0, est=1.5762163404261718, details={'was_impossible': False}),\n",
       " Prediction(uid=2092, iid=3368, r_ui=3.0, est=3.928561821214891, details={'was_impossible': False}),\n",
       " Prediction(uid=308, iid=1372, r_ui=3.0, est=3.19983471229168, details={'was_impossible': False}),\n",
       " Prediction(uid=5312, iid=2167, r_ui=4.0, est=4.378877157706624, details={'was_impossible': False}),\n",
       " Prediction(uid=3488, iid=3697, r_ui=2.0, est=2.9936684610257744, details={'was_impossible': False}),\n",
       " Prediction(uid=5333, iid=1860, r_ui=3.0, est=3.691905391788338, details={'was_impossible': False}),\n",
       " Prediction(uid=5333, iid=1191, r_ui=3.0, est=2.929931439964711, details={'was_impossible': False}),\n",
       " Prediction(uid=1969, iid=1223, r_ui=5.0, est=4.9289410199031485, details={'was_impossible': False}),\n",
       " Prediction(uid=5605, iid=1644, r_ui=5.0, est=2.3068370601414623, details={'was_impossible': False}),\n",
       " Prediction(uid=1695, iid=1590, r_ui=1.0, est=2.6556366549135846, details={'was_impossible': False}),\n",
       " Prediction(uid=4070, iid=1089, r_ui=5.0, est=4.28224736596288, details={'was_impossible': False}),\n",
       " Prediction(uid=3394, iid=2762, r_ui=4.0, est=4.496853210112645, details={'was_impossible': False}),\n",
       " Prediction(uid=3112, iid=2064, r_ui=4.0, est=3.090295202551666, details={'was_impossible': False}),\n",
       " Prediction(uid=3934, iid=3048, r_ui=2.0, est=2.0067551866622035, details={'was_impossible': False}),\n",
       " Prediction(uid=5069, iid=1783, r_ui=4.0, est=3.481647098720599, details={'was_impossible': False}),\n",
       " Prediction(uid=4728, iid=3525, r_ui=3.0, est=3.8097906681568903, details={'was_impossible': False}),\n",
       " Prediction(uid=1685, iid=2607, r_ui=5.0, est=3.821431988875025, details={'was_impossible': False}),\n",
       " Prediction(uid=4725, iid=1287, r_ui=3.0, est=3.510108018788456, details={'was_impossible': False}),\n",
       " Prediction(uid=494, iid=153, r_ui=5.0, est=4.20771720884288, details={'was_impossible': False}),\n",
       " Prediction(uid=5767, iid=2791, r_ui=3.0, est=3.5034242651295964, details={'was_impossible': False}),\n",
       " Prediction(uid=5522, iid=2735, r_ui=3.0, est=2.7549174535569048, details={'was_impossible': False}),\n",
       " Prediction(uid=1155, iid=1240, r_ui=5.0, est=4.006080984851489, details={'was_impossible': False}),\n",
       " Prediction(uid=540, iid=541, r_ui=2.0, est=4.00250225434759, details={'was_impossible': False}),\n",
       " Prediction(uid=1138, iid=3910, r_ui=5.0, est=4.378801799760782, details={'was_impossible': False}),\n",
       " Prediction(uid=5886, iid=2324, r_ui=5.0, est=4.507145981149025, details={'was_impossible': False}),\n",
       " Prediction(uid=3885, iid=587, r_ui=2.0, est=2.40071134178572, details={'was_impossible': False}),\n",
       " Prediction(uid=2034, iid=1066, r_ui=5.0, est=4.475812079642774, details={'was_impossible': False}),\n",
       " Prediction(uid=1448, iid=3308, r_ui=4.0, est=3.5904850874148546, details={'was_impossible': False}),\n",
       " Prediction(uid=1912, iid=1281, r_ui=3.0, est=2.8852881281046354, details={'was_impossible': False}),\n",
       " Prediction(uid=3391, iid=596, r_ui=4.0, est=3.8637023167017013, details={'was_impossible': False}),\n",
       " Prediction(uid=1181, iid=44, r_ui=2.0, est=2.336533679183091, details={'was_impossible': False}),\n",
       " Prediction(uid=3285, iid=367, r_ui=3.0, est=3.6860018110516455, details={'was_impossible': False}),\n",
       " Prediction(uid=293, iid=1, r_ui=2.0, est=3.976716879374712, details={'was_impossible': False}),\n",
       " Prediction(uid=3032, iid=36, r_ui=4.0, est=4.346462538163923, details={'was_impossible': False}),\n",
       " Prediction(uid=752, iid=3831, r_ui=4.0, est=3.447756394245793, details={'was_impossible': False}),\n",
       " Prediction(uid=2887, iid=36, r_ui=5.0, est=3.784352339889116, details={'was_impossible': False}),\n",
       " Prediction(uid=3961, iid=1356, r_ui=3.0, est=3.4711483000965466, details={'was_impossible': False}),\n",
       " Prediction(uid=5974, iid=2917, r_ui=5.0, est=3.805883773120543, details={'was_impossible': False}),\n",
       " Prediction(uid=4512, iid=2872, r_ui=5.0, est=3.683359149181265, details={'was_impossible': False}),\n",
       " Prediction(uid=2660, iid=1393, r_ui=3.0, est=3.89642752276623, details={'was_impossible': False}),\n",
       " Prediction(uid=1700, iid=3510, r_ui=4.0, est=4.045664573502525, details={'was_impossible': False}),\n",
       " Prediction(uid=1779, iid=3409, r_ui=4.0, est=2.453995096489077, details={'was_impossible': False}),\n",
       " Prediction(uid=3942, iid=2001, r_ui=2.0, est=2.607182853177936, details={'was_impossible': False}),\n",
       " Prediction(uid=3129, iid=1503, r_ui=3.0, est=1.8229330381650763, details={'was_impossible': False}),\n",
       " Prediction(uid=1121, iid=1573, r_ui=4.0, est=3.8954023902320167, details={'was_impossible': False}),\n",
       " Prediction(uid=678, iid=2100, r_ui=4.0, est=3.8982880273858576, details={'was_impossible': False}),\n",
       " Prediction(uid=5688, iid=1214, r_ui=4.0, est=3.4235138199033526, details={'was_impossible': False}),\n",
       " Prediction(uid=1150, iid=3773, r_ui=3.0, est=1.8970293857847447, details={'was_impossible': False}),\n",
       " Prediction(uid=1339, iid=3690, r_ui=1.0, est=1.8080198998140613, details={'was_impossible': False}),\n",
       " Prediction(uid=1146, iid=1653, r_ui=4.0, est=3.752902304249085, details={'was_impossible': False}),\n",
       " Prediction(uid=3232, iid=2606, r_ui=3.0, est=2.4723437597248665, details={'was_impossible': False}),\n",
       " Prediction(uid=3706, iid=1772, r_ui=2.0, est=2.7094110730254024, details={'was_impossible': False}),\n",
       " Prediction(uid=637, iid=3196, r_ui=5.0, est=4.472755664512933, details={'was_impossible': False}),\n",
       " Prediction(uid=1720, iid=3949, r_ui=4.0, est=4.071100194241499, details={'was_impossible': False}),\n",
       " Prediction(uid=238, iid=1730, r_ui=4.0, est=3.713201319588958, details={'was_impossible': False}),\n",
       " Prediction(uid=4169, iid=3102, r_ui=3.0, est=3.3149268827107696, details={'was_impossible': False}),\n",
       " Prediction(uid=1224, iid=1150, r_ui=5.0, est=4.313014686513381, details={'was_impossible': False}),\n",
       " Prediction(uid=5124, iid=1096, r_ui=4.0, est=3.545624133507741, details={'was_impossible': False}),\n",
       " Prediction(uid=520, iid=1590, r_ui=2.0, est=2.929189966916042, details={'was_impossible': False}),\n",
       " Prediction(uid=5641, iid=377, r_ui=4.0, est=3.9881395784070426, details={'was_impossible': False}),\n",
       " Prediction(uid=3971, iid=1210, r_ui=3.0, est=2.9971729617623977, details={'was_impossible': False}),\n",
       " Prediction(uid=3448, iid=2028, r_ui=5.0, est=4.308990638526504, details={'was_impossible': False}),\n",
       " Prediction(uid=4039, iid=2571, r_ui=5.0, est=4.534408822565082, details={'was_impossible': False}),\n",
       " Prediction(uid=5394, iid=2408, r_ui=2.0, est=2.2294983970101385, details={'was_impossible': False}),\n",
       " Prediction(uid=1894, iid=3783, r_ui=4.0, est=4.3219560941075885, details={'was_impossible': False}),\n",
       " Prediction(uid=1712, iid=2146, r_ui=2.0, est=3.5507291936841945, details={'was_impossible': False}),\n",
       " Prediction(uid=3483, iid=1167, r_ui=3.0, est=3.1584932854324337, details={'was_impossible': False}),\n",
       " Prediction(uid=2609, iid=3362, r_ui=5.0, est=4.4233871057603045, details={'was_impossible': False}),\n",
       " Prediction(uid=385, iid=1639, r_ui=1.0, est=3.8086934231238145, details={'was_impossible': False}),\n",
       " Prediction(uid=5822, iid=2118, r_ui=3.0, est=3.6656517015248102, details={'was_impossible': False}),\n",
       " Prediction(uid=2303, iid=1194, r_ui=4.0, est=3.5818364354979404, details={'was_impossible': False}),\n",
       " Prediction(uid=4808, iid=2085, r_ui=3.0, est=3.5302378337629707, details={'was_impossible': False}),\n",
       " Prediction(uid=2668, iid=2915, r_ui=3.0, est=3.3898606187308746, details={'was_impossible': False}),\n",
       " Prediction(uid=638, iid=2420, r_ui=4.0, est=4.122568708139195, details={'was_impossible': False}),\n",
       " Prediction(uid=5763, iid=1258, r_ui=3.0, est=3.6212808381264843, details={'was_impossible': False}),\n",
       " Prediction(uid=5256, iid=1129, r_ui=3.0, est=3.1275973733660805, details={'was_impossible': False}),\n",
       " Prediction(uid=3498, iid=608, r_ui=4.0, est=4.338592551905773, details={'was_impossible': False}),\n",
       " Prediction(uid=549, iid=1135, r_ui=4.0, est=3.3335734197940923, details={'was_impossible': False}),\n",
       " Prediction(uid=3821, iid=1683, r_ui=3.0, est=2.907642743729596, details={'was_impossible': False}),\n",
       " Prediction(uid=4079, iid=3101, r_ui=4.0, est=4.202907811534536, details={'was_impossible': False}),\n",
       " Prediction(uid=1835, iid=3083, r_ui=5.0, est=4.911849756941991, details={'was_impossible': False}),\n",
       " Prediction(uid=2907, iid=230, r_ui=4.0, est=3.1512334021600594, details={'was_impossible': False}),\n",
       " Prediction(uid=4227, iid=1497, r_ui=1.0, est=1.1182656127460442, details={'was_impossible': False}),\n",
       " Prediction(uid=1605, iid=3841, r_ui=2.0, est=2.7717313804602792, details={'was_impossible': False}),\n",
       " Prediction(uid=3848, iid=3186, r_ui=3.0, est=3.910327746077001, details={'was_impossible': False}),\n",
       " Prediction(uid=3526, iid=901, r_ui=2.0, est=3.505716135549318, details={'was_impossible': False}),\n",
       " Prediction(uid=4907, iid=1304, r_ui=5.0, est=3.6823597366653646, details={'was_impossible': False}),\n",
       " Prediction(uid=1032, iid=2907, r_ui=4.0, est=2.328410050506425, details={'was_impossible': False}),\n",
       " Prediction(uid=3569, iid=2798, r_ui=2.0, est=1.6121304869567354, details={'was_impossible': False}),\n",
       " Prediction(uid=3011, iid=3019, r_ui=5.0, est=4.423868844168439, details={'was_impossible': False}),\n",
       " Prediction(uid=1421, iid=1900, r_ui=5.0, est=4.064940406135726, details={'was_impossible': False}),\n",
       " Prediction(uid=714, iid=2841, r_ui=4.0, est=4.657135663805858, details={'was_impossible': False}),\n",
       " Prediction(uid=4644, iid=3147, r_ui=1.0, est=3.206456129707721, details={'was_impossible': False}),\n",
       " Prediction(uid=218, iid=3745, r_ui=2.0, est=3.140938142658505, details={'was_impossible': False}),\n",
       " Prediction(uid=2446, iid=1676, r_ui=4.0, est=3.3860162024224514, details={'was_impossible': False}),\n",
       " Prediction(uid=5099, iid=3113, r_ui=4.0, est=4.048543887563138, details={'was_impossible': False}),\n",
       " Prediction(uid=1837, iid=2406, r_ui=4.0, est=3.8642192254256544, details={'was_impossible': False}),\n",
       " Prediction(uid=101, iid=1287, r_ui=5.0, est=5, details={'was_impossible': False}),\n",
       " Prediction(uid=3792, iid=1218, r_ui=3.0, est=4.4808739905752155, details={'was_impossible': False}),\n",
       " Prediction(uid=5519, iid=468, r_ui=4.0, est=3.138392005420923, details={'was_impossible': False}),\n",
       " Prediction(uid=2990, iid=919, r_ui=5.0, est=4.416410980843149, details={'was_impossible': False}),\n",
       " Prediction(uid=4541, iid=54, r_ui=2.0, est=2.086314598182904, details={'was_impossible': False}),\n",
       " Prediction(uid=1207, iid=1588, r_ui=2.0, est=2.0429327152198846, details={'was_impossible': False}),\n",
       " Prediction(uid=5929, iid=1341, r_ui=4.0, est=3.3066066637597022, details={'was_impossible': False}),\n",
       " Prediction(uid=3153, iid=1747, r_ui=2.0, est=3.7437672224951317, details={'was_impossible': False}),\n",
       " Prediction(uid=3336, iid=2378, r_ui=2.0, est=2.0653107160270174, details={'was_impossible': False}),\n",
       " Prediction(uid=1880, iid=3608, r_ui=3.0, est=3.5029190224741455, details={'was_impossible': False}),\n",
       " Prediction(uid=3884, iid=1895, r_ui=2.0, est=2.801163506034134, details={'was_impossible': False}),\n",
       " Prediction(uid=4049, iid=1599, r_ui=1.0, est=1.9922241523876998, details={'was_impossible': False}),\n",
       " Prediction(uid=780, iid=44, r_ui=4.0, est=3.349529728787087, details={'was_impossible': False}),\n",
       " Prediction(uid=4686, iid=1199, r_ui=5.0, est=4.509813260852863, details={'was_impossible': False}),\n",
       " Prediction(uid=5942, iid=1307, r_ui=3.0, est=4.00661945656879, details={'was_impossible': False}),\n",
       " Prediction(uid=2031, iid=2959, r_ui=4.0, est=4.634251440209413, details={'was_impossible': False}),\n",
       " Prediction(uid=2020, iid=2628, r_ui=2.0, est=2.537886805876817, details={'was_impossible': False}),\n",
       " Prediction(uid=2592, iid=296, r_ui=2.0, est=2.9898103397436557, details={'was_impossible': False}),\n",
       " Prediction(uid=5220, iid=3210, r_ui=4.0, est=3.6663847065640907, details={'was_impossible': False}),\n",
       " Prediction(uid=5018, iid=1611, r_ui=2.0, est=3.389201784542934, details={'was_impossible': False}),\n",
       " Prediction(uid=5076, iid=39, r_ui=5.0, est=3.4742739586935594, details={'was_impossible': False}),\n",
       " Prediction(uid=4784, iid=45, r_ui=3.0, est=3.436274974559602, details={'was_impossible': False}),\n",
       " Prediction(uid=5837, iid=1760, r_ui=2.0, est=2.5690989561647544, details={'was_impossible': False}),\n",
       " Prediction(uid=1865, iid=3155, r_ui=3.0, est=3.39437646918152, details={'was_impossible': False}),\n",
       " Prediction(uid=471, iid=1371, r_ui=2.0, est=2.9634623320091107, details={'was_impossible': False}),\n",
       " Prediction(uid=4663, iid=1732, r_ui=4.0, est=3.157651055878647, details={'was_impossible': False}),\n",
       " Prediction(uid=4021, iid=2531, r_ui=3.0, est=3.3225664787551223, details={'was_impossible': False}),\n",
       " Prediction(uid=390, iid=1994, r_ui=4.0, est=3.9800573484102237, details={'was_impossible': False}),\n",
       " Prediction(uid=3724, iid=2294, r_ui=3.0, est=3.7198023644072706, details={'was_impossible': False}),\n",
       " Prediction(uid=4285, iid=798, r_ui=3.0, est=3.812896248095562, details={'was_impossible': False}),\n",
       " Prediction(uid=5344, iid=1619, r_ui=3.0, est=3.273060265802151, details={'was_impossible': False}),\n",
       " Prediction(uid=5574, iid=2517, r_ui=4.0, est=3.2733422151584612, details={'was_impossible': False}),\n",
       " Prediction(uid=2018, iid=1237, r_ui=5.0, est=4.696088201543003, details={'was_impossible': False}),\n",
       " Prediction(uid=5643, iid=3507, r_ui=5.0, est=3.384691507906995, details={'was_impossible': False}),\n",
       " Prediction(uid=3635, iid=3629, r_ui=5.0, est=4.579239159626915, details={'was_impossible': False}),\n",
       " Prediction(uid=1506, iid=1610, r_ui=4.0, est=3.7453254709121455, details={'was_impossible': False}),\n",
       " Prediction(uid=3189, iid=2571, r_ui=5.0, est=5, details={'was_impossible': False}),\n",
       " Prediction(uid=732, iid=2915, r_ui=5.0, est=3.218854354152064, details={'was_impossible': False}),\n",
       " Prediction(uid=2010, iid=18, r_ui=3.0, est=2.4045287773577857, details={'was_impossible': False}),\n",
       " Prediction(uid=3018, iid=2701, r_ui=1.0, est=2.2640676643471838, details={'was_impossible': False}),\n",
       " Prediction(uid=3619, iid=3873, r_ui=5.0, est=3.95856973232274, details={'was_impossible': False}),\n",
       " Prediction(uid=5083, iid=17, r_ui=4.0, est=3.8354769183275175, details={'was_impossible': False}),\n",
       " Prediction(uid=3590, iid=1648, r_ui=5.0, est=4.2370277676530375, details={'was_impossible': False}),\n",
       " Prediction(uid=3681, iid=2513, r_ui=4.0, est=3.581235169727844, details={'was_impossible': False}),\n",
       " Prediction(uid=1530, iid=508, r_ui=4.0, est=3.606296596686107, details={'was_impossible': False}),\n",
       " Prediction(uid=3532, iid=780, r_ui=4.0, est=3.7404639691957686, details={'was_impossible': False}),\n",
       " Prediction(uid=3520, iid=3735, r_ui=4.0, est=3.743460508618641, details={'was_impossible': False}),\n",
       " Prediction(uid=5569, iid=1196, r_ui=4.0, est=3.569163495326557, details={'was_impossible': False}),\n",
       " Prediction(uid=1726, iid=2549, r_ui=1.0, est=1, details={'was_impossible': False}),\n",
       " Prediction(uid=2020, iid=322, r_ui=3.0, est=3.9088684291627427, details={'was_impossible': False}),\n",
       " Prediction(uid=2611, iid=3421, r_ui=5.0, est=4.808416034281063, details={'was_impossible': False}),\n",
       " Prediction(uid=5269, iid=2997, r_ui=5.0, est=5, details={'was_impossible': False}),\n",
       " Prediction(uid=3410, iid=931, r_ui=3.0, est=3.4851306955544215, details={'was_impossible': False}),\n",
       " Prediction(uid=1947, iid=3793, r_ui=5.0, est=3.449183461671907, details={'was_impossible': False}),\n",
       " Prediction(uid=3878, iid=923, r_ui=5.0, est=4.9387907581005575, details={'was_impossible': False}),\n",
       " Prediction(uid=3967, iid=1091, r_ui=3.0, est=1.5270542933009552, details={'was_impossible': False}),\n",
       " Prediction(uid=4750, iid=1290, r_ui=3.0, est=3.907220319026067, details={'was_impossible': False}),\n",
       " Prediction(uid=3217, iid=3428, r_ui=4.0, est=3.398967086564118, details={'was_impossible': False}),\n",
       " Prediction(uid=2570, iid=3418, r_ui=5.0, est=3.7342748506436356, details={'was_impossible': False}),\n",
       " Prediction(uid=3224, iid=457, r_ui=4.0, est=4.007174423410073, details={'was_impossible': False}),\n",
       " Prediction(uid=181, iid=1408, r_ui=3.0, est=3.841681214895757, details={'was_impossible': False}),\n",
       " Prediction(uid=5389, iid=1214, r_ui=5.0, est=4.432061229963336, details={'was_impossible': False}),\n",
       " Prediction(uid=1600, iid=1387, r_ui=5.0, est=4.31614677095884, details={'was_impossible': False}),\n",
       " Prediction(uid=714, iid=2135, r_ui=4.0, est=4.007605893411103, details={'was_impossible': False}),\n",
       " Prediction(uid=4726, iid=3623, r_ui=3.0, est=3.326772472333305, details={'was_impossible': False}),\n",
       " Prediction(uid=5, iid=994, r_ui=5.0, est=3.69648146718108, details={'was_impossible': False}),\n",
       " Prediction(uid=5183, iid=3176, r_ui=5.0, est=3.801967010150228, details={'was_impossible': False}),\n",
       " Prediction(uid=3693, iid=1086, r_ui=4.0, est=3.9294187063661687, details={'was_impossible': False}),\n",
       " Prediction(uid=2124, iid=2988, r_ui=5.0, est=4.166847574852106, details={'was_impossible': False}),\n",
       " Prediction(uid=2996, iid=2087, r_ui=3.0, est=3.46834225823103, details={'was_impossible': False}),\n",
       " Prediction(uid=1489, iid=3743, r_ui=2.0, est=1, details={'was_impossible': False}),\n",
       " Prediction(uid=3513, iid=2762, r_ui=5.0, est=4.117618964485102, details={'was_impossible': False}),\n",
       " Prediction(uid=2748, iid=1760, r_ui=1.0, est=1.2247707965247356, details={'was_impossible': False}),\n",
       " Prediction(uid=4858, iid=913, r_ui=4.0, est=4.496315231495147, details={'was_impossible': False}),\n",
       " Prediction(uid=4362, iid=2840, r_ui=3.0, est=2.1317062696030837, details={'was_impossible': False}),\n",
       " Prediction(uid=1889, iid=2628, r_ui=3.0, est=3.2067026397569123, details={'was_impossible': False}),\n",
       " Prediction(uid=2962, iid=3708, r_ui=2.0, est=2.234028897046319, details={'was_impossible': False}),\n",
       " Prediction(uid=533, iid=1240, r_ui=5.0, est=3.6611084648409755, details={'was_impossible': False}),\n",
       " Prediction(uid=4986, iid=2571, r_ui=5.0, est=4.591973387491106, details={'was_impossible': False}),\n",
       " Prediction(uid=4819, iid=1288, r_ui=2.0, est=3.2464546585645295, details={'was_impossible': False}),\n",
       " Prediction(uid=4034, iid=3745, r_ui=3.0, est=3.7717825689041033, details={'was_impossible': False}),\n",
       " Prediction(uid=2820, iid=2478, r_ui=2.0, est=2.302442356608813, details={'was_impossible': False}),\n",
       " Prediction(uid=5320, iid=48, r_ui=3.0, est=2.1551675047676877, details={'was_impossible': False}),\n",
       " Prediction(uid=4598, iid=2335, r_ui=2.0, est=3.0237573712040313, details={'was_impossible': False}),\n",
       " Prediction(uid=5568, iid=172, r_ui=5.0, est=3.4602158677924604, details={'was_impossible': False}),\n",
       " Prediction(uid=1047, iid=1704, r_ui=5.0, est=4.43961661130532, details={'was_impossible': False}),\n",
       " Prediction(uid=5428, iid=433, r_ui=2.0, est=3.409916203692859, details={'was_impossible': False}),\n",
       " Prediction(uid=1722, iid=2529, r_ui=5.0, est=4.577355163367233, details={'was_impossible': False}),\n",
       " Prediction(uid=2026, iid=1301, r_ui=4.0, est=4.050073091202025, details={'was_impossible': False}),\n",
       " Prediction(uid=606, iid=1028, r_ui=5.0, est=4.081093926890762, details={'was_impossible': False}),\n",
       " Prediction(uid=3916, iid=491, r_ui=5.0, est=3.251454398634513, details={'was_impossible': False}),\n",
       " Prediction(uid=5964, iid=555, r_ui=5.0, est=4.119238643837415, details={'was_impossible': False}),\n",
       " Prediction(uid=4327, iid=480, r_ui=4.0, est=4.5890007198404845, details={'was_impossible': False}),\n",
       " Prediction(uid=5599, iid=3556, r_ui=4.0, est=3.1166635228641373, details={'was_impossible': False}),\n",
       " Prediction(uid=3929, iid=653, r_ui=3.0, est=2.6050687325605706, details={'was_impossible': False}),\n",
       " Prediction(uid=5350, iid=367, r_ui=2.0, est=2.450504877495233, details={'was_impossible': False}),\n",
       " Prediction(uid=4995, iid=356, r_ui=3.0, est=3.2406240016120598, details={'was_impossible': False}),\n",
       " Prediction(uid=2854, iid=2139, r_ui=3.0, est=3.4806441190088324, details={'was_impossible': False}),\n",
       " Prediction(uid=5722, iid=2202, r_ui=4.0, est=3.7730367627207086, details={'was_impossible': False}),\n",
       " Prediction(uid=1889, iid=1263, r_ui=2.0, est=3.49444603033849, details={'was_impossible': False}),\n",
       " Prediction(uid=3691, iid=1275, r_ui=4.0, est=3.693577320792043, details={'was_impossible': False}),\n",
       " Prediction(uid=4808, iid=3247, r_ui=3.0, est=3.451903424179196, details={'was_impossible': False}),\n",
       " Prediction(uid=4508, iid=3168, r_ui=3.0, est=4.229800600691277, details={'was_impossible': False}),\n",
       " Prediction(uid=423, iid=3753, r_ui=2.0, est=3.5434029947208954, details={'was_impossible': False}),\n",
       " Prediction(uid=5638, iid=1902, r_ui=4.0, est=2.746379531327827, details={'was_impossible': False}),\n",
       " Prediction(uid=127, iid=1097, r_ui=5.0, est=4.458421903738041, details={'was_impossible': False}),\n",
       " Prediction(uid=370, iid=2694, r_ui=5.0, est=3.643923551119848, details={'was_impossible': False}),\n",
       " Prediction(uid=1984, iid=533, r_ui=3.0, est=2.9287075191426277, details={'was_impossible': False}),\n",
       " Prediction(uid=5837, iid=1894, r_ui=3.0, est=3.659453553848177, details={'was_impossible': False}),\n",
       " Prediction(uid=1257, iid=3489, r_ui=2.0, est=3.048002034907267, details={'was_impossible': False}),\n",
       " Prediction(uid=2665, iid=1276, r_ui=5.0, est=4.493680919138291, details={'was_impossible': False}),\n",
       " Prediction(uid=3590, iid=2375, r_ui=4.0, est=3.141356522294951, details={'was_impossible': False}),\n",
       " Prediction(uid=4508, iid=352, r_ui=3.0, est=3.537488378104476, details={'was_impossible': False}),\n",
       " Prediction(uid=4386, iid=908, r_ui=4.0, est=4.06613734452179, details={'was_impossible': False}),\n",
       " Prediction(uid=2796, iid=1028, r_ui=4.0, est=2.635365681694577, details={'was_impossible': False}),\n",
       " Prediction(uid=510, iid=3471, r_ui=3.0, est=3.633060458500924, details={'was_impossible': False}),\n",
       " Prediction(uid=2429, iid=2028, r_ui=5.0, est=4.666919792482924, details={'was_impossible': False}),\n",
       " Prediction(uid=3327, iid=3578, r_ui=4.0, est=4.356083769659884, details={'was_impossible': False}),\n",
       " Prediction(uid=839, iid=1923, r_ui=5.0, est=4.173246855868266, details={'was_impossible': False}),\n",
       " Prediction(uid=3681, iid=1777, r_ui=4.0, est=3.8726594169194017, details={'was_impossible': False}),\n",
       " Prediction(uid=412, iid=1365, r_ui=3.0, est=4.6704151645733605, details={'was_impossible': False}),\n",
       " Prediction(uid=5954, iid=1011, r_ui=3.0, est=2.8677802164638178, details={'was_impossible': False}),\n",
       " Prediction(uid=1897, iid=1252, r_ui=5.0, est=4.590425000465805, details={'was_impossible': False}),\n",
       " Prediction(uid=4967, iid=203, r_ui=5.0, est=3.4382237217595857, details={'was_impossible': False}),\n",
       " Prediction(uid=4367, iid=408, r_ui=5.0, est=3.1479191435001144, details={'was_impossible': False}),\n",
       " Prediction(uid=586, iid=2300, r_ui=5.0, est=4.578015029927451, details={'was_impossible': False}),\n",
       " Prediction(uid=4213, iid=3210, r_ui=5.0, est=4.363715369229544, details={'was_impossible': False}),\n",
       " Prediction(uid=2271, iid=1610, r_ui=4.0, est=4.3843267680118725, details={'was_impossible': False}),\n",
       " Prediction(uid=5916, iid=956, r_ui=3.0, est=3.277970922078426, details={'was_impossible': False}),\n",
       " Prediction(uid=3832, iid=3536, r_ui=4.0, est=3.580235656209037, details={'was_impossible': False}),\n",
       " Prediction(uid=331, iid=2918, r_ui=4.0, est=4.034465607285774, details={'was_impossible': False}),\n",
       " Prediction(uid=1976, iid=1615, r_ui=3.0, est=4.149368902950046, details={'was_impossible': False}),\n",
       " Prediction(uid=2148, iid=1556, r_ui=1.0, est=2.649467319369986, details={'was_impossible': False}),\n",
       " Prediction(uid=5409, iid=593, r_ui=3.0, est=4.280644347028755, details={'was_impossible': False}),\n",
       " Prediction(uid=1785, iid=3889, r_ui=1.0, est=2.3844000704662704, details={'was_impossible': False}),\n",
       " Prediction(uid=2880, iid=208, r_ui=2.0, est=1.7602194293142421, details={'was_impossible': False}),\n",
       " Prediction(uid=746, iid=3510, r_ui=3.0, est=3.2122649616215875, details={'was_impossible': False}),\n",
       " Prediction(uid=1299, iid=589, r_ui=5.0, est=4.270019317640817, details={'was_impossible': False}),\n",
       " Prediction(uid=2016, iid=1291, r_ui=5.0, est=4.507907214068369, details={'was_impossible': False}),\n",
       " Prediction(uid=4041, iid=886, r_ui=5.0, est=3.1816464720566002, details={'was_impossible': False}),\n",
       " Prediction(uid=3652, iid=3948, r_ui=4.0, est=4.121786469614536, details={'was_impossible': False}),\n",
       " Prediction(uid=5187, iid=3764, r_ui=3.0, est=2.252265275025755, details={'was_impossible': False}),\n",
       " Prediction(uid=783, iid=1033, r_ui=2.0, est=3.5323546202720926, details={'was_impossible': False}),\n",
       " Prediction(uid=3970, iid=1198, r_ui=4.0, est=4.5935103316385915, details={'was_impossible': False}),\n",
       " Prediction(uid=1767, iid=1035, r_ui=5.0, est=3.165809586305879, details={'was_impossible': False}),\n",
       " Prediction(uid=5997, iid=1356, r_ui=5.0, est=4.027706241726327, details={'was_impossible': False}),\n",
       " Prediction(uid=5011, iid=2796, r_ui=5.0, est=3.6660465441942107, details={'was_impossible': False}),\n",
       " Prediction(uid=1802, iid=1197, r_ui=3.0, est=4.343995614758468, details={'was_impossible': False}),\n",
       " Prediction(uid=3182, iid=1198, r_ui=4.0, est=4.045628696799824, details={'was_impossible': False}),\n",
       " Prediction(uid=461, iid=11, r_ui=5.0, est=3.8473613028011133, details={'was_impossible': False}),\n",
       " Prediction(uid=1676, iid=2735, r_ui=4.0, est=3.4894474162400604, details={'was_impossible': False}),\n",
       " Prediction(uid=505, iid=1608, r_ui=4.0, est=4.2385641027989855, details={'was_impossible': False}),\n",
       " Prediction(uid=3503, iid=3186, r_ui=3.0, est=3.8702374373742945, details={'was_impossible': False}),\n",
       " Prediction(uid=546, iid=366, r_ui=1.0, est=2.1371969068468686, details={'was_impossible': False}),\n",
       " Prediction(uid=1072, iid=945, r_ui=4.0, est=4.277836824052797, details={'was_impossible': False}),\n",
       " Prediction(uid=1599, iid=2642, r_ui=3.0, est=2.5692235037757225, details={'was_impossible': False}),\n",
       " Prediction(uid=5759, iid=3261, r_ui=4.0, est=3.570659588722154, details={'was_impossible': False}),\n",
       " Prediction(uid=1151, iid=1375, r_ui=4.0, est=3.8610912140360703, details={'was_impossible': False}),\n",
       " Prediction(uid=2880, iid=3265, r_ui=4.0, est=4.19783054116432, details={'was_impossible': False}),\n",
       " Prediction(uid=1671, iid=3435, r_ui=5.0, est=4.57338540912354, details={'was_impossible': False}),\n",
       " Prediction(uid=2907, iid=2082, r_ui=2.0, est=3.418026331525625, details={'was_impossible': False}),\n",
       " Prediction(uid=2933, iid=2890, r_ui=4.0, est=3.5252732573005696, details={'was_impossible': False}),\n",
       " Prediction(uid=3903, iid=1101, r_ui=3.0, est=3.91987870602846, details={'was_impossible': False}),\n",
       " Prediction(uid=2656, iid=3916, r_ui=4.0, est=4.691992658307197, details={'was_impossible': False}),\n",
       " Prediction(uid=984, iid=2858, r_ui=3.0, est=3.9001437540916073, details={'was_impossible': False}),\n",
       " Prediction(uid=4449, iid=2340, r_ui=5.0, est=3.663611600609794, details={'was_impossible': False}),\n",
       " Prediction(uid=173, iid=1288, r_ui=5.0, est=4.709068986813223, details={'was_impossible': False}),\n",
       " Prediction(uid=5271, iid=1836, r_ui=3.0, est=3.6456359918763317, details={'was_impossible': False}),\n",
       " Prediction(uid=5754, iid=215, r_ui=1.0, est=3.8785371669201774, details={'was_impossible': False}),\n",
       " Prediction(uid=3410, iid=3441, r_ui=3.0, est=2.3686690367612524, details={'was_impossible': False}),\n",
       " Prediction(uid=402, iid=81, r_ui=3.0, est=3.1218932164252537, details={'was_impossible': False}),\n",
       " Prediction(uid=1944, iid=720, r_ui=4.0, est=4.970114248844988, details={'was_impossible': False}),\n",
       " Prediction(uid=4930, iid=3095, r_ui=4.0, est=4.288962198273515, details={'was_impossible': False}),\n",
       " Prediction(uid=5634, iid=1372, r_ui=2.0, est=3.6813312145122152, details={'was_impossible': False}),\n",
       " Prediction(uid=4072, iid=1268, r_ui=3.0, est=3.5400488129420444, details={'was_impossible': False}),\n",
       " Prediction(uid=5604, iid=492, r_ui=5.0, est=3.848817482207207, details={'was_impossible': False}),\n",
       " Prediction(uid=2715, iid=1270, r_ui=4.0, est=3.567330577169533, details={'was_impossible': False}),\n",
       " Prediction(uid=2261, iid=256, r_ui=3.0, est=2.52972373579596, details={'was_impossible': False}),\n",
       " Prediction(uid=919, iid=1173, r_ui=5.0, est=3.9837676005699505, details={'was_impossible': False}),\n",
       " Prediction(uid=62, iid=329, r_ui=3.0, est=3.421757857075542, details={'was_impossible': False}),\n",
       " Prediction(uid=3481, iid=593, r_ui=5.0, est=4.417451855654927, details={'was_impossible': False}),\n",
       " Prediction(uid=3860, iid=3699, r_ui=2.0, est=3.5923329993791686, details={'was_impossible': False}),\n",
       " Prediction(uid=5806, iid=3531, r_ui=4.0, est=2.7651428049374074, details={'was_impossible': False}),\n",
       " Prediction(uid=5249, iid=163, r_ui=3.0, est=2.713400398649412, details={'was_impossible': False}),\n",
       " Prediction(uid=419, iid=3155, r_ui=5.0, est=3.423917639075358, details={'was_impossible': False}),\n",
       " Prediction(uid=945, iid=2797, r_ui=3.0, est=3.8817938763395547, details={'was_impossible': False}),\n",
       " Prediction(uid=846, iid=3755, r_ui=5.0, est=4.1146440922863885, details={'was_impossible': False}),\n",
       " Prediction(uid=1434, iid=329, r_ui=1.0, est=2.0939846872924632, details={'was_impossible': False}),\n",
       " Prediction(uid=5492, iid=3210, r_ui=2.0, est=3.347309324473454, details={'was_impossible': False}),\n",
       " Prediction(uid=4126, iid=1475, r_ui=3.0, est=3.010645383225905, details={'was_impossible': False}),\n",
       " Prediction(uid=1820, iid=3101, r_ui=5.0, est=3.34462201379524, details={'was_impossible': False}),\n",
       " Prediction(uid=2986, iid=2605, r_ui=2.0, est=2.7979198926938835, details={'was_impossible': False}),\n",
       " Prediction(uid=5458, iid=593, r_ui=3.0, est=4.20227158505858, details={'was_impossible': False}),\n",
       " Prediction(uid=3029, iid=1099, r_ui=5.0, est=4.597617991827525, details={'was_impossible': False}),\n",
       " Prediction(uid=1579, iid=457, r_ui=4.0, est=4.444742926680054, details={'was_impossible': False}),\n",
       " Prediction(uid=2022, iid=541, r_ui=3.0, est=3.83042816348609, details={'was_impossible': False}),\n",
       " Prediction(uid=5350, iid=1073, r_ui=3.0, est=2.9670941615932955, details={'was_impossible': False}),\n",
       " Prediction(uid=4436, iid=2025, r_ui=3.0, est=3.283578592233628, details={'was_impossible': False}),\n",
       " Prediction(uid=3308, iid=587, r_ui=3.0, est=3.8146377012670736, details={'was_impossible': False}),\n",
       " Prediction(uid=4933, iid=1376, r_ui=4.0, est=3.4136085900476862, details={'was_impossible': False}),\n",
       " Prediction(uid=2589, iid=2455, r_ui=3.0, est=2.7193626457583377, details={'was_impossible': False}),\n",
       " Prediction(uid=62, iid=2457, r_ui=3.0, est=3.28091516019371, details={'was_impossible': False}),\n",
       " Prediction(uid=1193, iid=2723, r_ui=1.0, est=2.209330089040926, details={'was_impossible': False}),\n",
       " Prediction(uid=1098, iid=2028, r_ui=3.0, est=4.713586092437366, details={'was_impossible': False}),\n",
       " Prediction(uid=3624, iid=2530, r_ui=3.0, est=3.1506544545169666, details={'was_impossible': False}),\n",
       " Prediction(uid=1947, iid=296, r_ui=4.0, est=4.537268851500861, details={'was_impossible': False}),\n",
       " Prediction(uid=1340, iid=12, r_ui=1.0, est=1, details={'was_impossible': False}),\n",
       " Prediction(uid=329, iid=3526, r_ui=3.0, est=3.4422848724545085, details={'was_impossible': False}),\n",
       " Prediction(uid=1675, iid=2454, r_ui=3.0, est=3.299916186607537, details={'was_impossible': False}),\n",
       " Prediction(uid=604, iid=1573, r_ui=4.0, est=3.604083739331438, details={'was_impossible': False}),\n",
       " Prediction(uid=4491, iid=1681, r_ui=5.0, est=3.050893673229728, details={'was_impossible': False}),\n",
       " Prediction(uid=1010, iid=1387, r_ui=2.0, est=3.9473072614541356, details={'was_impossible': False}),\n",
       " Prediction(uid=5265, iid=1303, r_ui=4.0, est=3.998788883883425, details={'was_impossible': False}),\n",
       " Prediction(uid=4360, iid=500, r_ui=3.0, est=2.9839589550452628, details={'was_impossible': False}),\n",
       " Prediction(uid=2812, iid=480, r_ui=4.0, est=3.139916247875698, details={'was_impossible': False}),\n",
       " Prediction(uid=5991, iid=2294, r_ui=5.0, est=3.1271904718151466, details={'was_impossible': False}),\n",
       " Prediction(uid=1727, iid=3363, r_ui=5.0, est=4.602007285073109, details={'was_impossible': False}),\n",
       " Prediction(uid=1132, iid=592, r_ui=5.0, est=4.180247310053558, details={'was_impossible': False}),\n",
       " Prediction(uid=3793, iid=2060, r_ui=5.0, est=3.285120851361029, details={'was_impossible': False}),\n",
       " Prediction(uid=223, iid=1894, r_ui=3.0, est=3.140263069836543, details={'was_impossible': False}),\n",
       " Prediction(uid=297, iid=1213, r_ui=4.0, est=4.033878987462556, details={'was_impossible': False}),\n",
       " Prediction(uid=2016, iid=2947, r_ui=5.0, est=4.553405646068921, details={'was_impossible': False}),\n",
       " Prediction(uid=2355, iid=1269, r_ui=5.0, est=3.820715343667585, details={'was_impossible': False}),\n",
       " Prediction(uid=225, iid=549, r_ui=3.0, est=3.7570941170643146, details={'was_impossible': False}),\n",
       " Prediction(uid=5123, iid=1304, r_ui=5.0, est=4.296345592245073, details={'was_impossible': False}),\n",
       " Prediction(uid=3888, iid=922, r_ui=4.0, est=4.204843315332928, details={'was_impossible': False}),\n",
       " Prediction(uid=3272, iid=1304, r_ui=4.0, est=4.221216280280348, details={'was_impossible': False}),\n",
       " Prediction(uid=838, iid=3456, r_ui=5.0, est=4.468658876439539, details={'was_impossible': False}),\n",
       " Prediction(uid=4790, iid=3269, r_ui=3.0, est=3.0572494742146947, details={'was_impossible': False}),\n",
       " Prediction(uid=2010, iid=700, r_ui=3.0, est=2.4948426539038326, details={'was_impossible': False}),\n",
       " Prediction(uid=5621, iid=3007, r_ui=2.0, est=3.718117153460757, details={'was_impossible': False}),\n",
       " Prediction(uid=3452, iid=1387, r_ui=5.0, est=4.7357707192154646, details={'was_impossible': False}),\n",
       " Prediction(uid=4579, iid=3742, r_ui=4.0, est=4.0098595691460925, details={'was_impossible': False}),\n",
       " Prediction(uid=3989, iid=265, r_ui=3.0, est=4.825210034447474, details={'was_impossible': False}),\n",
       " Prediction(uid=3836, iid=2989, r_ui=3.0, est=3.540504629265297, details={'was_impossible': False}),\n",
       " Prediction(uid=5394, iid=21, r_ui=4.0, est=3.782329750842719, details={'was_impossible': False}),\n",
       " Prediction(uid=4030, iid=3392, r_ui=2.0, est=2.3073966220453657, details={'was_impossible': False}),\n",
       " Prediction(uid=2025, iid=608, r_ui=4.0, est=3.761090411675535, details={'was_impossible': False}),\n",
       " Prediction(uid=2445, iid=3267, r_ui=5.0, est=4.142969888521781, details={'was_impossible': False}),\n",
       " Prediction(uid=48, iid=329, r_ui=3.0, est=3.0864284348573072, details={'was_impossible': False}),\n",
       " Prediction(uid=1069, iid=1654, r_ui=2.0, est=2.2402489302319313, details={'was_impossible': False}),\n",
       " Prediction(uid=5843, iid=62, r_ui=2.0, est=3.251970017192183, details={'was_impossible': False}),\n",
       " Prediction(uid=4899, iid=41, r_ui=3.0, est=3.8864273003376337, details={'was_impossible': False}),\n",
       " Prediction(uid=3320, iid=3591, r_ui=4.0, est=3.328585917068419, details={'was_impossible': False}),\n",
       " Prediction(uid=1968, iid=1270, r_ui=5.0, est=3.884095407474927, details={'was_impossible': False}),\n",
       " Prediction(uid=2380, iid=380, r_ui=3.0, est=3.2446279842402403, details={'was_impossible': False}),\n",
       " Prediction(uid=4973, iid=1959, r_ui=4.0, est=3.596225881134022, details={'was_impossible': False}),\n",
       " Prediction(uid=3981, iid=45, r_ui=2.0, est=2.5134876815670166, details={'was_impossible': False}),\n",
       " Prediction(uid=1389, iid=1259, r_ui=5.0, est=4.324412043924583, details={'was_impossible': False}),\n",
       " Prediction(uid=1117, iid=2948, r_ui=5.0, est=4.453834380336277, details={'was_impossible': False}),\n",
       " Prediction(uid=2847, iid=350, r_ui=2.0, est=2.176456623376919, details={'was_impossible': False}),\n",
       " Prediction(uid=1509, iid=2448, r_ui=2.0, est=2.3497698536063805, details={'was_impossible': False}),\n",
       " Prediction(uid=3957, iid=2474, r_ui=4.0, est=3.902031041501892, details={'was_impossible': False}),\n",
       " Prediction(uid=1599, iid=733, r_ui=4.0, est=3.780369331413805, details={'was_impossible': False}),\n",
       " Prediction(uid=5492, iid=2567, r_ui=4.0, est=3.340582533134739, details={'was_impossible': False}),\n",
       " Prediction(uid=351, iid=2716, r_ui=3.0, est=3.8090143578822513, details={'was_impossible': False}),\n",
       " Prediction(uid=3681, iid=3301, r_ui=3.0, est=3.87351644050305, details={'was_impossible': False}),\n",
       " Prediction(uid=3337, iid=2840, r_ui=3.0, est=2.964592449637788, details={'was_impossible': False}),\n",
       " Prediction(uid=5538, iid=952, r_ui=4.0, est=3.8345801497017162, details={'was_impossible': False}),\n",
       " Prediction(uid=4391, iid=1917, r_ui=3.0, est=3.74352459182779, details={'was_impossible': False}),\n",
       " Prediction(uid=1298, iid=314, r_ui=4.0, est=4.042349697991936, details={'was_impossible': False}),\n",
       " Prediction(uid=6036, iid=2081, r_ui=3.0, est=3.8481470902189003, details={'was_impossible': False}),\n",
       " Prediction(uid=4771, iid=235, r_ui=4.0, est=3.698933839142629, details={'was_impossible': False}),\n",
       " Prediction(uid=3594, iid=2057, r_ui=2.0, est=3.358042137666373, details={'was_impossible': False}),\n",
       " Prediction(uid=676, iid=1645, r_ui=2.0, est=2.8660300056699666, details={'was_impossible': False}),\n",
       " Prediction(uid=5922, iid=1196, r_ui=4.0, est=3.904464177233744, details={'was_impossible': False}),\n",
       " Prediction(uid=878, iid=737, r_ui=3.0, est=2.6183204422375415, details={'was_impossible': False}),\n",
       " Prediction(uid=590, iid=3747, r_ui=4.0, est=4.038618580766394, details={'was_impossible': False}),\n",
       " Prediction(uid=2771, iid=595, r_ui=4.0, est=3.215425064873517, details={'was_impossible': False}),\n",
       " Prediction(uid=2749, iid=3793, r_ui=5.0, est=3.96616943115681, details={'was_impossible': False}),\n",
       " Prediction(uid=5654, iid=1690, r_ui=4.0, est=3.0140091402302285, details={'was_impossible': False}),\n",
       " Prediction(uid=3846, iid=3448, r_ui=5.0, est=4.052824138256635, details={'was_impossible': False}),\n",
       " Prediction(uid=4134, iid=1242, r_ui=4.0, est=3.9222422982892473, details={'was_impossible': False}),\n",
       " Prediction(uid=2071, iid=1610, r_ui=5.0, est=3.702110300125005, details={'was_impossible': False}),\n",
       " Prediction(uid=1529, iid=552, r_ui=4.0, est=3.787471473057053, details={'was_impossible': False}),\n",
       " Prediction(uid=1675, iid=2010, r_ui=5.0, est=3.368954957581127, details={'was_impossible': False}),\n",
       " Prediction(uid=1943, iid=429, r_ui=2.0, est=2.8459760250804074, details={'was_impossible': False}),\n",
       " Prediction(uid=2263, iid=3219, r_ui=4.0, est=3.402672417920869, details={'was_impossible': False}),\n",
       " Prediction(uid=5894, iid=1222, r_ui=4.0, est=4.412943909165067, details={'was_impossible': False}),\n",
       " Prediction(uid=4257, iid=804, r_ui=3.0, est=2.8845289029953487, details={'was_impossible': False}),\n",
       " Prediction(uid=5256, iid=3584, r_ui=3.0, est=2.6217636124330292, details={'was_impossible': False}),\n",
       " Prediction(uid=1980, iid=3133, r_ui=4.0, est=4.242013147628235, details={'was_impossible': False}),\n",
       " Prediction(uid=5607, iid=1079, r_ui=4.0, est=3.9788505226701942, details={'was_impossible': False}),\n",
       " Prediction(uid=170, iid=2683, r_ui=4.0, est=3.027316200478591, details={'was_impossible': False}),\n",
       " Prediction(uid=2271, iid=1429, r_ui=4.0, est=3.350035761334458, details={'was_impossible': False}),\n",
       " Prediction(uid=1218, iid=2094, r_ui=2.0, est=2.704418293815941, details={'was_impossible': False}),\n",
       " Prediction(uid=4933, iid=1060, r_ui=4.0, est=3.2279758458143255, details={'was_impossible': False}),\n",
       " Prediction(uid=517, iid=2012, r_ui=3.0, est=3.7485649540239354, details={'was_impossible': False}),\n",
       " Prediction(uid=1809, iid=1124, r_ui=3.0, est=3.4452596871014203, details={'was_impossible': False}),\n",
       " Prediction(uid=5878, iid=581, r_ui=1.0, est=3.805667129240166, details={'was_impossible': False}),\n",
       " Prediction(uid=2171, iid=1176, r_ui=4.0, est=4.57822340611937, details={'was_impossible': False}),\n",
       " Prediction(uid=2564, iid=2761, r_ui=4.0, est=3.7986984407050053, details={'was_impossible': False}),\n",
       " Prediction(uid=5002, iid=1242, r_ui=4.0, est=4.215478490425927, details={'was_impossible': False}),\n",
       " Prediction(uid=4726, iid=3176, r_ui=4.0, est=3.4207570858024705, details={'was_impossible': False}),\n",
       " Prediction(uid=5046, iid=3623, r_ui=1.0, est=2.444717702877293, details={'was_impossible': False}),\n",
       " Prediction(uid=4827, iid=3174, r_ui=4.0, est=3.1085104988020014, details={'was_impossible': False}),\n",
       " Prediction(uid=1117, iid=1345, r_ui=4.0, est=3.8025314706782694, details={'was_impossible': False}),\n",
       " Prediction(uid=5522, iid=198, r_ui=3.0, est=4.098270509339642, details={'was_impossible': False}),\n",
       " Prediction(uid=123, iid=2950, r_ui=3.0, est=2.2672551508637184, details={'was_impossible': False}),\n",
       " Prediction(uid=4304, iid=1584, r_ui=5.0, est=3.543126694272672, details={'was_impossible': False}),\n",
       " Prediction(uid=3368, iid=1270, r_ui=5.0, est=4.28460453262933, details={'was_impossible': False}),\n",
       " Prediction(uid=6019, iid=237, r_ui=4.0, est=3.351801063131549, details={'was_impossible': False}),\n",
       " Prediction(uid=534, iid=339, r_ui=4.0, est=3.288602447959407, details={'was_impossible': False}),\n",
       " Prediction(uid=3503, iid=2015, r_ui=3.0, est=3.534484608458708, details={'was_impossible': False}),\n",
       " Prediction(uid=1605, iid=600, r_ui=3.0, est=3.0071019678612956, details={'was_impossible': False}),\n",
       " Prediction(uid=2591, iid=1242, r_ui=3.0, est=3.8281504264718347, details={'was_impossible': False}),\n",
       " Prediction(uid=150, iid=2352, r_ui=4.0, est=4.02132531546817, details={'was_impossible': False}),\n",
       " Prediction(uid=934, iid=2243, r_ui=4.0, est=3.3308672599802085, details={'was_impossible': False}),\n",
       " Prediction(uid=2453, iid=3555, r_ui=4.0, est=4.151987162567432, details={'was_impossible': False}),\n",
       " Prediction(uid=3830, iid=1198, r_ui=3.0, est=4.273192200503934, details={'was_impossible': False}),\n",
       " Prediction(uid=981, iid=1278, r_ui=3.0, est=3.5709298701716046, details={'was_impossible': False}),\n",
       " Prediction(uid=3612, iid=1747, r_ui=4.0, est=3.506509540399603, details={'was_impossible': False}),\n",
       " Prediction(uid=5604, iid=16, r_ui=3.0, est=3.3770004136148217, details={'was_impossible': False}),\n",
       " Prediction(uid=1641, iid=1105, r_ui=1.0, est=1.3729603090947822, details={'was_impossible': False}),\n",
       " Prediction(uid=3534, iid=2949, r_ui=4.0, est=3.847619699322282, details={'was_impossible': False}),\n",
       " Prediction(uid=5306, iid=1093, r_ui=1.0, est=2.254773858775595, details={'was_impossible': False}),\n",
       " Prediction(uid=1458, iid=1288, r_ui=4.0, est=4.41206819008687, details={'was_impossible': False}),\n",
       " Prediction(uid=3599, iid=692, r_ui=3.0, est=2.47023918909427, details={'was_impossible': False}),\n",
       " Prediction(uid=5329, iid=223, r_ui=4.0, est=4.252241133614983, details={'was_impossible': False}),\n",
       " Prediction(uid=157, iid=780, r_ui=4.0, est=3.143555774591409, details={'was_impossible': False}),\n",
       " Prediction(uid=2967, iid=3163, r_ui=3.0, est=3.3816802504321504, details={'was_impossible': False}),\n",
       " Prediction(uid=1641, iid=2628, r_ui=5.0, est=2.836524132962374, details={'was_impossible': False}),\n",
       " Prediction(uid=3639, iid=141, r_ui=3.0, est=3.001054138718298, details={'was_impossible': False}),\n",
       " Prediction(uid=657, iid=43, r_ui=4.0, est=3.9204003830586407, details={'was_impossible': False}),\n",
       " Prediction(uid=1117, iid=379, r_ui=3.0, est=3.1013152949963656, details={'was_impossible': False}),\n",
       " Prediction(uid=1896, iid=412, r_ui=5.0, est=3.821396868434501, details={'was_impossible': False}),\n",
       " Prediction(uid=327, iid=1217, r_ui=5.0, est=4.245007100498642, details={'was_impossible': False}),\n",
       " Prediction(uid=237, iid=3868, r_ui=4.0, est=3.094447645705356, details={'was_impossible': False}),\n",
       " Prediction(uid=4416, iid=3253, r_ui=4.0, est=4.144255570290428, details={'was_impossible': False}),\n",
       " Prediction(uid=208, iid=3742, r_ui=2.0, est=3.6673298464138626, details={'was_impossible': False}),\n",
       " Prediction(uid=3724, iid=364, r_ui=5.0, est=4.634777410311084, details={'was_impossible': False}),\n",
       " Prediction(uid=2519, iid=595, r_ui=4.0, est=4.053875767028967, details={'was_impossible': False}),\n",
       " Prediction(uid=5165, iid=3462, r_ui=5.0, est=4.774356035164884, details={'was_impossible': False}),\n",
       " Prediction(uid=5502, iid=912, r_ui=5.0, est=4.376482732556067, details={'was_impossible': False}),\n",
       " Prediction(uid=3792, iid=468, r_ui=4.0, est=2.9472348989570087, details={'was_impossible': False}),\n",
       " Prediction(uid=3963, iid=908, r_ui=5.0, est=4.307710944084574, details={'was_impossible': False}),\n",
       " Prediction(uid=2072, iid=2025, r_ui=5.0, est=3.4908378535186575, details={'was_impossible': False}),\n",
       " Prediction(uid=876, iid=1732, r_ui=4.0, est=3.2981244835138237, details={'was_impossible': False}),\n",
       " Prediction(uid=2302, iid=1127, r_ui=5.0, est=3.497439873948644, details={'was_impossible': False}),\n",
       " Prediction(uid=1698, iid=1245, r_ui=5.0, est=4.465696240175046, details={'was_impossible': False}),\n",
       " Prediction(uid=1860, iid=1282, r_ui=5.0, est=3.44870515140026, details={'was_impossible': False}),\n",
       " Prediction(uid=148, iid=2683, r_ui=3.0, est=4.201589650756073, details={'was_impossible': False}),\n",
       " Prediction(uid=2016, iid=364, r_ui=4.0, est=4.198654416751666, details={'was_impossible': False}),\n",
       " Prediction(uid=5371, iid=2318, r_ui=5.0, est=4.864809392857809, details={'was_impossible': False}),\n",
       " Prediction(uid=4312, iid=1994, r_ui=5.0, est=3.885072378169001, details={'was_impossible': False}),\n",
       " Prediction(uid=5426, iid=3586, r_ui=2.0, est=3.3437468288325727, details={'was_impossible': False}),\n",
       " Prediction(uid=5247, iid=968, r_ui=5.0, est=3.6027309874762916, details={'was_impossible': False}),\n",
       " Prediction(uid=1451, iid=1385, r_ui=4.0, est=3.1962022544573703, details={'was_impossible': False}),\n",
       " Prediction(uid=1183, iid=1965, r_ui=5.0, est=4.1089773431734, details={'was_impossible': False}),\n",
       " Prediction(uid=1458, iid=3596, r_ui=1.0, est=2.9757581158018174, details={'was_impossible': False}),\n",
       " Prediction(uid=1941, iid=1414, r_ui=4.0, est=3.0369134772493656, details={'was_impossible': False}),\n",
       " Prediction(uid=549, iid=3627, r_ui=4.0, est=3.648647527849864, details={'was_impossible': False}),\n",
       " Prediction(uid=5193, iid=1, r_ui=5.0, est=4.357016942110785, details={'was_impossible': False}),\n",
       " Prediction(uid=1669, iid=1500, r_ui=4.0, est=3.830339961192239, details={'was_impossible': False}),\n",
       " Prediction(uid=3271, iid=524, r_ui=4.0, est=3.724071444507314, details={'was_impossible': False}),\n",
       " Prediction(uid=3726, iid=2470, r_ui=3.0, est=3.5322783665415294, details={'was_impossible': False}),\n",
       " Prediction(uid=4310, iid=450, r_ui=4.0, est=3.6842526768390025, details={'was_impossible': False}),\n",
       " Prediction(uid=2158, iid=1960, r_ui=4.0, est=4.315903268449758, details={'was_impossible': False}),\n",
       " Prediction(uid=3283, iid=610, r_ui=5.0, est=3.736418067092391, details={'was_impossible': False}),\n",
       " Prediction(uid=4935, iid=1670, r_ui=4.0, est=3.416776877599198, details={'was_impossible': False}),\n",
       " Prediction(uid=4139, iid=457, r_ui=4.0, est=3.9959061781019267, details={'was_impossible': False}),\n",
       " Prediction(uid=5788, iid=442, r_ui=1.0, est=2.301600043261694, details={'was_impossible': False}),\n",
       " Prediction(uid=5039, iid=3661, r_ui=1.0, est=1, details={'was_impossible': False}),\n",
       " Prediction(uid=2038, iid=3627, r_ui=4.0, est=3.6763848700377353, details={'was_impossible': False}),\n",
       " Prediction(uid=2130, iid=1249, r_ui=4.0, est=4.328465017822879, details={'was_impossible': False}),\n",
       " Prediction(uid=1733, iid=2054, r_ui=3.0, est=2.8347795507352327, details={'was_impossible': False}),\n",
       " Prediction(uid=3146, iid=593, r_ui=4.0, est=4.451235785404714, details={'was_impossible': False}),\n",
       " Prediction(uid=2242, iid=3671, r_ui=3.0, est=3.7816664179813437, details={'was_impossible': False}),\n",
       " Prediction(uid=5812, iid=1580, r_ui=3.0, est=3.466651013594185, details={'was_impossible': False}),\n",
       " Prediction(uid=4352, iid=1920, r_ui=2.0, est=2.7648098257506106, details={'was_impossible': False}),\n",
       " Prediction(uid=4578, iid=1918, r_ui=3.0, est=3.606967974981702, details={'was_impossible': False}),\n",
       " Prediction(uid=3940, iid=1130, r_ui=4.0, est=3.537113126487799, details={'was_impossible': False}),\n",
       " Prediction(uid=1613, iid=1799, r_ui=4.0, est=3.1597293359854834, details={'was_impossible': False}),\n",
       " Prediction(uid=2939, iid=2291, r_ui=4.0, est=3.543945042783971, details={'was_impossible': False}),\n",
       " Prediction(uid=4685, iid=223, r_ui=3.0, est=2.927338021751598, details={'was_impossible': False}),\n",
       " Prediction(uid=1962, iid=640, r_ui=1.0, est=1.9372983569421542, details={'was_impossible': False}),\n",
       " Prediction(uid=2824, iid=2997, r_ui=5.0, est=4.2010028326220175, details={'was_impossible': False}),\n",
       " Prediction(uid=2344, iid=2918, r_ui=5.0, est=3.663198577835549, details={'was_impossible': False}),\n",
       " Prediction(uid=6036, iid=2690, r_ui=5.0, est=3.776081124327909, details={'was_impossible': False}),\n",
       " Prediction(uid=5005, iid=364, r_ui=4.0, est=3.5907517001744798, details={'was_impossible': False}),\n",
       " Prediction(uid=1851, iid=3755, r_ui=4.0, est=3.0290561420672066, details={'was_impossible': False}),\n",
       " Prediction(uid=1181, iid=3090, r_ui=4.0, est=3.4588304997185086, details={'was_impossible': False}),\n",
       " Prediction(uid=2174, iid=509, r_ui=3.0, est=3.730435212832409, details={'was_impossible': False}),\n",
       " Prediction(uid=5011, iid=1243, r_ui=5.0, est=4.8366171147861765, details={'was_impossible': False}),\n",
       " Prediction(uid=1930, iid=3052, r_ui=4.0, est=3.8946902787605437, details={'was_impossible': False}),\n",
       " Prediction(uid=3691, iid=1769, r_ui=3.0, est=3.0436099990778267, details={'was_impossible': False}),\n",
       " Prediction(uid=4343, iid=500, r_ui=3.0, est=3.1627567423063283, details={'was_impossible': False}),\n",
       " Prediction(uid=3669, iid=3100, r_ui=5.0, est=3.9158015592189366, details={'was_impossible': False}),\n",
       " Prediction(uid=2421, iid=50, r_ui=4.0, est=4.380999785232989, details={'was_impossible': False}),\n",
       " Prediction(uid=1017, iid=912, r_ui=4.0, est=3.959336375242363, details={'was_impossible': False}),\n",
       " Prediction(uid=3299, iid=3254, r_ui=4.0, est=2.82112125371808, details={'was_impossible': False}),\n",
       " Prediction(uid=5074, iid=2707, r_ui=2.0, est=2.6569718371838755, details={'was_impossible': False}),\n",
       " Prediction(uid=543, iid=210, r_ui=4.0, est=3.84792550400169, details={'was_impossible': False}),\n",
       " Prediction(uid=4224, iid=2706, r_ui=3.0, est=3.763723650099409, details={'was_impossible': False}),\n",
       " Prediction(uid=5521, iid=2889, r_ui=4.0, est=3.8397031615349375, details={'was_impossible': False}),\n",
       " Prediction(uid=4879, iid=1028, r_ui=4.0, est=4.061821569903184, details={'was_impossible': False}),\n",
       " Prediction(uid=1365, iid=2968, r_ui=2.0, est=3.5968942310151393, details={'was_impossible': False}),\n",
       " Prediction(uid=4918, iid=2108, r_ui=4.0, est=3.6342486646449106, details={'was_impossible': False}),\n",
       " Prediction(uid=3290, iid=2771, r_ui=1.0, est=2.251640486647524, details={'was_impossible': False}),\n",
       " Prediction(uid=4112, iid=1663, r_ui=4.0, est=4.573236733704525, details={'was_impossible': False}),\n",
       " Prediction(uid=3082, iid=2395, r_ui=5.0, est=4.047114857245273, details={'was_impossible': False}),\n",
       " Prediction(uid=692, iid=1041, r_ui=5.0, est=4.2521396031531795, details={'was_impossible': False}),\n",
       " Prediction(uid=1150, iid=3736, r_ui=2.0, est=3.2088161787594207, details={'was_impossible': False}),\n",
       " Prediction(uid=2507, iid=529, r_ui=4.0, est=4.618000328570326, details={'was_impossible': False}),\n",
       " Prediction(uid=2211, iid=1302, r_ui=5.0, est=4.243159193811412, details={'was_impossible': False}),\n",
       " Prediction(uid=3056, iid=3256, r_ui=4.0, est=3.9830762499002907, details={'was_impossible': False}),\n",
       " Prediction(uid=4140, iid=350, r_ui=3.0, est=3.4372434192426384, details={'was_impossible': False}),\n",
       " Prediction(uid=4785, iid=1333, r_ui=4.0, est=4.3405850611983965, details={'was_impossible': False}),\n",
       " Prediction(uid=531, iid=3897, r_ui=4.0, est=3.8968402933690798, details={'was_impossible': False}),\n",
       " Prediction(uid=5795, iid=107, r_ui=3.0, est=3.3794944937023095, details={'was_impossible': False}),\n",
       " Prediction(uid=3487, iid=3250, r_ui=3.0, est=2.873845234585037, details={'was_impossible': False}),\n",
       " Prediction(uid=3311, iid=318, r_ui=4.0, est=4.326017416565951, details={'was_impossible': False}),\n",
       " Prediction(uid=3577, iid=1398, r_ui=5.0, est=3.4714026085186562, details={'was_impossible': False}),\n",
       " Prediction(uid=409, iid=1097, r_ui=4.0, est=4.050357102937317, details={'was_impossible': False}),\n",
       " Prediction(uid=4421, iid=3753, r_ui=3.0, est=3.54498090083791, details={'was_impossible': False}),\n",
       " Prediction(uid=1624, iid=2387, r_ui=1.0, est=2.1326365264543905, details={'was_impossible': False}),\n",
       " Prediction(uid=1632, iid=3421, r_ui=3.0, est=3.4519665184904285, details={'was_impossible': False}),\n",
       " Prediction(uid=3709, iid=2169, r_ui=1.0, est=2.6152222677734622, details={'was_impossible': False}),\n",
       " Prediction(uid=2546, iid=1238, r_ui=2.0, est=3.5664111334329087, details={'was_impossible': False}),\n",
       " Prediction(uid=5815, iid=858, r_ui=5.0, est=4.689898493427038, details={'was_impossible': False}),\n",
       " Prediction(uid=4957, iid=984, r_ui=3.0, est=2.6218214199804772, details={'was_impossible': False}),\n",
       " Prediction(uid=3961, iid=1591, r_ui=3.0, est=2.0040536513118745, details={'was_impossible': False}),\n",
       " Prediction(uid=4153, iid=1, r_ui=5.0, est=4.595882038701077, details={'was_impossible': False}),\n",
       " Prediction(uid=4796, iid=1097, r_ui=3.0, est=3.4151648019827663, details={'was_impossible': False}),\n",
       " Prediction(uid=1117, iid=1042, r_ui=2.0, est=3.426304441850428, details={'was_impossible': False}),\n",
       " Prediction(uid=5717, iid=920, r_ui=2.0, est=3.4138177391267703, details={'was_impossible': False}),\n",
       " Prediction(uid=1303, iid=2395, r_ui=5.0, est=4.308561432552165, details={'was_impossible': False}),\n",
       " Prediction(uid=5281, iid=3697, r_ui=3.0, est=3.3335478840982757, details={'was_impossible': False}),\n",
       " Prediction(uid=1306, iid=3254, r_ui=3.0, est=3.532586558121739, details={'was_impossible': False}),\n",
       " Prediction(uid=3965, iid=2921, r_ui=3.0, est=4.067279325666373, details={'was_impossible': False}),\n",
       " Prediction(uid=3945, iid=2539, r_ui=4.0, est=3.2959801631405936, details={'was_impossible': False}),\n",
       " Prediction(uid=1137, iid=3357, r_ui=3.0, est=3.9515234619706083, details={'was_impossible': False}),\n",
       " Prediction(uid=5885, iid=913, r_ui=5.0, est=4.459774694620631, details={'was_impossible': False}),\n",
       " Prediction(uid=3713, iid=2791, r_ui=5.0, est=4.236991942060122, details={'was_impossible': False}),\n",
       " Prediction(uid=5583, iid=2701, r_ui=1.0, est=2.2411227215417227, details={'was_impossible': False}),\n",
       " Prediction(uid=3410, iid=971, r_ui=4.0, est=4.123406218785694, details={'was_impossible': False}),\n",
       " Prediction(uid=1968, iid=1594, r_ui=5.0, est=3.2124382197775305, details={'was_impossible': False}),\n",
       " Prediction(uid=5903, iid=527, r_ui=5.0, est=4.6441711203637634, details={'was_impossible': False}),\n",
       " Prediction(uid=3696, iid=1517, r_ui=3.0, est=3.7377301497622937, details={'was_impossible': False}),\n",
       " Prediction(uid=4957, iid=1645, r_ui=3.0, est=2.9148178770737547, details={'was_impossible': False}),\n",
       " Prediction(uid=5026, iid=62, r_ui=4.0, est=2.8076606574208673, details={'was_impossible': False}),\n",
       " Prediction(uid=1941, iid=1973, r_ui=1.0, est=1.5661344541303608, details={'was_impossible': False}),\n",
       " Prediction(uid=1662, iid=1608, r_ui=3.0, est=3.068416999371748, details={'was_impossible': False}),\n",
       " Prediction(uid=2085, iid=1837, r_ui=3.0, est=3.2265893172717037, details={'was_impossible': False}),\n",
       " Prediction(uid=4870, iid=1230, r_ui=4.0, est=3.778921096132831, details={'was_impossible': False}),\n",
       " Prediction(uid=2130, iid=3354, r_ui=3.0, est=3.1194439929553255, details={'was_impossible': False}),\n",
       " Prediction(uid=1433, iid=3257, r_ui=3.0, est=2.9307011910300007, details={'was_impossible': False}),\n",
       " Prediction(uid=2161, iid=475, r_ui=4.0, est=3.7598964912727655, details={'was_impossible': False}),\n",
       " Prediction(uid=1128, iid=2641, r_ui=4.0, est=2.454168368546439, details={'was_impossible': False}),\n",
       " Prediction(uid=2539, iid=377, r_ui=3.0, est=3.4404317464713654, details={'was_impossible': False}),\n",
       " Prediction(uid=743, iid=3129, r_ui=4.0, est=3.5396779166542096, details={'was_impossible': False}),\n",
       " Prediction(uid=3285, iid=3186, r_ui=3.0, est=3.5849227287111347, details={'was_impossible': False}),\n",
       " Prediction(uid=2022, iid=2353, r_ui=3.0, est=3.7579759873076224, details={'was_impossible': False}),\n",
       " Prediction(uid=29, iid=21, r_ui=2.0, est=3.275549932706863, details={'was_impossible': False}),\n",
       " Prediction(uid=338, iid=273, r_ui=3.0, est=2.94003096333712, details={'was_impossible': False}),\n",
       " Prediction(uid=3007, iid=351, r_ui=4.0, est=3.5522057814847923, details={'was_impossible': False}),\n",
       " Prediction(uid=970, iid=2803, r_ui=4.0, est=3.778065673101259, details={'was_impossible': False}),\n",
       " Prediction(uid=1952, iid=2352, r_ui=3.0, est=4.374917770907012, details={'was_impossible': False}),\n",
       " Prediction(uid=4488, iid=2013, r_ui=3.0, est=3.214738101060844, details={'was_impossible': False}),\n",
       " Prediction(uid=4386, iid=441, r_ui=3.0, est=3.9147136882472835, details={'was_impossible': False}),\n",
       " Prediction(uid=1335, iid=3598, r_ui=1.0, est=2.9496363217247175, details={'was_impossible': False}),\n",
       " Prediction(uid=3305, iid=1095, r_ui=5.0, est=4.472389635991291, details={'was_impossible': False}),\n",
       " Prediction(uid=5184, iid=1682, r_ui=5.0, est=4.605963242480003, details={'was_impossible': False}),\n",
       " Prediction(uid=2795, iid=3334, r_ui=4.0, est=3.9903430735650356, details={'was_impossible': False}),\n",
       " Prediction(uid=5433, iid=2668, r_ui=2.0, est=2.2384801565144636, details={'was_impossible': False}),\n",
       " Prediction(uid=3476, iid=2878, r_ui=1.0, est=1.3673427768972573, details={'was_impossible': False}),\n",
       " Prediction(uid=4980, iid=2371, r_ui=3.0, est=3.008019007804716, details={'was_impossible': False}),\n",
       " Prediction(uid=1427, iid=611, r_ui=1.0, est=2.654859754624401, details={'was_impossible': False}),\n",
       " Prediction(uid=3824, iid=879, r_ui=3.0, est=2.160170818166071, details={'was_impossible': False}),\n",
       " Prediction(uid=2973, iid=2718, r_ui=2.0, est=3.1931388772508478, details={'was_impossible': False}),\n",
       " Prediction(uid=1329, iid=2641, r_ui=3.0, est=3.2788131048291564, details={'was_impossible': False}),\n",
       " Prediction(uid=850, iid=2904, r_ui=4.0, est=3.289121771732595, details={'was_impossible': False}),\n",
       " Prediction(uid=1806, iid=1050, r_ui=5.0, est=4.508799017624642, details={'was_impossible': False}),\n",
       " Prediction(uid=2116, iid=1590, r_ui=3.0, est=3.519573454901196, details={'was_impossible': False}),\n",
       " Prediction(uid=1387, iid=3061, r_ui=3.0, est=3.516203199167078, details={'was_impossible': False}),\n",
       " Prediction(uid=2050, iid=3409, r_ui=4.0, est=3.738011438218897, details={'was_impossible': False}),\n",
       " Prediction(uid=2340, iid=231, r_ui=5.0, est=3.76887016466851, details={'was_impossible': False}),\n",
       " Prediction(uid=1988, iid=3712, r_ui=3.0, est=3.1373552975309296, details={'was_impossible': False}),\n",
       " Prediction(uid=438, iid=2096, r_ui=3.0, est=3.5379029619986277, details={'was_impossible': False}),\n",
       " Prediction(uid=4573, iid=1079, r_ui=3.0, est=3.911281610527209, details={'was_impossible': False}),\n",
       " Prediction(uid=1764, iid=1036, r_ui=5.0, est=4.966204809174661, details={'was_impossible': False}),\n",
       " Prediction(uid=5433, iid=866, r_ui=5.0, est=3.0264508077145384, details={'was_impossible': False}),\n",
       " Prediction(uid=5026, iid=1689, r_ui=3.0, est=2.3406263650809307, details={'was_impossible': False}),\n",
       " Prediction(uid=894, iid=1918, r_ui=4.0, est=3.732555499588811, details={'was_impossible': False}),\n",
       " Prediction(uid=5257, iid=2657, r_ui=4.0, est=4.250098673910065, details={'was_impossible': False}),\n",
       " Prediction(uid=3213, iid=1500, r_ui=3.0, est=3.5845567555129403, details={'was_impossible': False}),\n",
       " Prediction(uid=4578, iid=2013, r_ui=4.0, est=4.152407278984482, details={'was_impossible': False}),\n",
       " Prediction(uid=3012, iid=1093, r_ui=3.0, est=2.152624120823979, details={'was_impossible': False}),\n",
       " Prediction(uid=3509, iid=1408, r_ui=3.0, est=3.9426946819071733, details={'was_impossible': False}),\n",
       " Prediction(uid=58, iid=2359, r_ui=4.0, est=4.345288767159588, details={'was_impossible': False}),\n",
       " Prediction(uid=1500, iid=296, r_ui=5.0, est=4.680202532064772, details={'was_impossible': False}),\n",
       " Prediction(uid=984, iid=3256, r_ui=4.0, est=3.844907883177635, details={'was_impossible': False}),\n",
       " Prediction(uid=3413, iid=1193, r_ui=5.0, est=4.864369753732269, details={'was_impossible': False}),\n",
       " Prediction(uid=5482, iid=1274, r_ui=2.0, est=4.144442149027791, details={'was_impossible': False}),\n",
       " Prediction(uid=1875, iid=2622, r_ui=3.0, est=3.570505258081799, details={'was_impossible': False}),\n",
       " Prediction(uid=3841, iid=2818, r_ui=2.0, est=1.5735888558012858, details={'was_impossible': False}),\n",
       " Prediction(uid=4318, iid=1282, r_ui=5.0, est=4.308665034478594, details={'was_impossible': False}),\n",
       " Prediction(uid=4079, iid=3519, r_ui=4.0, est=3.693079633524946, details={'was_impossible': False}),\n",
       " Prediction(uid=2423, iid=3394, r_ui=2.0, est=3.357859591614777, details={'was_impossible': False}),\n",
       " Prediction(uid=4543, iid=2858, r_ui=5.0, est=4.752591609111882, details={'was_impossible': False}),\n",
       " Prediction(uid=5841, iid=1610, r_ui=3.0, est=4.373332478391319, details={'was_impossible': False}),\n",
       " Prediction(uid=5256, iid=1136, r_ui=2.0, est=3.9267609824332084, details={'was_impossible': False}),\n",
       " Prediction(uid=1040, iid=457, r_ui=4.0, est=4.227422991954963, details={'was_impossible': False}),\n",
       " Prediction(uid=4016, iid=2535, r_ui=2.0, est=2.4316737133041455, details={'was_impossible': False}),\n",
       " Prediction(uid=2206, iid=357, r_ui=4.0, est=3.8596550622233585, details={'was_impossible': False}),\n",
       " Prediction(uid=148, iid=2713, r_ui=3.0, est=3.7746659310420605, details={'was_impossible': False}),\n",
       " Prediction(uid=3588, iid=70, r_ui=4.0, est=2.932727675804554, details={'was_impossible': False}),\n",
       " Prediction(uid=5273, iid=3684, r_ui=3.0, est=3.6654034535789117, details={'was_impossible': False}),\n",
       " Prediction(uid=1600, iid=1101, r_ui=3.0, est=3.63943881843267, details={'was_impossible': False}),\n",
       " Prediction(uid=2155, iid=3908, r_ui=5.0, est=4.0980977752121905, details={'was_impossible': False}),\n",
       " Prediction(uid=3007, iid=920, r_ui=5.0, est=3.00671164392746, details={'was_impossible': False}),\n",
       " Prediction(uid=1237, iid=1265, r_ui=1.0, est=4.255071856103522, details={'was_impossible': False}),\n",
       " Prediction(uid=1383, iid=1446, r_ui=4.0, est=3.96511336740397, details={'was_impossible': False}),\n",
       " Prediction(uid=5131, iid=534, r_ui=4.0, est=3.656513674923297, details={'was_impossible': False}),\n",
       " Prediction(uid=123, iid=2890, r_ui=2.0, est=3.125380339974298, details={'was_impossible': False}),\n",
       " Prediction(uid=2105, iid=2580, r_ui=3.0, est=3.5505082878731358, details={'was_impossible': False}),\n",
       " Prediction(uid=2419, iid=2001, r_ui=3.0, est=3.375971235600934, details={'was_impossible': False}),\n",
       " Prediction(uid=1451, iid=1907, r_ui=4.0, est=4.3361900750034295, details={'was_impossible': False}),\n",
       " Prediction(uid=1639, iid=2866, r_ui=5.0, est=3.9188337037229592, details={'was_impossible': False}),\n",
       " Prediction(uid=1117, iid=2072, r_ui=4.0, est=3.534565305127994, details={'was_impossible': False}),\n",
       " Prediction(uid=1845, iid=111, r_ui=4.0, est=4.139842918611549, details={'was_impossible': False}),\n",
       " Prediction(uid=4271, iid=1954, r_ui=2.0, est=3.32517016206966, details={'was_impossible': False}),\n",
       " Prediction(uid=4556, iid=1882, r_ui=3.0, est=2.6852140636390063, details={'was_impossible': False}),\n",
       " Prediction(uid=4860, iid=296, r_ui=5.0, est=4.570778132594987, details={'was_impossible': False}),\n",
       " Prediction(uid=2701, iid=3504, r_ui=3.0, est=4.228185450643301, details={'was_impossible': False}),\n",
       " Prediction(uid=3110, iid=1222, r_ui=4.0, est=4.130905166849518, details={'was_impossible': False}),\n",
       " Prediction(uid=1600, iid=1206, r_ui=3.0, est=3.4271641731589675, details={'was_impossible': False}),\n",
       " Prediction(uid=3539, iid=2291, r_ui=5.0, est=4.572281386144466, details={'was_impossible': False}),\n",
       " Prediction(uid=166, iid=3044, r_ui=3.0, est=4.043057085546887, details={'was_impossible': False}),\n",
       " Prediction(uid=933, iid=3386, r_ui=5.0, est=3.988936131460984, details={'was_impossible': False}),\n",
       " Prediction(uid=2015, iid=2193, r_ui=3.0, est=3.9983129243132276, details={'was_impossible': False}),\n",
       " Prediction(uid=3001, iid=1370, r_ui=5.0, est=4.044680261245761, details={'was_impossible': False}),\n",
       " Prediction(uid=499, iid=3528, r_ui=4.0, est=3.7620105519448073, details={'was_impossible': False}),\n",
       " Prediction(uid=1901, iid=2571, r_ui=5.0, est=4.6028180474022315, details={'was_impossible': False}),\n",
       " Prediction(uid=1451, iid=523, r_ui=5.0, est=4.090001380812161, details={'was_impossible': False}),\n",
       " Prediction(uid=1853, iid=728, r_ui=3.0, est=3.9002834513676654, details={'was_impossible': False}),\n",
       " Prediction(uid=1923, iid=804, r_ui=3.0, est=3.1092516925540346, details={'was_impossible': False}),\n",
       " Prediction(uid=5378, iid=3113, r_ui=3.0, est=2.549461193759231, details={'was_impossible': False}),\n",
       " Prediction(uid=1010, iid=1792, r_ui=2.0, est=1.5491892025823952, details={'was_impossible': False}),\n",
       " Prediction(uid=4448, iid=3309, r_ui=5.0, est=4.406084752337842, details={'was_impossible': False}),\n",
       " Prediction(uid=1343, iid=1683, r_ui=5.0, est=4.189292974540787, details={'was_impossible': False}),\n",
       " Prediction(uid=3471, iid=2294, r_ui=3.0, est=2.818545256563857, details={'was_impossible': False}),\n",
       " Prediction(uid=1181, iid=2683, r_ui=3.0, est=2.7473502322730217, details={'was_impossible': False}),\n",
       " Prediction(uid=3600, iid=595, r_ui=5.0, est=4.153229493554314, details={'was_impossible': False}),\n",
       " Prediction(uid=321, iid=2789, r_ui=5.0, est=3.0372237303139156, details={'was_impossible': False}),\n",
       " Prediction(uid=1780, iid=2123, r_ui=1.0, est=2.0803150711683163, details={'was_impossible': False}),\n",
       " Prediction(uid=3824, iid=3036, r_ui=4.0, est=2.4729361582629004, details={'was_impossible': False}),\n",
       " Prediction(uid=3681, iid=953, r_ui=5.0, est=4.554905121692001, details={'was_impossible': False}),\n",
       " Prediction(uid=1984, iid=2273, r_ui=4.0, est=3.573701525919056, details={'was_impossible': False}),\n",
       " Prediction(uid=4834, iid=3897, r_ui=4.0, est=4.076778244878534, details={'was_impossible': False}),\n",
       " Prediction(uid=3590, iid=2791, r_ui=5.0, est=4.857429961926127, details={'was_impossible': False}),\n",
       " Prediction(uid=2576, iid=3704, r_ui=3.0, est=3.42830652640121, details={'was_impossible': False}),\n",
       " Prediction(uid=5598, iid=1580, r_ui=4.0, est=3.942837883182018, details={'was_impossible': False}),\n",
       " Prediction(uid=2860, iid=187, r_ui=4.0, est=3.5636404068487626, details={'was_impossible': False}),\n",
       " Prediction(uid=3158, iid=2316, r_ui=3.0, est=3.279424145876803, details={'was_impossible': False}),\n",
       " Prediction(uid=3951, iid=1215, r_ui=4.0, est=4.0093285287070515, details={'was_impossible': False}),\n",
       " Prediction(uid=3265, iid=2368, r_ui=2.0, est=1, details={'was_impossible': False}),\n",
       " Prediction(uid=5585, iid=1785, r_ui=4.0, est=2.9989816596321646, details={'was_impossible': False}),\n",
       " Prediction(uid=692, iid=3515, r_ui=4.0, est=3.8730227084140143, details={'was_impossible': False}),\n",
       " Prediction(uid=2655, iid=2706, r_ui=4.0, est=4.018130263399392, details={'was_impossible': False}),\n",
       " Prediction(uid=1401, iid=1041, r_ui=4.0, est=4.024237081898128, details={'was_impossible': False}),\n",
       " Prediction(uid=5482, iid=357, r_ui=4.0, est=3.656479034421668, details={'was_impossible': False}),\n",
       " Prediction(uid=1587, iid=3392, r_ui=1.0, est=1.9926645509498209, details={'was_impossible': False}),\n",
       " Prediction(uid=5099, iid=1476, r_ui=5.0, est=4.397991687802931, details={'was_impossible': False}),\n",
       " Prediction(uid=1870, iid=2019, r_ui=5.0, est=4.307416707768769, details={'was_impossible': False}),\n",
       " Prediction(uid=329, iid=1046, r_ui=3.0, est=3.1433763490741597, details={'was_impossible': False}),\n",
       " Prediction(uid=952, iid=1213, r_ui=4.0, est=4.2160598999326755, details={'was_impossible': False}),\n",
       " Prediction(uid=716, iid=1221, r_ui=5.0, est=4.874488773085778, details={'was_impossible': False}),\n",
       " Prediction(uid=4560, iid=194, r_ui=3.0, est=3.506205451681314, details={'was_impossible': False}),\n",
       " Prediction(uid=3294, iid=408, r_ui=1.0, est=3.970321472444911, details={'was_impossible': False}),\n",
       " Prediction(uid=4508, iid=2542, r_ui=4.0, est=4.1597117021446195, details={'was_impossible': False}),\n",
       " Prediction(uid=881, iid=1210, r_ui=4.0, est=4.172327407403305, details={'was_impossible': False}),\n",
       " Prediction(uid=4708, iid=3146, r_ui=1.0, est=2.9105653117899157, details={'was_impossible': False}),\n",
       " Prediction(uid=3395, iid=2699, r_ui=1.0, est=3.327640975832249, details={'was_impossible': False}),\n",
       " Prediction(uid=4728, iid=968, r_ui=4.0, est=4.177305422040846, details={'was_impossible': False}),\n",
       " Prediction(uid=3315, iid=1517, r_ui=4.0, est=3.6496918884375105, details={'was_impossible': False}),\n",
       " Prediction(uid=4732, iid=2401, r_ui=3.0, est=3.8339851138300998, details={'was_impossible': False}),\n",
       " Prediction(uid=5083, iid=474, r_ui=3.0, est=4.109982767679467, details={'was_impossible': False}),\n",
       " Prediction(uid=5524, iid=3061, r_ui=5.0, est=4.21476083065872, details={'was_impossible': False}),\n",
       " Prediction(uid=3834, iid=1918, r_ui=4.0, est=4.3202089456362565, details={'was_impossible': False}),\n",
       " Prediction(uid=1121, iid=3713, r_ui=4.0, est=4.143347552271211, details={'was_impossible': False}),\n",
       " Prediction(uid=2537, iid=750, r_ui=4.0, est=3.8795305154670667, details={'was_impossible': False}),\n",
       " Prediction(uid=3827, iid=671, r_ui=1.0, est=2.889086360700467, details={'was_impossible': False}),\n",
       " Prediction(uid=1632, iid=3251, r_ui=2.0, est=2.076144443186854, details={'was_impossible': False}),\n",
       " Prediction(uid=1391, iid=1393, r_ui=4.0, est=3.52067812196378, details={'was_impossible': False}),\n",
       " Prediction(uid=2955, iid=1419, r_ui=4.0, est=3.387455372073398, details={'was_impossible': False}),\n",
       " Prediction(uid=631, iid=1129, r_ui=3.0, est=3.417303906410499, details={'was_impossible': False}),\n",
       " Prediction(uid=2157, iid=3435, r_ui=4.0, est=4.06891623566828, details={'was_impossible': False}),\n",
       " Prediction(uid=3391, iid=2000, r_ui=5.0, est=4.282308309397574, details={'was_impossible': False}),\n",
       " Prediction(uid=550, iid=2528, r_ui=3.0, est=3.020976832739293, details={'was_impossible': False}),\n",
       " Prediction(uid=2972, iid=1573, r_ui=3.0, est=3.586798121237725, details={'was_impossible': False}),\n",
       " Prediction(uid=2544, iid=3019, r_ui=4.0, est=3.5013295748317823, details={'was_impossible': False}),\n",
       " Prediction(uid=1164, iid=1234, r_ui=4.0, est=4.318719356528379, details={'was_impossible': False}),\n",
       " Prediction(uid=1373, iid=918, r_ui=4.0, est=3.6904484843467285, details={'was_impossible': False}),\n",
       " Prediction(uid=1425, iid=3095, r_ui=4.0, est=4.84066640993109, details={'was_impossible': False}),\n",
       " Prediction(uid=4791, iid=1247, r_ui=4.0, est=3.6781162046049136, details={'was_impossible': False}),\n",
       " Prediction(uid=1962, iid=276, r_ui=1.0, est=2.125232866155562, details={'was_impossible': False}),\n",
       " Prediction(uid=3837, iid=2951, r_ui=5.0, est=3.938081185204713, details={'was_impossible': False}),\n",
       " Prediction(uid=836, iid=1196, r_ui=2.0, est=3.479577504706794, details={'was_impossible': False}),\n",
       " Prediction(uid=163, iid=1441, r_ui=2.0, est=2.271042668069626, details={'was_impossible': False}),\n",
       " Prediction(uid=2186, iid=168, r_ui=4.0, est=3.42087502702411, details={'was_impossible': False}),\n",
       " Prediction(uid=746, iid=222, r_ui=3.0, est=2.7774624236490704, details={'was_impossible': False}),\n",
       " Prediction(uid=1922, iid=1371, r_ui=2.0, est=3.0775081846968204, details={'was_impossible': False}),\n",
       " Prediction(uid=1912, iid=2165, r_ui=3.0, est=2.3206076642335023, details={'was_impossible': False}),\n",
       " Prediction(uid=1727, iid=1374, r_ui=5.0, est=4.558402442789027, details={'was_impossible': False}),\n",
       " Prediction(uid=3705, iid=16, r_ui=4.0, est=3.703629482120486, details={'was_impossible': False}),\n",
       " Prediction(uid=1509, iid=2819, r_ui=4.0, est=3.7035293025752867, details={'was_impossible': False}),\n",
       " Prediction(uid=198, iid=953, r_ui=5.0, est=4.403863170645587, details={'was_impossible': False}),\n",
       " Prediction(uid=1013, iid=1580, r_ui=3.0, est=3.594723818317869, details={'was_impossible': False}),\n",
       " Prediction(uid=1899, iid=2640, r_ui=4.0, est=3.46990615711498, details={'was_impossible': False}),\n",
       " Prediction(uid=1483, iid=6, r_ui=3.0, est=3.714648023556994, details={'was_impossible': False}),\n",
       " Prediction(uid=3004, iid=2360, r_ui=5.0, est=4.255831054350475, details={'was_impossible': False}),\n",
       " Prediction(uid=5995, iid=900, r_ui=4.0, est=4.057717536872153, details={'was_impossible': False}),\n",
       " Prediction(uid=3957, iid=1084, r_ui=5.0, est=4.240738501910798, details={'was_impossible': False}),\n",
       " Prediction(uid=2669, iid=3646, r_ui=2.0, est=2.9673231343462, details={'was_impossible': False}),\n",
       " Prediction(uid=4024, iid=1084, r_ui=5.0, est=4.152947713194939, details={'was_impossible': False}),\n",
       " Prediction(uid=1800, iid=3360, r_ui=5.0, est=4.067100894349523, details={'was_impossible': False}),\n",
       " Prediction(uid=1758, iid=346, r_ui=4.0, est=4.079677200022279, details={'was_impossible': False}),\n",
       " Prediction(uid=2566, iid=1035, r_ui=5.0, est=3.240881958529401, details={'was_impossible': False}),\n",
       " Prediction(uid=2063, iid=671, r_ui=2.0, est=3.4059689612984787, details={'was_impossible': False}),\n",
       " Prediction(uid=5282, iid=1196, r_ui=5.0, est=4.428505334751243, details={'was_impossible': False}),\n",
       " Prediction(uid=3368, iid=3408, r_ui=4.0, est=3.897416547626729, details={'was_impossible': False}),\n",
       " Prediction(uid=3920, iid=2701, r_ui=3.0, est=2.851274441052583, details={'was_impossible': False}),\n",
       " Prediction(uid=1794, iid=605, r_ui=1.0, est=2.4229174561455618, details={'was_impossible': False}),\n",
       " Prediction(uid=6000, iid=1096, r_ui=3.0, est=3.602748876075183, details={'was_impossible': False}),\n",
       " Prediction(uid=4584, iid=910, r_ui=5.0, est=4.651630943291298, details={'was_impossible': False}),\n",
       " Prediction(uid=5070, iid=2243, r_ui=4.0, est=4.655550936601904, details={'was_impossible': False}),\n",
       " Prediction(uid=4411, iid=2162, r_ui=2.0, est=2.5127974028353215, details={'was_impossible': False}),\n",
       " Prediction(uid=1879, iid=2321, r_ui=3.0, est=4.120369648480312, details={'was_impossible': False}),\n",
       " Prediction(uid=5393, iid=2541, r_ui=2.0, est=2.6221983811078537, details={'was_impossible': False}),\n",
       " Prediction(uid=2234, iid=1964, r_ui=4.0, est=3.7198421965117507, details={'was_impossible': False}),\n",
       " Prediction(uid=4411, iid=208, r_ui=1.0, est=3.1635248920554355, details={'was_impossible': False}),\n",
       " Prediction(uid=3971, iid=175, r_ui=4.0, est=3.3569803331019936, details={'was_impossible': False}),\n",
       " Prediction(uid=264, iid=3114, r_ui=3.0, est=3.599647035706448, details={'was_impossible': False}),\n",
       " Prediction(uid=4771, iid=2333, r_ui=3.0, est=3.625560760030794, details={'was_impossible': False}),\n",
       " Prediction(uid=5277, iid=3624, r_ui=3.0, est=3.6332666022506928, details={'was_impossible': False}),\n",
       " Prediction(uid=850, iid=166, r_ui=4.0, est=2.458187451387407, details={'was_impossible': False}),\n",
       " Prediction(uid=4543, iid=485, r_ui=1.0, est=2.209916796915318, details={'was_impossible': False}),\n",
       " Prediction(uid=3371, iid=1197, r_ui=5.0, est=3.419752838876789, details={'was_impossible': False}),\n",
       " Prediction(uid=2462, iid=60, r_ui=4.0, est=3.045566170191966, details={'was_impossible': False}),\n",
       " Prediction(uid=3700, iid=1680, r_ui=5.0, est=3.732544095763072, details={'was_impossible': False}),\n",
       " Prediction(uid=4891, iid=2430, r_ui=1.0, est=3.4122392577403655, details={'was_impossible': False}),\n",
       " Prediction(uid=1851, iid=2473, r_ui=2.0, est=1.7459821253486156, details={'was_impossible': False}),\n",
       " Prediction(uid=1101, iid=2871, r_ui=5.0, est=4.294955300705771, details={'was_impossible': False}),\n",
       " Prediction(uid=5555, iid=2108, r_ui=4.0, est=3.136231363560302, details={'was_impossible': False}),\n",
       " Prediction(uid=3768, iid=2116, r_ui=4.0, est=3.4141851136658032, details={'was_impossible': False}),\n",
       " Prediction(uid=2996, iid=780, r_ui=5.0, est=3.816908144743929, details={'was_impossible': False}),\n",
       " Prediction(uid=1656, iid=3946, r_ui=3.0, est=2.457937789668588, details={'was_impossible': False}),\n",
       " Prediction(uid=2021, iid=2288, r_ui=5.0, est=3.840282482776572, details={'was_impossible': False}),\n",
       " Prediction(uid=5034, iid=1275, r_ui=4.0, est=4.2871586510143, details={'was_impossible': False}),\n",
       " Prediction(uid=4994, iid=3699, r_ui=4.0, est=4.344953984730519, details={'was_impossible': False}),\n",
       " Prediction(uid=1818, iid=3753, r_ui=5.0, est=3.834144032797587, details={'was_impossible': False}),\n",
       " Prediction(uid=5550, iid=1221, r_ui=4.0, est=4.1495266192569416, details={'was_impossible': False}),\n",
       " Prediction(uid=2071, iid=2081, r_ui=2.0, est=3.642298803313438, details={'was_impossible': False}),\n",
       " Prediction(uid=1778, iid=2420, r_ui=4.0, est=3.994041715494792, details={'was_impossible': False}),\n",
       " Prediction(uid=3773, iid=1, r_ui=4.0, est=3.51250905335357, details={'was_impossible': False}),\n",
       " Prediction(uid=3503, iid=2712, r_ui=5.0, est=3.98894505999704, details={'was_impossible': False}),\n",
       " Prediction(uid=2092, iid=377, r_ui=3.0, est=3.5846136373094826, details={'was_impossible': False}),\n",
       " Prediction(uid=5448, iid=2943, r_ui=4.0, est=3.4167688502369344, details={'was_impossible': False}),\n",
       " Prediction(uid=687, iid=2006, r_ui=4.0, est=3.4920349413081677, details={'was_impossible': False}),\n",
       " Prediction(uid=669, iid=1917, r_ui=5.0, est=3.145610286818788, details={'was_impossible': False}),\n",
       " Prediction(uid=302, iid=2003, r_ui=4.0, est=3.2248360780559846, details={'was_impossible': False}),\n",
       " Prediction(uid=3746, iid=553, r_ui=3.0, est=4.131634029519962, details={'was_impossible': False}),\n",
       " Prediction(uid=1086, iid=2918, r_ui=5.0, est=4.1182973677731995, details={'was_impossible': False}),\n",
       " Prediction(uid=1426, iid=3421, r_ui=4.0, est=4.050585870926828, details={'was_impossible': False}),\n",
       " Prediction(uid=5824, iid=364, r_ui=4.0, est=3.654931582230588, details={'was_impossible': False}),\n",
       " Prediction(uid=5952, iid=1094, r_ui=3.0, est=4.3169588759605535, details={'was_impossible': False}),\n",
       " Prediction(uid=5954, iid=1499, r_ui=3.0, est=1.0855960349842928, details={'was_impossible': False}),\n",
       " Prediction(uid=5412, iid=1972, r_ui=1.0, est=2.140225629612425, details={'was_impossible': False}),\n",
       " Prediction(uid=5002, iid=344, r_ui=3.0, est=2.7213629394277947, details={'was_impossible': False}),\n",
       " Prediction(uid=3762, iid=2004, r_ui=2.0, est=1.1373603459347494, details={'was_impossible': False}),\n",
       " Prediction(uid=2380, iid=1673, r_ui=3.0, est=3.786274612373327, details={'was_impossible': False}),\n",
       " Prediction(uid=1311, iid=2944, r_ui=4.0, est=3.850096600134233, details={'was_impossible': False}),\n",
       " Prediction(uid=4140, iid=3591, r_ui=4.0, est=3.26418143217366, details={'was_impossible': False}),\n",
       " Prediction(uid=3529, iid=3877, r_ui=1.0, est=1.6740509902582252, details={'was_impossible': False}),\n",
       " Prediction(uid=4897, iid=1031, r_ui=3.0, est=3.5368368731260476, details={'was_impossible': False}),\n",
       " Prediction(uid=3391, iid=1405, r_ui=4.0, est=4.117746492097794, details={'was_impossible': False}),\n",
       " Prediction(uid=1358, iid=3698, r_ui=3.0, est=3.001776513524275, details={'was_impossible': False}),\n",
       " Prediction(uid=1545, iid=1197, r_ui=3.0, est=3.389273658021748, details={'was_impossible': False}),\n",
       " Prediction(uid=3946, iid=317, r_ui=5.0, est=3.8154691535322622, details={'was_impossible': False}),\n",
       " Prediction(uid=4580, iid=307, r_ui=3.0, est=4.048738834646231, details={'was_impossible': False}),\n",
       " Prediction(uid=955, iid=168, r_ui=2.0, est=2.4850156255976286, details={'was_impossible': False}),\n",
       " Prediction(uid=166, iid=2405, r_ui=3.0, est=3.2969871262713064, details={'was_impossible': False}),\n",
       " Prediction(uid=4511, iid=3175, r_ui=4.0, est=4.466034557252127, details={'was_impossible': False}),\n",
       " Prediction(uid=3605, iid=3618, r_ui=4.0, est=3.995105145304875, details={'was_impossible': False}),\n",
       " Prediction(uid=3285, iid=1620, r_ui=3.0, est=2.7360884267439674, details={'was_impossible': False}),\n",
       " Prediction(uid=214, iid=1923, r_ui=4.0, est=3.0938512876639934, details={'was_impossible': False}),\n",
       " Prediction(uid=3732, iid=1300, r_ui=5.0, est=3.2016549489541517, details={'was_impossible': False}),\n",
       " Prediction(uid=1655, iid=1909, r_ui=2.0, est=3.5901892626788947, details={'was_impossible': False}),\n",
       " Prediction(uid=412, iid=1569, r_ui=5.0, est=3.9319288589643637, details={'was_impossible': False}),\n",
       " Prediction(uid=5153, iid=518, r_ui=2.0, est=2.290582002852402, details={'was_impossible': False}),\n",
       " Prediction(uid=554, iid=3203, r_ui=4.0, est=3.6549135665382466, details={'was_impossible': False}),\n",
       " Prediction(uid=3275, iid=157, r_ui=3.0, est=2.5649042092586103, details={'was_impossible': False}),\n",
       " Prediction(uid=3660, iid=2407, r_ui=3.0, est=3.6050469060119186, details={'was_impossible': False}),\n",
       " Prediction(uid=5365, iid=1729, r_ui=4.0, est=3.9102917666637107, details={'was_impossible': False}),\n",
       " Prediction(uid=3684, iid=1200, r_ui=4.0, est=4.323550897571946, details={'was_impossible': False}),\n",
       " Prediction(uid=2747, iid=345, r_ui=4.0, est=4.068795602107116, details={'was_impossible': False}),\n",
       " Prediction(uid=5134, iid=2716, r_ui=3.0, est=3.278283766098993, details={'was_impossible': False}),\n",
       " Prediction(uid=4682, iid=708, r_ui=4.0, est=3.342141769466469, details={'was_impossible': False}),\n",
       " Prediction(uid=5249, iid=1580, r_ui=4.0, est=3.3934887332321075, details={'was_impossible': False}),\n",
       " Prediction(uid=4789, iid=1653, r_ui=3.0, est=4.029535327050366, details={'was_impossible': False}),\n",
       " Prediction(uid=1317, iid=538, r_ui=4.0, est=3.9313443991711505, details={'was_impossible': False}),\n",
       " Prediction(uid=859, iid=1676, r_ui=4.0, est=3.370748558478629, details={'was_impossible': False}),\n",
       " Prediction(uid=1741, iid=3543, r_ui=5.0, est=4.619282338841072, details={'was_impossible': False}),\n",
       " Prediction(uid=2188, iid=1029, r_ui=3.0, est=3.016308281734117, details={'was_impossible': False}),\n",
       " Prediction(uid=1051, iid=2657, r_ui=4.0, est=3.715649268516221, details={'was_impossible': False}),\n",
       " Prediction(uid=863, iid=480, r_ui=5.0, est=3.934641897155492, details={'was_impossible': False}),\n",
       " Prediction(uid=1274, iid=1935, r_ui=4.0, est=4.223556891667481, details={'was_impossible': False}),\n",
       " Prediction(uid=3797, iid=1259, r_ui=2.0, est=3.5345791063784424, details={'was_impossible': False}),\n",
       " Prediction(uid=2010, iid=1422, r_ui=2.0, est=2.2151337309815133, details={'was_impossible': False}),\n",
       " Prediction(uid=300, iid=474, r_ui=4.0, est=4.535480880244378, details={'was_impossible': False}),\n",
       " Prediction(uid=699, iid=480, r_ui=4.0, est=3.563819890217236, details={'was_impossible': False}),\n",
       " Prediction(uid=4543, iid=2288, r_ui=4.0, est=4.049420356265408, details={'was_impossible': False}),\n",
       " Prediction(uid=5365, iid=364, r_ui=3.0, est=3.9081575711519156, details={'was_impossible': False}),\n",
       " Prediction(uid=4287, iid=2034, r_ui=4.0, est=3.153883982273496, details={'was_impossible': False}),\n",
       " Prediction(uid=1051, iid=603, r_ui=4.0, est=3.238017877120021, details={'was_impossible': False}),\n",
       " Prediction(uid=1022, iid=2938, r_ui=2.0, est=3.8565604228534367, details={'was_impossible': False}),\n",
       " Prediction(uid=4747, iid=480, r_ui=5.0, est=4.432292780984908, details={'was_impossible': False}),\n",
       " Prediction(uid=4728, iid=1395, r_ui=4.0, est=3.1840505306452336, details={'was_impossible': False}),\n",
       " Prediction(uid=2633, iid=2805, r_ui=3.0, est=3.222620422436991, details={'was_impossible': False}),\n",
       " Prediction(uid=4378, iid=858, r_ui=5.0, est=3.9652290038486053, details={'was_impossible': False}),\n",
       " Prediction(uid=4928, iid=1902, r_ui=3.0, est=2.9395347999176455, details={'was_impossible': False}),\n",
       " Prediction(uid=4169, iid=2350, r_ui=3.0, est=3.054344161100721, details={'was_impossible': False}),\n",
       " Prediction(uid=1538, iid=1022, r_ui=3.0, est=4.097276604755339, details={'was_impossible': False}),\n",
       " Prediction(uid=5744, iid=3358, r_ui=3.0, est=4.286905453230599, details={'was_impossible': False}),\n",
       " Prediction(uid=3224, iid=2763, r_ui=4.0, est=3.7149295373689957, details={'was_impossible': False}),\n",
       " Prediction(uid=403, iid=2918, r_ui=4.0, est=4.090561421037852, details={'was_impossible': False}),\n",
       " Prediction(uid=5404, iid=3105, r_ui=4.0, est=4.0482791559991975, details={'was_impossible': False}),\n",
       " Prediction(uid=1680, iid=475, r_ui=2.0, est=4.257761071472539, details={'was_impossible': False}),\n",
       " Prediction(uid=846, iid=3359, r_ui=5.0, est=4.622725373113209, details={'was_impossible': False}),\n",
       " Prediction(uid=4277, iid=159, r_ui=3.0, est=4.0104791455515, details={'was_impossible': False}),\n",
       " Prediction(uid=710, iid=2530, r_ui=3.0, est=2.770493057175027, details={'was_impossible': False}),\n",
       " Prediction(uid=5227, iid=546, r_ui=1.0, est=1.892275006447889, details={'was_impossible': False}),\n",
       " Prediction(uid=1395, iid=1653, r_ui=5.0, est=4.356145887237744, details={'was_impossible': False}),\n",
       " Prediction(uid=4725, iid=2841, r_ui=4.0, est=3.7632981980910976, details={'was_impossible': False}),\n",
       " Prediction(uid=1941, iid=2709, r_ui=4.0, est=3.3333208804951995, details={'was_impossible': False}),\n",
       " Prediction(uid=5955, iid=1240, r_ui=3.0, est=3.7406241145160206, details={'was_impossible': False}),\n",
       " Prediction(uid=2465, iid=2390, r_ui=5.0, est=4.00021425044539, details={'was_impossible': False}),\n",
       " Prediction(uid=3792, iid=1394, r_ui=5.0, est=3.9058055086369246, details={'was_impossible': False}),\n",
       " Prediction(uid=2093, iid=1377, r_ui=3.0, est=2.7315524008612933, details={'was_impossible': False}),\n",
       " Prediction(uid=5504, iid=1855, r_ui=1.0, est=3.479248843018892, details={'was_impossible': False}),\n",
       " Prediction(uid=1542, iid=2476, r_ui=3.0, est=3.4714619527520045, details={'was_impossible': False}),\n",
       " Prediction(uid=1377, iid=2194, r_ui=4.0, est=3.7304222754251715, details={'was_impossible': False}),\n",
       " Prediction(uid=1701, iid=2628, r_ui=2.0, est=3.2231131744951527, details={'was_impossible': False}),\n",
       " Prediction(uid=2475, iid=799, r_ui=2.0, est=3.8836703931881376, details={'was_impossible': False}),\n",
       " Prediction(uid=4033, iid=257, r_ui=5.0, est=3.5198788385017328, details={'was_impossible': False}),\n",
       " Prediction(uid=2503, iid=3690, r_ui=3.0, est=2.766110845292286, details={'was_impossible': False}),\n",
       " Prediction(uid=3107, iid=141, r_ui=3.0, est=3.5653185993801184, details={'was_impossible': False}),\n",
       " Prediction(uid=4406, iid=2450, r_ui=2.0, est=3.0412052981492037, details={'was_impossible': False}),\n",
       " Prediction(uid=3182, iid=69, r_ui=5.0, est=4.135980080689135, details={'was_impossible': False}),\n",
       " Prediction(uid=3292, iid=1260, r_ui=4.0, est=4.593510607999548, details={'was_impossible': False}),\n",
       " Prediction(uid=3408, iid=3793, r_ui=5.0, est=4.487457523763661, details={'was_impossible': False}),\n",
       " Prediction(uid=4771, iid=1073, r_ui=5.0, est=3.908476406317112, details={'was_impossible': False}),\n",
       " Prediction(uid=1457, iid=3677, r_ui=4.0, est=4.295960372825239, details={'was_impossible': False}),\n",
       " Prediction(uid=2670, iid=750, r_ui=5.0, est=4.253108539288955, details={'was_impossible': False}),\n",
       " Prediction(uid=3885, iid=3871, r_ui=3.0, est=4.298220652296391, details={'was_impossible': False}),\n",
       " Prediction(uid=5831, iid=198, r_ui=4.0, est=3.394045066058571, details={'was_impossible': False}),\n",
       " Prediction(uid=4635, iid=485, r_ui=4.0, est=3.1995336638190466, details={'was_impossible': False}),\n",
       " Prediction(uid=1433, iid=1391, r_ui=3.0, est=2.5854577102073057, details={'was_impossible': False}),\n",
       " Prediction(uid=1389, iid=1101, r_ui=3.0, est=3.5237195704624416, details={'was_impossible': False}),\n",
       " Prediction(uid=777, iid=3471, r_ui=3.0, est=2.354498601820393, details={'was_impossible': False}),\n",
       " Prediction(uid=2063, iid=2599, r_ui=2.0, est=3.6506143247230862, details={'was_impossible': False}),\n",
       " Prediction(uid=919, iid=574, r_ui=5.0, est=3.8341048285009807, details={'was_impossible': False}),\n",
       " Prediction(uid=1529, iid=2006, r_ui=3.0, est=3.6138290423039074, details={'was_impossible': False}),\n",
       " Prediction(uid=3884, iid=2511, r_ui=5.0, est=3.5364248251670527, details={'was_impossible': False}),\n",
       " Prediction(uid=2030, iid=1957, r_ui=4.0, est=3.8909612010006254, details={'was_impossible': False}),\n",
       " Prediction(uid=4637, iid=597, r_ui=5.0, est=4.7821398894330684, details={'was_impossible': False}),\n",
       " Prediction(uid=3146, iid=1294, r_ui=4.0, est=3.9763514448306587, details={'was_impossible': False}),\n",
       " Prediction(uid=1120, iid=2067, r_ui=3.0, est=4.4202498763508125, details={'was_impossible': False}),\n",
       " Prediction(uid=3336, iid=344, r_ui=3.0, est=2.673736862265865, details={'was_impossible': False}),\n",
       " Prediction(uid=2377, iid=593, r_ui=5.0, est=4.4078657710432925, details={'was_impossible': False}),\n",
       " Prediction(uid=5406, iid=1936, r_ui=4.0, est=3.674241773083108, details={'was_impossible': False}),\n",
       " Prediction(uid=2360, iid=1370, r_ui=3.0, est=3.0734291180060804, details={'was_impossible': False}),\n",
       " Prediction(uid=1059, iid=2997, r_ui=4.0, est=3.7981039972591617, details={'was_impossible': False}),\n",
       " Prediction(uid=5603, iid=3196, r_ui=1.0, est=2.7555987005427838, details={'was_impossible': False}),\n",
       " Prediction(uid=4260, iid=3175, r_ui=2.0, est=3.2143113444237623, details={'was_impossible': False}),\n",
       " Prediction(uid=5576, iid=260, r_ui=5.0, est=4.618772600527529, details={'was_impossible': False}),\n",
       " Prediction(uid=5059, iid=1998, r_ui=1.0, est=2.025673888776949, details={'was_impossible': False}),\n",
       " Prediction(uid=5654, iid=1683, r_ui=4.0, est=3.935058516981884, details={'was_impossible': False}),\n",
       " Prediction(uid=5663, iid=849, r_ui=3.0, est=3.0098209471321464, details={'was_impossible': False}),\n",
       " Prediction(uid=2400, iid=1994, r_ui=4.0, est=3.166976185828885, details={'was_impossible': False}),\n",
       " Prediction(uid=5857, iid=2640, r_ui=5.0, est=3.3375553839658614, details={'was_impossible': False}),\n",
       " Prediction(uid=4706, iid=475, r_ui=3.0, est=3.773901546016527, details={'was_impossible': False}),\n",
       " Prediction(uid=2785, iid=3591, r_ui=3.0, est=3.1176731916429237, details={'was_impossible': False}),\n",
       " Prediction(uid=2025, iid=924, r_ui=4.0, est=3.9266744718444375, details={'was_impossible': False}),\n",
       " Prediction(uid=2055, iid=3476, r_ui=2.0, est=3.516828253336474, details={'was_impossible': False}),\n",
       " Prediction(uid=5458, iid=2583, r_ui=3.0, est=3.619448259243494, details={'was_impossible': False}),\n",
       " Prediction(uid=1743, iid=246, r_ui=5.0, est=4.877288043924402, details={'was_impossible': False}),\n",
       " Prediction(uid=5829, iid=1537, r_ui=4.0, est=4.075109544039373, details={'was_impossible': False}),\n",
       " Prediction(uid=1983, iid=2424, r_ui=4.0, est=3.9919451579248917, details={'was_impossible': False}),\n",
       " Prediction(uid=5062, iid=3147, r_ui=5.0, est=4.322367523072807, details={'was_impossible': False}),\n",
       " Prediction(uid=1465, iid=2638, r_ui=5.0, est=3.3148152666865216, details={'was_impossible': False}),\n",
       " Prediction(uid=1837, iid=3513, r_ui=3.0, est=3.030981453352549, details={'was_impossible': False}),\n",
       " Prediction(uid=4194, iid=1294, r_ui=5.0, est=4.6988921483067525, details={'was_impossible': False}),\n",
       " Prediction(uid=3600, iid=1826, r_ui=1.0, est=2.1803804372276363, details={'was_impossible': False}),\n",
       " Prediction(uid=889, iid=553, r_ui=4.0, est=3.2296372430166866, details={'was_impossible': False}),\n",
       " Prediction(uid=5686, iid=2490, r_ui=3.0, est=1.7433223785981151, details={'was_impossible': False}),\n",
       " Prediction(uid=3309, iid=1136, r_ui=4.0, est=4.090121620651511, details={'was_impossible': False}),\n",
       " Prediction(uid=2136, iid=3100, r_ui=4.0, est=4.217781442652731, details={'was_impossible': False}),\n",
       " Prediction(uid=5468, iid=208, r_ui=1.0, est=2.7611865448008666, details={'was_impossible': False}),\n",
       " Prediction(uid=5096, iid=546, r_ui=1.0, est=1.3872701423772862, details={'was_impossible': False}),\n",
       " Prediction(uid=5256, iid=1873, r_ui=3.0, est=3.6811815920711286, details={'was_impossible': False}),\n",
       " Prediction(uid=4609, iid=1711, r_ui=4.0, est=2.8879851453758683, details={'was_impossible': False}),\n",
       " Prediction(uid=453, iid=2379, r_ui=3.0, est=2.4151096093934243, details={'was_impossible': False}),\n",
       " Prediction(uid=4049, iid=3771, r_ui=4.0, est=3.612513984729321, details={'was_impossible': False}),\n",
       " Prediction(uid=493, iid=349, r_ui=4.0, est=4.256800767811782, details={'was_impossible': False}),\n",
       " Prediction(uid=1294, iid=3928, r_ui=3.0, est=3.2494241690149153, details={'was_impossible': False}),\n",
       " Prediction(uid=1150, iid=2135, r_ui=2.0, est=2.2361068216006377, details={'was_impossible': False}),\n",
       " Prediction(uid=2645, iid=1220, r_ui=4.0, est=3.894189878336277, details={'was_impossible': False}),\n",
       " Prediction(uid=5880, iid=1230, r_ui=5.0, est=3.904627102311504, details={'was_impossible': False}),\n",
       " Prediction(uid=2088, iid=3802, r_ui=1.0, est=2.882435059594838, details={'was_impossible': False}),\n",
       " Prediction(uid=3018, iid=236, r_ui=4.0, est=3.4564709361264168, details={'was_impossible': False}),\n",
       " Prediction(uid=1172, iid=1958, r_ui=3.0, est=3.518347059170797, details={'was_impossible': False}),\n",
       " Prediction(uid=4788, iid=1079, r_ui=4.0, est=3.7812461046931327, details={'was_impossible': False}),\n",
       " Prediction(uid=5540, iid=3037, r_ui=5.0, est=3.953441276985022, details={'was_impossible': False}),\n",
       " Prediction(uid=2649, iid=2105, r_ui=3.0, est=3.3924154349629787, details={'was_impossible': False}),\n",
       " Prediction(uid=3548, iid=3594, r_ui=4.0, est=2.725461945618553, details={'was_impossible': False}),\n",
       " Prediction(uid=3472, iid=1289, r_ui=1.0, est=4.705874325405018, details={'was_impossible': False}),\n",
       " Prediction(uid=4335, iid=635, r_ui=4.0, est=3.372398306751795, details={'was_impossible': False}),\n",
       " Prediction(uid=4043, iid=1094, r_ui=3.0, est=4.151126777769, details={'was_impossible': False}),\n",
       " Prediction(uid=2304, iid=2728, r_ui=3.0, est=4.061682654045098, details={'was_impossible': False}),\n",
       " Prediction(uid=1887, iid=1210, r_ui=3.0, est=3.595067532716501, details={'was_impossible': False}),\n",
       " Prediction(uid=1958, iid=1200, r_ui=3.0, est=3.7392695308669044, details={'was_impossible': False}),\n",
       " Prediction(uid=3000, iid=736, r_ui=2.0, est=2.853894567741888, details={'was_impossible': False}),\n",
       " Prediction(uid=4408, iid=2939, r_ui=4.0, est=3.9711031176551392, details={'was_impossible': False}),\n",
       " Prediction(uid=2507, iid=3258, r_ui=4.0, est=3.33590852145247, details={'was_impossible': False}),\n",
       " Prediction(uid=242, iid=1784, r_ui=5.0, est=3.1369862085883504, details={'was_impossible': False}),\n",
       " Prediction(uid=2288, iid=2338, r_ui=1.0, est=1, details={'was_impossible': False}),\n",
       " Prediction(uid=4600, iid=2247, r_ui=1.0, est=3.392893658293976, details={'was_impossible': False}),\n",
       " Prediction(uid=4546, iid=1036, r_ui=5.0, est=4.2708937565003415, details={'was_impossible': False}),\n",
       " Prediction(uid=5437, iid=1175, r_ui=4.0, est=3.7234859535043303, details={'was_impossible': False}),\n",
       " Prediction(uid=1698, iid=1485, r_ui=3.0, est=3.084133798394724, details={'was_impossible': False}),\n",
       " Prediction(uid=4115, iid=524, r_ui=4.0, est=4.107289776051665, details={'was_impossible': False}),\n",
       " Prediction(uid=1251, iid=2762, r_ui=4.0, est=4.1028852142857355, details={'was_impossible': False}),\n",
       " Prediction(uid=3505, iid=2774, r_ui=3.0, est=3.3187119753698857, details={'was_impossible': False}),\n",
       " Prediction(uid=2842, iid=2002, r_ui=4.0, est=3.5608742799066144, details={'was_impossible': False}),\n",
       " Prediction(uid=919, iid=1271, r_ui=3.0, est=3.9693036717966867, details={'was_impossible': False}),\n",
       " Prediction(uid=338, iid=2985, r_ui=3.0, est=3.2855138284928462, details={'was_impossible': False}),\n",
       " Prediction(uid=3860, iid=3578, r_ui=5.0, est=4.3758643666982255, details={'was_impossible': False}),\n",
       " Prediction(uid=4356, iid=543, r_ui=2.0, est=3.4616304554442996, details={'was_impossible': False}),\n",
       " Prediction(uid=2063, iid=1748, r_ui=4.0, est=3.1780364037814746, details={'was_impossible': False}),\n",
       " Prediction(uid=5663, iid=1917, r_ui=4.0, est=4.130338653522134, details={'was_impossible': False}),\n",
       " Prediction(uid=1473, iid=1954, r_ui=4.0, est=3.96161239974574, details={'was_impossible': False}),\n",
       " Prediction(uid=1279, iid=1653, r_ui=4.0, est=2.8077294745489576, details={'was_impossible': False}),\n",
       " Prediction(uid=163, iid=2006, r_ui=3.0, est=2.2664674794582, details={'was_impossible': False}),\n",
       " Prediction(uid=4384, iid=380, r_ui=5.0, est=3.890142204299302, details={'was_impossible': False}),\n",
       " Prediction(uid=5097, iid=1214, r_ui=4.0, est=4.083450496594946, details={'was_impossible': False}),\n",
       " Prediction(uid=4144, iid=1320, r_ui=3.0, est=2.7468672884945593, details={'was_impossible': False}),\n",
       " Prediction(uid=3752, iid=1348, r_ui=1.0, est=3.00048137944755, details={'was_impossible': False}),\n",
       " Prediction(uid=1592, iid=2000, r_ui=4.0, est=3.410758601330774, details={'was_impossible': False}),\n",
       " Prediction(uid=3557, iid=1103, r_ui=4.0, est=4.3125891533567895, details={'was_impossible': False}),\n",
       " Prediction(uid=4169, iid=832, r_ui=4.0, est=3.4353051895907103, details={'was_impossible': False}),\n",
       " Prediction(uid=2456, iid=1290, r_ui=3.0, est=3.0274285550460553, details={'was_impossible': False}),\n",
       " Prediction(uid=528, iid=553, r_ui=4.0, est=4.095252308888178, details={'was_impossible': False}),\n",
       " Prediction(uid=1253, iid=1885, r_ui=3.0, est=3.4334065684738224, details={'was_impossible': False}),\n",
       " Prediction(uid=713, iid=1610, r_ui=5.0, est=4.0609196378196035, details={'was_impossible': False}),\n",
       " Prediction(uid=2820, iid=1772, r_ui=2.0, est=1.824184507879859, details={'was_impossible': False}),\n",
       " Prediction(uid=4867, iid=2699, r_ui=2.0, est=3.2849065540938933, details={'was_impossible': False}),\n",
       " Prediction(uid=1291, iid=2724, r_ui=3.0, est=3.3736997715321966, details={'was_impossible': False}),\n",
       " Prediction(uid=2232, iid=588, r_ui=4.0, est=4.002448089488911, details={'was_impossible': False}),\n",
       " Prediction(uid=4835, iid=2762, r_ui=5.0, est=4.258593077071907, details={'was_impossible': False}),\n",
       " Prediction(uid=2264, iid=1240, r_ui=5.0, est=4.084970833585939, details={'was_impossible': False}),\n",
       " Prediction(uid=2894, iid=694, r_ui=2.0, est=3.0693540693146137, details={'was_impossible': False}),\n",
       " Prediction(uid=4451, iid=1732, r_ui=3.0, est=3.2159956658751003, details={'was_impossible': False}),\n",
       " Prediction(uid=5140, iid=2088, r_ui=2.0, est=2.4557545688148776, details={'was_impossible': False}),\n",
       " Prediction(uid=2011, iid=434, r_ui=5.0, est=3.6773125002792924, details={'was_impossible': False}),\n",
       " Prediction(uid=5733, iid=1126, r_ui=3.0, est=2.8072509358622395, details={'was_impossible': False}),\n",
       " Prediction(uid=3336, iid=1270, r_ui=3.0, est=3.300703696038663, details={'was_impossible': False}),\n",
       " Prediction(uid=3308, iid=2716, r_ui=4.0, est=4.472855441414526, details={'was_impossible': False}),\n",
       " Prediction(uid=5792, iid=522, r_ui=5.0, est=3.521349449760512, details={'was_impossible': False}),\n",
       " Prediction(uid=5210, iid=3700, r_ui=2.0, est=3.3588638216047393, details={'was_impossible': False}),\n",
       " Prediction(uid=4112, iid=2645, r_ui=5.0, est=4.354275926165478, details={'was_impossible': False}),\n",
       " Prediction(uid=5517, iid=1269, r_ui=3.0, est=4.479046652488279, details={'was_impossible': False}),\n",
       " Prediction(uid=5880, iid=1475, r_ui=3.0, est=2.5908188340899665, details={'was_impossible': False}),\n",
       " Prediction(uid=1628, iid=3741, r_ui=4.0, est=3.9246012679304223, details={'was_impossible': False}),\n",
       " Prediction(uid=4828, iid=593, r_ui=4.0, est=4.374784368930679, details={'was_impossible': False}),\n",
       " Prediction(uid=6009, iid=1617, r_ui=4.0, est=3.7091906882081376, details={'was_impossible': False}),\n",
       " Prediction(uid=314, iid=1387, r_ui=5.0, est=3.719242585600073, details={'was_impossible': False}),\n",
       " Prediction(uid=3612, iid=2455, r_ui=3.0, est=3.238403375932297, details={'was_impossible': False}),\n",
       " Prediction(uid=5937, iid=1273, r_ui=4.0, est=3.4622818472012757, details={'was_impossible': False}),\n",
       " Prediction(uid=4181, iid=1961, r_ui=5.0, est=4.434278948769192, details={'was_impossible': False}),\n",
       " Prediction(uid=2309, iid=1290, r_ui=4.0, est=3.978347705270106, details={'was_impossible': False}),\n",
       " Prediction(uid=1533, iid=1959, r_ui=4.0, est=4.191846981112307, details={'was_impossible': False}),\n",
       " Prediction(uid=4551, iid=290, r_ui=3.0, est=4.157197123736372, details={'was_impossible': False}),\n",
       " Prediction(uid=3280, iid=2890, r_ui=2.0, est=3.371769656519431, details={'was_impossible': False}),\n",
       " Prediction(uid=4673, iid=105, r_ui=4.0, est=4.082685409206551, details={'was_impossible': False}),\n",
       " Prediction(uid=1635, iid=586, r_ui=2.0, est=2.6890421516734557, details={'was_impossible': False}),\n",
       " Prediction(uid=3518, iid=3179, r_ui=4.0, est=3.915302457685795, details={'was_impossible': False}),\n",
       " ...]"
      ]
     },
     "execution_count": 51,
     "metadata": {},
     "output_type": "execute_result"
    }
   ],
   "execution_count": 51
  },
  {
   "cell_type": "code",
   "metadata": {
    "ExecuteTime": {
     "end_time": "2024-11-28T00:14:18.004231Z",
     "start_time": "2024-11-28T00:14:17.922835Z"
    }
   },
   "source": [
    "print(\"SVD RMSE:\")\n",
    "accuracy.rmse(predictions_svd)"
   ],
   "outputs": [
    {
     "name": "stdout",
     "output_type": "stream",
     "text": [
      "SVD RMSE:\n",
      "RMSE: 0.8776\n"
     ]
    },
    {
     "data": {
      "text/plain": [
       "0.8775717267809563"
      ]
     },
     "execution_count": 52,
     "metadata": {},
     "output_type": "execute_result"
    }
   ],
   "execution_count": 52
  },
  {
   "metadata": {
    "ExecuteTime": {
     "end_time": "2024-11-28T00:14:18.014544Z",
     "start_time": "2024-11-28T00:14:18.012503Z"
    }
   },
   "cell_type": "code",
   "source": [
    "user_id = 1\n",
    "movie_id = 1193\n",
    "prediction_svd = algo_svd.predict(user_id, movie_id)\n",
    "print(f\"Prediction for User {user_id} on Movie {movie_id} (SVD):\")\n",
    "print(prediction_svd)"
   ],
   "outputs": [
    {
     "name": "stdout",
     "output_type": "stream",
     "text": [
      "Prediction for User 1 on Movie 1193 (SVD):\n",
      "user: 1          item: 1193       r_ui = None   est = 4.53   {'was_impossible': False}\n"
     ]
    }
   ],
   "execution_count": 53
  },
  {
   "metadata": {
    "ExecuteTime": {
     "end_time": "2024-11-28T00:14:18.098288Z",
     "start_time": "2024-11-28T00:14:18.028681Z"
    }
   },
   "cell_type": "code",
   "source": [
    "from surprise import accuracy\n",
    "\n",
    "# Calculate and print MAE for SVD predictions\n",
    "mae_svd = accuracy.mae(predictions_svd)\n",
    "print(f\"SVD MAE: {mae_svd:.4f}\")"
   ],
   "outputs": [
    {
     "name": "stdout",
     "output_type": "stream",
     "text": [
      "MAE:  0.6893\n",
      "SVD MAE: 0.6893\n"
     ]
    }
   ],
   "execution_count": 54
  },
  {
   "metadata": {
    "ExecuteTime": {
     "end_time": "2024-11-28T00:14:18.173291Z",
     "start_time": "2024-11-28T00:14:18.106024Z"
    }
   },
   "cell_type": "code",
   "source": [
    "from collections import defaultdict\n",
    "\n",
    "# Function to categorize predictions as relevant or not\n",
    "def precision_recall(predictions, threshold=3.5):\n",
    "    # Store true positives, predicted positives, and relevant positives\n",
    "    user_results = defaultdict(lambda: {'tp': 0, 'fp': 0, 'fn': 0})\n",
    "\n",
    "    for uid, iid, true_r, est, _ in predictions:\n",
    "        relevant = true_r >= threshold\n",
    "        predicted_relevant = est >= threshold\n",
    "\n",
    "        if predicted_relevant and relevant:\n",
    "            user_results[uid]['tp'] += 1\n",
    "        elif predicted_relevant and not relevant:\n",
    "            user_results[uid]['fp'] += 1\n",
    "        elif not predicted_relevant and relevant:\n",
    "            user_results[uid]['fn'] += 1\n",
    "\n",
    "    # Calculate precision and recall per user and overall averages\n",
    "    precision_list = []\n",
    "    recall_list = []\n",
    "\n",
    "    for uid, results in user_results.items():\n",
    "        tp = results['tp']\n",
    "        fp = results['fp']\n",
    "        fn = results['fn']\n",
    "\n",
    "        precision = tp / (tp + fp) if (tp + fp) > 0 else 0\n",
    "        recall = tp / (tp + fn) if (tp + fn) > 0 else 0\n",
    "\n",
    "        precision_list.append(precision)\n",
    "        recall_list.append(recall)\n",
    "\n",
    "    avg_precision = sum(precision_list) / len(precision_list)\n",
    "    avg_recall = sum(recall_list) / len(recall_list)\n",
    "\n",
    "    return avg_precision, avg_recall\n",
    "\n",
    "# Calculate precision and recall using predictions\n",
    "precision, recall = precision_recall(predictions_svd)\n",
    "print(f\"Precision: {precision:.4f}\")\n",
    "print(f\"Recall: {recall:.4f}\")\n"
   ],
   "outputs": [
    {
     "name": "stdout",
     "output_type": "stream",
     "text": [
      "Precision: 0.7383\n",
      "Recall: 0.7676\n"
     ]
    }
   ],
   "execution_count": 55
  },
  {
   "metadata": {
    "ExecuteTime": {
     "end_time": "2024-11-28T00:14:18.417577Z",
     "start_time": "2024-11-28T00:14:18.181538Z"
    }
   },
   "cell_type": "code",
   "source": [
    "# Function to calculate DCG (Discounted Cumulative Gain)\n",
    "def dcg_at_k(scores, k):\n",
    "    scores = np.array(scores)[:k]\n",
    "    return np.sum((2**scores - 1) / np.log2(np.arange(2, scores.size + 2)))\n",
    "\n",
    "# Function to calculate NDCG\n",
    "def ndcg_at_k(predictions, k=10):\n",
    "    user_ndcgs = []\n",
    "\n",
    "    # Group predictions by user\n",
    "    user_ratings = defaultdict(list)\n",
    "    for uid, iid, true_r, est, _ in predictions:\n",
    "        user_ratings[uid].append((true_r, est))\n",
    "\n",
    "    for uid, ratings in user_ratings.items():\n",
    "        # Sort by predicted score\n",
    "        sorted_ratings = sorted(ratings, key=lambda x: x[1], reverse=True)\n",
    "\n",
    "        # Get the true relevance scores for DCG and IDCG\n",
    "        true_relevance = [true_r for true_r, _ in sorted_ratings]\n",
    "\n",
    "        # DCG calculation\n",
    "        dcg = dcg_at_k(true_relevance, k)\n",
    "        # IDCG calculation (Ideal DCG - sort by true ratings)\n",
    "        ideal_relevance = sorted(true_relevance, reverse=True)\n",
    "        idcg = dcg_at_k(ideal_relevance, k)\n",
    "\n",
    "        # NDCG calculation\n",
    "        ndcg = dcg / idcg if idcg > 0 else 0\n",
    "        user_ndcgs.append(ndcg)\n",
    "\n",
    "    # Average NDCG across users\n",
    "    avg_ndcg = np.mean(user_ndcgs)\n",
    "    return avg_ndcg\n",
    "\n",
    "# Calculate NDCG using predictions\n",
    "ndcg = ndcg_at_k(predictions_svd, k=10)\n",
    "print(f\"NDCG@10: {ndcg:.4f}\")\n"
   ],
   "outputs": [
    {
     "name": "stdout",
     "output_type": "stream",
     "text": [
      "NDCG@10: 0.8115\n"
     ]
    }
   ],
   "execution_count": 56
  },
  {
   "metadata": {
    "ExecuteTime": {
     "end_time": "2024-11-28T00:14:18.428136Z",
     "start_time": "2024-11-28T00:14:18.426119Z"
    }
   },
   "cell_type": "code",
   "source": [
    "from surprise import Dataset, Reader, NMF, accuracy\n",
    "from surprise.model_selection import train_test_split\n"
   ],
   "outputs": [],
   "execution_count": 57
  },
  {
   "metadata": {
    "ExecuteTime": {
     "end_time": "2024-11-28T00:14:19.552507Z",
     "start_time": "2024-11-28T00:14:18.435166Z"
    }
   },
   "cell_type": "code",
   "source": [
    "reader = Reader(rating_scale=(1, 5))\n",
    "data = Dataset.load_from_df(merged_data[['UserID', 'MovieID', 'Rating']], reader)\n",
    "\n",
    "# Split into train and test sets\n",
    "trainset, testset = train_test_split(data, test_size=0.25)"
   ],
   "outputs": [],
   "execution_count": 58
  },
  {
   "metadata": {
    "ExecuteTime": {
     "end_time": "2024-11-28T00:14:26.595017Z",
     "start_time": "2024-11-28T00:14:19.563713Z"
    }
   },
   "cell_type": "code",
   "source": [
    "# Initialize and train the NMF algorithm\n",
    "algo_nmf = NMF()\n",
    "algo_nmf.fit(trainset)"
   ],
   "outputs": [
    {
     "data": {
      "text/plain": [
       "<surprise.prediction_algorithms.matrix_factorization.NMF at 0x28730ac90>"
      ]
     },
     "execution_count": 59,
     "metadata": {},
     "output_type": "execute_result"
    }
   ],
   "execution_count": 59
  },
  {
   "metadata": {
    "ExecuteTime": {
     "end_time": "2024-11-28T00:14:27.462829Z",
     "start_time": "2024-11-28T00:14:26.607510Z"
    }
   },
   "cell_type": "code",
   "source": [
    "# Test the NMF algorithm on the test set\n",
    "predictions_nmf = algo_nmf.test(testset)"
   ],
   "outputs": [],
   "execution_count": 60
  },
  {
   "metadata": {
    "ExecuteTime": {
     "end_time": "2024-11-28T00:14:27.561270Z",
     "start_time": "2024-11-28T00:14:27.479878Z"
    }
   },
   "cell_type": "code",
   "source": [
    "# Evaluate RMSE for NMF\n",
    "print(\"NMF RMSE:\")\n",
    "accuracy.rmse(predictions_nmf)"
   ],
   "outputs": [
    {
     "name": "stdout",
     "output_type": "stream",
     "text": [
      "NMF RMSE:\n",
      "RMSE: 0.9204\n"
     ]
    },
    {
     "data": {
      "text/plain": [
       "0.920395694140712"
      ]
     },
     "execution_count": 61,
     "metadata": {},
     "output_type": "execute_result"
    }
   ],
   "execution_count": 61
  },
  {
   "metadata": {
    "ExecuteTime": {
     "end_time": "2024-11-28T00:14:27.569660Z",
     "start_time": "2024-11-28T00:14:27.567067Z"
    }
   },
   "cell_type": "code",
   "source": [
    "# Example prediction for a specific user and movie\n",
    "user_id = 1\n",
    "movie_id = 1193\n",
    "prediction_nmf = algo_nmf.predict(user_id, movie_id)\n",
    "print(f\"Prediction for User {user_id} on Movie {movie_id} (NMF):\")\n",
    "print(prediction_nmf)"
   ],
   "outputs": [
    {
     "name": "stdout",
     "output_type": "stream",
     "text": [
      "Prediction for User 1 on Movie 1193 (NMF):\n",
      "user: 1          item: 1193       r_ui = None   est = 4.65   {'was_impossible': False}\n"
     ]
    }
   ],
   "execution_count": 62
  },
  {
   "metadata": {
    "ExecuteTime": {
     "end_time": "2024-11-28T00:14:27.745384Z",
     "start_time": "2024-11-28T00:14:27.582603Z"
    }
   },
   "cell_type": "code",
   "source": [
    "from collections import defaultdict\n",
    "import numpy as np\n",
    "\n",
    "def precision_recall_at_k(predictions, k=10, threshold=3.5):\n",
    "    \"\"\"\n",
    "    Calculate precision and recall at k for each user.\n",
    "\n",
    "    Args:\n",
    "    predictions: list of (user, item, true rating, predicted rating, details).\n",
    "    k: Number of top predictions to consider.\n",
    "    threshold: Minimum rating to consider an item relevant.\n",
    "\n",
    "    Returns:\n",
    "    avg_precision: Mean precision at k across all users.\n",
    "    avg_recall: Mean recall at k across all users.\n",
    "    \"\"\"\n",
    "    user_ratings = defaultdict(list)\n",
    "    for uid, iid, true_r, est, _ in predictions:\n",
    "        user_ratings[uid].append((true_r, est))\n",
    "\n",
    "    precisions = []\n",
    "    recalls = []\n",
    "\n",
    "    for uid, ratings in user_ratings.items():\n",
    "        ratings.sort(key=lambda x: x[1], reverse=True)  # Sort by predicted rating\n",
    "\n",
    "        # Relevant items in the top k predictions\n",
    "        top_k = ratings[:k]\n",
    "        hits = sum((true_r >= threshold) for (true_r, _) in top_k)  # Hits within top-k\n",
    "\n",
    "        # Count total relevant items for the user\n",
    "        total_relevant = sum((true_r >= threshold) for (true_r, _) in ratings)\n",
    "\n",
    "        precision = hits / k if k else 0\n",
    "        recall = hits / total_relevant if total_relevant else 0\n",
    "\n",
    "        precisions.append(precision)\n",
    "        recalls.append(recall)\n",
    "\n",
    "    avg_precision = np.mean(precisions)\n",
    "    avg_recall = np.mean(recalls)\n",
    "\n",
    "    return avg_precision, avg_recall\n",
    "\n",
    "# Calculate precision and recall\n",
    "precision, recall = precision_recall_at_k(predictions_nmf, k=10)\n",
    "\n",
    "print(f\"Precision@10: {precision:.4f}\")\n",
    "print(f\"Recall@10: {recall:.4f}\")\n"
   ],
   "outputs": [
    {
     "name": "stdout",
     "output_type": "stream",
     "text": [
      "Precision@10: 0.7050\n",
      "Recall@10: 0.5666\n"
     ]
    }
   ],
   "execution_count": 63
  },
  {
   "metadata": {
    "ExecuteTime": {
     "end_time": "2024-11-28T00:14:28.003095Z",
     "start_time": "2024-11-28T00:14:27.760574Z"
    }
   },
   "cell_type": "code",
   "source": [
    "import numpy as np\n",
    "\n",
    "def dcg_at_k(r, k):\n",
    "    \"\"\"\n",
    "    Compute Discounted Cumulative Gain (DCG) at k.\n",
    "\n",
    "    Args:\n",
    "    r: Relevance scores (list of true ratings).\n",
    "    k: Rank position to compute DCG.\n",
    "\n",
    "    Returns:\n",
    "    DCG score at k.\n",
    "    \"\"\"\n",
    "    r = np.asfarray(r)[:k]\n",
    "    if r.size:\n",
    "        return np.sum((2**r - 1) / np.log2(np.arange(2, r.size + 2)))\n",
    "    return 0.0\n",
    "\n",
    "def ndcg_at_k(predictions, k=10):\n",
    "    \"\"\"\n",
    "    Compute Normalized Discounted Cumulative Gain (NDCG) at k for each user.\n",
    "\n",
    "    Args:\n",
    "    predictions: list of (user, item, true rating, predicted rating, details).\n",
    "    k: Number of top predictions to consider.\n",
    "\n",
    "    Returns:\n",
    "    Average NDCG at k.\n",
    "    \"\"\"\n",
    "    user_ratings = defaultdict(list)\n",
    "    for uid, iid, true_r, est, _ in predictions:\n",
    "        user_ratings[uid].append((true_r, est))\n",
    "\n",
    "    ndcg_scores = []\n",
    "\n",
    "    for uid, ratings in user_ratings.items():\n",
    "        ratings.sort(key=lambda x: x[1], reverse=True)  # Sort by predicted rating\n",
    "\n",
    "        # True ratings for the top-k predictions\n",
    "        true_ratings = [r[0] for r in ratings[:k]]\n",
    "        ideal_ratings = sorted([r[0] for r in ratings], reverse=True)[:k]\n",
    "\n",
    "        dcg = dcg_at_k(true_ratings, k)\n",
    "        idcg = dcg_at_k(ideal_ratings, k)\n",
    "\n",
    "        ndcg = dcg / idcg if idcg > 0 else 0.0\n",
    "        ndcg_scores.append(ndcg)\n",
    "\n",
    "    return np.mean(ndcg_scores)\n",
    "\n",
    "# Calculate NDCG@10\n",
    "ndcg = ndcg_at_k(predictions_nmf, k=10)\n",
    "print(f\"NDCG@10: {ndcg:.4f}\")\n"
   ],
   "outputs": [
    {
     "name": "stdout",
     "output_type": "stream",
     "text": [
      "NDCG@10: 0.7890\n"
     ]
    }
   ],
   "execution_count": 64
  },
  {
   "metadata": {
    "ExecuteTime": {
     "end_time": "2024-11-28T00:14:28.080430Z",
     "start_time": "2024-11-28T00:14:28.011891Z"
    }
   },
   "cell_type": "code",
   "source": [
    "from surprise import accuracy\n",
    "\n",
    "# Calculate and print MAE for NMF predictions\n",
    "mae = accuracy.mae(predictions_nmf)\n",
    "print(f\"NMF MAE: {mae:.4f}\")"
   ],
   "outputs": [
    {
     "name": "stdout",
     "output_type": "stream",
     "text": [
      "MAE:  0.7271\n",
      "NMF MAE: 0.7271\n"
     ]
    }
   ],
   "execution_count": 65
  },
  {
   "metadata": {
    "ExecuteTime": {
     "end_time": "2024-11-28T00:14:28.339743Z",
     "start_time": "2024-11-28T00:14:28.097261Z"
    }
   },
   "cell_type": "code",
   "source": [
    "import matplotlib.pyplot as plt\n",
    "\n",
    "# Define RMSE values for SVD and NMF\n",
    "algorithms = ['SVD', 'NMF']\n",
    "rmse_values = [accuracy.rmse(predictions_svd, verbose=False),\n",
    "               accuracy.rmse(predictions_nmf, verbose=False)]\n",
    "\n",
    "# Plotting the bar chart\n",
    "plt.figure(figsize=(8, 5))\n",
    "plt.bar(algorithms, rmse_values, color=['blue', 'orange'], width=0.6)\n",
    "\n",
    "# Add plot details\n",
    "plt.title('Comparison of RMSE Values: SVD vs NMF', fontsize=16)\n",
    "plt.ylabel('RMSE Value', fontsize=12)\n",
    "plt.xlabel('Algorithms', fontsize=12)\n",
    "plt.ylim(0, max(rmse_values) + 0.2)  # Extend y-axis for clarity\n",
    "\n",
    "# Annotate RMSE values on top of the bars\n",
    "for i, value in enumerate(rmse_values):\n",
    "    plt.text(i, value + 0.02, f\"{value:.3f}\", ha='center', fontsize=10)\n",
    "\n",
    "plt.grid(axis='y', linestyle='--', alpha=0.7)\n",
    "plt.tight_layout()\n",
    "\n",
    "# Display the chart\n",
    "plt.show()\n"
   ],
   "outputs": [
    {
     "data": {
      "text/plain": [
       "<Figure size 800x500 with 1 Axes>"
      ],
      "image/png": "[encoded data removed]"
     },
     "metadata": {},
     "output_type": "display_data"
    }
   ],
   "execution_count": 66
  }
 ],
 "metadata": {
  "language_info": {
   "name": "python"
  },
  "kernelspec": {
   "name": "python3",
   "language": "python",
   "display_name": "Python 3 (ipykernel)"
  }
 },
 "nbformat": 4,
 "nbformat_minor": 2
}
