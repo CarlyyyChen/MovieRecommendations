{
 "cells": [
  {
   "cell_type": "markdown",
   "metadata": {},
   "source": [
    "### Import necessary libraries"
   ]
  },
  {
   "cell_type": "code",
   "metadata": {
    "ExecuteTime": {
     "end_time": "2024-11-29T18:23:34.078409Z",
     "start_time": "2024-11-29T18:23:34.074340Z"
    }
   },
   "source": [
    "import pandas as pd"
   ],
   "outputs": [],
   "execution_count": 35
  },
  {
   "cell_type": "markdown",
   "metadata": {},
   "source": [
    "# 1. Data Collection and Manipulation"
   ]
  },
  {
   "cell_type": "markdown",
   "metadata": {},
   "source": [
    "## 1.1 Automatic Download of Dataset"
   ]
  },
  {
   "cell_type": "code",
   "metadata": {
    "ExecuteTime": {
     "end_time": "2024-11-29T18:23:35.992802Z",
     "start_time": "2024-11-29T18:23:35.861029Z"
    }
   },
   "source": [
    "!wget -q http://files.grouplens.org/datasets/movielens/ml-1m.zip"
   ],
   "outputs": [
    {
     "name": "stdout",
     "output_type": "stream",
     "text": [
      "zsh:1: command not found: wget\r\n"
     ]
    }
   ],
   "execution_count": 36
  },
  {
   "cell_type": "code",
   "metadata": {
    "ExecuteTime": {
     "end_time": "2024-11-29T18:23:37.126665Z",
     "start_time": "2024-11-29T18:23:36.998890Z"
    }
   },
   "source": "!unzip -q ml-1m.zip",
   "outputs": [
    {
     "name": "stdout",
     "output_type": "stream",
     "text": [
      "unzip:  cannot find or open ml-1m.zip, ml-1m.zip.zip or ml-1m.zip.ZIP.\r\n"
     ]
    }
   ],
   "execution_count": 37
  },
  {
   "cell_type": "markdown",
   "metadata": {},
   "source": [
    "## 1.2 Save to csv files"
   ]
  },
  {
   "cell_type": "code",
   "metadata": {
    "ExecuteTime": {
     "end_time": "2024-11-29T18:23:41.459475Z",
     "start_time": "2024-11-29T18:23:41.311490Z"
    }
   },
   "source": [
    " # Load the users file and save to CSV\n",
    "users = pd.read_csv('../../data/processed/users.csv')\n",
    "\n",
    "# Load the movies file and save to CSV\n",
    "movies = pd.read_csv('../../data/processed/movies.csv')\n",
    "\n",
    "# Load the ratings file and save to CSV\n",
    "ratings = pd.read_csv('../../data/processed/ratings.csv')"
   ],
   "outputs": [],
   "execution_count": 38
  },
  {
   "cell_type": "markdown",
   "metadata": {},
   "source": [
    "## 1.3 Print the first few rows of the each dataframe"
   ]
  },
  {
   "cell_type": "code",
   "metadata": {
    "ExecuteTime": {
     "end_time": "2024-11-29T18:23:49.517926Z",
     "start_time": "2024-11-29T18:23:49.512986Z"
    }
   },
   "source": [
    "# Print the first few rows of the users dataframe to check user details like user ID and demographics\n",
    "print(\"First few rows of the users dataframe:\")\n",
    "print(users.head())\n",
    "print(\"\\n\")  # Adds a newline for better separation of the output\n",
    "\n",
    "# Print the first few rows of the movies dataframe to view movie information such as movie ID and title\n",
    "print(\"First few rows of the movies dataframe:\")\n",
    "print(movies.head())\n",
    "print(\"\\n\")  # Adds a newline for better separation of the output\n",
    "\n",
    "# Print the first few rows of the ratings dataframe to inspect entries of user ratings for movies\n",
    "print(\"First few rows of the ratings dataframe:\")\n",
    "print(ratings.head())"
   ],
   "outputs": [
    {
     "name": "stdout",
     "output_type": "stream",
     "text": [
      "First few rows of the users dataframe:\n",
      "   UserID Gender  Age  Occupation Zip-code\n",
      "0       1      F    1          10    48067\n",
      "1       2      M   56          16    70072\n",
      "2       3      M   25          15    55117\n",
      "3       4      M   45           7    02460\n",
      "4       5      M   25          20    55455\n",
      "\n",
      "\n",
      "First few rows of the movies dataframe:\n",
      "   MovieID                               Title                        Genres\n",
      "0        1                    Toy Story (1995)   Animation|Children's|Comedy\n",
      "1        2                      Jumanji (1995)  Adventure|Children's|Fantasy\n",
      "2        3             Grumpier Old Men (1995)                Comedy|Romance\n",
      "3        4            Waiting to Exhale (1995)                  Comedy|Drama\n",
      "4        5  Father of the Bride Part II (1995)                        Comedy\n",
      "\n",
      "\n",
      "First few rows of the ratings dataframe:\n",
      "   UserID  MovieID  Rating  Timestamp\n",
      "0       1     1193       5  978300760\n",
      "1       1      661       3  978302109\n",
      "2       1      914       3  978301968\n",
      "3       1     3408       4  978300275\n",
      "4       1     2355       5  978824291\n"
     ]
    }
   ],
   "execution_count": 39
  },
  {
   "cell_type": "markdown",
   "metadata": {},
   "source": [
    "## 1.4 Print the column names of the each dataframe"
   ]
  },
  {
   "cell_type": "code",
   "metadata": {
    "ExecuteTime": {
     "end_time": "2024-11-29T18:23:54.780482Z",
     "start_time": "2024-11-29T18:23:54.775706Z"
    }
   },
   "source": [
    "# Print the column names of the users dataframe to understand the fields related to user information\n",
    "print(\"Column names in the users dataframe:\")\n",
    "print(users.columns)\n",
    "print(\"\\n\")  # Adds a newline for better separation of the output\n",
    "\n",
    "# Print the column names of the movies dataframe to see the attributes associated with movies, such as titles and genres\n",
    "print(\"Column names in the movies dataframe:\")\n",
    "print(movies.columns)\n",
    "print(\"\\n\")  # Adds a newline for better separation of the output\n",
    "\n",
    "# Print the column names of the ratings dataframe to review the fields that link users and movies through ratings\n",
    "print(\"Column names in the ratings dataframe:\")\n",
    "print(ratings.columns)"
   ],
   "outputs": [
    {
     "name": "stdout",
     "output_type": "stream",
     "text": [
      "Column names in the users dataframe:\n",
      "Index(['UserID', 'Gender', 'Age', 'Occupation', 'Zip-code'], dtype='object')\n",
      "\n",
      "\n",
      "Column names in the movies dataframe:\n",
      "Index(['MovieID', 'Title', 'Genres'], dtype='object')\n",
      "\n",
      "\n",
      "Column names in the ratings dataframe:\n",
      "Index(['UserID', 'MovieID', 'Rating', 'Timestamp'], dtype='object')\n"
     ]
    }
   ],
   "execution_count": 40
  },
  {
   "cell_type": "markdown",
   "metadata": {},
   "source": [
    "## 1.5 Checking for missing values in each dataframe"
   ]
  },
  {
   "cell_type": "code",
   "metadata": {
    "ExecuteTime": {
     "end_time": "2024-11-29T18:23:55.820761Z",
     "start_time": "2024-11-29T18:23:55.813702Z"
    }
   },
   "source": [
    "# Display the number of missing values in each column of the users dataframe\n",
    "print(\"Missing values in the users dataframe:\")\n",
    "print(users.isnull().sum())\n",
    "print(\"\\n\")  # Adds a newline for better separation of output\n",
    "\n",
    "# Display the number of missing values in each column of the movies dataframe\n",
    "print(\"Missing values in the movies dataframe:\")\n",
    "print(movies.isnull().sum())\n",
    "print(\"\\n\")  # Adds a newline for better separation of output\n",
    "\n",
    "# Display the number of missing values in each column of the ratings dataframe\n",
    "print(\"Missing values in the ratings dataframe:\")\n",
    "print(ratings.isnull().sum())"
   ],
   "outputs": [
    {
     "name": "stdout",
     "output_type": "stream",
     "text": [
      "Missing values in the users dataframe:\n",
      "UserID        0\n",
      "Gender        0\n",
      "Age           0\n",
      "Occupation    0\n",
      "Zip-code      0\n",
      "dtype: int64\n",
      "\n",
      "\n",
      "Missing values in the movies dataframe:\n",
      "MovieID    0\n",
      "Title      0\n",
      "Genres     0\n",
      "dtype: int64\n",
      "\n",
      "\n",
      "Missing values in the ratings dataframe:\n",
      "UserID       0\n",
      "MovieID      0\n",
      "Rating       0\n",
      "Timestamp    0\n",
      "dtype: int64\n"
     ]
    }
   ],
   "execution_count": 41
  },
  {
   "cell_type": "markdown",
   "metadata": {},
   "source": [
    "## 1.6 Convert the 'Timestamp' column in the ratings dataframe from Unix time to datetime format."
   ]
  },
  {
   "cell_type": "code",
   "metadata": {
    "ExecuteTime": {
     "end_time": "2024-11-29T18:23:58.877209Z",
     "start_time": "2024-11-29T18:23:58.816766Z"
    }
   },
   "source": [
    "# This enhances readability and usability of the timestamp data for further analysis.\n",
    "ratings['Timestamp'] = pd.to_datetime(ratings['Timestamp'], unit='s')\n",
    "\n",
    "# Display the first few rows of the ratings dataframe to confirm the successful conversion of the 'Timestamp' column.\n",
    "print(\"First few rows of the ratings dataframe after converting 'Timestamp':\")\n",
    "print(ratings.head())"
   ],
   "outputs": [
    {
     "name": "stdout",
     "output_type": "stream",
     "text": [
      "First few rows of the ratings dataframe after converting 'Timestamp':\n",
      "   UserID  MovieID  Rating           Timestamp\n",
      "0       1     1193       5 2000-12-31 22:12:40\n",
      "1       1      661       3 2000-12-31 22:35:09\n",
      "2       1      914       3 2000-12-31 22:32:48\n",
      "3       1     3408       4 2000-12-31 22:04:35\n",
      "4       1     2355       5 2001-01-06 23:38:11\n"
     ]
    }
   ],
   "execution_count": 42
  },
  {
   "cell_type": "markdown",
   "metadata": {},
   "source": [
    "## 1.7  Merge the ratings dataframe with the movies dataframe on the MovieID column.\n"
   ]
  },
  {
   "cell_type": "code",
   "metadata": {
    "ExecuteTime": {
     "end_time": "2024-11-29T18:23:59.954491Z",
     "start_time": "2024-11-29T18:23:59.788867Z"
    }
   },
   "source": [
    "# This step combines movie rating data with corresponding movie details.\n",
    "merged_data = pd.merge(ratings, movies, on='MovieID')\n",
    "\n",
    "# Further merge the resulting dataframe with the users dataframe on the UserID column.\n",
    "# This addition includes user demographic details into the merged dataset.\n",
    "merged_data = pd.merge(merged_data, users, on='UserID')\n",
    "\n",
    "# Display the column names of the merged dataframe to verify successful merges and to understand the available data fields.\n",
    "print(\"Columns in the merged dataframe:\")\n",
    "print(merged_data.columns)"
   ],
   "outputs": [
    {
     "name": "stdout",
     "output_type": "stream",
     "text": [
      "Columns in the merged dataframe:\n",
      "Index(['UserID', 'MovieID', 'Rating', 'Timestamp', 'Title', 'Genres', 'Gender',\n",
      "       'Age', 'Occupation', 'Zip-code'],\n",
      "      dtype='object')\n"
     ]
    }
   ],
   "execution_count": 43
  },
  {
   "cell_type": "markdown",
   "metadata": {},
   "source": [
    "## 1.6 Removing Duplicates"
   ]
  },
  {
   "cell_type": "code",
   "metadata": {
    "ExecuteTime": {
     "end_time": "2024-11-29T18:24:00.386792Z",
     "start_time": "2024-11-29T18:24:00.285867Z"
    }
   },
   "source": [
    "dup_bool = merged_data.duplicated(['UserID','MovieID','Rating','Timestamp'])\n",
    "dups = sum(dup_bool) # by considering all columns..( including timestamp)\n",
    "print(\"There are {} duplicate rating entries in the data..\".format(dups))"
   ],
   "outputs": [
    {
     "name": "stdout",
     "output_type": "stream",
     "text": [
      "There are 0 duplicate rating entries in the data..\n"
     ]
    }
   ],
   "execution_count": 44
  },
  {
   "cell_type": "markdown",
   "metadata": {},
   "source": [
    "## 3.4 Matrix Factorization"
   ]
  },
  {
   "cell_type": "markdown",
   "metadata": {},
   "source": [
    "###3.4.1 Matrix factorization using SVD\n",
    "\n",
    "\n"
   ]
  },
  {
   "cell_type": "code",
   "metadata": {
    "ExecuteTime": {
     "end_time": "2024-11-29T18:24:01.533276Z",
     "start_time": "2024-11-29T18:24:01.529965Z"
    }
   },
   "source": [
    "from surprise import Dataset, Reader, KNNWithMeans, SVD, accuracy\n",
    "from surprise.model_selection import train_test_split"
   ],
   "outputs": [],
   "execution_count": 45
  },
  {
   "cell_type": "code",
   "metadata": {
    "ExecuteTime": {
     "end_time": "2024-11-29T18:24:01.983808Z",
     "start_time": "2024-11-29T18:24:01.817947Z"
    }
   },
   "source": [
    "reader = Reader(rating_scale=(1,5))\n",
    "merged_data = pd.read_csv('../../data/Final_data/Final_data.csv')\n",
    "data = Dataset.load_from_df(merged_data[['UserID','MovieID','Rating']], reader)\n",
    "\n",
    "# Split into train and test sets\n",
    "trainset, testset = train_test_split(data, test_size=0.25)"
   ],
   "outputs": [],
   "execution_count": 46
  },
  {
   "cell_type": "code",
   "metadata": {
    "ExecuteTime": {
     "end_time": "2024-11-29T18:24:03.047850Z",
     "start_time": "2024-11-29T18:24:02.509178Z"
    }
   },
   "source": [
    "algo_svd = SVD()\n",
    "algo_svd.fit(trainset)\n",
    "predictions_svd = algo_svd.test(testset)"
   ],
   "outputs": [],
   "execution_count": 47
  },
  {
   "cell_type": "code",
   "metadata": {
    "ExecuteTime": {
     "end_time": "2024-11-29T18:24:08.808284Z",
     "start_time": "2024-11-29T18:24:08.791534Z"
    }
   },
   "source": [
    "predictions_svd"
   ],
   "outputs": [
    {
     "data": {
      "text/plain": [
       "[Prediction(uid=186, iid=2369, r_ui=4.0, est=3.6673772978859573, details={'was_impossible': False}),\n",
       " Prediction(uid=337, iid=260, r_ui=5.0, est=4.820064541790906, details={'was_impossible': False}),\n",
       " Prediction(uid=28, iid=34048, r_ui=3.5, est=2.7864279747798033, details={'was_impossible': False}),\n",
       " Prediction(uid=332, iid=65514, r_ui=3.5, est=3.459390232450893, details={'was_impossible': False}),\n",
       " Prediction(uid=186, iid=2872, r_ui=3.0, est=3.9160536891641744, details={'was_impossible': False}),\n",
       " Prediction(uid=606, iid=29, r_ui=4.5, est=4.149035225667742, details={'was_impossible': False}),\n",
       " Prediction(uid=45, iid=2087, r_ui=4.0, est=3.8739553602535426, details={'was_impossible': False}),\n",
       " Prediction(uid=448, iid=593, r_ui=5.0, est=3.9367808175141907, details={'was_impossible': False}),\n",
       " Prediction(uid=534, iid=79428, r_ui=3.5, est=3.726873115381326, details={'was_impossible': False}),\n",
       " Prediction(uid=275, iid=441, r_ui=4.0, est=4.366011390738484, details={'was_impossible': False}),\n",
       " Prediction(uid=367, iid=3363, r_ui=3.0, est=4.52793690983914, details={'was_impossible': False}),\n",
       " Prediction(uid=562, iid=56941, r_ui=3.5, est=4.027211433428939, details={'was_impossible': False}),\n",
       " Prediction(uid=199, iid=34338, r_ui=3.0, est=2.956418268500591, details={'was_impossible': False}),\n",
       " Prediction(uid=414, iid=493, r_ui=4.0, est=3.298966291694678, details={'was_impossible': False}),\n",
       " Prediction(uid=159, iid=150, r_ui=4.0, est=3.6237204668384373, details={'was_impossible': False}),\n",
       " Prediction(uid=91, iid=5669, r_ui=3.0, est=3.8629746405718075, details={'was_impossible': False}),\n",
       " Prediction(uid=492, iid=809, r_ui=4.0, est=3.6315316637105663, details={'was_impossible': False}),\n",
       " Prediction(uid=577, iid=2949, r_ui=4.0, est=3.671648620695358, details={'was_impossible': False}),\n",
       " Prediction(uid=140, iid=599, r_ui=4.0, est=3.769800058025474, details={'was_impossible': False}),\n",
       " Prediction(uid=599, iid=180297, r_ui=3.0, est=2.879143538593913, details={'was_impossible': False}),\n",
       " Prediction(uid=219, iid=858, r_ui=4.5, est=3.865199672563215, details={'was_impossible': False}),\n",
       " Prediction(uid=380, iid=608, r_ui=4.0, est=4.69915505830205, details={'was_impossible': False}),\n",
       " Prediction(uid=469, iid=2194, r_ui=5.0, est=3.8943771551300226, details={'was_impossible': False}),\n",
       " Prediction(uid=103, iid=2804, r_ui=5.0, est=4.193005621196495, details={'was_impossible': False}),\n",
       " Prediction(uid=318, iid=53460, r_ui=4.0, est=3.5587125061489977, details={'was_impossible': False}),\n",
       " Prediction(uid=517, iid=82459, r_ui=1.0, est=2.565467613360799, details={'was_impossible': False}),\n",
       " Prediction(uid=325, iid=1211, r_ui=4.0, est=3.4908712375936664, details={'was_impossible': False}),\n",
       " Prediction(uid=326, iid=134130, r_ui=4.0, est=4.200097863342934, details={'was_impossible': False}),\n",
       " Prediction(uid=610, iid=778, r_ui=5.0, est=4.31754804386014, details={'was_impossible': False}),\n",
       " Prediction(uid=323, iid=318, r_ui=5.0, est=3.9818574241673224, details={'was_impossible': False}),\n",
       " Prediction(uid=286, iid=1061, r_ui=5.0, est=3.8980074341371047, details={'was_impossible': False}),\n",
       " Prediction(uid=166, iid=2115, r_ui=4.0, est=4.036871087682048, details={'was_impossible': False}),\n",
       " Prediction(uid=280, iid=45722, r_ui=3.5, est=3.6135345085638013, details={'was_impossible': False}),\n",
       " Prediction(uid=448, iid=72998, r_ui=3.0, est=3.360331620804826, details={'was_impossible': False}),\n",
       " Prediction(uid=140, iid=434, r_ui=3.0, est=2.9616073362285955, details={'was_impossible': False}),\n",
       " Prediction(uid=367, iid=3325, r_ui=1.0, est=3.465145989086189, details={'was_impossible': False}),\n",
       " Prediction(uid=438, iid=31433, r_ui=1.0, est=3.2062009183264415, details={'was_impossible': False}),\n",
       " Prediction(uid=74, iid=1635, r_ui=4.5, est=4.173340834112764, details={'was_impossible': False}),\n",
       " Prediction(uid=520, iid=7812, r_ui=3.5, est=3.6341850957365933, details={'was_impossible': False}),\n",
       " Prediction(uid=565, iid=377, r_ui=4.0, est=3.763019503491696, details={'was_impossible': False}),\n",
       " Prediction(uid=292, iid=3593, r_ui=2.0, est=2.2461233960326825, details={'was_impossible': False}),\n",
       " Prediction(uid=274, iid=51412, r_ui=3.5, est=2.774588748395744, details={'was_impossible': False}),\n",
       " Prediction(uid=222, iid=2028, r_ui=3.0, est=3.9607177474350688, details={'was_impossible': False}),\n",
       " Prediction(uid=45, iid=1073, r_ui=4.0, est=3.805981137642127, details={'was_impossible': False}),\n",
       " Prediction(uid=19, iid=472, r_ui=2.0, est=2.5195696115587802, details={'was_impossible': False}),\n",
       " Prediction(uid=484, iid=3617, r_ui=4.0, est=3.712526737493353, details={'was_impossible': False}),\n",
       " Prediction(uid=68, iid=2950, r_ui=3.5, est=2.5904294555443266, details={'was_impossible': False}),\n",
       " Prediction(uid=610, iid=53125, r_ui=3.5, est=3.428731078304919, details={'was_impossible': False}),\n",
       " Prediction(uid=292, iid=78499, r_ui=4.0, est=4.055551670419295, details={'was_impossible': False}),\n",
       " Prediction(uid=426, iid=8644, r_ui=2.5, est=3.581477726925336, details={'was_impossible': False}),\n",
       " Prediction(uid=414, iid=155, r_ui=2.0, est=2.8672903843962527, details={'was_impossible': False}),\n",
       " Prediction(uid=606, iid=5693, r_ui=3.5, est=3.5458184577944856, details={'was_impossible': False}),\n",
       " Prediction(uid=610, iid=6755, r_ui=4.0, est=3.9027111796140197, details={'was_impossible': False}),\n",
       " Prediction(uid=586, iid=527, r_ui=2.5, est=4.801885368187347, details={'was_impossible': False}),\n",
       " Prediction(uid=401, iid=5444, r_ui=4.0, est=3.5673268983750677, details={'was_impossible': False}),\n",
       " Prediction(uid=603, iid=3998, r_ui=4.0, est=2.616973316562399, details={'was_impossible': False}),\n",
       " Prediction(uid=75, iid=1036, r_ui=4.0, est=3.4410167527143494, details={'was_impossible': False}),\n",
       " Prediction(uid=424, iid=40278, r_ui=4.0, est=3.7144300219424053, details={'was_impossible': False}),\n",
       " Prediction(uid=514, iid=168250, r_ui=2.5, est=3.2798490306720276, details={'was_impossible': False}),\n",
       " Prediction(uid=522, iid=49272, r_ui=5.0, est=4.315323710953868, details={'was_impossible': False}),\n",
       " Prediction(uid=570, iid=858, r_ui=3.0, est=4.109179214116201, details={'was_impossible': False}),\n",
       " Prediction(uid=221, iid=1293, r_ui=4.0, est=3.977164180580652, details={'was_impossible': False}),\n",
       " Prediction(uid=123, iid=85414, r_ui=4.5, est=3.834927629428961, details={'was_impossible': False}),\n",
       " Prediction(uid=68, iid=1042, r_ui=2.5, est=3.144253485989979, details={'was_impossible': False}),\n",
       " Prediction(uid=437, iid=176, r_ui=5.0, est=3.9108067000665825, details={'was_impossible': False}),\n",
       " Prediction(uid=425, iid=1206, r_ui=3.0, est=4.023474280071541, details={'was_impossible': False}),\n",
       " Prediction(uid=599, iid=1274, r_ui=5.0, est=2.8664548371801746, details={'was_impossible': False}),\n",
       " Prediction(uid=359, iid=736, r_ui=3.0, est=2.869165747568918, details={'was_impossible': False}),\n",
       " Prediction(uid=317, iid=4011, r_ui=4.0, est=3.987055413165033, details={'was_impossible': False}),\n",
       " Prediction(uid=474, iid=2583, r_ui=4.0, est=3.6012421102455328, details={'was_impossible': False}),\n",
       " Prediction(uid=296, iid=171765, r_ui=3.5, est=3.7818484462510615, details={'was_impossible': False}),\n",
       " Prediction(uid=380, iid=4386, r_ui=3.0, est=3.374546700517406, details={'was_impossible': False}),\n",
       " Prediction(uid=514, iid=2458, r_ui=2.0, est=3.3429763237722465, details={'was_impossible': False}),\n",
       " Prediction(uid=182, iid=1289, r_ui=3.0, est=3.5563784631582087, details={'was_impossible': False}),\n",
       " Prediction(uid=7, iid=1923, r_ui=1.5, est=3.1761056674431125, details={'was_impossible': False}),\n",
       " Prediction(uid=438, iid=3173, r_ui=3.5, est=3.175229945296109, details={'was_impossible': False}),\n",
       " Prediction(uid=59, iid=1631, r_ui=5.0, est=4.0104104738898405, details={'was_impossible': False}),\n",
       " Prediction(uid=448, iid=4886, r_ui=4.0, est=3.26582179787301, details={'was_impossible': False}),\n",
       " Prediction(uid=177, iid=45499, r_ui=4.0, est=3.0340521209909963, details={'was_impossible': False}),\n",
       " Prediction(uid=288, iid=4979, r_ui=3.0, est=3.5125928718952273, details={'was_impossible': False}),\n",
       " Prediction(uid=414, iid=374, r_ui=1.0, est=2.1671147993766975, details={'was_impossible': False}),\n",
       " Prediction(uid=28, iid=62394, r_ui=2.0, est=2.6292430027208566, details={'was_impossible': False}),\n",
       " Prediction(uid=67, iid=2011, r_ui=4.0, est=3.758686808619024, details={'was_impossible': False}),\n",
       " Prediction(uid=239, iid=1214, r_ui=4.0, est=4.213300535687815, details={'was_impossible': False}),\n",
       " Prediction(uid=484, iid=2423, r_ui=3.5, est=4.06728749575074, details={'was_impossible': False}),\n",
       " Prediction(uid=249, iid=1644, r_ui=2.5, est=2.7625214325065146, details={'was_impossible': False}),\n",
       " Prediction(uid=482, iid=30825, r_ui=4.0, est=2.8879092800674675, details={'was_impossible': False}),\n",
       " Prediction(uid=381, iid=55820, r_ui=4.0, est=3.6243550075328654, details={'was_impossible': False}),\n",
       " Prediction(uid=249, iid=368, r_ui=3.5, est=3.654167628158174, details={'was_impossible': False}),\n",
       " Prediction(uid=465, iid=3685, r_ui=4.0, est=4.177685872207696, details={'was_impossible': False}),\n",
       " Prediction(uid=438, iid=5941, r_ui=3.0, est=3.267589223878922, details={'was_impossible': False}),\n",
       " Prediction(uid=559, iid=475, r_ui=5.0, est=3.7666601261919754, details={'was_impossible': False}),\n",
       " Prediction(uid=365, iid=134130, r_ui=3.5, est=2.8087788771506466, details={'was_impossible': False}),\n",
       " Prediction(uid=603, iid=1053, r_ui=3.0, est=3.3825980118694066, details={'was_impossible': False}),\n",
       " Prediction(uid=256, iid=5218, r_ui=4.5, est=4.1258517706640765, details={'was_impossible': False}),\n",
       " Prediction(uid=14, iid=32, r_ui=4.0, est=3.9166364675193726, details={'was_impossible': False}),\n",
       " Prediction(uid=176, iid=434, r_ui=4.0, est=3.376162759460618, details={'was_impossible': False}),\n",
       " Prediction(uid=428, iid=1748, r_ui=4.0, est=3.2213549562293307, details={'was_impossible': False}),\n",
       " Prediction(uid=368, iid=3285, r_ui=4.0, est=2.667879716476745, details={'was_impossible': False}),\n",
       " Prediction(uid=111, iid=54286, r_ui=3.0, est=3.4559793613494243, details={'was_impossible': False}),\n",
       " Prediction(uid=600, iid=4718, r_ui=1.5, est=2.179300740088124, details={'was_impossible': False}),\n",
       " Prediction(uid=594, iid=393, r_ui=4.5, est=3.374094466801383, details={'was_impossible': False}),\n",
       " Prediction(uid=115, iid=2148, r_ui=4.0, est=3.375828248615181, details={'was_impossible': False}),\n",
       " Prediction(uid=352, iid=3578, r_ui=4.0, est=4.486430364921033, details={'was_impossible': False}),\n",
       " Prediction(uid=537, iid=7153, r_ui=4.5, est=4.255463766523571, details={'was_impossible': False}),\n",
       " Prediction(uid=274, iid=5528, r_ui=3.5, est=3.463591860891795, details={'was_impossible': False}),\n",
       " Prediction(uid=469, iid=2160, r_ui=4.0, est=4.331314054791472, details={'was_impossible': False}),\n",
       " Prediction(uid=600, iid=4973, r_ui=4.0, est=4.092948012951975, details={'was_impossible': False}),\n",
       " Prediction(uid=432, iid=3998, r_ui=4.0, est=3.424169615940202, details={'was_impossible': False}),\n",
       " Prediction(uid=132, iid=3481, r_ui=4.0, est=3.1695388285956425, details={'was_impossible': False}),\n",
       " Prediction(uid=600, iid=342, r_ui=0.5, est=2.580051006744892, details={'was_impossible': False}),\n",
       " Prediction(uid=153, iid=95510, r_ui=0.5, est=2.2313434985863543, details={'was_impossible': False}),\n",
       " Prediction(uid=607, iid=2918, r_ui=3.0, est=3.8348814271630673, details={'was_impossible': False}),\n",
       " Prediction(uid=325, iid=921, r_ui=4.0, est=3.3649015824096766, details={'was_impossible': False}),\n",
       " Prediction(uid=560, iid=6059, r_ui=3.5, est=3.5081749451049142, details={'was_impossible': False}),\n",
       " Prediction(uid=555, iid=1377, r_ui=3.0, est=3.2455212759979783, details={'was_impossible': False}),\n",
       " Prediction(uid=184, iid=193567, r_ui=3.0, est=3.5753953682385586, details={'was_impossible': False}),\n",
       " Prediction(uid=474, iid=2410, r_ui=2.0, est=2.938998603994599, details={'was_impossible': False}),\n",
       " Prediction(uid=187, iid=1884, r_ui=3.0, est=4.284780020900154, details={'was_impossible': False}),\n",
       " Prediction(uid=298, iid=37733, r_ui=1.5, est=2.210049834796066, details={'was_impossible': False}),\n",
       " Prediction(uid=380, iid=1806, r_ui=3.0, est=3.0905367593394866, details={'was_impossible': False}),\n",
       " Prediction(uid=200, iid=2671, r_ui=4.0, est=3.64405969697881, details={'was_impossible': False}),\n",
       " Prediction(uid=58, iid=435, r_ui=3.0, est=2.9260822252002, details={'was_impossible': False}),\n",
       " Prediction(uid=517, iid=2012, r_ui=4.5, est=2.6708338486700938, details={'was_impossible': False}),\n",
       " Prediction(uid=229, iid=348, r_ui=3.0, est=3.7674797216223115, details={'was_impossible': False}),\n",
       " Prediction(uid=64, iid=3418, r_ui=3.5, est=3.7104309426979296, details={'was_impossible': False}),\n",
       " Prediction(uid=6, iid=381, r_ui=3.0, est=3.632247861479295, details={'was_impossible': False}),\n",
       " Prediction(uid=372, iid=508, r_ui=3.0, est=3.310951836360341, details={'was_impossible': False}),\n",
       " Prediction(uid=90, iid=791, r_ui=4.0, est=3.9833292659416157, details={'was_impossible': False}),\n",
       " Prediction(uid=158, iid=2872, r_ui=2.5, est=3.560805872735214, details={'was_impossible': False}),\n",
       " Prediction(uid=266, iid=2706, r_ui=1.0, est=3.5424543617372852, details={'was_impossible': False}),\n",
       " Prediction(uid=474, iid=1028, r_ui=3.0, est=3.9563881679389716, details={'was_impossible': False}),\n",
       " Prediction(uid=177, iid=454, r_ui=2.5, est=3.2148974341279004, details={'was_impossible': False}),\n",
       " Prediction(uid=34, iid=5349, r_ui=5.0, est=3.694537257989102, details={'was_impossible': False}),\n",
       " Prediction(uid=199, iid=2112, r_ui=2.0, est=3.2823980509133963, details={'was_impossible': False}),\n",
       " Prediction(uid=132, iid=2953, r_ui=2.0, est=2.1004702560064725, details={'was_impossible': False}),\n",
       " Prediction(uid=220, iid=4499, r_ui=4.0, est=4.185332791834536, details={'was_impossible': False}),\n",
       " Prediction(uid=382, iid=106696, r_ui=3.5, est=3.5964162285029384, details={'was_impossible': False}),\n",
       " Prediction(uid=512, iid=253, r_ui=5.0, est=3.4434423932283473, details={'was_impossible': False}),\n",
       " Prediction(uid=105, iid=4734, r_ui=4.0, est=3.8275165914982887, details={'was_impossible': False}),\n",
       " Prediction(uid=489, iid=903, r_ui=3.5, est=3.7163920953273712, details={'was_impossible': False}),\n",
       " Prediction(uid=287, iid=2505, r_ui=1.0, est=2.2585607991486643, details={'was_impossible': False}),\n",
       " Prediction(uid=357, iid=96563, r_ui=4.0, est=3.731114416587436, details={'was_impossible': False}),\n",
       " Prediction(uid=263, iid=380, r_ui=4.0, est=3.334174879951218, details={'was_impossible': False}),\n",
       " Prediction(uid=131, iid=5959, r_ui=2.5, est=3.0038986012906084, details={'was_impossible': False}),\n",
       " Prediction(uid=474, iid=2067, r_ui=3.5, est=3.7274646375400633, details={'was_impossible': False}),\n",
       " Prediction(uid=522, iid=76060, r_ui=4.5, est=3.5378918063249727, details={'was_impossible': False}),\n",
       " Prediction(uid=385, iid=858, r_ui=5.0, est=3.854434181898267, details={'was_impossible': False}),\n",
       " Prediction(uid=489, iid=96079, r_ui=4.0, est=3.2186560835509415, details={'was_impossible': False}),\n",
       " Prediction(uid=139, iid=4036, r_ui=1.5, est=2.165228520888188, details={'was_impossible': False}),\n",
       " Prediction(uid=428, iid=5572, r_ui=3.0, est=2.1793946445655914, details={'was_impossible': False}),\n",
       " Prediction(uid=366, iid=58559, r_ui=4.0, est=4.200418949063538, details={'was_impossible': False}),\n",
       " Prediction(uid=122, iid=1562, r_ui=3.0, est=3.3659538837037033, details={'was_impossible': False}),\n",
       " Prediction(uid=411, iid=527, r_ui=5.0, est=3.930501981448362, details={'was_impossible': False}),\n",
       " Prediction(uid=599, iid=5574, r_ui=3.0, est=2.6728776745930123, details={'was_impossible': False}),\n",
       " Prediction(uid=19, iid=2065, r_ui=2.0, est=3.0448956165411287, details={'was_impossible': False}),\n",
       " Prediction(uid=18, iid=5903, r_ui=3.5, est=3.9692333055704463, details={'was_impossible': False}),\n",
       " Prediction(uid=448, iid=100487, r_ui=2.0, est=2.8609366831378655, details={'was_impossible': False}),\n",
       " Prediction(uid=357, iid=56174, r_ui=4.0, est=3.6145152508635263, details={'was_impossible': False}),\n",
       " Prediction(uid=318, iid=1845, r_ui=4.5, est=3.9681194705804876, details={'was_impossible': False}),\n",
       " Prediction(uid=415, iid=4447, r_ui=3.0, est=3.5586501514545597, details={'was_impossible': False}),\n",
       " Prediction(uid=305, iid=3160, r_ui=3.5, est=3.9789893068861875, details={'was_impossible': False}),\n",
       " Prediction(uid=370, iid=7153, r_ui=4.5, est=3.67260197020813, details={'was_impossible': False}),\n",
       " Prediction(uid=280, iid=41566, r_ui=3.5, est=3.837474711301128, details={'was_impossible': False}),\n",
       " Prediction(uid=42, iid=3869, r_ui=2.0, est=3.0351459697846375, details={'was_impossible': False}),\n",
       " Prediction(uid=68, iid=52458, r_ui=4.5, est=3.253164449337178, details={'was_impossible': False}),\n",
       " Prediction(uid=298, iid=67695, r_ui=0.5, est=2.6525624111936694, details={'was_impossible': False}),\n",
       " Prediction(uid=335, iid=2699, r_ui=2.5, est=3.199279447105589, details={'was_impossible': False}),\n",
       " Prediction(uid=276, iid=88, r_ui=5.0, est=4.4535065925190604, details={'was_impossible': False}),\n",
       " Prediction(uid=387, iid=56367, r_ui=4.0, est=3.7611049307694424, details={'was_impossible': False}),\n",
       " Prediction(uid=240, iid=533, r_ui=3.0, est=3.8549332309340865, details={'was_impossible': False}),\n",
       " Prediction(uid=249, iid=101362, r_ui=3.0, est=3.3785512275884857, details={'was_impossible': False}),\n",
       " Prediction(uid=167, iid=1385, r_ui=2.0, est=2.8295661340427865, details={'was_impossible': False}),\n",
       " Prediction(uid=109, iid=32, r_ui=4.0, est=3.7450319628225532, details={'was_impossible': False}),\n",
       " Prediction(uid=489, iid=1101, r_ui=3.0, est=3.0421315032556224, details={'was_impossible': False}),\n",
       " Prediction(uid=202, iid=2355, r_ui=4.0, est=3.7846644234493425, details={'was_impossible': False}),\n",
       " Prediction(uid=111, iid=87529, r_ui=5.0, est=3.048582464021483, details={'was_impossible': False}),\n",
       " Prediction(uid=600, iid=2863, r_ui=3.0, est=2.962288514773322, details={'was_impossible': False}),\n",
       " Prediction(uid=199, iid=1080, r_ui=4.5, est=3.826996884047886, details={'was_impossible': False}),\n",
       " Prediction(uid=212, iid=54995, r_ui=4.0, est=3.484696852940993, details={'was_impossible': False}),\n",
       " Prediction(uid=177, iid=63853, r_ui=2.0, est=3.1174191590736213, details={'was_impossible': False}),\n",
       " Prediction(uid=492, iid=3, r_ui=4.0, est=3.652141315559365, details={'was_impossible': False}),\n",
       " Prediction(uid=428, iid=6764, r_ui=3.0, est=2.477522577162263, details={'was_impossible': False}),\n",
       " Prediction(uid=572, iid=1228, r_ui=4.0, est=4.990889733955241, details={'was_impossible': False}),\n",
       " Prediction(uid=19, iid=44, r_ui=3.0, est=2.047948251732412, details={'was_impossible': False}),\n",
       " Prediction(uid=600, iid=2690, r_ui=4.0, est=3.12810557384128, details={'was_impossible': False}),\n",
       " Prediction(uid=262, iid=265, r_ui=2.0, est=3.69960512447532, details={'was_impossible': False}),\n",
       " Prediction(uid=119, iid=64839, r_ui=3.5, est=4.25846955410337, details={'was_impossible': False}),\n",
       " Prediction(uid=357, iid=1997, r_ui=4.5, est=3.940503795052642, details={'was_impossible': False}),\n",
       " Prediction(uid=509, iid=3000, r_ui=3.5, est=3.64568229963254, details={'was_impossible': False}),\n",
       " Prediction(uid=166, iid=2710, r_ui=2.5, est=3.1048184566251713, details={'was_impossible': False}),\n",
       " Prediction(uid=66, iid=481, r_ui=2.0, est=3.7307920473632725, details={'was_impossible': False}),\n",
       " Prediction(uid=307, iid=2162, r_ui=2.5, est=2.476710617324545, details={'was_impossible': False}),\n",
       " Prediction(uid=599, iid=916, r_ui=3.0, est=2.849681347257347, details={'was_impossible': False}),\n",
       " Prediction(uid=331, iid=3948, r_ui=3.0, est=3.63965702809452, details={'was_impossible': False}),\n",
       " Prediction(uid=367, iid=1485, r_ui=3.0, est=3.477440977152496, details={'was_impossible': False}),\n",
       " Prediction(uid=466, iid=68358, r_ui=4.0, est=4.133877902811842, details={'was_impossible': False}),\n",
       " Prediction(uid=284, iid=367, r_ui=5.0, est=3.244213629288115, details={'was_impossible': False}),\n",
       " Prediction(uid=68, iid=1408, r_ui=5.0, est=3.5896486617794197, details={'was_impossible': False}),\n",
       " Prediction(uid=64, iid=293, r_ui=4.0, est=4.386773015222107, details={'was_impossible': False}),\n",
       " Prediction(uid=47, iid=30812, r_ui=3.0, est=3.0644171446835275, details={'was_impossible': False}),\n",
       " Prediction(uid=249, iid=1732, r_ui=4.5, est=4.256455847965056, details={'was_impossible': False}),\n",
       " Prediction(uid=469, iid=1923, r_ui=3.0, est=3.8027606670753205, details={'was_impossible': False}),\n",
       " Prediction(uid=599, iid=2788, r_ui=3.0, est=3.1150821415297174, details={'was_impossible': False}),\n",
       " Prediction(uid=155, iid=2959, r_ui=4.0, est=4.203578595899387, details={'was_impossible': False}),\n",
       " Prediction(uid=167, iid=1527, r_ui=5.0, est=3.5655498235571446, details={'was_impossible': False}),\n",
       " Prediction(uid=599, iid=742, r_ui=1.0, est=2.3962366490241407, details={'was_impossible': False}),\n",
       " Prediction(uid=600, iid=1573, r_ui=2.5, est=2.4301673163383417, details={'was_impossible': False}),\n",
       " Prediction(uid=317, iid=97304, r_ui=2.0, est=3.9415509791501018, details={'was_impossible': False}),\n",
       " Prediction(uid=608, iid=3698, r_ui=2.0, est=3.3300112522118956, details={'was_impossible': False}),\n",
       " Prediction(uid=7, iid=5989, r_ui=4.0, est=3.6742511992122373, details={'was_impossible': False}),\n",
       " Prediction(uid=200, iid=4246, r_ui=3.5, est=3.961398809654257, details={'was_impossible': False}),\n",
       " Prediction(uid=373, iid=616, r_ui=4.0, est=3.0588338460460807, details={'was_impossible': False}),\n",
       " Prediction(uid=580, iid=1200, r_ui=4.5, est=4.091149478276818, details={'was_impossible': False}),\n",
       " Prediction(uid=418, iid=2918, r_ui=4.5, est=3.9834460436620915, details={'was_impossible': False}),\n",
       " Prediction(uid=543, iid=48385, r_ui=5.0, est=4.102558787793316, details={'was_impossible': False}),\n",
       " Prediction(uid=21, iid=5349, r_ui=3.0, est=2.962385358420853, details={'was_impossible': False}),\n",
       " Prediction(uid=428, iid=1222, r_ui=3.0, est=3.4087135260739037, details={'was_impossible': False}),\n",
       " Prediction(uid=448, iid=53808, r_ui=2.0, est=2.8609366831378655, details={'was_impossible': False}),\n",
       " Prediction(uid=316, iid=4027, r_ui=3.0, est=3.622598797751433, details={'was_impossible': False}),\n",
       " Prediction(uid=140, iid=4187, r_ui=4.0, est=3.4490388996522237, details={'was_impossible': False}),\n",
       " Prediction(uid=608, iid=145, r_ui=3.5, est=3.404955266966023, details={'was_impossible': False}),\n",
       " Prediction(uid=103, iid=64114, r_ui=1.0, est=3.728433007223624, details={'was_impossible': False}),\n",
       " Prediction(uid=404, iid=590, r_ui=4.0, est=3.4956053238174585, details={'was_impossible': False}),\n",
       " Prediction(uid=196, iid=6378, r_ui=4.5, est=3.414158004464056, details={'was_impossible': False}),\n",
       " Prediction(uid=395, iid=592, r_ui=3.0, est=2.964613228228694, details={'was_impossible': False}),\n",
       " Prediction(uid=268, iid=2716, r_ui=4.0, est=3.1389158770792354, details={'was_impossible': False}),\n",
       " Prediction(uid=610, iid=84772, r_ui=3.5, est=3.4986483044823635, details={'was_impossible': False}),\n",
       " Prediction(uid=448, iid=111659, r_ui=2.5, est=2.773808749959995, details={'was_impossible': False}),\n",
       " Prediction(uid=62, iid=122924, r_ui=4.0, est=3.821853292246451, details={'was_impossible': False}),\n",
       " Prediction(uid=286, iid=296, r_ui=5.0, est=4.27310103032715, details={'was_impossible': False}),\n",
       " Prediction(uid=217, iid=1875, r_ui=3.0, est=3.0048357468547935, details={'was_impossible': False}),\n",
       " Prediction(uid=111, iid=143859, r_ui=1.5, est=3.559214524498481, details={'was_impossible': False}),\n",
       " Prediction(uid=475, iid=3751, r_ui=3.5, est=4.297948167952132, details={'was_impossible': False}),\n",
       " Prediction(uid=380, iid=86644, r_ui=4.0, est=3.3994999668676242, details={'was_impossible': False}),\n",
       " Prediction(uid=425, iid=1136, r_ui=3.5, est=3.9357726996049287, details={'was_impossible': False}),\n",
       " Prediction(uid=72, iid=50, r_ui=4.5, est=4.851248786768274, details={'was_impossible': False}),\n",
       " Prediction(uid=610, iid=60760, r_ui=2.5, est=3.4457807419231665, details={'was_impossible': False}),\n",
       " Prediction(uid=28, iid=33493, r_ui=4.0, est=3.130912015592713, details={'was_impossible': False}),\n",
       " Prediction(uid=337, iid=7, r_ui=3.0, est=3.6528922597865505, details={'was_impossible': False}),\n",
       " Prediction(uid=226, iid=112, r_ui=4.0, est=3.575096443755349, details={'was_impossible': False}),\n",
       " Prediction(uid=132, iid=46578, r_ui=4.0, est=3.419825346551948, details={'was_impossible': False}),\n",
       " Prediction(uid=109, iid=514, r_ui=3.0, est=3.439838329421934, details={'was_impossible': False}),\n",
       " Prediction(uid=534, iid=153, r_ui=3.5, est=3.2630635895894424, details={'was_impossible': False}),\n",
       " Prediction(uid=177, iid=67788, r_ui=3.0, est=3.0079505960398976, details={'was_impossible': False}),\n",
       " Prediction(uid=68, iid=53894, r_ui=3.5, est=3.739944092518174, details={'was_impossible': False}),\n",
       " Prediction(uid=82, iid=2355, r_ui=2.0, est=3.607154774392814, details={'was_impossible': False}),\n",
       " Prediction(uid=606, iid=6436, r_ui=3.0, est=3.6861327590005093, details={'was_impossible': False}),\n",
       " Prediction(uid=606, iid=1, r_ui=2.5, est=4.073711119623161, details={'was_impossible': False}),\n",
       " Prediction(uid=124, iid=260, r_ui=4.0, est=4.383075696148522, details={'was_impossible': False}),\n",
       " Prediction(uid=408, iid=132046, r_ui=2.5, est=3.704223906837075, details={'was_impossible': False}),\n",
       " Prediction(uid=339, iid=8950, r_ui=4.0, est=4.3649256584470155, details={'was_impossible': False}),\n",
       " Prediction(uid=46, iid=185, r_ui=4.0, est=3.5695881679649633, details={'was_impossible': False}),\n",
       " Prediction(uid=18, iid=36519, r_ui=3.0, est=3.3773028371154834, details={'was_impossible': False}),\n",
       " Prediction(uid=91, iid=1266, r_ui=4.0, est=4.131938180206643, details={'was_impossible': False}),\n",
       " Prediction(uid=567, iid=92681, r_ui=0.5, est=2.1293003190088062, details={'was_impossible': False}),\n",
       " Prediction(uid=199, iid=3252, r_ui=3.0, est=3.7203648232323894, details={'was_impossible': False}),\n",
       " Prediction(uid=422, iid=2392, r_ui=2.0, est=2.9570239483694256, details={'was_impossible': False}),\n",
       " Prediction(uid=301, iid=44191, r_ui=2.5, est=3.641584500780812, details={'was_impossible': False}),\n",
       " Prediction(uid=1, iid=2948, r_ui=5.0, est=4.349692753333314, details={'was_impossible': False}),\n",
       " Prediction(uid=490, iid=593, r_ui=4.0, est=3.7385277856642745, details={'was_impossible': False}),\n",
       " Prediction(uid=562, iid=2485, r_ui=5.0, est=3.3574624797838846, details={'was_impossible': False}),\n",
       " Prediction(uid=42, iid=2302, r_ui=4.0, est=3.297076908671764, details={'was_impossible': False}),\n",
       " Prediction(uid=71, iid=86, r_ui=5.0, est=3.857882169787072, details={'was_impossible': False}),\n",
       " Prediction(uid=597, iid=1220, r_ui=4.0, est=4.274435127287399, details={'was_impossible': False}),\n",
       " Prediction(uid=483, iid=1688, r_ui=2.5, est=3.396220373935341, details={'was_impossible': False}),\n",
       " Prediction(uid=254, iid=33154, r_ui=4.0, est=4.059922320930182, details={'was_impossible': False}),\n",
       " Prediction(uid=105, iid=1222, r_ui=4.0, est=4.5176894065401285, details={'was_impossible': False}),\n",
       " Prediction(uid=412, iid=1617, r_ui=5.0, est=4.053272578217624, details={'was_impossible': False}),\n",
       " Prediction(uid=301, iid=3686, r_ui=1.5, est=3.3146497745287222, details={'was_impossible': False}),\n",
       " Prediction(uid=267, iid=1909, r_ui=5.0, est=3.67966695068664, details={'was_impossible': False}),\n",
       " Prediction(uid=610, iid=54995, r_ui=3.5, est=3.650805824048715, details={'was_impossible': False}),\n",
       " Prediction(uid=292, iid=62999, r_ui=3.0, est=3.255133175801256, details={'was_impossible': False}),\n",
       " Prediction(uid=414, iid=1821, r_ui=3.0, est=2.893742555469456, details={'was_impossible': False}),\n",
       " Prediction(uid=249, iid=8360, r_ui=3.5, est=3.719021540062271, details={'was_impossible': False}),\n",
       " Prediction(uid=265, iid=3098, r_ui=3.0, est=3.4421263018443464, details={'was_impossible': False}),\n",
       " Prediction(uid=135, iid=2968, r_ui=4.0, est=4.051078031327979, details={'was_impossible': False}),\n",
       " Prediction(uid=385, iid=1305, r_ui=3.0, est=3.1506019288428155, details={'was_impossible': False}),\n",
       " Prediction(uid=448, iid=76077, r_ui=2.0, est=2.654449998088084, details={'was_impossible': False}),\n",
       " Prediction(uid=462, iid=34338, r_ui=3.5, est=2.7278532846502657, details={'was_impossible': False}),\n",
       " Prediction(uid=382, iid=2993, r_ui=3.5, est=3.569601814839239, details={'was_impossible': False}),\n",
       " Prediction(uid=393, iid=74458, r_ui=0.5, est=4.118659612524853, details={'was_impossible': False}),\n",
       " Prediction(uid=169, iid=3408, r_ui=4.5, est=4.397812063156279, details={'was_impossible': False}),\n",
       " Prediction(uid=195, iid=2692, r_ui=4.0, est=3.644485494210463, details={'was_impossible': False}),\n",
       " Prediction(uid=367, iid=3798, r_ui=5.0, est=3.579501623866221, details={'was_impossible': False}),\n",
       " Prediction(uid=115, iid=736, r_ui=1.0, est=3.462537810936899, details={'was_impossible': False}),\n",
       " Prediction(uid=453, iid=1834, r_ui=4.0, est=4.133729062364317, details={'was_impossible': False}),\n",
       " Prediction(uid=307, iid=4852, r_ui=1.0, est=2.3474786656226847, details={'was_impossible': False}),\n",
       " Prediction(uid=274, iid=3264, r_ui=2.0, est=2.589111327852654, details={'was_impossible': False}),\n",
       " Prediction(uid=357, iid=1378, r_ui=3.0, est=3.5788408298443497, details={'was_impossible': False}),\n",
       " Prediction(uid=448, iid=6539, r_ui=3.5, est=2.8591328539812433, details={'was_impossible': False}),\n",
       " Prediction(uid=414, iid=2340, r_ui=2.0, est=3.1244408978030154, details={'was_impossible': False}),\n",
       " Prediction(uid=318, iid=71156, r_ui=4.5, est=3.575696839546223, details={'was_impossible': False}),\n",
       " Prediction(uid=365, iid=101112, r_ui=2.0, est=2.6467990970093496, details={'was_impossible': False}),\n",
       " Prediction(uid=91, iid=2403, r_ui=4.5, est=3.242558443383048, details={'was_impossible': False}),\n",
       " Prediction(uid=411, iid=509, r_ui=2.0, est=2.799257413948324, details={'was_impossible': False}),\n",
       " Prediction(uid=448, iid=40278, r_ui=3.5, est=2.948835875704567, details={'was_impossible': False}),\n",
       " Prediction(uid=505, iid=2087, r_ui=4.5, est=4.075479649267448, details={'was_impossible': False}),\n",
       " Prediction(uid=274, iid=53894, r_ui=3.5, est=3.61117693375412, details={'was_impossible': False}),\n",
       " Prediction(uid=414, iid=4247, r_ui=2.0, est=2.7159587435193306, details={'was_impossible': False}),\n",
       " Prediction(uid=599, iid=41, r_ui=2.5, est=3.067912020905956, details={'was_impossible': False}),\n",
       " Prediction(uid=599, iid=3141, r_ui=1.5, est=2.6214902847972046, details={'was_impossible': False}),\n",
       " Prediction(uid=182, iid=6953, r_ui=3.5, est=3.1443922876020394, details={'was_impossible': False}),\n",
       " Prediction(uid=232, iid=6958, r_ui=2.0, est=2.7162993523568164, details={'was_impossible': False}),\n",
       " Prediction(uid=111, iid=46970, r_ui=5.0, est=2.6183689048485417, details={'was_impossible': False}),\n",
       " Prediction(uid=1, iid=50, r_ui=5.0, est=4.917080352248046, details={'was_impossible': False}),\n",
       " Prediction(uid=318, iid=4973, r_ui=4.0, est=4.179654747021667, details={'was_impossible': False}),\n",
       " Prediction(uid=216, iid=125, r_ui=5.0, est=3.5606143875553395, details={'was_impossible': False}),\n",
       " Prediction(uid=462, iid=3996, r_ui=3.5, est=3.665211964498686, details={'was_impossible': False}),\n",
       " Prediction(uid=312, iid=2890, r_ui=4.0, est=3.719226270789036, details={'was_impossible': False}),\n",
       " Prediction(uid=432, iid=2232, r_ui=4.0, est=3.538181214396809, details={'was_impossible': False}),\n",
       " Prediction(uid=520, iid=2470, r_ui=4.0, est=3.48278077390828, details={'was_impossible': False}),\n",
       " Prediction(uid=305, iid=139385, r_ui=3.0, est=3.6635958931371775, details={'was_impossible': False}),\n",
       " Prediction(uid=590, iid=161, r_ui=4.0, est=3.244095827491441, details={'was_impossible': False}),\n",
       " Prediction(uid=599, iid=2096, r_ui=2.5, est=2.7538662409440122, details={'was_impossible': False}),\n",
       " Prediction(uid=298, iid=8361, r_ui=1.5, est=1.7845056020204875, details={'was_impossible': False}),\n",
       " Prediction(uid=217, iid=3385, r_ui=3.0, est=2.6449020985521567, details={'was_impossible': False}),\n",
       " Prediction(uid=68, iid=53996, r_ui=5.0, est=3.318240306686858, details={'was_impossible': False}),\n",
       " Prediction(uid=91, iid=337, r_ui=1.5, est=3.589122102278086, details={'was_impossible': False}),\n",
       " Prediction(uid=137, iid=2028, r_ui=4.0, est=3.94881577740051, details={'was_impossible': False}),\n",
       " Prediction(uid=50, iid=122918, r_ui=1.0, est=2.9543435919814804, details={'was_impossible': False}),\n",
       " Prediction(uid=522, iid=6942, r_ui=0.5, est=3.505650969489006, details={'was_impossible': False}),\n",
       " Prediction(uid=220, iid=1197, r_ui=4.5, est=4.6130803254973385, details={'was_impossible': False}),\n",
       " Prediction(uid=581, iid=7153, r_ui=4.5, est=4.5029423312586605, details={'was_impossible': False}),\n",
       " Prediction(uid=68, iid=2082, r_ui=3.0, est=3.1833143125739087, details={'was_impossible': False}),\n",
       " Prediction(uid=301, iid=1721, r_ui=1.5, est=3.406934351169322, details={'was_impossible': False}),\n",
       " Prediction(uid=462, iid=158966, r_ui=4.5, est=3.443373223891407, details={'was_impossible': False}),\n",
       " Prediction(uid=567, iid=86882, r_ui=1.5, est=2.6074471176588885, details={'was_impossible': False}),\n",
       " Prediction(uid=428, iid=296, r_ui=4.5, est=3.8871940951341397, details={'was_impossible': False}),\n",
       " Prediction(uid=367, iid=1258, r_ui=4.0, est=4.213434175016879, details={'was_impossible': False}),\n",
       " Prediction(uid=280, iid=3489, r_ui=4.0, est=3.683544550652635, details={'was_impossible': False}),\n",
       " Prediction(uid=221, iid=1260, r_ui=4.5, est=4.039489547020403, details={'was_impossible': False}),\n",
       " Prediction(uid=305, iid=93838, r_ui=5.0, est=3.886668162285747, details={'was_impossible': False}),\n",
       " Prediction(uid=352, iid=102194, r_ui=4.0, est=3.631923956793491, details={'was_impossible': False}),\n",
       " Prediction(uid=555, iid=1991, r_ui=4.0, est=3.1997128666305303, details={'was_impossible': False}),\n",
       " Prediction(uid=234, iid=2294, r_ui=3.0, est=3.723793435472688, details={'was_impossible': False}),\n",
       " Prediction(uid=50, iid=91094, r_ui=1.5, est=2.4403426300786415, details={'was_impossible': False}),\n",
       " Prediction(uid=274, iid=2987, r_ui=4.0, est=3.530582227501463, details={'was_impossible': False}),\n",
       " Prediction(uid=111, iid=98203, r_ui=1.5, est=3.391911782351308, details={'was_impossible': False}),\n",
       " Prediction(uid=318, iid=105197, r_ui=3.5, est=3.8115575225669187, details={'was_impossible': False}),\n",
       " Prediction(uid=603, iid=4390, r_ui=4.0, est=3.111023172695675, details={'was_impossible': False}),\n",
       " Prediction(uid=380, iid=924, r_ui=4.0, est=4.064565759822562, details={'was_impossible': False}),\n",
       " Prediction(uid=275, iid=3948, r_ui=3.0, est=4.075881801896249, details={'was_impossible': False}),\n",
       " Prediction(uid=249, iid=99728, r_ui=4.0, est=3.5606683193439537, details={'was_impossible': False}),\n",
       " Prediction(uid=185, iid=1767, r_ui=4.0, est=3.1419833918939184, details={'was_impossible': False}),\n",
       " Prediction(uid=581, iid=356, r_ui=4.5, est=4.831878254981885, details={'was_impossible': False}),\n",
       " Prediction(uid=465, iid=2628, r_ui=2.0, est=3.5427879455820896, details={'was_impossible': False}),\n",
       " Prediction(uid=132, iid=5481, r_ui=3.0, est=2.3417922281709687, details={'was_impossible': False}),\n",
       " Prediction(uid=140, iid=4299, r_ui=3.0, est=3.4497392397911186, details={'was_impossible': False}),\n",
       " Prediction(uid=443, iid=356, r_ui=5.0, est=4.42724628113948, details={'was_impossible': False}),\n",
       " Prediction(uid=380, iid=1583, r_ui=3.0, est=3.8712492131556697, details={'was_impossible': False}),\n",
       " Prediction(uid=41, iid=8981, r_ui=4.0, est=3.2127329295136597, details={'was_impossible': False}),\n",
       " Prediction(uid=604, iid=253, r_ui=5.0, est=3.5412769206817862, details={'was_impossible': False}),\n",
       " Prediction(uid=111, iid=134853, r_ui=2.5, est=3.559223061148182, details={'was_impossible': False}),\n",
       " Prediction(uid=177, iid=58025, r_ui=3.0, est=2.9550866928786976, details={'was_impossible': False}),\n",
       " Prediction(uid=18, iid=858, r_ui=4.0, est=4.316469869541356, details={'was_impossible': False}),\n",
       " Prediction(uid=202, iid=1374, r_ui=5.0, est=3.943407438355365, details={'was_impossible': False}),\n",
       " Prediction(uid=182, iid=4954, r_ui=4.0, est=3.0832704050606456, details={'was_impossible': False}),\n",
       " Prediction(uid=580, iid=541, r_ui=5.0, est=4.090748313423708, details={'was_impossible': False}),\n",
       " Prediction(uid=226, iid=4239, r_ui=4.0, est=3.904197047095006, details={'was_impossible': False}),\n",
       " Prediction(uid=19, iid=3550, r_ui=3.0, est=2.735702967780587, details={'was_impossible': False}),\n",
       " Prediction(uid=141, iid=441, r_ui=3.0, est=3.6742470349889365, details={'was_impossible': False}),\n",
       " Prediction(uid=474, iid=6768, r_ui=4.0, est=3.2756145851486558, details={'was_impossible': False}),\n",
       " Prediction(uid=298, iid=4448, r_ui=2.5, est=2.377808313566176, details={'was_impossible': False}),\n",
       " Prediction(uid=223, iid=8784, r_ui=5.0, est=3.2475967138023782, details={'was_impossible': False}),\n",
       " Prediction(uid=606, iid=3808, r_ui=4.0, est=3.5923182851349913, details={'was_impossible': False}),\n",
       " Prediction(uid=561, iid=4105, r_ui=3.5, est=3.534310845313461, details={'was_impossible': False}),\n",
       " Prediction(uid=220, iid=64231, r_ui=3.5, est=3.699947328655384, details={'was_impossible': False}),\n",
       " Prediction(uid=386, iid=410, r_ui=3.0, est=2.524466035781645, details={'was_impossible': False}),\n",
       " Prediction(uid=109, iid=76, r_ui=3.0, est=3.0926076476437774, details={'was_impossible': False}),\n",
       " Prediction(uid=137, iid=260, r_ui=4.0, est=4.031745297338864, details={'was_impossible': False}),\n",
       " Prediction(uid=555, iid=3197, r_ui=3.0, est=3.3795106602268814, details={'was_impossible': False}),\n",
       " Prediction(uid=602, iid=25, r_ui=4.0, est=3.4077029676131825, details={'was_impossible': False}),\n",
       " Prediction(uid=570, iid=3114, r_ui=3.5, est=3.5915255888665976, details={'was_impossible': False}),\n",
       " Prediction(uid=462, iid=296, r_ui=2.5, est=3.6761299040778894, details={'was_impossible': False}),\n",
       " Prediction(uid=57, iid=1769, r_ui=2.0, est=3.0230365276952296, details={'was_impossible': False}),\n",
       " Prediction(uid=256, iid=64957, r_ui=4.5, est=3.9976067855436876, details={'was_impossible': False}),\n",
       " Prediction(uid=182, iid=912, r_ui=5.0, est=4.270787584550842, details={'was_impossible': False}),\n",
       " Prediction(uid=387, iid=1220, r_ui=3.5, est=3.567778559543982, details={'was_impossible': False}),\n",
       " Prediction(uid=448, iid=148592, r_ui=3.0, est=2.8609366831378655, details={'was_impossible': False}),\n",
       " Prediction(uid=50, iid=3000, r_ui=3.5, est=3.440134394905116, details={'was_impossible': False}),\n",
       " Prediction(uid=160, iid=2706, r_ui=2.0, est=2.9382701469056887, details={'was_impossible': False}),\n",
       " Prediction(uid=241, iid=593, r_ui=4.5, est=4.145593696374486, details={'was_impossible': False}),\n",
       " Prediction(uid=274, iid=80489, r_ui=4.0, est=3.6937173748058205, details={'was_impossible': False}),\n",
       " Prediction(uid=274, iid=3481, r_ui=4.0, est=3.5342130925917368, details={'was_impossible': False}),\n",
       " Prediction(uid=580, iid=8636, r_ui=3.0, est=3.875294518828537, details={'was_impossible': False}),\n",
       " Prediction(uid=312, iid=3702, r_ui=4.0, est=3.53990654795939, details={'was_impossible': False}),\n",
       " Prediction(uid=263, iid=1111, r_ui=4.0, est=3.5751312867403713, details={'was_impossible': False}),\n",
       " Prediction(uid=490, iid=88163, r_ui=3.0, est=3.4878110761594945, details={'was_impossible': False}),\n",
       " Prediction(uid=266, iid=2094, r_ui=3.0, est=3.1844526243393774, details={'was_impossible': False}),\n",
       " Prediction(uid=474, iid=5246, r_ui=1.0, est=3.064709875808374, details={'was_impossible': False}),\n",
       " Prediction(uid=500, iid=595, r_ui=4.0, est=3.3945764214266134, details={'was_impossible': False}),\n",
       " Prediction(uid=480, iid=7983, r_ui=4.0, est=3.198600866038758, details={'was_impossible': False}),\n",
       " Prediction(uid=387, iid=4007, r_ui=3.5, est=3.2516613661846008, details={'was_impossible': False}),\n",
       " Prediction(uid=429, iid=208, r_ui=3.0, est=3.6084434956954943, details={'was_impossible': False}),\n",
       " Prediction(uid=334, iid=3006, r_ui=2.0, est=3.5205007976091656, details={'was_impossible': False}),\n",
       " Prediction(uid=561, iid=54503, r_ui=3.5, est=3.68299178041519, details={'was_impossible': False}),\n",
       " Prediction(uid=232, iid=318, r_ui=5.0, est=4.252039834923927, details={'was_impossible': False}),\n",
       " Prediction(uid=80, iid=2513, r_ui=4.0, est=3.817732088023644, details={'was_impossible': False}),\n",
       " Prediction(uid=232, iid=6333, r_ui=3.5, est=3.5922311292889457, details={'was_impossible': False}),\n",
       " Prediction(uid=307, iid=339, r_ui=1.5, est=3.025190766392178, details={'was_impossible': False}),\n",
       " Prediction(uid=235, iid=435, r_ui=2.0, est=2.4616436008213096, details={'was_impossible': False}),\n",
       " Prediction(uid=6, iid=26, r_ui=4.0, est=3.5524841306830734, details={'was_impossible': False}),\n",
       " Prediction(uid=23, iid=1711, r_ui=4.0, est=3.1004385058588637, details={'was_impossible': False}),\n",
       " Prediction(uid=89, iid=1197, r_ui=2.0, est=4.02983211533522, details={'was_impossible': False}),\n",
       " Prediction(uid=563, iid=78316, r_ui=3.5, est=2.9761857295248846, details={'was_impossible': False}),\n",
       " Prediction(uid=474, iid=47465, r_ui=3.5, est=3.154169828164967, details={'was_impossible': False}),\n",
       " Prediction(uid=142, iid=377, r_ui=4.0, est=3.8676147530724103, details={'was_impossible': False}),\n",
       " Prediction(uid=122, iid=3253, r_ui=4.0, est=4.159381991564596, details={'was_impossible': False}),\n",
       " Prediction(uid=404, iid=315, r_ui=3.0, est=3.035917087578893, details={'was_impossible': False}),\n",
       " Prediction(uid=354, iid=1214, r_ui=4.0, est=3.7955878916026022, details={'was_impossible': False}),\n",
       " Prediction(uid=474, iid=2171, r_ui=5.0, est=3.0185906573157486, details={'was_impossible': False}),\n",
       " Prediction(uid=517, iid=1951, r_ui=3.0, est=2.120600891430006, details={'was_impossible': False}),\n",
       " Prediction(uid=382, iid=61348, r_ui=1.0, est=3.514786752732069, details={'was_impossible': False}),\n",
       " Prediction(uid=68, iid=122882, r_ui=5.0, est=3.482302796063435, details={'was_impossible': False}),\n",
       " Prediction(uid=438, iid=8640, r_ui=3.0, est=3.1647536868850725, details={'was_impossible': False}),\n",
       " Prediction(uid=514, iid=5247, r_ui=2.5, est=3.0071107910334813, details={'was_impossible': False}),\n",
       " Prediction(uid=380, iid=3999, r_ui=3.0, est=2.9198120533680165, details={'was_impossible': False}),\n",
       " Prediction(uid=481, iid=1438, r_ui=2.0, est=2.4053356029298065, details={'was_impossible': False}),\n",
       " Prediction(uid=7, iid=2019, r_ui=5.0, est=3.569468621460051, details={'was_impossible': False}),\n",
       " Prediction(uid=274, iid=7254, r_ui=3.5, est=3.4759281498331913, details={'was_impossible': False}),\n",
       " Prediction(uid=68, iid=252, r_ui=3.0, est=3.206699310890867, details={'was_impossible': False}),\n",
       " Prediction(uid=298, iid=441, r_ui=3.5, est=2.771889179182734, details={'was_impossible': False}),\n",
       " Prediction(uid=610, iid=82765, r_ui=3.5, est=3.5950286170813084, details={'was_impossible': False}),\n",
       " Prediction(uid=182, iid=223, r_ui=4.5, est=3.5895568019247905, details={'was_impossible': False}),\n",
       " Prediction(uid=82, iid=3418, r_ui=1.5, est=3.6423944138010063, details={'was_impossible': False}),\n",
       " Prediction(uid=420, iid=1580, r_ui=3.5, est=3.5907590360946964, details={'was_impossible': False}),\n",
       " Prediction(uid=590, iid=2539, r_ui=3.0, est=2.8798174886540036, details={'was_impossible': False}),\n",
       " Prediction(uid=66, iid=6022, r_ui=2.5, est=3.737241627551489, details={'was_impossible': False}),\n",
       " Prediction(uid=186, iid=329, r_ui=4.0, est=3.7396481068315137, details={'was_impossible': False}),\n",
       " Prediction(uid=119, iid=110718, r_ui=4.0, est=4.027257006524469, details={'was_impossible': False}),\n",
       " Prediction(uid=543, iid=72998, r_ui=5.0, est=4.084250451331543, details={'was_impossible': False}),\n",
       " Prediction(uid=161, iid=252, r_ui=4.0, est=3.521841495337, details={'was_impossible': False}),\n",
       " Prediction(uid=606, iid=98243, r_ui=3.0, est=3.5200929640323255, details={'was_impossible': False}),\n",
       " Prediction(uid=610, iid=116799, r_ui=4.5, est=3.668419696329987, details={'was_impossible': False}),\n",
       " Prediction(uid=599, iid=374, r_ui=1.5, est=1.5746141879886977, details={'was_impossible': False}),\n",
       " Prediction(uid=274, iid=1023, r_ui=3.5, est=3.3480457223812237, details={'was_impossible': False}),\n",
       " Prediction(uid=573, iid=69122, r_ui=4.5, est=4.138404285421407, details={'was_impossible': False}),\n",
       " Prediction(uid=51, iid=4464, r_ui=4.0, est=3.5909100103955076, details={'was_impossible': False}),\n",
       " Prediction(uid=132, iid=3148, r_ui=3.0, est=3.182389409510738, details={'was_impossible': False}),\n",
       " Prediction(uid=606, iid=2706, r_ui=1.0, est=3.6664188466273018, details={'was_impossible': False}),\n",
       " Prediction(uid=339, iid=139385, r_ui=4.0, est=4.219158852108517, details={'was_impossible': False}),\n",
       " Prediction(uid=422, iid=2581, r_ui=3.0, est=3.170912859443837, details={'was_impossible': False}),\n",
       " Prediction(uid=98, iid=152077, r_ui=4.5, est=3.8301221480569456, details={'was_impossible': False}),\n",
       " Prediction(uid=290, iid=50, r_ui=4.0, est=4.76535857781906, details={'was_impossible': False}),\n",
       " Prediction(uid=208, iid=733, r_ui=3.0, est=3.508260145515083, details={'was_impossible': False}),\n",
       " Prediction(uid=64, iid=1479, r_ui=3.0, est=3.4866371291337916, details={'was_impossible': False}),\n",
       " Prediction(uid=603, iid=110, r_ui=1.0, est=4.442541268391338, details={'was_impossible': False}),\n",
       " Prediction(uid=177, iid=48, r_ui=3.0, est=2.8944526524709193, details={'was_impossible': False}),\n",
       " Prediction(uid=580, iid=5954, r_ui=4.0, est=3.5925475227435313, details={'was_impossible': False}),\n",
       " Prediction(uid=352, iid=112138, r_ui=2.0, est=3.9685620152413534, details={'was_impossible': False}),\n",
       " Prediction(uid=331, iid=99114, r_ui=5.0, est=3.985650484011365, details={'was_impossible': False}),\n",
       " Prediction(uid=387, iid=2657, r_ui=2.5, est=3.3192630990278986, details={'was_impossible': False}),\n",
       " Prediction(uid=111, iid=4308, r_ui=2.5, est=3.975947976321902, details={'was_impossible': False}),\n",
       " Prediction(uid=376, iid=2762, r_ui=4.0, est=4.429451699972821, details={'was_impossible': False}),\n",
       " Prediction(uid=599, iid=1282, r_ui=4.0, est=2.8167354048685436, details={'was_impossible': False}),\n",
       " Prediction(uid=39, iid=3213, r_ui=5.0, est=3.6773088717652063, details={'was_impossible': False}),\n",
       " Prediction(uid=597, iid=2115, r_ui=3.0, est=4.020678591736762, details={'was_impossible': False}),\n",
       " Prediction(uid=382, iid=122920, r_ui=4.0, est=3.673482808660799, details={'was_impossible': False}),\n",
       " Prediction(uid=310, iid=6947, r_ui=4.0, est=3.5179479157502547, details={'was_impossible': False}),\n",
       " Prediction(uid=274, iid=2137, r_ui=3.5, est=3.186748043696837, details={'was_impossible': False}),\n",
       " Prediction(uid=18, iid=44199, r_ui=4.5, est=3.857811550456698, details={'was_impossible': False}),\n",
       " Prediction(uid=177, iid=1260, r_ui=2.0, est=3.853780176826956, details={'was_impossible': False}),\n",
       " Prediction(uid=229, iid=5, r_ui=3.0, est=3.3218194996549513, details={'was_impossible': False}),\n",
       " Prediction(uid=606, iid=1727, r_ui=3.5, est=3.6011591843348865, details={'was_impossible': False}),\n",
       " Prediction(uid=414, iid=4677, r_ui=3.0, est=3.2912418825160334, details={'was_impossible': False}),\n",
       " Prediction(uid=79, iid=2150, r_ui=4.0, est=4.434445462278839, details={'was_impossible': False}),\n",
       " Prediction(uid=294, iid=2002, r_ui=3.0, est=2.3330489888259036, details={'was_impossible': False}),\n",
       " Prediction(uid=41, iid=920, r_ui=3.0, est=3.3635741840986633, details={'was_impossible': False}),\n",
       " Prediction(uid=105, iid=174551, r_ui=5.0, est=3.9215659593599304, details={'was_impossible': False}),\n",
       " Prediction(uid=160, iid=185, r_ui=1.0, est=2.713459607366528, details={'was_impossible': False}),\n",
       " Prediction(uid=125, iid=2596, r_ui=4.5, est=4.118294495726783, details={'was_impossible': False}),\n",
       " Prediction(uid=140, iid=3030, r_ui=1.0, est=3.873532530007877, details={'was_impossible': False}),\n",
       " Prediction(uid=560, iid=2761, r_ui=3.5, est=4.016573539641969, details={'was_impossible': False}),\n",
       " Prediction(uid=113, iid=1955, r_ui=4.0, est=3.939680186328977, details={'was_impossible': False}),\n",
       " Prediction(uid=509, iid=46062, r_ui=1.5, est=3.1197111240008613, details={'was_impossible': False}),\n",
       " Prediction(uid=514, iid=54997, r_ui=4.0, est=4.023151812926188, details={'was_impossible': False}),\n",
       " Prediction(uid=202, iid=1372, r_ui=3.0, est=3.816087923201837, details={'was_impossible': False}),\n",
       " Prediction(uid=186, iid=4993, r_ui=5.0, est=4.525235050554013, details={'was_impossible': False}),\n",
       " Prediction(uid=567, iid=3671, r_ui=4.5, est=3.287176317980677, details={'was_impossible': False}),\n",
       " Prediction(uid=313, iid=1219, r_ui=3.0, est=3.9313431628959123, details={'was_impossible': False}),\n",
       " Prediction(uid=313, iid=593, r_ui=5.0, est=3.983502021387487, details={'was_impossible': False}),\n",
       " Prediction(uid=400, iid=44199, r_ui=5.0, est=4.345115360911994, details={'was_impossible': False}),\n",
       " Prediction(uid=409, iid=2289, r_ui=4.0, est=4.181565044560998, details={'was_impossible': False}),\n",
       " Prediction(uid=600, iid=41566, r_ui=1.0, est=3.0799489756208227, details={'was_impossible': False}),\n",
       " Prediction(uid=414, iid=3671, r_ui=4.0, est=4.181679268093439, details={'was_impossible': False}),\n",
       " Prediction(uid=453, iid=3254, r_ui=5.0, est=3.9824997014079244, details={'was_impossible': False}),\n",
       " Prediction(uid=590, iid=2699, r_ui=3.0, est=2.836826294709283, details={'was_impossible': False}),\n",
       " Prediction(uid=68, iid=2329, r_ui=2.5, est=3.7014090837078437, details={'was_impossible': False}),\n",
       " Prediction(uid=103, iid=1247, r_ui=4.5, est=4.337577574476426, details={'was_impossible': False}),\n",
       " Prediction(uid=68, iid=1220, r_ui=3.0, est=3.7224038723474298, details={'was_impossible': False}),\n",
       " Prediction(uid=68, iid=3452, r_ui=2.5, est=2.889351102636514, details={'was_impossible': False}),\n",
       " Prediction(uid=579, iid=1923, r_ui=5.0, est=4.1352028752709185, details={'was_impossible': False}),\n",
       " Prediction(uid=297, iid=454, r_ui=3.0, est=2.467370632596953, details={'was_impossible': False}),\n",
       " Prediction(uid=245, iid=162, r_ui=3.0, est=3.141309534668121, details={'was_impossible': False}),\n",
       " Prediction(uid=4, iid=1213, r_ui=4.0, est=4.433482326256524, details={'was_impossible': False}),\n",
       " Prediction(uid=603, iid=5060, r_ui=3.0, est=4.2753213251797035, details={'was_impossible': False}),\n",
       " Prediction(uid=462, iid=1247, r_ui=5.0, est=3.8657737464158957, details={'was_impossible': False}),\n",
       " Prediction(uid=474, iid=562, r_ui=4.0, est=3.4003192266854487, details={'was_impossible': False}),\n",
       " Prediction(uid=288, iid=54001, r_ui=3.5, est=3.535677647191827, details={'was_impossible': False}),\n",
       " Prediction(uid=39, iid=592, r_ui=4.0, est=3.450441421301877, details={'was_impossible': False}),\n",
       " Prediction(uid=387, iid=4191, r_ui=4.0, est=3.1912531088151073, details={'was_impossible': False}),\n",
       " Prediction(uid=204, iid=1089, r_ui=4.5, est=4.449134034375362, details={'was_impossible': False}),\n",
       " Prediction(uid=599, iid=3387, r_ui=2.0, est=2.7164188670248692, details={'was_impossible': False}),\n",
       " Prediction(uid=217, iid=2525, r_ui=3.0, est=2.8510434572720826, details={'was_impossible': False}),\n",
       " Prediction(uid=606, iid=3798, r_ui=2.0, est=3.5051241241323385, details={'was_impossible': False}),\n",
       " Prediction(uid=555, iid=3791, r_ui=1.0, est=3.2570991169263595, details={'was_impossible': False}),\n",
       " Prediction(uid=139, iid=34319, r_ui=1.5, est=2.0819442535333295, details={'was_impossible': False}),\n",
       " Prediction(uid=34, iid=7438, r_ui=4.5, est=3.643515779397061, details={'was_impossible': False}),\n",
       " Prediction(uid=328, iid=2081, r_ui=3.0, est=3.072640826797199, details={'was_impossible': False}),\n",
       " Prediction(uid=357, iid=3916, r_ui=3.5, est=4.083666118319022, details={'was_impossible': False}),\n",
       " Prediction(uid=474, iid=3273, r_ui=4.0, est=2.3341539654391257, details={'was_impossible': False}),\n",
       " Prediction(uid=326, iid=30812, r_ui=1.5, est=3.9617232395809, details={'was_impossible': False}),\n",
       " Prediction(uid=322, iid=597, r_ui=3.0, est=3.4023449468300893, details={'was_impossible': False}),\n",
       " Prediction(uid=232, iid=4963, r_ui=4.0, est=3.6076414191895414, details={'was_impossible': False}),\n",
       " Prediction(uid=105, iid=67255, r_ui=4.0, est=4.337959428271847, details={'was_impossible': False}),\n",
       " Prediction(uid=307, iid=54503, r_ui=4.0, est=3.774304320748561, details={'was_impossible': False}),\n",
       " Prediction(uid=480, iid=4734, r_ui=1.0, est=3.1144276402448465, details={'was_impossible': False}),\n",
       " Prediction(uid=599, iid=3355, r_ui=1.5, est=2.716194678027852, details={'was_impossible': False}),\n",
       " Prediction(uid=288, iid=32587, r_ui=4.5, est=3.685428908662068, details={'was_impossible': False}),\n",
       " Prediction(uid=182, iid=2991, r_ui=4.0, est=3.582812179128383, details={'was_impossible': False}),\n",
       " Prediction(uid=103, iid=1688, r_ui=4.0, est=3.750762141192276, details={'was_impossible': False}),\n",
       " Prediction(uid=246, iid=8983, r_ui=4.0, est=4.163183528160154, details={'was_impossible': False}),\n",
       " Prediction(uid=305, iid=2324, r_ui=5.0, est=4.581344326368985, details={'was_impossible': False}),\n",
       " Prediction(uid=274, iid=2687, r_ui=3.0, est=3.5488945135500782, details={'was_impossible': False}),\n",
       " Prediction(uid=416, iid=2716, r_ui=2.0, est=2.974662355149437, details={'was_impossible': False}),\n",
       " Prediction(uid=263, iid=3897, r_ui=4.5, est=3.744096672133905, details={'was_impossible': False}),\n",
       " Prediction(uid=17, iid=48394, r_ui=4.5, est=3.9865904569728565, details={'was_impossible': False}),\n",
       " Prediction(uid=177, iid=1923, r_ui=1.0, est=3.7519397310514098, details={'was_impossible': False}),\n",
       " Prediction(uid=246, iid=1196, r_ui=5.0, est=4.4913924966181895, details={'was_impossible': False}),\n",
       " Prediction(uid=606, iid=4673, r_ui=1.0, est=3.4509302643536794, details={'was_impossible': False}),\n",
       " Prediction(uid=140, iid=3257, r_ui=3.0, est=3.0779239631354636, details={'was_impossible': False}),\n",
       " Prediction(uid=368, iid=2001, r_ui=3.0, est=2.6054432185170637, details={'was_impossible': False}),\n",
       " Prediction(uid=166, iid=4306, r_ui=4.5, est=4.150397991275241, details={'was_impossible': False}),\n",
       " Prediction(uid=202, iid=3360, r_ui=4.0, est=3.696300101947104, details={'was_impossible': False}),\n",
       " Prediction(uid=460, iid=4703, r_ui=4.0, est=3.726408742945833, details={'was_impossible': False}),\n",
       " Prediction(uid=605, iid=45722, r_ui=3.0, est=3.1002317830690487, details={'was_impossible': False}),\n",
       " Prediction(uid=282, iid=8665, r_ui=4.0, est=4.190519803932743, details={'was_impossible': False}),\n",
       " Prediction(uid=597, iid=1235, r_ui=5.0, est=4.287754609615927, details={'was_impossible': False}),\n",
       " Prediction(uid=365, iid=149352, r_ui=2.5, est=2.9111295771919234, details={'was_impossible': False}),\n",
       " Prediction(uid=52, iid=65514, r_ui=3.5, est=4.500250307155544, details={'was_impossible': False}),\n",
       " Prediction(uid=219, iid=7438, r_ui=4.0, est=3.648659126938286, details={'was_impossible': False}),\n",
       " Prediction(uid=599, iid=102852, r_ui=3.0, est=2.6214902847972046, details={'was_impossible': False}),\n",
       " Prediction(uid=230, iid=780, r_ui=3.0, est=3.3764980465290018, details={'was_impossible': False}),\n",
       " Prediction(uid=600, iid=54286, r_ui=1.0, est=3.2562910281321296, details={'was_impossible': False}),\n",
       " Prediction(uid=307, iid=2699, r_ui=3.0, est=2.1035379987545966, details={'was_impossible': False}),\n",
       " Prediction(uid=469, iid=527, r_ui=4.0, est=4.313992920775728, details={'was_impossible': False}),\n",
       " Prediction(uid=414, iid=71838, r_ui=2.5, est=3.401620212337937, details={'was_impossible': False}),\n",
       " Prediction(uid=580, iid=26819, r_ui=2.5, est=3.335862196661255, details={'was_impossible': False}),\n",
       " Prediction(uid=219, iid=3671, r_ui=3.5, est=3.865994138255554, details={'was_impossible': False}),\n",
       " Prediction(uid=488, iid=593, r_ui=4.5, est=4.2275720859751935, details={'was_impossible': False}),\n",
       " Prediction(uid=288, iid=1196, r_ui=4.5, est=4.008107324349985, details={'was_impossible': False}),\n",
       " Prediction(uid=68, iid=4823, r_ui=3.0, est=2.985695143607431, details={'was_impossible': False}),\n",
       " Prediction(uid=232, iid=7169, r_ui=2.5, est=3.307740107556, details={'was_impossible': False}),\n",
       " Prediction(uid=322, iid=2502, r_ui=3.5, est=3.612486872224017, details={'was_impossible': False}),\n",
       " Prediction(uid=600, iid=6558, r_ui=3.5, est=2.897544037208554, details={'was_impossible': False}),\n",
       " Prediction(uid=401, iid=5218, r_ui=3.5, est=3.4187044681941243, details={'was_impossible': False}),\n",
       " Prediction(uid=307, iid=34534, r_ui=3.5, est=2.7441417928800895, details={'was_impossible': False}),\n",
       " Prediction(uid=480, iid=1304, r_ui=4.5, est=3.5629615489148305, details={'was_impossible': False}),\n",
       " Prediction(uid=137, iid=1244, r_ui=3.5, est=4.095361012274883, details={'was_impossible': False}),\n",
       " Prediction(uid=555, iid=2858, r_ui=5.0, est=3.9744681983339856, details={'was_impossible': False}),\n",
       " Prediction(uid=509, iid=6365, r_ui=2.5, est=3.237661184289634, details={'was_impossible': False}),\n",
       " Prediction(uid=104, iid=1777, r_ui=3.5, est=3.615706948949539, details={'was_impossible': False}),\n",
       " Prediction(uid=448, iid=1210, r_ui=5.0, est=3.2997638015113075, details={'was_impossible': False}),\n",
       " Prediction(uid=308, iid=2571, r_ui=3.0, est=2.6705276569173004, details={'was_impossible': False}),\n",
       " Prediction(uid=474, iid=45517, r_ui=3.5, est=3.593678249077189, details={'was_impossible': False}),\n",
       " Prediction(uid=562, iid=2379, r_ui=3.5, est=3.3909172405044203, details={'was_impossible': False}),\n",
       " Prediction(uid=416, iid=5952, r_ui=2.5, est=3.1004749212473857, details={'was_impossible': False}),\n",
       " Prediction(uid=125, iid=114935, r_ui=4.0, est=3.799411994916755, details={'was_impossible': False}),\n",
       " Prediction(uid=226, iid=6482, r_ui=2.0, est=2.4762273843420175, details={'was_impossible': False}),\n",
       " Prediction(uid=570, iid=4226, r_ui=4.0, est=3.766533225698867, details={'was_impossible': False}),\n",
       " Prediction(uid=375, iid=1411, r_ui=5.0, est=4.325669386927479, details={'was_impossible': False}),\n",
       " Prediction(uid=249, iid=2716, r_ui=4.0, est=4.0037443565777036, details={'was_impossible': False}),\n",
       " Prediction(uid=91, iid=2302, r_ui=1.0, est=2.852305862253524, details={'was_impossible': False}),\n",
       " Prediction(uid=590, iid=1208, r_ui=4.5, est=4.04153348371281, details={'was_impossible': False}),\n",
       " Prediction(uid=199, iid=8949, r_ui=3.5, est=3.689251528307185, details={'was_impossible': False}),\n",
       " Prediction(uid=387, iid=6552, r_ui=3.5, est=3.196573520637412, details={'was_impossible': False}),\n",
       " Prediction(uid=608, iid=1059, r_ui=3.0, est=3.5554859740618983, details={'was_impossible': False}),\n",
       " Prediction(uid=414, iid=2105, r_ui=3.0, est=3.277464868582385, details={'was_impossible': False}),\n",
       " Prediction(uid=474, iid=356, r_ui=3.0, est=4.031237448580157, details={'was_impossible': False}),\n",
       " Prediction(uid=571, iid=1339, r_ui=4.0, est=2.890474767155469, details={'was_impossible': False}),\n",
       " Prediction(uid=266, iid=135, r_ui=1.0, est=2.705246016992199, details={'was_impossible': False}),\n",
       " Prediction(uid=25, iid=2028, r_ui=5.0, est=4.631551646470221, details={'was_impossible': False}),\n",
       " Prediction(uid=274, iid=3578, r_ui=3.5, est=3.9818799932197013, details={'was_impossible': False}),\n",
       " Prediction(uid=593, iid=539, r_ui=4.0, est=3.0656592189461764, details={'was_impossible': False}),\n",
       " Prediction(uid=47, iid=140715, r_ui=4.0, est=2.9545528669117513, details={'was_impossible': False}),\n",
       " Prediction(uid=387, iid=70, r_ui=3.5, est=3.0270591526541994, details={'was_impossible': False}),\n",
       " Prediction(uid=234, iid=2641, r_ui=3.0, est=3.3708465150833176, details={'was_impossible': False}),\n",
       " Prediction(uid=318, iid=71745, r_ui=4.5, est=3.252050159762273, details={'was_impossible': False}),\n",
       " Prediction(uid=325, iid=3044, r_ui=3.0, est=3.5453871272430133, details={'was_impossible': False}),\n",
       " Prediction(uid=91, iid=464, r_ui=4.0, est=3.0123718433807953, details={'was_impossible': False}),\n",
       " Prediction(uid=292, iid=4306, r_ui=4.0, est=3.7214018563951514, details={'was_impossible': False}),\n",
       " Prediction(uid=419, iid=110, r_ui=4.0, est=4.126165501251666, details={'was_impossible': False}),\n",
       " Prediction(uid=126, iid=589, r_ui=3.0, est=3.5177867173658433, details={'was_impossible': False}),\n",
       " Prediction(uid=122, iid=63113, r_ui=4.5, est=4.5611614590000995, details={'was_impossible': False}),\n",
       " Prediction(uid=497, iid=112556, r_ui=3.5, est=3.198302655584796, details={'was_impossible': False}),\n",
       " Prediction(uid=249, iid=103228, r_ui=4.5, est=3.829174441112304, details={'was_impossible': False}),\n",
       " Prediction(uid=51, iid=1196, r_ui=5.0, est=4.510892736175577, details={'was_impossible': False}),\n",
       " Prediction(uid=19, iid=3308, r_ui=2.0, est=2.605588588801528, details={'was_impossible': False}),\n",
       " Prediction(uid=600, iid=5673, r_ui=3.0, est=3.5951309621806393, details={'was_impossible': False}),\n",
       " Prediction(uid=217, iid=2818, r_ui=1.0, est=2.653912707736252, details={'was_impossible': False}),\n",
       " Prediction(uid=332, iid=1234, r_ui=4.0, est=3.828183515450245, details={'was_impossible': False}),\n",
       " Prediction(uid=143, iid=2683, r_ui=1.0, est=2.7925091051111544, details={'was_impossible': False}),\n",
       " Prediction(uid=361, iid=4993, r_ui=2.5, est=3.269293166601424, details={'was_impossible': False}),\n",
       " Prediction(uid=94, iid=592, r_ui=3.0, est=2.92861655873063, details={'was_impossible': False}),\n",
       " Prediction(uid=596, iid=3755, r_ui=2.5, est=3.04655484385965, details={'was_impossible': False}),\n",
       " Prediction(uid=466, iid=33679, r_ui=4.0, est=3.674297031662553, details={'was_impossible': False}),\n",
       " Prediction(uid=239, iid=1213, r_ui=5.0, est=4.4731569928972625, details={'was_impossible': False}),\n",
       " Prediction(uid=184, iid=106072, r_ui=2.5, est=3.7365310149260917, details={'was_impossible': False}),\n",
       " Prediction(uid=68, iid=30810, r_ui=2.5, est=2.9467879946567783, details={'was_impossible': False}),\n",
       " Prediction(uid=2, iid=106782, r_ui=5.0, est=3.8814782138061954, details={'was_impossible': False}),\n",
       " Prediction(uid=239, iid=48516, r_ui=4.5, est=4.486953491966099, details={'was_impossible': False}),\n",
       " Prediction(uid=606, iid=4289, r_ui=4.0, est=3.5923182851349913, details={'was_impossible': False}),\n",
       " Prediction(uid=600, iid=2405, r_ui=3.5, est=2.740372925660268, details={'was_impossible': False}),\n",
       " Prediction(uid=493, iid=1172, r_ui=1.0, est=4.0399647389452555, details={'was_impossible': False}),\n",
       " Prediction(uid=567, iid=80463, r_ui=3.5, est=2.74211796694326, details={'was_impossible': False}),\n",
       " Prediction(uid=376, iid=6365, r_ui=3.5, est=3.7085114360346276, details={'was_impossible': False}),\n",
       " Prediction(uid=318, iid=70984, r_ui=3.5, est=3.428772628070179, details={'was_impossible': False}),\n",
       " Prediction(uid=135, iid=2020, r_ui=4.0, est=3.9092316033056775, details={'was_impossible': False}),\n",
       " Prediction(uid=400, iid=1270, r_ui=4.0, est=4.431443337896091, details={'was_impossible': False}),\n",
       " Prediction(uid=254, iid=6377, r_ui=4.5, est=4.143086617719323, details={'was_impossible': False}),\n",
       " Prediction(uid=108, iid=2395, r_ui=5.0, est=3.7018164555017887, details={'was_impossible': False}),\n",
       " Prediction(uid=177, iid=1527, r_ui=2.5, est=3.6239022765637063, details={'was_impossible': False}),\n",
       " Prediction(uid=68, iid=49272, r_ui=5.0, est=3.658024753762168, details={'was_impossible': False}),\n",
       " Prediction(uid=33, iid=2501, r_ui=2.0, est=3.89348563510525, details={'was_impossible': False}),\n",
       " Prediction(uid=109, iid=165, r_ui=3.0, est=2.983584921728585, details={'was_impossible': False}),\n",
       " Prediction(uid=93, iid=2617, r_ui=4.0, est=3.7670055596059226, details={'was_impossible': False}),\n",
       " Prediction(uid=597, iid=1227, r_ui=4.0, est=4.494609892373652, details={'was_impossible': False}),\n",
       " Prediction(uid=414, iid=3616, r_ui=2.0, est=3.166963669386163, details={'was_impossible': False}),\n",
       " Prediction(uid=288, iid=4992, r_ui=3.0, est=2.8488654923139007, details={'was_impossible': False}),\n",
       " Prediction(uid=288, iid=1919, r_ui=3.0, est=3.1596769702579044, details={'was_impossible': False}),\n",
       " Prediction(uid=462, iid=6620, r_ui=4.5, est=3.687097967222183, details={'was_impossible': False}),\n",
       " Prediction(uid=599, iid=8012, r_ui=3.0, est=2.809312248894582, details={'was_impossible': False}),\n",
       " Prediction(uid=414, iid=5524, r_ui=3.0, est=2.8403313421007876, details={'was_impossible': False}),\n",
       " Prediction(uid=239, iid=2763, r_ui=4.5, est=4.135447615981733, details={'was_impossible': False}),\n",
       " Prediction(uid=603, iid=3996, r_ui=5.0, est=3.5210619126742246, details={'was_impossible': False}),\n",
       " Prediction(uid=307, iid=1027, r_ui=2.0, est=2.030591974341408, details={'was_impossible': False}),\n",
       " Prediction(uid=535, iid=2570, r_ui=3.0, est=2.4587212650932075, details={'was_impossible': False}),\n",
       " Prediction(uid=52, iid=73017, r_ui=5.0, est=4.563694364241821, details={'was_impossible': False}),\n",
       " Prediction(uid=288, iid=3156, r_ui=3.0, est=2.6142748683481853, details={'was_impossible': False}),\n",
       " Prediction(uid=474, iid=4130, r_ui=1.5, est=3.087299182611595, details={'was_impossible': False}),\n",
       " Prediction(uid=151, iid=885, r_ui=3.0, est=3.6663823147440047, details={'was_impossible': False}),\n",
       " Prediction(uid=274, iid=3285, r_ui=2.0, est=2.9615612785892718, details={'was_impossible': False}),\n",
       " Prediction(uid=20, iid=5507, r_ui=0.5, est=2.865709689185865, details={'was_impossible': False}),\n",
       " Prediction(uid=275, iid=1220, r_ui=4.0, est=3.889002707924374, details={'was_impossible': False}),\n",
       " Prediction(uid=341, iid=1270, r_ui=3.5, est=4.204394021603548, details={'was_impossible': False}),\n",
       " Prediction(uid=265, iid=379, r_ui=4.0, est=2.6049821418225, details={'was_impossible': False}),\n",
       " Prediction(uid=381, iid=26662, r_ui=4.0, est=3.536796833194987, details={'was_impossible': False}),\n",
       " Prediction(uid=184, iid=91529, r_ui=4.0, est=4.070794416315862, details={'was_impossible': False}),\n",
       " Prediction(uid=369, iid=52973, r_ui=4.0, est=3.465436811921645, details={'was_impossible': False}),\n",
       " Prediction(uid=603, iid=199, r_ui=5.0, est=3.3299650080821213, details={'was_impossible': False}),\n",
       " Prediction(uid=387, iid=1251, r_ui=4.5, est=3.3238320634653182, details={'was_impossible': False}),\n",
       " Prediction(uid=428, iid=2890, r_ui=3.5, est=2.8245154847366543, details={'was_impossible': False}),\n",
       " Prediction(uid=561, iid=6754, r_ui=2.5, est=3.309435969943865, details={'was_impossible': False}),\n",
       " Prediction(uid=599, iid=5131, r_ui=2.0, est=2.686420610810678, details={'was_impossible': False}),\n",
       " Prediction(uid=509, iid=53123, r_ui=3.5, est=3.5864491080148677, details={'was_impossible': False}),\n",
       " Prediction(uid=372, iid=293, r_ui=4.0, est=4.022706366345248, details={'was_impossible': False}),\n",
       " Prediction(uid=514, iid=1278, r_ui=4.0, est=3.916031650929134, details={'was_impossible': False}),\n",
       " Prediction(uid=156, iid=2000, r_ui=3.0, est=3.6606634493467927, details={'was_impossible': False}),\n",
       " Prediction(uid=428, iid=2770, r_ui=3.5, est=2.0759248220191493, details={'was_impossible': False}),\n",
       " Prediction(uid=608, iid=533, r_ui=3.5, est=2.9797727567233796, details={'was_impossible': False}),\n",
       " Prediction(uid=327, iid=2805, r_ui=3.5, est=3.5336090829166755, details={'was_impossible': False}),\n",
       " Prediction(uid=68, iid=33794, r_ui=2.5, est=3.775316311796185, details={'was_impossible': False}),\n",
       " Prediction(uid=314, iid=349, r_ui=3.0, est=3.0890987047019602, details={'was_impossible': False}),\n",
       " Prediction(uid=239, iid=2571, r_ui=5.0, est=4.378068486121055, details={'was_impossible': False}),\n",
       " Prediction(uid=590, iid=3035, r_ui=4.0, est=3.4080130383382614, details={'was_impossible': False}),\n",
       " Prediction(uid=27, iid=2142, r_ui=3.0, est=3.1783570052361125, details={'was_impossible': False}),\n",
       " Prediction(uid=474, iid=4321, r_ui=3.0, est=3.369157935531955, details={'was_impossible': False}),\n",
       " Prediction(uid=122, iid=39183, r_ui=5.0, est=4.366017677320604, details={'was_impossible': False}),\n",
       " Prediction(uid=592, iid=240, r_ui=2.0, est=3.747877530918797, details={'was_impossible': False}),\n",
       " Prediction(uid=414, iid=6884, r_ui=2.5, est=3.4845333716283515, details={'was_impossible': False}),\n",
       " Prediction(uid=307, iid=3882, r_ui=0.5, est=2.1246635395761486, details={'was_impossible': False}),\n",
       " Prediction(uid=522, iid=48516, r_ui=5.0, est=3.964647330607472, details={'was_impossible': False}),\n",
       " Prediction(uid=599, iid=44731, r_ui=0.5, est=2.4756583443574134, details={'was_impossible': False}),\n",
       " Prediction(uid=414, iid=588, r_ui=4.0, est=3.7281357672513478, details={'was_impossible': False}),\n",
       " Prediction(uid=306, iid=2762, r_ui=3.0, est=3.3973470834513524, details={'was_impossible': False}),\n",
       " Prediction(uid=125, iid=8665, r_ui=3.0, est=3.878325033554365, details={'was_impossible': False}),\n",
       " Prediction(uid=128, iid=1136, r_ui=4.0, est=4.359293658561349, details={'was_impossible': False}),\n",
       " Prediction(uid=274, iid=4158, r_ui=2.0, est=3.0044833865125438, details={'was_impossible': False}),\n",
       " Prediction(uid=301, iid=292, r_ui=2.5, est=3.2587184928339976, details={'was_impossible': False}),\n",
       " Prediction(uid=165, iid=2019, r_ui=4.0, est=4.0142131702565536, details={'was_impossible': False}),\n",
       " Prediction(uid=580, iid=924, r_ui=3.5, est=4.0890990419692805, details={'was_impossible': False}),\n",
       " Prediction(uid=183, iid=2534, r_ui=4.0, est=3.502864184000838, details={'was_impossible': False}),\n",
       " Prediction(uid=245, iid=2739, r_ui=3.0, est=2.904392578522777, details={'was_impossible': False}),\n",
       " Prediction(uid=312, iid=5991, r_ui=4.0, est=4.086105128283171, details={'was_impossible': False}),\n",
       " Prediction(uid=318, iid=55363, r_ui=3.5, est=3.9870325368542083, details={'was_impossible': False}),\n",
       " Prediction(uid=249, iid=31696, r_ui=4.0, est=3.40859590143262, details={'was_impossible': False}),\n",
       " Prediction(uid=606, iid=541, r_ui=5.0, est=3.9732402930788666, details={'was_impossible': False}),\n",
       " Prediction(uid=414, iid=68073, r_ui=3.5, est=3.292980751463524, details={'was_impossible': False}),\n",
       " Prediction(uid=600, iid=317, r_ui=0.5, est=3.0366882137633064, details={'was_impossible': False}),\n",
       " Prediction(uid=12, iid=222, r_ui=5.0, est=4.530896508475098, details={'was_impossible': False}),\n",
       " Prediction(uid=307, iid=58559, r_ui=4.5, est=3.9545103046104266, details={'was_impossible': False}),\n",
       " Prediction(uid=182, iid=1917, r_ui=0.5, est=2.932862982306497, details={'was_impossible': False}),\n",
       " Prediction(uid=594, iid=1616, r_ui=4.5, est=3.5142191714644637, details={'was_impossible': False}),\n",
       " Prediction(uid=511, iid=115713, r_ui=4.5, est=4.055400226608964, details={'was_impossible': False}),\n",
       " Prediction(uid=573, iid=2916, r_ui=4.5, est=4.1968127965642745, details={'was_impossible': False}),\n",
       " Prediction(uid=305, iid=2268, r_ui=5.0, est=3.9569996588113776, details={'was_impossible': False}),\n",
       " Prediction(uid=292, iid=32, r_ui=2.0, est=3.666014218882116, details={'was_impossible': False}),\n",
       " Prediction(uid=401, iid=72737, r_ui=3.5, est=3.3373582475079653, details={'was_impossible': False}),\n",
       " Prediction(uid=469, iid=1320, r_ui=3.0, est=3.2473020186619808, details={'was_impossible': False}),\n",
       " Prediction(uid=420, iid=5349, r_ui=3.5, est=3.737419038795804, details={'was_impossible': False}),\n",
       " Prediction(uid=144, iid=2706, r_ui=4.0, est=3.4508782519901335, details={'was_impossible': False}),\n",
       " Prediction(uid=275, iid=2575, r_ui=5.0, est=3.998073900776271, details={'was_impossible': False}),\n",
       " Prediction(uid=438, iid=5678, r_ui=3.0, est=3.3322605902112263, details={'was_impossible': False}),\n",
       " Prediction(uid=541, iid=491, r_ui=3.0, est=3.3301660729188387, details={'was_impossible': False}),\n",
       " Prediction(uid=48, iid=5882, r_ui=4.0, est=3.878812323350296, details={'was_impossible': False}),\n",
       " Prediction(uid=410, iid=3978, r_ui=2.0, est=3.8985126462514677, details={'was_impossible': False}),\n",
       " Prediction(uid=610, iid=115727, r_ui=5.0, est=3.5950286170813084, details={'was_impossible': False}),\n",
       " Prediction(uid=111, iid=121374, r_ui=4.5, est=3.2868773613473556, details={'was_impossible': False}),\n",
       " Prediction(uid=86, iid=480, r_ui=3.0, est=3.722894082463041, details={'was_impossible': False}),\n",
       " Prediction(uid=42, iid=2628, r_ui=3.0, est=3.083894377108995, details={'was_impossible': False}),\n",
       " Prediction(uid=42, iid=1831, r_ui=2.0, est=2.9705711072756893, details={'was_impossible': False}),\n",
       " Prediction(uid=414, iid=6881, r_ui=3.5, est=3.203736965969692, details={'was_impossible': False}),\n",
       " Prediction(uid=381, iid=2273, r_ui=4.0, est=3.040423763062378, details={'was_impossible': False}),\n",
       " Prediction(uid=39, iid=2599, r_ui=5.0, est=3.6460883610675237, details={'was_impossible': False}),\n",
       " Prediction(uid=279, iid=589, r_ui=4.0, est=4.030218285233928, details={'was_impossible': False}),\n",
       " Prediction(uid=318, iid=44199, r_ui=4.0, est=3.954682259109756, details={'was_impossible': False}),\n",
       " Prediction(uid=274, iid=47997, r_ui=3.5, est=3.3419991160734903, details={'was_impossible': False}),\n",
       " Prediction(uid=20, iid=1073, r_ui=5.0, est=4.552255684120816, details={'was_impossible': False}),\n",
       " Prediction(uid=498, iid=585, r_ui=4.0, est=3.2060529933553155, details={'was_impossible': False}),\n",
       " Prediction(uid=51, iid=260, r_ui=5.0, est=4.391894719242575, details={'was_impossible': False}),\n",
       " Prediction(uid=182, iid=1784, r_ui=4.5, est=3.8507820188929096, details={'was_impossible': False}),\n",
       " Prediction(uid=91, iid=541, r_ui=5.0, est=4.080814975502303, details={'was_impossible': False}),\n",
       " Prediction(uid=332, iid=5226, r_ui=2.5, est=3.3009504251147668, details={'was_impossible': False}),\n",
       " Prediction(uid=610, iid=141400, r_ui=4.0, est=3.5950286170813084, details={'was_impossible': False}),\n",
       " Prediction(uid=573, iid=4102, r_ui=5.0, est=3.999700992259721, details={'was_impossible': False}),\n",
       " Prediction(uid=599, iid=34323, r_ui=2.5, est=2.798407585565933, details={'was_impossible': False}),\n",
       " Prediction(uid=307, iid=5784, r_ui=0.5, est=2.6843600705185544, details={'was_impossible': False}),\n",
       " Prediction(uid=551, iid=118696, r_ui=1.0, est=3.376002756475161, details={'was_impossible': False}),\n",
       " Prediction(uid=414, iid=357, r_ui=4.0, est=3.0306766950441872, details={'was_impossible': False}),\n",
       " Prediction(uid=495, iid=4963, r_ui=5.0, est=4.182313758432899, details={'was_impossible': False}),\n",
       " Prediction(uid=584, iid=410, r_ui=3.0, est=3.7154095642997254, details={'was_impossible': False}),\n",
       " Prediction(uid=606, iid=508, r_ui=3.5, est=3.950064830764032, details={'was_impossible': False}),\n",
       " Prediction(uid=72, iid=356, r_ui=4.0, est=4.501771942716998, details={'was_impossible': False}),\n",
       " Prediction(uid=177, iid=79091, r_ui=4.0, est=3.7109110519876665, details={'was_impossible': False}),\n",
       " Prediction(uid=414, iid=6093, r_ui=4.5, est=3.4512824449091384, details={'was_impossible': False}),\n",
       " Prediction(uid=288, iid=2966, r_ui=3.5, est=3.2956944284032805, details={'was_impossible': False}),\n",
       " Prediction(uid=525, iid=4896, r_ui=3.0, est=3.9061542439581993, details={'was_impossible': False}),\n",
       " Prediction(uid=610, iid=158721, r_ui=3.5, est=3.5950286170813084, details={'was_impossible': False}),\n",
       " Prediction(uid=68, iid=2640, r_ui=3.5, est=3.156904532290739, details={'was_impossible': False}),\n",
       " Prediction(uid=469, iid=1958, r_ui=3.0, est=3.595811811547806, details={'was_impossible': False}),\n",
       " Prediction(uid=339, iid=53000, r_ui=4.5, est=3.750111761147782, details={'was_impossible': False}),\n",
       " Prediction(uid=249, iid=54503, r_ui=4.5, est=4.175193027157029, details={'was_impossible': False}),\n",
       " Prediction(uid=429, iid=274, r_ui=4.0, est=3.9325703130904266, details={'was_impossible': False}),\n",
       " Prediction(uid=477, iid=63131, r_ui=4.0, est=3.3723756710462567, details={'was_impossible': False}),\n",
       " Prediction(uid=104, iid=1246, r_ui=4.0, est=3.950264899187066, details={'was_impossible': False}),\n",
       " Prediction(uid=121, iid=432, r_ui=2.0, est=2.580885884612753, details={'was_impossible': False}),\n",
       " Prediction(uid=334, iid=64957, r_ui=3.5, est=3.286685553537337, details={'was_impossible': False}),\n",
       " Prediction(uid=178, iid=837, r_ui=3.5, est=3.3856943607889125, details={'was_impossible': False}),\n",
       " Prediction(uid=313, iid=1345, r_ui=4.0, est=3.3165661180203445, details={'was_impossible': False}),\n",
       " Prediction(uid=414, iid=551, r_ui=4.0, est=3.553616485254161, details={'was_impossible': False}),\n",
       " Prediction(uid=68, iid=3168, r_ui=2.5, est=3.387320568202691, details={'was_impossible': False}),\n",
       " Prediction(uid=254, iid=4973, r_ui=4.5, est=4.274164695287451, details={'was_impossible': False}),\n",
       " Prediction(uid=329, iid=1080, r_ui=0.5, est=3.448588330167012, details={'was_impossible': False}),\n",
       " Prediction(uid=538, iid=44889, r_ui=4.5, est=4.427383338247694, details={'was_impossible': False}),\n",
       " Prediction(uid=480, iid=4890, r_ui=3.5, est=2.921074486181793, details={'was_impossible': False}),\n",
       " Prediction(uid=602, iid=494, r_ui=4.0, est=3.3689584983612835, details={'was_impossible': False}),\n",
       " Prediction(uid=249, iid=6564, r_ui=3.0, est=3.176982512014428, details={'was_impossible': False}),\n",
       " Prediction(uid=28, iid=1200, r_ui=4.0, est=3.4126861983073082, details={'was_impossible': False}),\n",
       " Prediction(uid=58, iid=357, r_ui=3.0, est=3.729822277029852, details={'was_impossible': False}),\n",
       " Prediction(uid=387, iid=37736, r_ui=3.5, est=2.8829918366642326, details={'was_impossible': False}),\n",
       " Prediction(uid=534, iid=2762, r_ui=4.0, est=4.290069098589078, details={'was_impossible': False}),\n",
       " Prediction(uid=89, iid=97225, r_ui=5.0, est=3.2991292499268345, details={'was_impossible': False}),\n",
       " Prediction(uid=249, iid=92008, r_ui=3.0, est=3.7655873894098146, details={'was_impossible': False}),\n",
       " Prediction(uid=469, iid=1234, r_ui=4.0, est=3.883986401650398, details={'was_impossible': False}),\n",
       " Prediction(uid=294, iid=2968, r_ui=4.0, est=2.6404362845523117, details={'was_impossible': False}),\n",
       " Prediction(uid=121, iid=6, r_ui=5.0, est=3.601311206091201, details={'was_impossible': False}),\n",
       " Prediction(uid=213, iid=1, r_ui=3.5, est=4.16212905159251, details={'was_impossible': False}),\n",
       " Prediction(uid=226, iid=543, r_ui=4.0, est=3.371020896658181, details={'was_impossible': False}),\n",
       " Prediction(uid=174, iid=440, r_ui=4.0, est=3.4923003706060975, details={'was_impossible': False}),\n",
       " Prediction(uid=117, iid=161, r_ui=3.0, est=3.561504753177867, details={'was_impossible': False}),\n",
       " Prediction(uid=309, iid=30707, r_ui=4.0, est=4.039636034703983, details={'was_impossible': False}),\n",
       " Prediction(uid=216, iid=3481, r_ui=5.0, est=3.63846795472129, details={'was_impossible': False}),\n",
       " Prediction(uid=486, iid=32, r_ui=5.0, est=4.322963451379868, details={'was_impossible': False}),\n",
       " Prediction(uid=137, iid=541, r_ui=5.0, est=4.167595695298646, details={'was_impossible': False}),\n",
       " Prediction(uid=232, iid=33166, r_ui=4.5, est=3.4539814526844843, details={'was_impossible': False}),\n",
       " Prediction(uid=318, iid=134019, r_ui=3.5, est=3.6143006429762656, details={'was_impossible': False}),\n",
       " Prediction(uid=562, iid=3727, r_ui=4.0, est=4.268402877938733, details={'was_impossible': False}),\n",
       " Prediction(uid=202, iid=1196, r_ui=5.0, est=4.338679284607733, details={'was_impossible': False}),\n",
       " Prediction(uid=63, iid=1704, r_ui=3.5, est=3.9354030134940485, details={'was_impossible': False}),\n",
       " Prediction(uid=253, iid=1212, r_ui=4.5, est=4.453483228930436, details={'was_impossible': False}),\n",
       " Prediction(uid=139, iid=7147, r_ui=1.5, est=2.4307194467017115, details={'was_impossible': False}),\n",
       " Prediction(uid=126, iid=165, r_ui=4.0, est=3.2104678621973672, details={'was_impossible': False}),\n",
       " Prediction(uid=150, iid=3, r_ui=3.0, est=3.4042654806862367, details={'was_impossible': False}),\n",
       " Prediction(uid=312, iid=1224, r_ui=4.0, est=3.670887779235297, details={'was_impossible': False}),\n",
       " Prediction(uid=546, iid=2532, r_ui=2.0, est=3.111909417072864, details={'was_impossible': False}),\n",
       " Prediction(uid=555, iid=3584, r_ui=1.0, est=3.2398822152211606, details={'was_impossible': False}),\n",
       " Prediction(uid=339, iid=4973, r_ui=5.0, est=4.604138268859972, details={'was_impossible': False}),\n",
       " Prediction(uid=489, iid=68954, r_ui=4.5, est=3.3227744543771225, details={'was_impossible': False}),\n",
       " Prediction(uid=367, iid=3743, r_ui=3.0, est=3.665468445444607, details={'was_impossible': False}),\n",
       " Prediction(uid=477, iid=78746, r_ui=4.0, est=3.5790467451020693, details={'was_impossible': False}),\n",
       " Prediction(uid=465, iid=1214, r_ui=5.0, est=4.338960769264198, details={'was_impossible': False}),\n",
       " Prediction(uid=292, iid=2918, r_ui=3.0, est=3.6182796122675542, details={'was_impossible': False}),\n",
       " Prediction(uid=135, iid=4396, r_ui=3.0, est=3.428066965246487, details={'was_impossible': False}),\n",
       " Prediction(uid=68, iid=1515, r_ui=3.0, est=2.5651716750459648, details={'was_impossible': False}),\n",
       " Prediction(uid=40, iid=351, r_ui=4.0, est=3.791853747127136, details={'was_impossible': False}),\n",
       " Prediction(uid=153, iid=7361, r_ui=5.0, est=2.4875687468811876, details={'was_impossible': False}),\n",
       " Prediction(uid=342, iid=2959, r_ui=4.0, est=3.787683156514121, details={'was_impossible': False}),\n",
       " Prediction(uid=448, iid=4816, r_ui=3.0, est=3.2377817022849764, details={'was_impossible': False}),\n",
       " Prediction(uid=463, iid=552, r_ui=3.5, est=3.692311699007538, details={'was_impossible': False}),\n",
       " Prediction(uid=239, iid=364, r_ui=4.0, est=4.362421866616419, details={'was_impossible': False}),\n",
       " Prediction(uid=560, iid=3354, r_ui=3.5, est=2.758578022443207, details={'was_impossible': False}),\n",
       " Prediction(uid=391, iid=4979, r_ui=2.0, est=4.065446757139208, details={'was_impossible': False}),\n",
       " Prediction(uid=384, iid=457, r_ui=4.0, est=3.871338056499232, details={'was_impossible': False}),\n",
       " Prediction(uid=471, iid=79702, r_ui=5.0, est=3.5218398978511676, details={'was_impossible': False}),\n",
       " Prediction(uid=42, iid=4155, r_ui=3.0, est=3.644525304339771, details={'was_impossible': False}),\n",
       " Prediction(uid=168, iid=85881, r_ui=4.5, est=4.195386325364377, details={'was_impossible': False}),\n",
       " Prediction(uid=152, iid=904, r_ui=4.0, est=4.399859642050586, details={'was_impossible': False}),\n",
       " Prediction(uid=495, iid=8984, r_ui=4.5, est=3.5846994586611087, details={'was_impossible': False}),\n",
       " Prediction(uid=477, iid=1214, r_ui=4.5, est=4.049978422014536, details={'was_impossible': False}),\n",
       " Prediction(uid=599, iid=2836, r_ui=2.0, est=2.754953076760043, details={'was_impossible': False}),\n",
       " Prediction(uid=610, iid=110553, r_ui=2.0, est=3.0189427898732175, details={'was_impossible': False}),\n",
       " Prediction(uid=22, iid=3949, r_ui=0.5, est=2.3599900443523425, details={'was_impossible': False}),\n",
       " Prediction(uid=275, iid=4993, r_ui=4.0, est=4.085421769598463, details={'was_impossible': False}),\n",
       " Prediction(uid=599, iid=1243, r_ui=3.0, est=2.7995229103515524, details={'was_impossible': False}),\n",
       " Prediction(uid=28, iid=64614, r_ui=4.0, est=3.2651095488670756, details={'was_impossible': False}),\n",
       " Prediction(uid=111, iid=104218, r_ui=4.5, est=3.1039179168005355, details={'was_impossible': False}),\n",
       " Prediction(uid=348, iid=58559, r_ui=4.5, est=4.884714276886903, details={'was_impossible': False}),\n",
       " Prediction(uid=488, iid=3061, r_ui=4.0, est=4.1480807403727775, details={'was_impossible': False}),\n",
       " Prediction(uid=561, iid=1252, r_ui=4.5, est=4.077297949782434, details={'was_impossible': False}),\n",
       " Prediction(uid=233, iid=1884, r_ui=3.0, est=3.373561695364677, details={'was_impossible': False}),\n",
       " Prediction(uid=32, iid=1198, r_ui=5.0, est=4.414143741508755, details={'was_impossible': False}),\n",
       " Prediction(uid=564, iid=106782, r_ui=3.0, est=4.035645521158289, details={'was_impossible': False}),\n",
       " Prediction(uid=274, iid=32011, r_ui=2.0, est=2.8970477796693253, details={'was_impossible': False}),\n",
       " Prediction(uid=51, iid=1024, r_ui=4.0, est=3.667868257032917, details={'was_impossible': False}),\n",
       " Prediction(uid=199, iid=2174, r_ui=2.5, est=3.505444091109657, details={'was_impossible': False}),\n",
       " Prediction(uid=483, iid=2, r_ui=4.0, est=3.3969740554834678, details={'was_impossible': False}),\n",
       " Prediction(uid=599, iid=5810, r_ui=2.5, est=2.4830296456907255, details={'was_impossible': False}),\n",
       " Prediction(uid=391, iid=1219, r_ui=5.0, est=4.039393324877546, details={'was_impossible': False}),\n",
       " Prediction(uid=318, iid=8724, r_ui=4.5, est=3.641317174380354, details={'was_impossible': False}),\n",
       " Prediction(uid=318, iid=48638, r_ui=3.5, est=3.6143006429762656, details={'was_impossible': False}),\n",
       " Prediction(uid=301, iid=4995, r_ui=4.5, est=3.7960280018079646, details={'was_impossible': False}),\n",
       " Prediction(uid=89, iid=3462, r_ui=1.0, est=3.5256029440853442, details={'was_impossible': False}),\n",
       " Prediction(uid=64, iid=350, r_ui=3.5, est=3.485877697591749, details={'was_impossible': False}),\n",
       " Prediction(uid=275, iid=3994, r_ui=2.0, est=4.068770182030053, details={'was_impossible': False}),\n",
       " Prediction(uid=414, iid=54004, r_ui=2.5, est=3.462842843143676, details={'was_impossible': False}),\n",
       " Prediction(uid=6, iid=231, r_ui=3.0, est=2.9504217923115825, details={'was_impossible': False}),\n",
       " Prediction(uid=610, iid=87232, r_ui=4.0, est=4.143136421531548, details={'was_impossible': False}),\n",
       " Prediction(uid=412, iid=1797, r_ui=5.0, est=3.9207380520245074, details={'was_impossible': False}),\n",
       " Prediction(uid=307, iid=4104, r_ui=1.5, est=1.9727955255123437, details={'was_impossible': False}),\n",
       " Prediction(uid=307, iid=32019, r_ui=2.0, est=2.1816934115932103, details={'was_impossible': False}),\n",
       " Prediction(uid=318, iid=4369, r_ui=2.5, est=3.33881111062255, details={'was_impossible': False}),\n",
       " Prediction(uid=160, iid=76, r_ui=4.0, est=2.7630567246169644, details={'was_impossible': False}),\n",
       " Prediction(uid=599, iid=82461, r_ui=3.5, est=2.3135587938617177, details={'was_impossible': False}),\n",
       " Prediction(uid=141, iid=109487, r_ui=5.0, est=3.6831106030741076, details={'was_impossible': False}),\n",
       " Prediction(uid=597, iid=357, r_ui=5.0, est=3.876048435879979, details={'was_impossible': False}),\n",
       " Prediction(uid=244, iid=110, r_ui=5.0, est=4.0455191778558754, details={'was_impossible': False}),\n",
       " Prediction(uid=428, iid=3623, r_ui=1.0, est=1.6454220116822833, details={'was_impossible': False}),\n",
       " Prediction(uid=266, iid=2355, r_ui=3.0, est=3.7191436032487877, details={'was_impossible': False}),\n",
       " Prediction(uid=304, iid=440, r_ui=5.0, est=3.5516947349315067, details={'was_impossible': False}),\n",
       " Prediction(uid=487, iid=593, r_ui=2.5, est=3.42374141480629, details={'was_impossible': False}),\n",
       " Prediction(uid=222, iid=104303, r_ui=1.5, est=2.9313038931933186, details={'was_impossible': False}),\n",
       " Prediction(uid=282, iid=8622, r_ui=4.5, est=3.7146907486424077, details={'was_impossible': False}),\n",
       " Prediction(uid=527, iid=4016, r_ui=5.0, est=4.186550640937814, details={'was_impossible': False}),\n",
       " Prediction(uid=567, iid=164909, r_ui=3.0, est=2.484248419618477, details={'was_impossible': False}),\n",
       " Prediction(uid=107, iid=410, r_ui=3.0, est=3.7191383706761347, details={'was_impossible': False}),\n",
       " Prediction(uid=327, iid=2046, r_ui=3.5, est=3.690377485206631, details={'was_impossible': False}),\n",
       " Prediction(uid=290, iid=2948, r_ui=4.0, est=4.2687860685459205, details={'was_impossible': False}),\n",
       " Prediction(uid=439, iid=1291, r_ui=3.0, est=4.2635295426629956, details={'was_impossible': False}),\n",
       " Prediction(uid=480, iid=6615, r_ui=2.0, est=2.2068192972321357, details={'was_impossible': False}),\n",
       " Prediction(uid=600, iid=1342, r_ui=2.5, est=2.624659077276346, details={'was_impossible': False}),\n",
       " Prediction(uid=486, iid=480, r_ui=5.0, est=4.34510940846484, details={'was_impossible': False}),\n",
       " Prediction(uid=6, iid=508, r_ui=4.0, est=3.773469606233652, details={'was_impossible': False}),\n",
       " Prediction(uid=418, iid=106766, r_ui=4.5, est=3.475076738067254, details={'was_impossible': False}),\n",
       " Prediction(uid=215, iid=223, r_ui=3.5, est=4.250039190912901, details={'was_impossible': False}),\n",
       " Prediction(uid=474, iid=3994, r_ui=4.5, est=3.5546239865648412, details={'was_impossible': False}),\n",
       " Prediction(uid=414, iid=3693, r_ui=3.0, est=2.7595199645008694, details={'was_impossible': False}),\n",
       " Prediction(uid=298, iid=106489, r_ui=3.5, est=2.047004990434217, details={'was_impossible': False}),\n",
       " Prediction(uid=201, iid=46, r_ui=1.0, est=3.8508840600000998, details={'was_impossible': False}),\n",
       " Prediction(uid=410, iid=3362, r_ui=4.0, est=4.068931289747922, details={'was_impossible': False}),\n",
       " Prediction(uid=187, iid=1466, r_ui=4.0, est=4.163553421944768, details={'was_impossible': False}),\n",
       " Prediction(uid=555, iid=968, r_ui=3.0, est=3.721963448711254, details={'was_impossible': False}),\n",
       " Prediction(uid=202, iid=1586, r_ui=3.0, est=3.265071640564516, details={'was_impossible': False}),\n",
       " Prediction(uid=608, iid=858, r_ui=5.0, est=3.464907594492472, details={'was_impossible': False}),\n",
       " Prediction(uid=605, iid=2052, r_ui=3.0, est=2.693382263450139, details={'was_impossible': False}),\n",
       " Prediction(uid=10, iid=4993, r_ui=4.0, est=3.4017057429277573, details={'was_impossible': False}),\n",
       " Prediction(uid=330, iid=235, r_ui=1.5, est=3.633855947517193, details={'was_impossible': False}),\n",
       " Prediction(uid=453, iid=3240, r_ui=4.0, est=3.7655939193959975, details={'was_impossible': False}),\n",
       " Prediction(uid=548, iid=733, r_ui=5.0, est=3.879954077812317, details={'was_impossible': False}),\n",
       " Prediction(uid=359, iid=1240, r_ui=2.5, est=3.556760386021217, details={'was_impossible': False}),\n",
       " Prediction(uid=51, iid=1257, r_ui=4.5, est=4.4977458887900825, details={'was_impossible': False}),\n",
       " Prediction(uid=474, iid=364, r_ui=4.5, est=3.8063820801305197, details={'was_impossible': False}),\n",
       " Prediction(uid=600, iid=5679, r_ui=3.5, est=2.930130735306645, details={'was_impossible': False}),\n",
       " Prediction(uid=34, iid=3793, r_ui=5.0, est=3.6183291447828827, details={'was_impossible': False}),\n",
       " Prediction(uid=105, iid=3735, r_ui=4.0, est=4.253026289115369, details={'was_impossible': False}),\n",
       " Prediction(uid=7, iid=2628, r_ui=1.5, est=3.115713548338271, details={'was_impossible': False}),\n",
       " Prediction(uid=385, iid=1035, r_ui=3.0, est=3.5251012741639687, details={'was_impossible': False}),\n",
       " Prediction(uid=288, iid=2020, r_ui=4.0, est=3.778618299251742, details={'was_impossible': False}),\n",
       " Prediction(uid=275, iid=5034, r_ui=2.0, est=4.0115308591864896, details={'was_impossible': False}),\n",
       " Prediction(uid=84, iid=691, r_ui=3.0, est=3.6047679193963744, details={'was_impossible': False}),\n",
       " Prediction(uid=350, iid=95, r_ui=3.0, est=3.1368265684059775, details={'was_impossible': False}),\n",
       " Prediction(uid=399, iid=2762, r_ui=4.5, est=3.985898884014742, details={'was_impossible': False}),\n",
       " Prediction(uid=275, iid=3418, r_ui=5.0, est=4.244760132265501, details={'was_impossible': False}),\n",
       " Prediction(uid=420, iid=56251, r_ui=4.0, est=3.647871393831028, details={'was_impossible': False}),\n",
       " Prediction(uid=184, iid=108932, r_ui=5.0, est=3.79258357407723, details={'was_impossible': False}),\n",
       " Prediction(uid=68, iid=89774, r_ui=3.0, est=3.4637248055287486, details={'was_impossible': False}),\n",
       " Prediction(uid=357, iid=2700, r_ui=4.5, est=3.8836588707757, details={'was_impossible': False}),\n",
       " Prediction(uid=42, iid=2100, r_ui=4.0, est=3.316035194384554, details={'was_impossible': False}),\n",
       " Prediction(uid=186, iid=2699, r_ui=3.0, est=3.450044180855483, details={'was_impossible': False}),\n",
       " Prediction(uid=217, iid=2991, r_ui=3.0, est=2.830263605592995, details={'was_impossible': False}),\n",
       " Prediction(uid=599, iid=4848, r_ui=4.5, est=3.181596315900849, details={'was_impossible': False}),\n",
       " Prediction(uid=531, iid=919, r_ui=3.0, est=3.7365681985259815, details={'was_impossible': False}),\n",
       " Prediction(uid=542, iid=33004, r_ui=4.0, est=4.02764098748811, details={'was_impossible': False}),\n",
       " Prediction(uid=199, iid=6, r_ui=4.0, est=3.6452798376177866, details={'was_impossible': False}),\n",
       " Prediction(uid=230, iid=590, r_ui=2.5, est=3.280127287043268, details={'was_impossible': False}),\n",
       " Prediction(uid=25, iid=4993, r_ui=5.0, est=4.880752246505144, details={'was_impossible': False}),\n",
       " Prediction(uid=410, iid=3067, r_ui=4.0, est=3.9682422974729787, details={'was_impossible': False}),\n",
       " Prediction(uid=182, iid=3950, r_ui=4.5, est=3.6100585920815527, details={'was_impossible': False}),\n",
       " Prediction(uid=135, iid=1230, r_ui=4.0, est=4.55005872197002, details={'was_impossible': False}),\n",
       " Prediction(uid=480, iid=1641, r_ui=2.5, est=3.6965460352387742, details={'was_impossible': False}),\n",
       " Prediction(uid=232, iid=69844, r_ui=3.5, est=3.447169984327777, details={'was_impossible': False}),\n",
       " Prediction(uid=414, iid=63082, r_ui=4.0, est=3.6034153911171893, details={'was_impossible': False}),\n",
       " Prediction(uid=104, iid=4306, r_ui=4.5, est=3.8809540357097743, details={'was_impossible': False}),\n",
       " Prediction(uid=180, iid=1198, r_ui=4.0, est=3.9553318971705904, details={'was_impossible': False}),\n",
       " Prediction(uid=141, iid=3489, r_ui=4.0, est=3.2400156949491943, details={'was_impossible': False}),\n",
       " Prediction(uid=600, iid=4890, r_ui=3.0, est=2.4322670442513714, details={'was_impossible': False}),\n",
       " Prediction(uid=555, iid=1883, r_ui=1.0, est=3.4888217247327553, details={'was_impossible': False}),\n",
       " Prediction(uid=410, iid=3006, r_ui=4.0, est=4.018184254667781, details={'was_impossible': False}),\n",
       " Prediction(uid=490, iid=215, r_ui=4.0, est=3.520434387567929, details={'was_impossible': False}),\n",
       " Prediction(uid=528, iid=1, r_ui=2.5, est=3.355071836980231, details={'was_impossible': False}),\n",
       " Prediction(uid=213, iid=53972, r_ui=4.0, est=3.635553809338625, details={'was_impossible': False}),\n",
       " Prediction(uid=469, iid=1288, r_ui=4.0, est=4.1583546954124095, details={'was_impossible': False}),\n",
       " Prediction(uid=474, iid=3983, r_ui=4.5, est=3.455905371514143, details={'was_impossible': False}),\n",
       " Prediction(uid=222, iid=68157, r_ui=4.5, est=3.330582002068166, details={'was_impossible': False}),\n",
       " Prediction(uid=600, iid=4069, r_ui=2.5, est=2.351520283411282, details={'was_impossible': False}),\n",
       " Prediction(uid=18, iid=36, r_ui=4.0, est=3.805230176581322, details={'was_impossible': False}),\n",
       " Prediction(uid=249, iid=37380, r_ui=3.0, est=2.9511799228067064, details={'was_impossible': False}),\n",
       " Prediction(uid=414, iid=68159, r_ui=4.0, est=3.3593534194494694, details={'was_impossible': False}),\n",
       " Prediction(uid=346, iid=5878, r_ui=4.5, est=3.685591633557006, details={'was_impossible': False}),\n",
       " Prediction(uid=88, iid=4993, r_ui=5.0, est=4.550124321997469, details={'was_impossible': False}),\n",
       " Prediction(uid=222, iid=33794, r_ui=3.5, est=3.3316185486010466, details={'was_impossible': False}),\n",
       " Prediction(uid=551, iid=4085, r_ui=4.0, est=3.5788664103544567, details={'was_impossible': False}),\n",
       " Prediction(uid=474, iid=46723, r_ui=3.5, est=2.9641109434780475, details={'was_impossible': False}),\n",
       " Prediction(uid=603, iid=1289, r_ui=4.0, est=3.1541437131579393, details={'was_impossible': False}),\n",
       " Prediction(uid=160, iid=2997, r_ui=5.0, est=3.474163291550137, details={'was_impossible': False}),\n",
       " Prediction(uid=603, iid=6, r_ui=4.0, est=3.6203476688126948, details={'was_impossible': False}),\n",
       " Prediction(uid=598, iid=46578, r_ui=5.0, est=3.886133355659437, details={'was_impossible': False}),\n",
       " Prediction(uid=380, iid=3635, r_ui=5.0, est=3.4946069832127717, details={'was_impossible': False}),\n",
       " Prediction(uid=68, iid=1688, r_ui=3.0, est=3.2244889804222088, details={'was_impossible': False}),\n",
       " Prediction(uid=296, iid=318, r_ui=5.0, est=4.640757957135251, details={'was_impossible': False}),\n",
       " Prediction(uid=409, iid=1234, r_ui=5.0, est=4.072349923491972, details={'was_impossible': False}),\n",
       " Prediction(uid=610, iid=45730, r_ui=3.0, est=3.3898834171020185, details={'was_impossible': False}),\n",
       " Prediction(uid=217, iid=2616, r_ui=4.0, est=2.524423311082125, details={'was_impossible': False}),\n",
       " Prediction(uid=271, iid=1320, r_ui=3.5, est=2.873544128190467, details={'was_impossible': False}),\n",
       " Prediction(uid=577, iid=2641, r_ui=3.0, est=3.11927753570374, details={'was_impossible': False}),\n",
       " Prediction(uid=478, iid=34048, r_ui=2.0, est=2.8030530492709977, details={'was_impossible': False}),\n",
       " Prediction(uid=290, iid=1957, r_ui=4.0, est=3.9536144340116794, details={'was_impossible': False}),\n",
       " Prediction(uid=305, iid=53322, r_ui=3.0, est=3.7720582678925103, details={'was_impossible': False}),\n",
       " Prediction(uid=546, iid=3408, r_ui=4.0, est=3.7255198241575824, details={'was_impossible': False}),\n",
       " Prediction(uid=221, iid=2186, r_ui=4.0, est=4.228467267449658, details={'was_impossible': False}),\n",
       " Prediction(uid=91, iid=592, r_ui=5.0, est=3.2736962918321018, details={'was_impossible': False}),\n",
       " Prediction(uid=420, iid=1131, r_ui=4.0, est=4.0207152817830165, details={'was_impossible': False}),\n",
       " Prediction(uid=380, iid=1682, r_ui=4.0, est=4.317310890776289, details={'was_impossible': False}),\n",
       " Prediction(uid=564, iid=111659, r_ui=1.0, est=3.4349797086271767, details={'was_impossible': False}),\n",
       " Prediction(uid=597, iid=1196, r_ui=5.0, est=4.345305755007776, details={'was_impossible': False}),\n",
       " Prediction(uid=438, iid=8961, r_ui=5.0, est=3.7541969759076306, details={'was_impossible': False}),\n",
       " Prediction(uid=367, iid=3916, r_ui=5.0, est=3.87147501663048, details={'was_impossible': False}),\n",
       " Prediction(uid=414, iid=44761, r_ui=3.5, est=3.444464185422846, details={'was_impossible': False}),\n",
       " Prediction(uid=606, iid=4361, r_ui=4.0, est=3.7881963193608987, details={'was_impossible': False}),\n",
       " Prediction(uid=411, iid=110, r_ui=4.0, est=3.81491310023617, details={'was_impossible': False}),\n",
       " Prediction(uid=414, iid=1339, r_ui=4.0, est=3.7923204963595296, details={'was_impossible': False}),\n",
       " Prediction(uid=511, iid=2628, r_ui=4.0, est=3.525493616407509, details={'was_impossible': False}),\n",
       " Prediction(uid=5, iid=457, r_ui=4.0, est=4.130976786335956, details={'was_impossible': False}),\n",
       " Prediction(uid=522, iid=34405, r_ui=4.0, est=4.031273479851753, details={'was_impossible': False}),\n",
       " Prediction(uid=202, iid=44, r_ui=2.0, est=3.1886182753220047, details={'was_impossible': False}),\n",
       " Prediction(uid=560, iid=52579, r_ui=3.0, est=3.352572484695926, details={'was_impossible': False}),\n",
       " Prediction(uid=610, iid=85412, r_ui=3.5, est=3.5295945223454455, details={'was_impossible': False}),\n",
       " Prediction(uid=274, iid=51937, r_ui=2.0, est=3.3740333752050216, details={'was_impossible': False}),\n",
       " Prediction(uid=486, iid=736, r_ui=5.0, est=3.577922252042911, details={'was_impossible': False}),\n",
       " Prediction(uid=404, iid=553, r_ui=3.0, est=3.3310115723968, details={'was_impossible': False}),\n",
       " Prediction(uid=244, iid=1228, r_ui=4.0, est=4.2677869921744565, details={'was_impossible': False}),\n",
       " Prediction(uid=104, iid=1772, r_ui=4.0, est=2.9360882144729357, details={'was_impossible': False}),\n",
       " Prediction(uid=274, iid=65126, r_ui=3.5, est=3.3533668489403476, details={'was_impossible': False}),\n",
       " Prediction(uid=305, iid=7022, r_ui=5.0, est=4.3652336288502624, details={'was_impossible': False}),\n",
       " Prediction(uid=177, iid=7, r_ui=1.0, est=2.978721302322497, details={'was_impossible': False}),\n",
       " Prediction(uid=362, iid=103688, r_ui=4.0, est=4.141862328227605, details={'was_impossible': False}),\n",
       " Prediction(uid=256, iid=68954, r_ui=4.0, est=4.343317031755739, details={'was_impossible': False}),\n",
       " Prediction(uid=606, iid=27266, r_ui=4.0, est=3.9271112557639145, details={'was_impossible': False}),\n",
       " Prediction(uid=414, iid=4995, r_ui=4.0, est=4.218983166016188, details={'was_impossible': False}),\n",
       " Prediction(uid=448, iid=1256, r_ui=5.0, est=3.52831464021045, details={'was_impossible': False}),\n",
       " Prediction(uid=68, iid=78499, r_ui=3.5, est=3.770112578937199, details={'was_impossible': False}),\n",
       " Prediction(uid=599, iid=26782, r_ui=2.0, est=2.6214902847972046, details={'was_impossible': False}),\n",
       " Prediction(uid=274, iid=1645, r_ui=3.5, est=3.287025202785962, details={'was_impossible': False}),\n",
       " Prediction(uid=249, iid=51037, r_ui=3.5, est=3.505933567375598, details={'was_impossible': False}),\n",
       " Prediction(uid=265, iid=1726, r_ui=3.0, est=2.855196282807809, details={'was_impossible': False}),\n",
       " Prediction(uid=414, iid=1726, r_ui=2.0, est=2.6020685647653616, details={'was_impossible': False}),\n",
       " Prediction(uid=318, iid=47, r_ui=4.0, est=3.9513079151794113, details={'was_impossible': False}),\n",
       " Prediction(uid=608, iid=2153, r_ui=4.0, est=2.456496269787677, details={'was_impossible': False}),\n",
       " Prediction(uid=599, iid=2353, r_ui=2.5, est=2.5249457037687657, details={'was_impossible': False}),\n",
       " Prediction(uid=368, iid=1298, r_ui=3.0, est=3.078785939673092, details={'was_impossible': False}),\n",
       " Prediction(uid=66, iid=7482, r_ui=4.5, est=4.289188511857188, details={'was_impossible': False}),\n",
       " Prediction(uid=239, iid=4571, r_ui=4.0, est=4.054582527462256, details={'was_impossible': False}),\n",
       " Prediction(uid=51, iid=53953, r_ui=3.5, est=3.6171196810972095, details={'was_impossible': False}),\n",
       " Prediction(uid=453, iid=2395, r_ui=2.0, est=4.22407194671093, details={'was_impossible': False}),\n",
       " Prediction(uid=68, iid=4865, r_ui=2.5, est=3.427041703750088, details={'was_impossible': False}),\n",
       " Prediction(uid=428, iid=1527, r_ui=4.0, est=2.919041509508479, details={'was_impossible': False}),\n",
       " Prediction(uid=409, iid=2762, r_ui=2.0, est=4.1862808249316545, details={'was_impossible': False}),\n",
       " Prediction(uid=581, iid=5989, r_ui=3.5, est=4.3072445609525065, details={'was_impossible': False}),\n",
       " Prediction(uid=135, iid=3327, r_ui=4.0, est=3.342099420246102, details={'was_impossible': False}),\n",
       " Prediction(uid=489, iid=949, r_ui=4.0, est=2.9545911663518702, details={'was_impossible': False}),\n",
       " ...]"
      ]
     },
     "execution_count": 48,
     "metadata": {},
     "output_type": "execute_result"
    }
   ],
   "execution_count": 48
  },
  {
   "cell_type": "code",
   "metadata": {
    "ExecuteTime": {
     "end_time": "2024-11-29T18:24:09.131952Z",
     "start_time": "2024-11-29T18:24:09.119962Z"
    }
   },
   "source": [
    "print(\"SVD RMSE:\")\n",
    "accuracy.rmse(predictions_svd)"
   ],
   "outputs": [
    {
     "name": "stdout",
     "output_type": "stream",
     "text": [
      "SVD RMSE:\n",
      "RMSE: 0.8663\n"
     ]
    },
    {
     "data": {
      "text/plain": [
       "0.8662728358582998"
      ]
     },
     "execution_count": 49,
     "metadata": {},
     "output_type": "execute_result"
    }
   ],
   "execution_count": 49
  },
  {
   "metadata": {
    "ExecuteTime": {
     "end_time": "2024-11-29T18:24:09.420764Z",
     "start_time": "2024-11-29T18:24:09.416219Z"
    }
   },
   "cell_type": "code",
   "source": [
    "user_id = 1\n",
    "movie_id = 1193\n",
    "prediction_svd = algo_svd.predict(user_id, movie_id)\n",
    "print(f\"Prediction for User {user_id} on Movie {movie_id} (SVD):\")\n",
    "print(prediction_svd)"
   ],
   "outputs": [
    {
     "name": "stdout",
     "output_type": "stream",
     "text": [
      "Prediction for User 1 on Movie 1193 (SVD):\n",
      "user: 1          item: 1193       r_ui = None   est = 4.63   {'was_impossible': False}\n"
     ]
    }
   ],
   "execution_count": 50
  },
  {
   "metadata": {
    "ExecuteTime": {
     "end_time": "2024-11-29T18:24:09.738819Z",
     "start_time": "2024-11-29T18:24:09.727020Z"
    }
   },
   "cell_type": "code",
   "source": [
    "from surprise import accuracy\n",
    "\n",
    "# Calculate and print MAE for SVD predictions\n",
    "mae_svd = accuracy.mae(predictions_svd)\n",
    "print(f\"SVD MAE: {mae_svd:.4f}\")"
   ],
   "outputs": [
    {
     "name": "stdout",
     "output_type": "stream",
     "text": [
      "MAE:  0.6665\n",
      "SVD MAE: 0.6665\n"
     ]
    }
   ],
   "execution_count": 51
  },
  {
   "metadata": {
    "ExecuteTime": {
     "end_time": "2024-11-29T18:24:10.136597Z",
     "start_time": "2024-11-29T18:24:10.121847Z"
    }
   },
   "cell_type": "code",
   "source": [
    "from collections import defaultdict\n",
    "\n",
    "# Function to categorize predictions as relevant or not\n",
    "def precision_recall(predictions, threshold=3.5):\n",
    "    # Store true positives, predicted positives, and relevant positives\n",
    "    user_results = defaultdict(lambda: {'tp': 0, 'fp': 0, 'fn': 0})\n",
    "\n",
    "    for uid, iid, true_r, est, _ in predictions:\n",
    "        relevant = true_r >= threshold\n",
    "        predicted_relevant = est >= threshold\n",
    "\n",
    "        if predicted_relevant and relevant:\n",
    "            user_results[uid]['tp'] += 1\n",
    "        elif predicted_relevant and not relevant:\n",
    "            user_results[uid]['fp'] += 1\n",
    "        elif not predicted_relevant and relevant:\n",
    "            user_results[uid]['fn'] += 1\n",
    "\n",
    "    # Calculate precision and recall per user and overall averages\n",
    "    precision_list = []\n",
    "    recall_list = []\n",
    "\n",
    "    for uid, results in user_results.items():\n",
    "        tp = results['tp']\n",
    "        fp = results['fp']\n",
    "        fn = results['fn']\n",
    "\n",
    "        precision = tp / (tp + fp) if (tp + fp) > 0 else 0\n",
    "        recall = tp / (tp + fn) if (tp + fn) > 0 else 0\n",
    "\n",
    "        precision_list.append(precision)\n",
    "        recall_list.append(recall)\n",
    "\n",
    "    avg_precision = sum(precision_list) / len(precision_list)\n",
    "    avg_recall = sum(recall_list) / len(recall_list)\n",
    "\n",
    "    return avg_precision, avg_recall\n",
    "\n",
    "# Calculate precision and recall using predictions\n",
    "precision, recall = precision_recall(predictions_svd)\n",
    "print(f\"Precision: {precision:.4f}\")\n",
    "print(f\"Recall: {recall:.4f}\")\n"
   ],
   "outputs": [
    {
     "name": "stdout",
     "output_type": "stream",
     "text": [
      "Precision: 0.7361\n",
      "Recall: 0.7035\n"
     ]
    }
   ],
   "execution_count": 52
  },
  {
   "metadata": {
    "ExecuteTime": {
     "end_time": "2024-11-29T18:24:21.737881Z",
     "start_time": "2024-11-29T18:24:21.694294Z"
    }
   },
   "cell_type": "code",
   "source": [
    "# Function to calculate DCG (Discounted Cumulative Gain)\n",
    "def dcg_at_k(scores, k):\n",
    "    scores = np.array(scores)[:k]\n",
    "    return np.sum((2**scores - 1) / np.log2(np.arange(2, scores.size + 2)))\n",
    "\n",
    "# Function to calculate NDCG\n",
    "def ndcg_at_k(predictions, k=10):\n",
    "    user_ndcgs = []\n",
    "\n",
    "    # Group predictions by user\n",
    "    user_ratings = defaultdict(list)\n",
    "    for uid, iid, true_r, est, _ in predictions:\n",
    "        user_ratings[uid].append((true_r, est))\n",
    "\n",
    "    for uid, ratings in user_ratings.items():\n",
    "        # Sort by predicted score\n",
    "        sorted_ratings = sorted(ratings, key=lambda x: x[1], reverse=True)\n",
    "\n",
    "        # Get the true relevance scores for DCG and IDCG\n",
    "        true_relevance = [true_r for true_r, _ in sorted_ratings]\n",
    "\n",
    "        # DCG calculation\n",
    "        dcg = dcg_at_k(true_relevance, k)\n",
    "        # IDCG calculation (Ideal DCG - sort by true ratings)\n",
    "        ideal_relevance = sorted(true_relevance, reverse=True)\n",
    "        idcg = dcg_at_k(ideal_relevance, k)\n",
    "\n",
    "        # NDCG calculation\n",
    "        ndcg = dcg / idcg if idcg > 0 else 0\n",
    "        user_ndcgs.append(ndcg)\n",
    "\n",
    "    # Average NDCG across users\n",
    "    avg_ndcg = np.mean(user_ndcgs)\n",
    "    return avg_ndcg\n",
    "\n",
    "# Calculate NDCG using predictions\n",
    "ndcg = ndcg_at_k(predictions_svd, k=10)\n",
    "print(f\"NDCG@10: {ndcg:.4f}\")\n"
   ],
   "outputs": [
    {
     "name": "stdout",
     "output_type": "stream",
     "text": [
      "NDCG@10: 0.7810\n"
     ]
    }
   ],
   "execution_count": 53
  },
  {
   "metadata": {
    "ExecuteTime": {
     "end_time": "2024-11-29T18:24:21.938305Z",
     "start_time": "2024-11-29T18:24:21.935655Z"
    }
   },
   "cell_type": "code",
   "source": [
    "from surprise import Dataset, Reader, NMF, accuracy\n",
    "from surprise.model_selection import train_test_split\n"
   ],
   "outputs": [],
   "execution_count": 54
  },
  {
   "metadata": {
    "ExecuteTime": {
     "end_time": "2024-11-29T18:24:22.454558Z",
     "start_time": "2024-11-29T18:24:22.366026Z"
    }
   },
   "cell_type": "code",
   "source": [
    "reader = Reader(rating_scale=(1, 5))\n",
    "data = Dataset.load_from_df(merged_data[['UserID', 'MovieID', 'Rating']], reader)\n",
    "\n",
    "# Split into train and test sets\n",
    "trainset, testset = train_test_split(data, test_size=0.25)"
   ],
   "outputs": [],
   "execution_count": 55
  },
  {
   "metadata": {
    "ExecuteTime": {
     "end_time": "2024-11-29T18:24:25.109018Z",
     "start_time": "2024-11-29T18:24:24.319163Z"
    }
   },
   "cell_type": "code",
   "source": [
    "# Initialize and train the NMF algorithm\n",
    "algo_nmf = NMF()\n",
    "algo_nmf.fit(trainset)"
   ],
   "outputs": [
    {
     "data": {
      "text/plain": [
       "<surprise.prediction_algorithms.matrix_factorization.NMF at 0x169a4cb50>"
      ]
     },
     "execution_count": 56,
     "metadata": {},
     "output_type": "execute_result"
    }
   ],
   "execution_count": 56
  },
  {
   "metadata": {
    "ExecuteTime": {
     "end_time": "2024-11-29T18:24:25.227240Z",
     "start_time": "2024-11-29T18:24:25.174227Z"
    }
   },
   "cell_type": "code",
   "source": [
    "# Test the NMF algorithm on the test set\n",
    "predictions_nmf = algo_nmf.test(testset)"
   ],
   "outputs": [],
   "execution_count": 57
  },
  {
   "metadata": {
    "ExecuteTime": {
     "end_time": "2024-11-29T18:24:25.245911Z",
     "start_time": "2024-11-29T18:24:25.235544Z"
    }
   },
   "cell_type": "code",
   "source": [
    "# Evaluate RMSE for NMF\n",
    "print(\"NMF RMSE:\")\n",
    "accuracy.rmse(predictions_nmf)"
   ],
   "outputs": [
    {
     "name": "stdout",
     "output_type": "stream",
     "text": [
      "NMF RMSE:\n",
      "RMSE: 0.9268\n"
     ]
    },
    {
     "data": {
      "text/plain": [
       "0.9268366955710231"
      ]
     },
     "execution_count": 58,
     "metadata": {},
     "output_type": "execute_result"
    }
   ],
   "execution_count": 58
  },
  {
   "metadata": {
    "ExecuteTime": {
     "end_time": "2024-11-29T18:24:25.257594Z",
     "start_time": "2024-11-29T18:24:25.254874Z"
    }
   },
   "cell_type": "code",
   "source": [
    "# Example prediction for a specific user and movie\n",
    "user_id = 1\n",
    "movie_id = 1193\n",
    "prediction_nmf = algo_nmf.predict(user_id, movie_id)\n",
    "print(f\"Prediction for User {user_id} on Movie {movie_id} (NMF):\")\n",
    "print(prediction_nmf)"
   ],
   "outputs": [
    {
     "name": "stdout",
     "output_type": "stream",
     "text": [
      "Prediction for User 1 on Movie 1193 (NMF):\n",
      "user: 1          item: 1193       r_ui = None   est = 5.00   {'was_impossible': False}\n"
     ]
    }
   ],
   "execution_count": 59
  },
  {
   "metadata": {
    "ExecuteTime": {
     "end_time": "2024-11-29T18:24:25.299482Z",
     "start_time": "2024-11-29T18:24:25.279865Z"
    }
   },
   "cell_type": "code",
   "source": [
    "from collections import defaultdict\n",
    "import numpy as np\n",
    "\n",
    "def precision_recall_at_k(predictions, k=10, threshold=3.5):\n",
    "    \"\"\"\n",
    "    Calculate precision and recall at k for each user.\n",
    "\n",
    "    Args:\n",
    "    predictions: list of (user, item, true rating, predicted rating, details).\n",
    "    k: Number of top predictions to consider.\n",
    "    threshold: Minimum rating to consider an item relevant.\n",
    "\n",
    "    Returns:\n",
    "    avg_precision: Mean precision at k across all users.\n",
    "    avg_recall: Mean recall at k across all users.\n",
    "    \"\"\"\n",
    "    user_ratings = defaultdict(list)\n",
    "    for uid, iid, true_r, est, _ in predictions:\n",
    "        user_ratings[uid].append((true_r, est))\n",
    "\n",
    "    precisions = []\n",
    "    recalls = []\n",
    "\n",
    "    for uid, ratings in user_ratings.items():\n",
    "        ratings.sort(key=lambda x: x[1], reverse=True)  # Sort by predicted rating\n",
    "\n",
    "        # Relevant items in the top k predictions\n",
    "        top_k = ratings[:k]\n",
    "        hits = sum((true_r >= threshold) for (true_r, _) in top_k)  # Hits within top-k\n",
    "\n",
    "        # Count total relevant items for the user\n",
    "        total_relevant = sum((true_r >= threshold) for (true_r, _) in ratings)\n",
    "\n",
    "        precision = hits / k if k else 0\n",
    "        recall = hits / total_relevant if total_relevant else 0\n",
    "\n",
    "        precisions.append(precision)\n",
    "        recalls.append(recall)\n",
    "\n",
    "    avg_precision = np.mean(precisions)\n",
    "    avg_recall = np.mean(recalls)\n",
    "\n",
    "    return avg_precision, avg_recall\n",
    "\n",
    "# Calculate precision and recall\n",
    "precision, recall = precision_recall_at_k(predictions_nmf, k=10)\n",
    "\n",
    "print(f\"Precision@10: {precision:.4f}\")\n",
    "print(f\"Recall@10: {recall:.4f}\")\n"
   ],
   "outputs": [
    {
     "name": "stdout",
     "output_type": "stream",
     "text": [
      "Precision@10: 0.6620\n",
      "Recall@10: 0.5937\n"
     ]
    }
   ],
   "execution_count": 60
  },
  {
   "metadata": {
    "ExecuteTime": {
     "end_time": "2024-11-29T18:24:45.524817Z",
     "start_time": "2024-11-29T18:24:45.482065Z"
    }
   },
   "cell_type": "code",
   "source": [
    "import numpy as np\n",
    "\n",
    "def dcg_at_k(r, k):\n",
    "    \"\"\"\n",
    "    Compute Discounted Cumulative Gain (DCG) at k.\n",
    "\n",
    "    Args:\n",
    "    r: Relevance scores (list of true ratings).\n",
    "    k: Rank position to compute DCG.\n",
    "\n",
    "    Returns:\n",
    "    DCG score at k.\n",
    "    \"\"\"\n",
    "    r = np.asfarray(r)[:k]\n",
    "    if r.size:\n",
    "        return np.sum((2**r - 1) / np.log2(np.arange(2, r.size + 2)))\n",
    "    return 0.0\n",
    "\n",
    "def ndcg_at_k(predictions, k=10):\n",
    "    \"\"\"\n",
    "    Compute Normalized Discounted Cumulative Gain (NDCG) at k for each user.\n",
    "\n",
    "    Args:\n",
    "    predictions: list of (user, item, true rating, predicted rating, details).\n",
    "    k: Number of top predictions to consider.\n",
    "\n",
    "    Returns:\n",
    "    Average NDCG at k.\n",
    "    \"\"\"\n",
    "    user_ratings = defaultdict(list)\n",
    "    for uid, iid, true_r, est, _ in predictions:\n",
    "        user_ratings[uid].append((true_r, est))\n",
    "\n",
    "    ndcg_scores = []\n",
    "\n",
    "    for uid, ratings in user_ratings.items():\n",
    "        ratings.sort(key=lambda x: x[1], reverse=True)  # Sort by predicted rating\n",
    "\n",
    "        # True ratings for the top-k predictions\n",
    "        true_ratings = [r[0] for r in ratings[:k]]\n",
    "        ideal_ratings = sorted([r[0] for r in ratings], reverse=True)[:k]\n",
    "\n",
    "        dcg = dcg_at_k(true_ratings, k)\n",
    "        idcg = dcg_at_k(ideal_ratings, k)\n",
    "\n",
    "        ndcg = dcg / idcg if idcg > 0 else 0.0\n",
    "        ndcg_scores.append(ndcg)\n",
    "\n",
    "    return np.mean(ndcg_scores)\n",
    "\n",
    "# Calculate NDCG@10\n",
    "ndcg = ndcg_at_k(predictions_nmf, k=10)\n",
    "print(f\"NDCG@10: {ndcg:.4f}\")\n"
   ],
   "outputs": [
    {
     "name": "stdout",
     "output_type": "stream",
     "text": [
      "NDCG@10: 0.7602\n"
     ]
    }
   ],
   "execution_count": 61
  },
  {
   "metadata": {
    "ExecuteTime": {
     "end_time": "2024-11-29T18:24:46.023475Z",
     "start_time": "2024-11-29T18:24:46.010948Z"
    }
   },
   "cell_type": "code",
   "source": [
    "from surprise import accuracy\n",
    "\n",
    "# Calculate and print MAE for NMF predictions\n",
    "mae = accuracy.mae(predictions_nmf)\n",
    "print(f\"NMF MAE: {mae:.4f}\")"
   ],
   "outputs": [
    {
     "name": "stdout",
     "output_type": "stream",
     "text": [
      "MAE:  0.7100\n",
      "NMF MAE: 0.7100\n"
     ]
    }
   ],
   "execution_count": 62
  },
  {
   "metadata": {
    "ExecuteTime": {
     "end_time": "2024-11-29T18:25:00.118816Z",
     "start_time": "2024-11-29T18:25:00.021354Z"
    }
   },
   "cell_type": "code",
   "source": [
    "import matplotlib.pyplot as plt\n",
    "\n",
    "# Define RMSE values for SVD and NMF\n",
    "algorithms = ['SVD', 'NMF']\n",
    "rmse_values = [accuracy.rmse(predictions_svd, verbose=False),\n",
    "               accuracy.rmse(predictions_nmf, verbose=False)]\n",
    "\n",
    "# Plotting the bar chart\n",
    "plt.figure(figsize=(8, 5))\n",
    "plt.bar(algorithms, rmse_values, color=['blue', 'orange'], width=0.6)\n",
    "\n",
    "# Add plot details\n",
    "plt.title('Comparison of RMSE Values: SVD vs NMF', fontsize=16)\n",
    "plt.ylabel('RMSE Value', fontsize=12)\n",
    "plt.xlabel('Algorithms', fontsize=12)\n",
    "plt.ylim(0, max(rmse_values) + 0.2)  # Extend y-axis for clarity\n",
    "\n",
    "# Annotate RMSE values on top of the bars\n",
    "for i, value in enumerate(rmse_values):\n",
    "    plt.text(i, value + 0.02, f\"{value:.3f}\", ha='center', fontsize=10)\n",
    "\n",
    "plt.grid(axis='y', linestyle='--', alpha=0.7)\n",
    "plt.tight_layout()\n",
    "\n",
    "# Display the chart\n",
    "plt.show()\n"
   ],
   "outputs": [
    {
     "data": {
      "text/plain": [
       "<Figure size 800x500 with 1 Axes>"
      ],
      "image/png": "[encoded data removed]"
     },
     "metadata": {},
     "output_type": "display_data"
    }
   ],
   "execution_count": 63
  }
 ],
 "metadata": {
  "language_info": {
   "name": "python"
  },
  "kernelspec": {
   "name": "python3",
   "language": "python",
   "display_name": "Python 3 (ipykernel)"
  }
 },
 "nbformat": 4,
 "nbformat_minor": 2
}
