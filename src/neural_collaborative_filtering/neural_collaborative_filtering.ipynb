{
  "cells": [
    {
      "cell_type": "code",
      "execution_count": 368,
      "metadata": {
        "id": "Sc2sxLeRtfQK"
      },
      "outputs": [],
      "source": [
        "import pandas as pd\n",
        "import numpy as np\n",
        "import torch\n",
        "import os\n",
        "import pickle\n",
        "from sklearn.model_selection import train_test_split\n",
        "from torch.utils.data import DataLoader"
      ]
    },
    {
      "cell_type": "code",
      "execution_count": 369,
      "metadata": {
        "id": "8MSLxp50tfQN",
        "outputId": "fc33324c-6d7d-4c6f-b169-8a0208082b6e",
        "colab": {
          "base_uri": "https://localhost:8080/"
        }
      },
      "outputs": [
        {
          "output_type": "stream",
          "name": "stdout",
          "text": [
            "Current Working Directory: /content\n"
          ]
        }
      ],
      "source": [
        "print(\"Current Working Directory:\", os.getcwd())"
      ]
    },
    {
      "cell_type": "markdown",
      "source": [
        "## NCF Model"
      ],
      "metadata": {
        "id": "y-xEhhE5GmNZ"
      }
    },
    {
      "cell_type": "markdown",
      "metadata": {
        "id": "FPLB0pQUG1ZQ"
      },
      "source": [
        "### Custom Dataset for NCF"
      ]
    },
    {
      "cell_type": "code",
      "execution_count": 370,
      "metadata": {
        "id": "g3RtRgfVG1ZR"
      },
      "outputs": [],
      "source": [
        "class NCFDataset(torch.utils.data.Dataset):\n",
        "    def __init__(self, user_ids, movie_ids, ratings):\n",
        "        self.user_ids = torch.tensor(user_ids.to_numpy(), dtype=torch.long)\n",
        "        self.movie_ids = torch.tensor(movie_ids.to_numpy(), dtype=torch.long)\n",
        "        self.ratings = torch.tensor(ratings.to_numpy(), dtype=torch.float32)\n",
        "    def __len__(self):\n",
        "        return len(self.ratings)\n",
        "    def __getitem__(self, idx):\n",
        "        return self.user_ids[idx], self.movie_ids[idx], self.ratings[idx]\n",
        "\n",
        "    # Define the NCF model\n",
        "class NCFModel(torch.nn.Module):\n",
        "    def __init__(self, num_users, num_movies, embed_dim):\n",
        "        super(NCFModel, self).__init__()\n",
        "        self.user_embedding = torch.nn.Embedding(num_users, embed_dim)\n",
        "        self.movie_embedding = torch.nn.Embedding(num_movies, embed_dim)\n",
        "        self.fc = torch.nn.Sequential(\n",
        "            torch.nn.Linear(embed_dim * 2, 8),\n",
        "            torch.nn.ReLU(),\n",
        "            torch.nn.Linear(8, 1),\n",
        "            torch.nn.Sigmoid()\n",
        "        )\n",
        "    def forward(self, user_ids, movie_ids):\n",
        "        user_embeds = self.user_embedding(user_ids)\n",
        "        movie_embeds = self.movie_embedding(movie_ids)\n",
        "        x = torch.cat([user_embeds, movie_embeds], dim=-1)\n",
        "        return self.fc(x).squeeze() * 4 + 1 # scale to [1,5]"
      ]
    },
    {
      "cell_type": "markdown",
      "metadata": {
        "id": "oUI-RYhuG1ZS"
      },
      "source": [
        "### Train the model"
      ]
    },
    {
      "cell_type": "code",
      "execution_count": 371,
      "metadata": {
        "id": "fJof4OM3G1ZT"
      },
      "outputs": [],
      "source": [
        "def train_model(model, data_loader, criterion, optimizer, epochs=5, k=5, device=None):\n",
        "\n",
        "\n",
        "    for epoch in range(epochs):\n",
        "        model.train()\n",
        "        total_loss = 0\n",
        "        for user_ids, movie_ids, ratings in data_loader:\n",
        "            # Move data to the same device as the model (GPU)\n",
        "            user_ids = user_ids.to(device)\n",
        "            movie_ids = movie_ids.to(device)\n",
        "            ratings = ratings.to(device)\n",
        "\n",
        "            # Zero the gradients, run the forward pass, compute loss, and backpropagate\n",
        "            optimizer.zero_grad()\n",
        "            outputs = model(user_ids, movie_ids)\n",
        "            loss = criterion(outputs, ratings)\n",
        "            loss.backward()\n",
        "            optimizer.step()\n",
        "\n",
        "            total_loss += loss.item()\n",
        "\n",
        "        print(f\"Epoch {epoch + 1} | Loss: {total_loss / len(data_loader):.4f}\")\n",
        "\n",
        "    # Print the profiler results\n",
        "\n"
      ]
    },
    {
      "cell_type": "markdown",
      "source": [
        "## Validation with metrics"
      ],
      "metadata": {
        "id": "LK3ay4_HH2_F"
      }
    },
    {
      "cell_type": "markdown",
      "metadata": {
        "id": "pIRd30PAtfQS"
      },
      "source": [
        "### Metrics for regression"
      ]
    },
    {
      "cell_type": "code",
      "execution_count": 372,
      "metadata": {
        "id": "PnCDtcOHtfQS"
      },
      "outputs": [],
      "source": [
        "def calculate_mae(y_true, y_pred):\n",
        "    return np.mean(np.abs(y_true - y_pred))"
      ]
    },
    {
      "cell_type": "code",
      "execution_count": 373,
      "metadata": {
        "id": "epsrC25ItfQS"
      },
      "outputs": [],
      "source": [
        "def calculate_rmse(y_true, y_pred):\n",
        "    return np.sqrt(np.mean((y_true - y_pred) ** 2))"
      ]
    },
    {
      "cell_type": "code",
      "source": [
        "TOP_N = 5\n",
        "#MODEL_PATH = \"models/neural_collaborative_filtering/ncf_model.pkl\"  # Path to save the model"
      ],
      "metadata": {
        "id": "FOzooakIHvGI"
      },
      "execution_count": 374,
      "outputs": []
    },
    {
      "cell_type": "code",
      "execution_count": 375,
      "metadata": {
        "id": "JCLH-JJItfQU"
      },
      "outputs": [],
      "source": [
        "def evaluate_model(model, data_loader, k=TOP_N):\n",
        "    model.eval()\n",
        "    total_loss = 0\n",
        "    all_targets = []\n",
        "    all_predictions = []\n",
        "    with torch.no_grad():\n",
        "        for user_ids, movie_ids, ratings in data_loader:\n",
        "            outputs = model(user_ids, movie_ids)\n",
        "            all_targets.extend(ratings.cpu().numpy())\n",
        "            all_predictions.extend(outputs.cpu().numpy())\n",
        "\n",
        "    # Calculate metrics\n",
        "    all_targets = np.array(all_targets)\n",
        "    all_predictions = np.array(all_predictions)\n",
        "    mae = calculate_mae(all_targets, all_predictions)\n",
        "    rmse = calculate_rmse(all_targets, all_predictions)\n",
        "\n",
        "    print(f\"Evaluation | MAE: {mae:.4f} | RMSE: {rmse:.4f}\")"
      ]
    },
    {
      "cell_type": "markdown",
      "metadata": {
        "id": "Y6b7Ylx4tfQV"
      },
      "source": [
        "## Recommend movies for a user"
      ]
    },
    {
      "cell_type": "code",
      "execution_count": 376,
      "metadata": {
        "id": "7QB9PJNVtfQV"
      },
      "outputs": [],
      "source": [
        "def recommend_movies(model, user_id, all_movie_ids, k=TOP_N):\n",
        "    model.eval()\n",
        "    with torch.no_grad():\n",
        "        user_tensor = torch.tensor([user_id] * len(all_movie_ids), dtype=torch.long)\n",
        "        movie_tensor = torch.tensor(all_movie_ids, dtype=torch.long)\n",
        "        predictions = model(user_tensor, movie_tensor)\n",
        "    top_k_indices = predictions.argsort(descending=True)[:k]\n",
        "    return top_k_indices.numpy(), predictions[top_k_indices].numpy()"
      ]
    },
    {
      "cell_type": "code",
      "execution_count": 377,
      "metadata": {
        "id": "lYiazcI_tfQV"
      },
      "outputs": [],
      "source": [
        "def get_user_input():\n",
        "    \"\"\"Prompt the user to input a user ID and select a model.\"\"\"\n",
        "    print(\"\\n--- Recommendation System ---\")\n",
        "    print(\"Enter 'q' at any time to quit.\")\n",
        "    user_id = input(\"Enter the User ID for recommendations (1-6040): \")\n",
        "    if user_id.strip().lower() == 'q':\n",
        "        return 'q'\n",
        "    while not user_id.isdigit() or not (1 <= int(user_id) <= 6040):\n",
        "        print(\"Invalid input. Please enter a numeric User ID between 1 and 6040 or 'q' to quit.\")\n",
        "        user_id = input(\"Enter the User ID for recommendations: \")\n",
        "        if user_id.strip().lower() == 'q':\n",
        "            return 'q'\n",
        "    return int(user_id)"
      ]
    },
    {
      "cell_type": "markdown",
      "metadata": {
        "id": "5r9fCxs1II-O"
      },
      "source": [
        "# Function to save the model"
      ]
    },
    {
      "cell_type": "code",
      "execution_count": 378,
      "metadata": {
        "id": "v5_SjkCSII-P"
      },
      "outputs": [],
      "source": [
        "# def save_model(model, model_path):\n",
        "#     with open(model_path, \"wb\") as f:\n",
        "#         pickle.dump(model, f)\n",
        "#     print(f\"Model saved to {model_path}\")"
      ]
    },
    {
      "cell_type": "markdown",
      "metadata": {
        "id": "QLn7tAmQtfQV"
      },
      "source": [
        "# Main function"
      ]
    },
    {
      "cell_type": "code",
      "execution_count": 379,
      "metadata": {
        "id": "GtYkxriktfQV"
      },
      "outputs": [],
      "source": [
        "def main():\n",
        "    # Load and merge data\n",
        "    data = pd.read_csv('Final_data.csv')\n",
        "\n",
        "    # Preprocessing: Convert UserID and MovieID to categorical codes\n",
        "    data['UserID'] = data['UserID'].astype('category').cat.codes\n",
        "    data['MovieID'] = data['MovieID'].astype('category').cat.codes\n",
        "\n",
        "    # Extract features for NCF\n",
        "    user_ids = data['UserID']\n",
        "    movie_ids = data['MovieID']\n",
        "    ratings = data['Rating']\n",
        "    titles = data['Title']\n",
        "\n",
        "    # Map MovieID to Title for quick access\n",
        "    movie_id_to_title = dict(zip(movie_ids, titles))\n",
        "\n",
        "    # Determine unique users and movies for embedding\n",
        "    num_users = user_ids.nunique()\n",
        "    num_movies = movie_ids.nunique()\n",
        "    embed_dim = 60\n",
        "\n",
        "    # Train-test split\n",
        "    user_train, user_test, movie_train, movie_test, rating_train, rating_test = train_test_split(\n",
        "        user_ids, movie_ids, ratings, test_size=0.2, random_state=42\n",
        "    )\n",
        "\n",
        "    # Create datasets and loaders\n",
        "    train_dataset = NCFDataset(user_train, movie_train, rating_train)\n",
        "    train_loader = DataLoader(train_dataset, batch_size=256, shuffle=True)\n",
        "    test_dataset = NCFDataset(user_test, movie_test, rating_test)\n",
        "    test_loader = DataLoader(test_dataset, batch_size=256, shuffle=False)\n",
        "\n",
        "    # Initialize and train the model\n",
        "    model = NCFModel(num_users, num_movies, embed_dim)\n",
        "    criterion = torch.nn.MSELoss()\n",
        "    optimizer = torch.optim.Adam(model.parameters(), lr=0.001)\n",
        "    train_model(model, train_loader, criterion, optimizer, epochs=10, k=5)\n",
        "    # save_model(model, MODEL_PATH)\n",
        "    evaluate_model(model, test_loader, k=TOP_N)\n",
        "\n",
        "    # Generate recommendations based on user input\n",
        "    while True:\n",
        "        user_id = get_user_input()\n",
        "        if user_id == 'q':\n",
        "            print(\"Exiting the Recommendation System!\")\n",
        "            break\n",
        "        unique_movie_ids = movie_ids.unique()\n",
        "        top_movies, predicted_ratings = recommend_movies(model, user_id, unique_movie_ids)\n",
        "        print(f\"\\nTop {TOP_N} recommended movies for User {user_id}:\")\n",
        "        for i, (movie, rating) in enumerate(zip(top_movies, predicted_ratings)):\n",
        "            movie_title = movie_id_to_title.get(movie, \"Unknown Movie\")\n",
        "            print(f\"{i + 1}: {movie_title}, Predicted Rating: {rating:.2f}\")\n"
      ]
    },
    {
      "cell_type": "code",
      "execution_count": 380,
      "metadata": {
        "colab": {
          "base_uri": "https://localhost:8080/"
        },
        "id": "FDlGGJgutfQV",
        "outputId": "9b376d97-30fc-4b8a-f1ed-8645f9447a70"
      },
      "outputs": [
        {
          "output_type": "stream",
          "name": "stdout",
          "text": [
            "Epoch 1 | Loss: 1.1737\n",
            "Epoch 2 | Loss: 0.8964\n",
            "Epoch 3 | Loss: 0.8294\n",
            "Epoch 4 | Loss: 0.7803\n",
            "Epoch 5 | Loss: 0.7404\n",
            "Epoch 6 | Loss: 0.7080\n",
            "Epoch 7 | Loss: 0.6842\n",
            "Epoch 8 | Loss: 0.6626\n",
            "Epoch 9 | Loss: 0.6453\n",
            "Epoch 10 | Loss: 0.6318\n",
            "Evaluation | MAE: 0.6827 | RMSE: 0.8944\n",
            "\n",
            "--- Recommendation System ---\n",
            "Enter 'q' at any time to quit.\n",
            "Enter the User ID for recommendations (1-6040): 6\n",
            "\n",
            "Top 5 recommended movies for User 6:\n",
            "1: Curly Sue (1991), Predicted Rating: 4.67\n",
            "2: Zebraman (2004), Predicted Rating: 4.59\n",
            "3: Legend of Zorro, The (2005), Predicted Rating: 4.53\n",
            "4: Bulletproof Monk (2003), Predicted Rating: 4.50\n",
            "5: First Time, The (2012), Predicted Rating: 4.47\n",
            "\n",
            "--- Recommendation System ---\n",
            "Enter 'q' at any time to quit.\n",
            "Enter the User ID for recommendations (1-6040): q\n",
            "Exiting the Recommendation System!\n"
          ]
        }
      ],
      "source": [
        "if __name__ == \"__main__\":\n",
        "    main()"
      ]
    },
    {
      "cell_type": "code",
      "source": [
        "# Load the dataset\n",
        "merged_data = pd.read_csv('Final_data.csv')\n",
        "\n",
        "# Function to get top 5 rated movies for a specific user ID\n",
        "def top_5_rated_movies(user_id, data):\n",
        "    # Filter the dataset for the given user ID\n",
        "    user_data = data[data['UserID'] == user_id]\n",
        "\n",
        "    # Sort the ratings in descending order\n",
        "    top_movies = user_data.sort_values(by='Rating', ascending=False).head(5)\n",
        "\n",
        "    # Return the top 5 rated movies\n",
        "    return top_movies[['MovieID', 'Title', 'Rating']]\n",
        "\n",
        "# Example: Fetch top 5 rated movies for User ID 6\n",
        "user_id = 6\n",
        "top_movies = top_5_rated_movies(user_id, merged_data)\n",
        "\n",
        "print(f\"Top 5 rated movies for User {user_id}:\\n\", top_movies)\n"
      ],
      "metadata": {
        "id": "C-K4I0UW_B12",
        "colab": {
          "base_uri": "https://localhost:8080/"
        },
        "outputId": "d1f20ef2-3139-4ff8-eae2-c40029742ee9"
      },
      "execution_count": 381,
      "outputs": [
        {
          "output_type": "stream",
          "name": "stdout",
          "text": [
            "Top 5 rated movies for User 6:\n",
            "      MovieID                                 Title  Rating\n",
            "703      318      Shawshank Redemption, The (1994)     5.0\n",
            "732      364                 Lion King, The (1994)     5.0\n",
            "804      587                          Ghost (1990)     5.0\n",
            "725      356                   Forrest Gump (1994)     5.0\n",
            "839      780  Independence Day (a.k.a. ID4) (1996)     5.0\n"
          ]
        }
      ]
    },
    {
      "cell_type": "code",
      "source": [],
      "metadata": {
        "id": "pZN23VX5I1gF"
      },
      "execution_count": 385,
      "outputs": []
    }
  ],
  "metadata": {
    "kernelspec": {
      "display_name": "Python 3",
      "name": "python3"
    },
    "language_info": {
      "codemirror_mode": {
        "name": "ipython",
        "version": 3
      },
      "file_extension": ".py",
      "mimetype": "text/x-python",
      "name": "python",
      "nbconvert_exporter": "python",
      "pygments_lexer": "ipython3",
      "version": "3.6.4"
    },
    "colab": {
      "provenance": [],
      "toc_visible": true
    }
  },
  "nbformat": 4,
  "nbformat_minor": 0
}